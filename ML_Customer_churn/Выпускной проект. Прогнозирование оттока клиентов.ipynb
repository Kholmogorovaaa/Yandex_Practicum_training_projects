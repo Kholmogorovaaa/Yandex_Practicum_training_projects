{
 "cells": [
  {
   "cell_type": "markdown",
   "id": "5567f8f9",
   "metadata": {},
   "source": [
    "# Телеком — прогноз оттока клиентов"
   ]
  },
  {
   "cell_type": "markdown",
   "id": "4bc0fb46",
   "metadata": {},
   "source": [
    "**Цель проекта** – разработать модель прогнозирования оттока клиентов (Churn prediction model). Модель должна быть готова через 2 недели. За это время необходимо провести исследование и разработать самостоятельно модель, написать отчет по исследованию. После этого модель пойдет в Production.\n",
    "\n",
    "**Описание проекта:**  \n",
    "Оператор связи «Ниединогоразрыва.ком» хочет научиться прогнозировать отток клиентов. Если выяснится, что пользователь планирует уйти, ему будут предложены промокоды и специальные условия. Команда оператора собрала персональные данные о некоторых клиентах, информацию об их тарифах и договорах.\n",
    "\n",
    "Отдел маркетинга провел исследование и выяснил, что в последнее время из нашей компании все чаще начали уходить клиенты к конкурентам. Стоимость маркетинговых затрат на возврат ушедшего клиента весьма высока, дешевле удержать клиента.\n",
    "\n",
    "**Описание данных**\n",
    "\n",
    "Данные состоят из файлов, полученных из разных источников:\n",
    "\n",
    "- `contract.csv` — информация о договоре;\n",
    "- `personal.csv` — персональные данные клиента;\n",
    "- `internet.csv` — информация об интернет-услугах;\n",
    "- `phone.csv` — информация об услугах телефонии.\n",
    "\n",
    "Во всех файлах столбец `customerID` содержит код клиента.\n",
    "\n",
    "Информация о договорах актуальна на 1 февраля 2020.\n",
    "\n",
    "Оператор предоставляет два основных типа услуг: \n",
    "\n",
    "1. Стационарную телефонную связь. Возможно подключение телефонного аппарата к нескольким линиям одновременно.\n",
    "2. Интернет. Подключение может быть двух типов: через телефонную линию (DSL*,* от англ. *digital subscriber line*, «цифровая абонентская линия») или оптоволоконный кабель (*Fiber optic*).  \n",
    "\n",
    "Также доступны такие услуги:\n",
    "\n",
    "- Интернет-безопасность: антивирус (*DeviceProtection*) и блокировка небезопасных сайтов (*OnlineSecurity*);\n",
    "- Выделенная линия технической поддержки (*TechSupport*);\n",
    "- Облачное хранилище файлов для резервного копирования данных (*OnlineBackup*);\n",
    "- Стриминговое телевидение (*StreamingTV*) и каталог фильмов (*StreamingMovies*).\n",
    "\n",
    "За услуги клиенты могут платить каждый месяц или заключить договор на 1–2 года. Доступны различные способы расчёта и возможность получения электронного чека."
   ]
  },
  {
   "cell_type": "markdown",
   "id": "3f88627d",
   "metadata": {},
   "source": [
    "# План\n",
    "\n",
    "1.  Загрузка данных и описание  \n",
    "    1.1  Вывод  \n",
    "2.  Предобработка данных  \n",
    "    2.1  Проверка на пропуски  \n",
    "    2.2  Изменение типов данных  \n",
    "    2.3  Проверка на явные дубликаты  \n",
    "    2.4  Проверка на аномалии  \n",
    "    2.5  Вывод  \n",
    "3.  Исследовательский анализ данных  \n",
    "4.  Подготовка данных к обучению  \n",
    "    4.1  Объединение таблиц в единый датасет  \n",
    "    4.2  Обработка пропусков в новом датасете  \n",
    "    4.3  Дополнительный анализ данных после объединения таблиц  \n",
    "    4.4  Проверка на мультиколлинеарность  \n",
    "    4.5  Pipeline предобработки  \n",
    "    4.6  Вывод  \n",
    "5.  Обучение моделей  \n",
    "    5.1  CatBoostClassifier  \n",
    "    5.2  LGBMClassifier  \n",
    "    5.3  RandomForestClassifier  \n",
    "    5.4  Выбор лучшей модели и ее тестирование  \n",
    "6.  Отчет по результатам анализа"
   ]
  },
  {
   "cell_type": "markdown",
   "id": "99b768b4",
   "metadata": {},
   "source": [
    "## Загрузка данных и описание"
   ]
  },
  {
   "cell_type": "code",
   "execution_count": 1,
   "id": "db553b10",
   "metadata": {},
   "outputs": [],
   "source": [
    "# импорт библиотек, дополняется по ходу проекта\n",
    "import pandas as pd\n",
    "import numpy as np\n",
    "import seaborn as sns\n",
    "import matplotlib.pyplot as plt\n",
    "import time\n",
    "import scipy.stats as stats\n",
    "\n",
    "from sklearn.feature_selection import mutual_info_classif\n",
    "from sklearn.model_selection import train_test_split, StratifiedKFold\n",
    "from sklearn.pipeline import Pipeline\n",
    "from sklearn.preprocessing import StandardScaler, OrdinalEncoder, OneHotEncoder\n",
    "from sklearn.compose import ColumnTransformer\n",
    "from sklearn.preprocessing import FunctionTransformer\n",
    "from sklearn.model_selection import GridSearchCV, RandomizedSearchCV, ShuffleSplit, cross_validate, cross_val_predict\n",
    "from sklearn.metrics import roc_auc_score, roc_curve, f1_score, accuracy_score\n",
    "\n",
    "from lightgbm import LGBMClassifier\n",
    "from catboost import CatBoostClassifier\n",
    "from catboost import Pool\n",
    "from sklearn.ensemble import RandomForestClassifier\n",
    "\n",
    "pd.set_option('display.max_columns', None)\n",
    "\n",
    "import warnings\n",
    "warnings.filterwarnings('ignore')"
   ]
  },
  {
   "cell_type": "code",
   "execution_count": 2,
   "id": "047bdc37",
   "metadata": {},
   "outputs": [],
   "source": [
    "# загрузка данных\n",
    "try:\n",
    "    contract = pd.read_csv('/datasets/final_provider/contract.csv')\n",
    "    personal = pd.read_csv('/datasets/final_provider/personal.csv')\n",
    "    internet = pd.read_csv('/datasets/final_provider/internet.csv')\n",
    "    phone = pd.read_csv('/datasets/final_provider/phone.csv')\n",
    "except:\n",
    "    contract = pd.read_csv('contract.csv')\n",
    "    personal = pd.read_csv('personal.csv')\n",
    "    internet = pd.read_csv('internet.csv')\n",
    "    phone = pd.read_csv('phone.csv')"
   ]
  },
  {
   "cell_type": "code",
   "execution_count": 3,
   "id": "3672a6c6",
   "metadata": {},
   "outputs": [
    {
     "data": {
      "text/html": [
       "<div>\n",
       "<style scoped>\n",
       "    .dataframe tbody tr th:only-of-type {\n",
       "        vertical-align: middle;\n",
       "    }\n",
       "\n",
       "    .dataframe tbody tr th {\n",
       "        vertical-align: top;\n",
       "    }\n",
       "\n",
       "    .dataframe thead th {\n",
       "        text-align: right;\n",
       "    }\n",
       "</style>\n",
       "<table border=\"1\" class=\"dataframe\">\n",
       "  <thead>\n",
       "    <tr style=\"text-align: right;\">\n",
       "      <th></th>\n",
       "      <th>customerID</th>\n",
       "      <th>BeginDate</th>\n",
       "      <th>EndDate</th>\n",
       "      <th>Type</th>\n",
       "      <th>PaperlessBilling</th>\n",
       "      <th>PaymentMethod</th>\n",
       "      <th>MonthlyCharges</th>\n",
       "      <th>TotalCharges</th>\n",
       "    </tr>\n",
       "  </thead>\n",
       "  <tbody>\n",
       "    <tr>\n",
       "      <th>0</th>\n",
       "      <td>7590-VHVEG</td>\n",
       "      <td>2020-01-01</td>\n",
       "      <td>No</td>\n",
       "      <td>Month-to-month</td>\n",
       "      <td>Yes</td>\n",
       "      <td>Electronic check</td>\n",
       "      <td>29.85</td>\n",
       "      <td>29.85</td>\n",
       "    </tr>\n",
       "    <tr>\n",
       "      <th>1</th>\n",
       "      <td>5575-GNVDE</td>\n",
       "      <td>2017-04-01</td>\n",
       "      <td>No</td>\n",
       "      <td>One year</td>\n",
       "      <td>No</td>\n",
       "      <td>Mailed check</td>\n",
       "      <td>56.95</td>\n",
       "      <td>1889.5</td>\n",
       "    </tr>\n",
       "    <tr>\n",
       "      <th>2</th>\n",
       "      <td>3668-QPYBK</td>\n",
       "      <td>2019-10-01</td>\n",
       "      <td>2019-12-01 00:00:00</td>\n",
       "      <td>Month-to-month</td>\n",
       "      <td>Yes</td>\n",
       "      <td>Mailed check</td>\n",
       "      <td>53.85</td>\n",
       "      <td>108.15</td>\n",
       "    </tr>\n",
       "    <tr>\n",
       "      <th>3</th>\n",
       "      <td>7795-CFOCW</td>\n",
       "      <td>2016-05-01</td>\n",
       "      <td>No</td>\n",
       "      <td>One year</td>\n",
       "      <td>No</td>\n",
       "      <td>Bank transfer (automatic)</td>\n",
       "      <td>42.30</td>\n",
       "      <td>1840.75</td>\n",
       "    </tr>\n",
       "    <tr>\n",
       "      <th>4</th>\n",
       "      <td>9237-HQITU</td>\n",
       "      <td>2019-09-01</td>\n",
       "      <td>2019-11-01 00:00:00</td>\n",
       "      <td>Month-to-month</td>\n",
       "      <td>Yes</td>\n",
       "      <td>Electronic check</td>\n",
       "      <td>70.70</td>\n",
       "      <td>151.65</td>\n",
       "    </tr>\n",
       "  </tbody>\n",
       "</table>\n",
       "</div>"
      ],
      "text/plain": [
       "   customerID   BeginDate              EndDate            Type  \\\n",
       "0  7590-VHVEG  2020-01-01                   No  Month-to-month   \n",
       "1  5575-GNVDE  2017-04-01                   No        One year   \n",
       "2  3668-QPYBK  2019-10-01  2019-12-01 00:00:00  Month-to-month   \n",
       "3  7795-CFOCW  2016-05-01                   No        One year   \n",
       "4  9237-HQITU  2019-09-01  2019-11-01 00:00:00  Month-to-month   \n",
       "\n",
       "  PaperlessBilling              PaymentMethod  MonthlyCharges TotalCharges  \n",
       "0              Yes           Electronic check           29.85        29.85  \n",
       "1               No               Mailed check           56.95       1889.5  \n",
       "2              Yes               Mailed check           53.85       108.15  \n",
       "3               No  Bank transfer (automatic)           42.30      1840.75  \n",
       "4              Yes           Electronic check           70.70       151.65  "
      ]
     },
     "metadata": {},
     "output_type": "display_data"
    },
    {
     "name": "stdout",
     "output_type": "stream",
     "text": [
      "<class 'pandas.core.frame.DataFrame'>\n",
      "RangeIndex: 7043 entries, 0 to 7042\n",
      "Data columns (total 8 columns):\n",
      " #   Column            Non-Null Count  Dtype  \n",
      "---  ------            --------------  -----  \n",
      " 0   customerID        7043 non-null   object \n",
      " 1   BeginDate         7043 non-null   object \n",
      " 2   EndDate           7043 non-null   object \n",
      " 3   Type              7043 non-null   object \n",
      " 4   PaperlessBilling  7043 non-null   object \n",
      " 5   PaymentMethod     7043 non-null   object \n",
      " 6   MonthlyCharges    7043 non-null   float64\n",
      " 7   TotalCharges      7043 non-null   object \n",
      "dtypes: float64(1), object(7)\n",
      "memory usage: 440.3+ KB\n"
     ]
    }
   ],
   "source": [
    "# вывод информации по датасету contract\n",
    "display(contract.head())\n",
    "contract.info()"
   ]
  },
  {
   "cell_type": "markdown",
   "id": "f9be475b",
   "metadata": {},
   "source": [
    "`customerID` - id номер клиента  \n",
    "`BeginDate` - дата заключения договора  \n",
    "`EndDate` - дата закрытия договора  \n",
    "`Type` - тип договора  \n",
    "`PaperlessBilling` - безбумажный счет  \n",
    "`PaymentMethod` - метод оплаты  \n",
    "`MonthlyCharges` - ежемесячное начисление  \n",
    "`TotalCharges` - итоговое начисление  "
   ]
  },
  {
   "cell_type": "code",
   "execution_count": 4,
   "id": "24cdcacf",
   "metadata": {},
   "outputs": [
    {
     "data": {
      "text/html": [
       "<div>\n",
       "<style scoped>\n",
       "    .dataframe tbody tr th:only-of-type {\n",
       "        vertical-align: middle;\n",
       "    }\n",
       "\n",
       "    .dataframe tbody tr th {\n",
       "        vertical-align: top;\n",
       "    }\n",
       "\n",
       "    .dataframe thead th {\n",
       "        text-align: right;\n",
       "    }\n",
       "</style>\n",
       "<table border=\"1\" class=\"dataframe\">\n",
       "  <thead>\n",
       "    <tr style=\"text-align: right;\">\n",
       "      <th></th>\n",
       "      <th>customerID</th>\n",
       "      <th>gender</th>\n",
       "      <th>SeniorCitizen</th>\n",
       "      <th>Partner</th>\n",
       "      <th>Dependents</th>\n",
       "    </tr>\n",
       "  </thead>\n",
       "  <tbody>\n",
       "    <tr>\n",
       "      <th>0</th>\n",
       "      <td>7590-VHVEG</td>\n",
       "      <td>Female</td>\n",
       "      <td>0</td>\n",
       "      <td>Yes</td>\n",
       "      <td>No</td>\n",
       "    </tr>\n",
       "    <tr>\n",
       "      <th>1</th>\n",
       "      <td>5575-GNVDE</td>\n",
       "      <td>Male</td>\n",
       "      <td>0</td>\n",
       "      <td>No</td>\n",
       "      <td>No</td>\n",
       "    </tr>\n",
       "    <tr>\n",
       "      <th>2</th>\n",
       "      <td>3668-QPYBK</td>\n",
       "      <td>Male</td>\n",
       "      <td>0</td>\n",
       "      <td>No</td>\n",
       "      <td>No</td>\n",
       "    </tr>\n",
       "    <tr>\n",
       "      <th>3</th>\n",
       "      <td>7795-CFOCW</td>\n",
       "      <td>Male</td>\n",
       "      <td>0</td>\n",
       "      <td>No</td>\n",
       "      <td>No</td>\n",
       "    </tr>\n",
       "    <tr>\n",
       "      <th>4</th>\n",
       "      <td>9237-HQITU</td>\n",
       "      <td>Female</td>\n",
       "      <td>0</td>\n",
       "      <td>No</td>\n",
       "      <td>No</td>\n",
       "    </tr>\n",
       "  </tbody>\n",
       "</table>\n",
       "</div>"
      ],
      "text/plain": [
       "   customerID  gender  SeniorCitizen Partner Dependents\n",
       "0  7590-VHVEG  Female              0     Yes         No\n",
       "1  5575-GNVDE    Male              0      No         No\n",
       "2  3668-QPYBK    Male              0      No         No\n",
       "3  7795-CFOCW    Male              0      No         No\n",
       "4  9237-HQITU  Female              0      No         No"
      ]
     },
     "metadata": {},
     "output_type": "display_data"
    },
    {
     "name": "stdout",
     "output_type": "stream",
     "text": [
      "<class 'pandas.core.frame.DataFrame'>\n",
      "RangeIndex: 7043 entries, 0 to 7042\n",
      "Data columns (total 5 columns):\n",
      " #   Column         Non-Null Count  Dtype \n",
      "---  ------         --------------  ----- \n",
      " 0   customerID     7043 non-null   object\n",
      " 1   gender         7043 non-null   object\n",
      " 2   SeniorCitizen  7043 non-null   int64 \n",
      " 3   Partner        7043 non-null   object\n",
      " 4   Dependents     7043 non-null   object\n",
      "dtypes: int64(1), object(4)\n",
      "memory usage: 275.2+ KB\n"
     ]
    }
   ],
   "source": [
    "# вывод информации по датасету personal\n",
    "display(personal.head())\n",
    "personal.info()"
   ]
  },
  {
   "cell_type": "markdown",
   "id": "6e1d2a59",
   "metadata": {},
   "source": [
    "Пропусков в таблице нет, тип данных соответствует.\n",
    "\n",
    "`customerID` - id номер клиента  \n",
    "`gender` - пол клиента  \n",
    "`SeniorCitizen` - статус пенсионера  \n",
    "`Partner` - женат/замужем  \n",
    "`Dependents` - наличие иждивенцев  "
   ]
  },
  {
   "cell_type": "code",
   "execution_count": 5,
   "id": "52a08901",
   "metadata": {},
   "outputs": [
    {
     "data": {
      "text/html": [
       "<div>\n",
       "<style scoped>\n",
       "    .dataframe tbody tr th:only-of-type {\n",
       "        vertical-align: middle;\n",
       "    }\n",
       "\n",
       "    .dataframe tbody tr th {\n",
       "        vertical-align: top;\n",
       "    }\n",
       "\n",
       "    .dataframe thead th {\n",
       "        text-align: right;\n",
       "    }\n",
       "</style>\n",
       "<table border=\"1\" class=\"dataframe\">\n",
       "  <thead>\n",
       "    <tr style=\"text-align: right;\">\n",
       "      <th></th>\n",
       "      <th>customerID</th>\n",
       "      <th>InternetService</th>\n",
       "      <th>OnlineSecurity</th>\n",
       "      <th>OnlineBackup</th>\n",
       "      <th>DeviceProtection</th>\n",
       "      <th>TechSupport</th>\n",
       "      <th>StreamingTV</th>\n",
       "      <th>StreamingMovies</th>\n",
       "    </tr>\n",
       "  </thead>\n",
       "  <tbody>\n",
       "    <tr>\n",
       "      <th>0</th>\n",
       "      <td>7590-VHVEG</td>\n",
       "      <td>DSL</td>\n",
       "      <td>No</td>\n",
       "      <td>Yes</td>\n",
       "      <td>No</td>\n",
       "      <td>No</td>\n",
       "      <td>No</td>\n",
       "      <td>No</td>\n",
       "    </tr>\n",
       "    <tr>\n",
       "      <th>1</th>\n",
       "      <td>5575-GNVDE</td>\n",
       "      <td>DSL</td>\n",
       "      <td>Yes</td>\n",
       "      <td>No</td>\n",
       "      <td>Yes</td>\n",
       "      <td>No</td>\n",
       "      <td>No</td>\n",
       "      <td>No</td>\n",
       "    </tr>\n",
       "    <tr>\n",
       "      <th>2</th>\n",
       "      <td>3668-QPYBK</td>\n",
       "      <td>DSL</td>\n",
       "      <td>Yes</td>\n",
       "      <td>Yes</td>\n",
       "      <td>No</td>\n",
       "      <td>No</td>\n",
       "      <td>No</td>\n",
       "      <td>No</td>\n",
       "    </tr>\n",
       "    <tr>\n",
       "      <th>3</th>\n",
       "      <td>7795-CFOCW</td>\n",
       "      <td>DSL</td>\n",
       "      <td>Yes</td>\n",
       "      <td>No</td>\n",
       "      <td>Yes</td>\n",
       "      <td>Yes</td>\n",
       "      <td>No</td>\n",
       "      <td>No</td>\n",
       "    </tr>\n",
       "    <tr>\n",
       "      <th>4</th>\n",
       "      <td>9237-HQITU</td>\n",
       "      <td>Fiber optic</td>\n",
       "      <td>No</td>\n",
       "      <td>No</td>\n",
       "      <td>No</td>\n",
       "      <td>No</td>\n",
       "      <td>No</td>\n",
       "      <td>No</td>\n",
       "    </tr>\n",
       "  </tbody>\n",
       "</table>\n",
       "</div>"
      ],
      "text/plain": [
       "   customerID InternetService OnlineSecurity OnlineBackup DeviceProtection  \\\n",
       "0  7590-VHVEG             DSL             No          Yes               No   \n",
       "1  5575-GNVDE             DSL            Yes           No              Yes   \n",
       "2  3668-QPYBK             DSL            Yes          Yes               No   \n",
       "3  7795-CFOCW             DSL            Yes           No              Yes   \n",
       "4  9237-HQITU     Fiber optic             No           No               No   \n",
       "\n",
       "  TechSupport StreamingTV StreamingMovies  \n",
       "0          No          No              No  \n",
       "1          No          No              No  \n",
       "2          No          No              No  \n",
       "3         Yes          No              No  \n",
       "4          No          No              No  "
      ]
     },
     "metadata": {},
     "output_type": "display_data"
    },
    {
     "name": "stdout",
     "output_type": "stream",
     "text": [
      "<class 'pandas.core.frame.DataFrame'>\n",
      "RangeIndex: 5517 entries, 0 to 5516\n",
      "Data columns (total 8 columns):\n",
      " #   Column            Non-Null Count  Dtype \n",
      "---  ------            --------------  ----- \n",
      " 0   customerID        5517 non-null   object\n",
      " 1   InternetService   5517 non-null   object\n",
      " 2   OnlineSecurity    5517 non-null   object\n",
      " 3   OnlineBackup      5517 non-null   object\n",
      " 4   DeviceProtection  5517 non-null   object\n",
      " 5   TechSupport       5517 non-null   object\n",
      " 6   StreamingTV       5517 non-null   object\n",
      " 7   StreamingMovies   5517 non-null   object\n",
      "dtypes: object(8)\n",
      "memory usage: 344.9+ KB\n"
     ]
    }
   ],
   "source": [
    "# вывод информации по датасету internet\n",
    "display(internet.head())\n",
    "internet.info()"
   ]
  },
  {
   "cell_type": "markdown",
   "id": "bbdd1080",
   "metadata": {},
   "source": [
    "Пропусков в таблице нет, тип данных соответствует.\n",
    "\n",
    "`customerID` - id номер клиента  \n",
    "`InternetService` - тип подключения к интернету  \n",
    "`OnlineSecurity` - наличие блокировки небезопасных сайтов  \n",
    "`OnlineBackup` - наличие облачного хранилища  \n",
    "`DeviceProtection` - наличие антивирусного ПО  \n",
    "`TechSupport` - наличие выделенной линии поддержки  \n",
    "`StreamingTV` - наличие стримингового ТВ  \n",
    "`StreamingMovies` - наличие каталога фильмов  "
   ]
  },
  {
   "cell_type": "code",
   "execution_count": 6,
   "id": "f1a0d395",
   "metadata": {},
   "outputs": [
    {
     "data": {
      "text/html": [
       "<div>\n",
       "<style scoped>\n",
       "    .dataframe tbody tr th:only-of-type {\n",
       "        vertical-align: middle;\n",
       "    }\n",
       "\n",
       "    .dataframe tbody tr th {\n",
       "        vertical-align: top;\n",
       "    }\n",
       "\n",
       "    .dataframe thead th {\n",
       "        text-align: right;\n",
       "    }\n",
       "</style>\n",
       "<table border=\"1\" class=\"dataframe\">\n",
       "  <thead>\n",
       "    <tr style=\"text-align: right;\">\n",
       "      <th></th>\n",
       "      <th>customerID</th>\n",
       "      <th>MultipleLines</th>\n",
       "    </tr>\n",
       "  </thead>\n",
       "  <tbody>\n",
       "    <tr>\n",
       "      <th>0</th>\n",
       "      <td>5575-GNVDE</td>\n",
       "      <td>No</td>\n",
       "    </tr>\n",
       "    <tr>\n",
       "      <th>1</th>\n",
       "      <td>3668-QPYBK</td>\n",
       "      <td>No</td>\n",
       "    </tr>\n",
       "    <tr>\n",
       "      <th>2</th>\n",
       "      <td>9237-HQITU</td>\n",
       "      <td>No</td>\n",
       "    </tr>\n",
       "    <tr>\n",
       "      <th>3</th>\n",
       "      <td>9305-CDSKC</td>\n",
       "      <td>Yes</td>\n",
       "    </tr>\n",
       "    <tr>\n",
       "      <th>4</th>\n",
       "      <td>1452-KIOVK</td>\n",
       "      <td>Yes</td>\n",
       "    </tr>\n",
       "  </tbody>\n",
       "</table>\n",
       "</div>"
      ],
      "text/plain": [
       "   customerID MultipleLines\n",
       "0  5575-GNVDE            No\n",
       "1  3668-QPYBK            No\n",
       "2  9237-HQITU            No\n",
       "3  9305-CDSKC           Yes\n",
       "4  1452-KIOVK           Yes"
      ]
     },
     "metadata": {},
     "output_type": "display_data"
    },
    {
     "name": "stdout",
     "output_type": "stream",
     "text": [
      "<class 'pandas.core.frame.DataFrame'>\n",
      "RangeIndex: 6361 entries, 0 to 6360\n",
      "Data columns (total 2 columns):\n",
      " #   Column         Non-Null Count  Dtype \n",
      "---  ------         --------------  ----- \n",
      " 0   customerID     6361 non-null   object\n",
      " 1   MultipleLines  6361 non-null   object\n",
      "dtypes: object(2)\n",
      "memory usage: 99.5+ KB\n"
     ]
    }
   ],
   "source": [
    "# вывод информации по датасету phone\n",
    "display(phone.head())\n",
    "phone.info()"
   ]
  },
  {
   "cell_type": "markdown",
   "id": "f1a36342",
   "metadata": {},
   "source": [
    "Пропусков в таблице нет, тип данных соответствует.\n",
    "\n",
    "`customerID` - id номер клиента  \n",
    "`MultipleLines` - несколько линий "
   ]
  },
  {
   "cell_type": "markdown",
   "id": "b351c7fb",
   "metadata": {},
   "source": [
    "### Вывод\n",
    "\n",
    "Таблицы имеют неверные типы данных, например: BeginDate должен иметь тип данных date, но он имеет текстовый тип. TotalCharges должен диметь тип данных float, а имеет так же текстовый тип. Названия столбцов не соответствуют принятому стилю, но менять мы их не будем.\n",
    "Далее в предобработке данных мы все исправим."
   ]
  },
  {
   "cell_type": "markdown",
   "id": "6a73b60f",
   "metadata": {},
   "source": [
    "## Предобработка данных"
   ]
  },
  {
   "cell_type": "markdown",
   "id": "0473de29",
   "metadata": {},
   "source": [
    "### Проверка на пропуски\n",
    "\n",
    "Для начала проверим таблицу contract. Ранее мы указывали, что столбец TotalCharges имеет неверный тип данных - текстовый, проверим его на пропуски данных, отсортировавв от большего к меньшему."
   ]
  },
  {
   "cell_type": "code",
   "execution_count": 7,
   "id": "a71bfa02",
   "metadata": {},
   "outputs": [
    {
     "data": {
      "text/plain": [
       "936           \n",
       "3826          \n",
       "4380          \n",
       "753           \n",
       "5218          \n",
       "         ...  \n",
       "6646    997.75\n",
       "5598     998.1\n",
       "3686    999.45\n",
       "3353     999.8\n",
       "2845     999.9\n",
       "Name: TotalCharges, Length: 7043, dtype: object"
      ]
     },
     "execution_count": 7,
     "metadata": {},
     "output_type": "execute_result"
    }
   ],
   "source": [
    "contract.TotalCharges.sort_values()"
   ]
  },
  {
   "cell_type": "markdown",
   "id": "456278e5",
   "metadata": {},
   "source": [
    "Как видим есть пропуски, которые невозможно определить классическим способом isna(). Заменим их на нули, т.к. далее потребуется изменить тип данных на float, иначе тип данных изменить не получится."
   ]
  },
  {
   "cell_type": "code",
   "execution_count": 8,
   "id": "1ea57ea9",
   "metadata": {},
   "outputs": [],
   "source": [
    "contract.TotalCharges = contract.TotalCharges.replace(' ', '0')"
   ]
  },
  {
   "cell_type": "code",
   "execution_count": 9,
   "id": "d1aff31d",
   "metadata": {},
   "outputs": [
    {
     "data": {
      "text/html": [
       "<div>\n",
       "<style scoped>\n",
       "    .dataframe tbody tr th:only-of-type {\n",
       "        vertical-align: middle;\n",
       "    }\n",
       "\n",
       "    .dataframe tbody tr th {\n",
       "        vertical-align: top;\n",
       "    }\n",
       "\n",
       "    .dataframe thead th {\n",
       "        text-align: right;\n",
       "    }\n",
       "</style>\n",
       "<table border=\"1\" class=\"dataframe\">\n",
       "  <thead>\n",
       "    <tr style=\"text-align: right;\">\n",
       "      <th></th>\n",
       "      <th>customerID</th>\n",
       "      <th>BeginDate</th>\n",
       "      <th>EndDate</th>\n",
       "      <th>Type</th>\n",
       "      <th>PaperlessBilling</th>\n",
       "      <th>PaymentMethod</th>\n",
       "      <th>MonthlyCharges</th>\n",
       "      <th>TotalCharges</th>\n",
       "    </tr>\n",
       "  </thead>\n",
       "  <tbody>\n",
       "    <tr>\n",
       "      <th>488</th>\n",
       "      <td>4472-LVYGI</td>\n",
       "      <td>2020-02-01</td>\n",
       "      <td>No</td>\n",
       "      <td>Two year</td>\n",
       "      <td>Yes</td>\n",
       "      <td>Bank transfer (automatic)</td>\n",
       "      <td>52.55</td>\n",
       "      <td>0</td>\n",
       "    </tr>\n",
       "    <tr>\n",
       "      <th>753</th>\n",
       "      <td>3115-CZMZD</td>\n",
       "      <td>2020-02-01</td>\n",
       "      <td>No</td>\n",
       "      <td>Two year</td>\n",
       "      <td>No</td>\n",
       "      <td>Mailed check</td>\n",
       "      <td>20.25</td>\n",
       "      <td>0</td>\n",
       "    </tr>\n",
       "    <tr>\n",
       "      <th>936</th>\n",
       "      <td>5709-LVOEQ</td>\n",
       "      <td>2020-02-01</td>\n",
       "      <td>No</td>\n",
       "      <td>Two year</td>\n",
       "      <td>No</td>\n",
       "      <td>Mailed check</td>\n",
       "      <td>80.85</td>\n",
       "      <td>0</td>\n",
       "    </tr>\n",
       "    <tr>\n",
       "      <th>1082</th>\n",
       "      <td>4367-NUYAO</td>\n",
       "      <td>2020-02-01</td>\n",
       "      <td>No</td>\n",
       "      <td>Two year</td>\n",
       "      <td>No</td>\n",
       "      <td>Mailed check</td>\n",
       "      <td>25.75</td>\n",
       "      <td>0</td>\n",
       "    </tr>\n",
       "    <tr>\n",
       "      <th>1340</th>\n",
       "      <td>1371-DWPAZ</td>\n",
       "      <td>2020-02-01</td>\n",
       "      <td>No</td>\n",
       "      <td>Two year</td>\n",
       "      <td>No</td>\n",
       "      <td>Credit card (automatic)</td>\n",
       "      <td>56.05</td>\n",
       "      <td>0</td>\n",
       "    </tr>\n",
       "    <tr>\n",
       "      <th>3331</th>\n",
       "      <td>7644-OMVMY</td>\n",
       "      <td>2020-02-01</td>\n",
       "      <td>No</td>\n",
       "      <td>Two year</td>\n",
       "      <td>No</td>\n",
       "      <td>Mailed check</td>\n",
       "      <td>19.85</td>\n",
       "      <td>0</td>\n",
       "    </tr>\n",
       "    <tr>\n",
       "      <th>3826</th>\n",
       "      <td>3213-VVOLG</td>\n",
       "      <td>2020-02-01</td>\n",
       "      <td>No</td>\n",
       "      <td>Two year</td>\n",
       "      <td>No</td>\n",
       "      <td>Mailed check</td>\n",
       "      <td>25.35</td>\n",
       "      <td>0</td>\n",
       "    </tr>\n",
       "    <tr>\n",
       "      <th>4380</th>\n",
       "      <td>2520-SGTTA</td>\n",
       "      <td>2020-02-01</td>\n",
       "      <td>No</td>\n",
       "      <td>Two year</td>\n",
       "      <td>No</td>\n",
       "      <td>Mailed check</td>\n",
       "      <td>20.00</td>\n",
       "      <td>0</td>\n",
       "    </tr>\n",
       "    <tr>\n",
       "      <th>5218</th>\n",
       "      <td>2923-ARZLG</td>\n",
       "      <td>2020-02-01</td>\n",
       "      <td>No</td>\n",
       "      <td>One year</td>\n",
       "      <td>Yes</td>\n",
       "      <td>Mailed check</td>\n",
       "      <td>19.70</td>\n",
       "      <td>0</td>\n",
       "    </tr>\n",
       "    <tr>\n",
       "      <th>6670</th>\n",
       "      <td>4075-WKNIU</td>\n",
       "      <td>2020-02-01</td>\n",
       "      <td>No</td>\n",
       "      <td>Two year</td>\n",
       "      <td>No</td>\n",
       "      <td>Mailed check</td>\n",
       "      <td>73.35</td>\n",
       "      <td>0</td>\n",
       "    </tr>\n",
       "    <tr>\n",
       "      <th>6754</th>\n",
       "      <td>2775-SEFEE</td>\n",
       "      <td>2020-02-01</td>\n",
       "      <td>No</td>\n",
       "      <td>Two year</td>\n",
       "      <td>Yes</td>\n",
       "      <td>Bank transfer (automatic)</td>\n",
       "      <td>61.90</td>\n",
       "      <td>0</td>\n",
       "    </tr>\n",
       "  </tbody>\n",
       "</table>\n",
       "</div>"
      ],
      "text/plain": [
       "      customerID   BeginDate EndDate      Type PaperlessBilling  \\\n",
       "488   4472-LVYGI  2020-02-01      No  Two year              Yes   \n",
       "753   3115-CZMZD  2020-02-01      No  Two year               No   \n",
       "936   5709-LVOEQ  2020-02-01      No  Two year               No   \n",
       "1082  4367-NUYAO  2020-02-01      No  Two year               No   \n",
       "1340  1371-DWPAZ  2020-02-01      No  Two year               No   \n",
       "3331  7644-OMVMY  2020-02-01      No  Two year               No   \n",
       "3826  3213-VVOLG  2020-02-01      No  Two year               No   \n",
       "4380  2520-SGTTA  2020-02-01      No  Two year               No   \n",
       "5218  2923-ARZLG  2020-02-01      No  One year              Yes   \n",
       "6670  4075-WKNIU  2020-02-01      No  Two year               No   \n",
       "6754  2775-SEFEE  2020-02-01      No  Two year              Yes   \n",
       "\n",
       "                  PaymentMethod  MonthlyCharges TotalCharges  \n",
       "488   Bank transfer (automatic)           52.55            0  \n",
       "753                Mailed check           20.25            0  \n",
       "936                Mailed check           80.85            0  \n",
       "1082               Mailed check           25.75            0  \n",
       "1340    Credit card (automatic)           56.05            0  \n",
       "3331               Mailed check           19.85            0  \n",
       "3826               Mailed check           25.35            0  \n",
       "4380               Mailed check           20.00            0  \n",
       "5218               Mailed check           19.70            0  \n",
       "6670               Mailed check           73.35            0  \n",
       "6754  Bank transfer (automatic)           61.90            0  "
      ]
     },
     "execution_count": 9,
     "metadata": {},
     "output_type": "execute_result"
    }
   ],
   "source": [
    "# выведем записи где итоговый платеж равен 0\n",
    "contract.query('TotalCharges == \"0\"')"
   ]
  },
  {
   "cell_type": "markdown",
   "id": "d32e69a7",
   "metadata": {},
   "source": [
    "Нули в поле объяснимы тем, что договор был заключен 01-02-2020 (данные нам предоставлены ровно до этой даты) соответственно накопительного итога нет.\n",
    "\n",
    "Так же есть пропуски в поле EndDate, они объяснимы тем, что договор еще не закрыт и вместо привычного Nan стоит значение No. Так же заменим данные на No, чтобы затем изменить тип на дату. Но предварительно добавим целевой признак, который указывает ушел клиент или нет."
   ]
  },
  {
   "cell_type": "code",
   "execution_count": 10,
   "id": "b5a5a72f",
   "metadata": {},
   "outputs": [],
   "source": [
    "contract['target'] = np.where(contract['EndDate'] == 'No', 0, 1).astype('int')\n",
    "# заменим на дату 2020-02-01, т.к. на моменрт выгрузки мы знаем, что этот клиент с нами\n",
    "contract.loc[contract['EndDate'] == 'No','EndDate'] = '2020-02-01'"
   ]
  },
  {
   "cell_type": "markdown",
   "id": "2727e4c6",
   "metadata": {},
   "source": [
    "### Изменение типов данных"
   ]
  },
  {
   "cell_type": "markdown",
   "id": "759a9a4f",
   "metadata": {},
   "source": [
    "Ранее мы выяснили, что данные имеют неверные типы данных, приведем их в соответствие."
   ]
  },
  {
   "cell_type": "code",
   "execution_count": 11,
   "id": "f6683c1b",
   "metadata": {},
   "outputs": [],
   "source": [
    "# изменим тип  данных у таблицы contract\n",
    "contract['BeginDate'] = pd.to_datetime(contract['BeginDate'], format='%Y-%m-%d')\n",
    "contract['EndDate'] = pd.to_datetime(contract['EndDate'], format='%Y-%m-%d')\n",
    "contract['TotalCharges'] = contract['TotalCharges'].astype('float64')"
   ]
  },
  {
   "cell_type": "code",
   "execution_count": 12,
   "id": "99ff8757",
   "metadata": {},
   "outputs": [
    {
     "name": "stdout",
     "output_type": "stream",
     "text": [
      "<class 'pandas.core.frame.DataFrame'>\n",
      "RangeIndex: 7043 entries, 0 to 7042\n",
      "Data columns (total 9 columns):\n",
      " #   Column            Non-Null Count  Dtype         \n",
      "---  ------            --------------  -----         \n",
      " 0   customerID        7043 non-null   object        \n",
      " 1   BeginDate         7043 non-null   datetime64[ns]\n",
      " 2   EndDate           7043 non-null   datetime64[ns]\n",
      " 3   Type              7043 non-null   object        \n",
      " 4   PaperlessBilling  7043 non-null   object        \n",
      " 5   PaymentMethod     7043 non-null   object        \n",
      " 6   MonthlyCharges    7043 non-null   float64       \n",
      " 7   TotalCharges      7043 non-null   float64       \n",
      " 8   target            7043 non-null   int64         \n",
      "dtypes: datetime64[ns](2), float64(2), int64(1), object(4)\n",
      "memory usage: 495.3+ KB\n"
     ]
    }
   ],
   "source": [
    "contract.info()"
   ]
  },
  {
   "cell_type": "markdown",
   "id": "6ee7f694",
   "metadata": {},
   "source": [
    "### Проверка на явные дубликаты"
   ]
  },
  {
   "cell_type": "code",
   "execution_count": 13,
   "id": "56b6929d",
   "metadata": {},
   "outputs": [
    {
     "name": "stdout",
     "output_type": "stream",
     "text": [
      "Доля явных дубликатов в датасете contract 0.0\n",
      "Доля явных дубликатов в датасете personal 0.0\n",
      "Доля явных дубликатов в датасете internet 0.0\n",
      "Доля явных дубликатов в датасете phone 0.0\n"
     ]
    }
   ],
   "source": [
    "print('Доля явных дубликатов в датасете contract', contract.duplicated().mean())\n",
    "print('Доля явных дубликатов в датасете personal', personal.duplicated().mean())\n",
    "print('Доля явных дубликатов в датасете internet', internet.duplicated().mean())\n",
    "print('Доля явных дубликатов в датасете phone', phone.duplicated().mean())"
   ]
  },
  {
   "cell_type": "markdown",
   "id": "3709d126",
   "metadata": {},
   "source": [
    "Явных дубликатов не обнаружено в данных."
   ]
  },
  {
   "cell_type": "markdown",
   "id": "a8ffd225",
   "metadata": {},
   "source": [
    "### Проверка на аномалии\n",
    "\n",
    "На аномалии можно проверить только таблицу contract."
   ]
  },
  {
   "cell_type": "code",
   "execution_count": 14,
   "id": "0fadd90f",
   "metadata": {},
   "outputs": [
    {
     "data": {
      "text/html": [
       "<div>\n",
       "<style scoped>\n",
       "    .dataframe tbody tr th:only-of-type {\n",
       "        vertical-align: middle;\n",
       "    }\n",
       "\n",
       "    .dataframe tbody tr th {\n",
       "        vertical-align: top;\n",
       "    }\n",
       "\n",
       "    .dataframe thead th {\n",
       "        text-align: right;\n",
       "    }\n",
       "</style>\n",
       "<table border=\"1\" class=\"dataframe\">\n",
       "  <thead>\n",
       "    <tr style=\"text-align: right;\">\n",
       "      <th></th>\n",
       "      <th>count</th>\n",
       "      <th>mean</th>\n",
       "      <th>std</th>\n",
       "      <th>min</th>\n",
       "      <th>25%</th>\n",
       "      <th>50%</th>\n",
       "      <th>75%</th>\n",
       "      <th>max</th>\n",
       "    </tr>\n",
       "  </thead>\n",
       "  <tbody>\n",
       "    <tr>\n",
       "      <th>MonthlyCharges</th>\n",
       "      <td>7043.0</td>\n",
       "      <td>64.761692</td>\n",
       "      <td>30.090047</td>\n",
       "      <td>18.25</td>\n",
       "      <td>35.50</td>\n",
       "      <td>70.35</td>\n",
       "      <td>89.85</td>\n",
       "      <td>118.75</td>\n",
       "    </tr>\n",
       "    <tr>\n",
       "      <th>TotalCharges</th>\n",
       "      <td>7043.0</td>\n",
       "      <td>2279.734304</td>\n",
       "      <td>2266.794470</td>\n",
       "      <td>0.00</td>\n",
       "      <td>398.55</td>\n",
       "      <td>1394.55</td>\n",
       "      <td>3786.60</td>\n",
       "      <td>8684.80</td>\n",
       "    </tr>\n",
       "    <tr>\n",
       "      <th>target</th>\n",
       "      <td>7043.0</td>\n",
       "      <td>0.265370</td>\n",
       "      <td>0.441561</td>\n",
       "      <td>0.00</td>\n",
       "      <td>0.00</td>\n",
       "      <td>0.00</td>\n",
       "      <td>1.00</td>\n",
       "      <td>1.00</td>\n",
       "    </tr>\n",
       "  </tbody>\n",
       "</table>\n",
       "</div>"
      ],
      "text/plain": [
       "                 count         mean          std    min     25%      50%  \\\n",
       "MonthlyCharges  7043.0    64.761692    30.090047  18.25   35.50    70.35   \n",
       "TotalCharges    7043.0  2279.734304  2266.794470   0.00  398.55  1394.55   \n",
       "target          7043.0     0.265370     0.441561   0.00    0.00     0.00   \n",
       "\n",
       "                    75%      max  \n",
       "MonthlyCharges    89.85   118.75  \n",
       "TotalCharges    3786.60  8684.80  \n",
       "target             1.00     1.00  "
      ]
     },
     "execution_count": 14,
     "metadata": {},
     "output_type": "execute_result"
    }
   ],
   "source": [
    "contract.describe().T"
   ]
  },
  {
   "cell_type": "code",
   "execution_count": 15,
   "id": "5c3c8523",
   "metadata": {},
   "outputs": [],
   "source": [
    "def boxplot_table(df, column):\n",
    "    _, [axs_hist, axs_box] = plt.subplots(2, 1, figsize=(10, 4), \n",
    "                                         sharex=True,\n",
    "                                         gridspec_kw=dict(height_ratios=[4,.8]))\n",
    "    hist = sns.histplot(data=df, x=column, kde=True, ax=axs_hist)\n",
    "    box = sns.boxplot(data=df, x=column, orient='h', ax=axs_box)\n",
    "    hist.set(title='Гистограмма распределения',\n",
    "             ylabel='Количество записей');"
   ]
  },
  {
   "cell_type": "code",
   "execution_count": 16,
   "id": "f0589a70",
   "metadata": {},
   "outputs": [
    {
     "data": {
      "image/png": "[encoded data removed]",
      "text/plain": [
       "<Figure size 720x288 with 2 Axes>"
      ]
     },
     "metadata": {
      "needs_background": "light"
     },
     "output_type": "display_data"
    }
   ],
   "source": [
    "boxplot_table(contract, 'MonthlyCharges')"
   ]
  },
  {
   "cell_type": "code",
   "execution_count": 17,
   "id": "8c14dc79",
   "metadata": {},
   "outputs": [
    {
     "data": {
      "image/png": "[encoded data removed]",
      "text/plain": [
       "<Figure size 720x288 with 2 Axes>"
      ]
     },
     "metadata": {
      "needs_background": "light"
     },
     "output_type": "display_data"
    }
   ],
   "source": [
    "boxplot_table(contract, 'TotalCharges')"
   ]
  },
  {
   "cell_type": "markdown",
   "id": "7c714f54",
   "metadata": {},
   "source": [
    "Аномалиии и выбросы в данных не обнаружены. Распределение данных ненормальное. По полю TotalCharges данные имеют длинный правый хвост."
   ]
  },
  {
   "cell_type": "markdown",
   "id": "48f574ff",
   "metadata": {},
   "source": [
    "### Вывод\n",
    "\n",
    "Мы обработали пропуски, изменили тип данных у полей в таблице contract. Проверили данные на дубликаты и аномалии, они обнаружены не были. Так же почти все поля в предоставленных таблицах в логике могут быть бинарными, исправлять не стали, но возможно в будущем потребуется заменить на 1 и 0 для обучения моделей. Данные готовы к исследовательскому анализу анализу."
   ]
  },
  {
   "cell_type": "markdown",
   "id": "1fe401c8",
   "metadata": {},
   "source": [
    "## Исследовательский анализ данных"
   ]
  },
  {
   "cell_type": "markdown",
   "id": "b7beb2f9",
   "metadata": {},
   "source": [
    "Проведем короткий анализ данных.  \n",
    "\n",
    "Для анализа создам копию таблицы contract, т.к. придется часть данных добавить, исходный датасет менять не будем."
   ]
  },
  {
   "cell_type": "code",
   "execution_count": 18,
   "id": "f73e0780",
   "metadata": {},
   "outputs": [],
   "source": [
    "df = contract.copy()"
   ]
  },
  {
   "cell_type": "code",
   "execution_count": 19,
   "id": "8109a890",
   "metadata": {},
   "outputs": [
    {
     "data": {
      "text/html": [
       "<div>\n",
       "<style scoped>\n",
       "    .dataframe tbody tr th:only-of-type {\n",
       "        vertical-align: middle;\n",
       "    }\n",
       "\n",
       "    .dataframe tbody tr th {\n",
       "        vertical-align: top;\n",
       "    }\n",
       "\n",
       "    .dataframe thead th {\n",
       "        text-align: right;\n",
       "    }\n",
       "</style>\n",
       "<table border=\"1\" class=\"dataframe\">\n",
       "  <thead>\n",
       "    <tr style=\"text-align: right;\">\n",
       "      <th></th>\n",
       "      <th>customerID</th>\n",
       "      <th>BeginDate</th>\n",
       "      <th>EndDate</th>\n",
       "      <th>Type</th>\n",
       "      <th>PaperlessBilling</th>\n",
       "      <th>PaymentMethod</th>\n",
       "      <th>MonthlyCharges</th>\n",
       "      <th>TotalCharges</th>\n",
       "      <th>target</th>\n",
       "      <th>begin_month</th>\n",
       "      <th>begin_year</th>\n",
       "      <th>end_month</th>\n",
       "      <th>end_year</th>\n",
       "    </tr>\n",
       "  </thead>\n",
       "  <tbody>\n",
       "    <tr>\n",
       "      <th>0</th>\n",
       "      <td>7590-VHVEG</td>\n",
       "      <td>2020-01-01</td>\n",
       "      <td>2020-02-01</td>\n",
       "      <td>Month-to-month</td>\n",
       "      <td>Yes</td>\n",
       "      <td>Electronic check</td>\n",
       "      <td>29.85</td>\n",
       "      <td>29.85</td>\n",
       "      <td>0</td>\n",
       "      <td>1</td>\n",
       "      <td>2020</td>\n",
       "      <td>2</td>\n",
       "      <td>2020</td>\n",
       "    </tr>\n",
       "    <tr>\n",
       "      <th>1</th>\n",
       "      <td>5575-GNVDE</td>\n",
       "      <td>2017-04-01</td>\n",
       "      <td>2020-02-01</td>\n",
       "      <td>One year</td>\n",
       "      <td>No</td>\n",
       "      <td>Mailed check</td>\n",
       "      <td>56.95</td>\n",
       "      <td>1889.50</td>\n",
       "      <td>0</td>\n",
       "      <td>4</td>\n",
       "      <td>2017</td>\n",
       "      <td>2</td>\n",
       "      <td>2020</td>\n",
       "    </tr>\n",
       "    <tr>\n",
       "      <th>2</th>\n",
       "      <td>3668-QPYBK</td>\n",
       "      <td>2019-10-01</td>\n",
       "      <td>2019-12-01</td>\n",
       "      <td>Month-to-month</td>\n",
       "      <td>Yes</td>\n",
       "      <td>Mailed check</td>\n",
       "      <td>53.85</td>\n",
       "      <td>108.15</td>\n",
       "      <td>1</td>\n",
       "      <td>10</td>\n",
       "      <td>2019</td>\n",
       "      <td>12</td>\n",
       "      <td>2019</td>\n",
       "    </tr>\n",
       "    <tr>\n",
       "      <th>3</th>\n",
       "      <td>7795-CFOCW</td>\n",
       "      <td>2016-05-01</td>\n",
       "      <td>2020-02-01</td>\n",
       "      <td>One year</td>\n",
       "      <td>No</td>\n",
       "      <td>Bank transfer (automatic)</td>\n",
       "      <td>42.30</td>\n",
       "      <td>1840.75</td>\n",
       "      <td>0</td>\n",
       "      <td>5</td>\n",
       "      <td>2016</td>\n",
       "      <td>2</td>\n",
       "      <td>2020</td>\n",
       "    </tr>\n",
       "    <tr>\n",
       "      <th>4</th>\n",
       "      <td>9237-HQITU</td>\n",
       "      <td>2019-09-01</td>\n",
       "      <td>2019-11-01</td>\n",
       "      <td>Month-to-month</td>\n",
       "      <td>Yes</td>\n",
       "      <td>Electronic check</td>\n",
       "      <td>70.70</td>\n",
       "      <td>151.65</td>\n",
       "      <td>1</td>\n",
       "      <td>9</td>\n",
       "      <td>2019</td>\n",
       "      <td>11</td>\n",
       "      <td>2019</td>\n",
       "    </tr>\n",
       "  </tbody>\n",
       "</table>\n",
       "</div>"
      ],
      "text/plain": [
       "   customerID  BeginDate    EndDate            Type PaperlessBilling  \\\n",
       "0  7590-VHVEG 2020-01-01 2020-02-01  Month-to-month              Yes   \n",
       "1  5575-GNVDE 2017-04-01 2020-02-01        One year               No   \n",
       "2  3668-QPYBK 2019-10-01 2019-12-01  Month-to-month              Yes   \n",
       "3  7795-CFOCW 2016-05-01 2020-02-01        One year               No   \n",
       "4  9237-HQITU 2019-09-01 2019-11-01  Month-to-month              Yes   \n",
       "\n",
       "               PaymentMethod  MonthlyCharges  TotalCharges  target  \\\n",
       "0           Electronic check           29.85         29.85       0   \n",
       "1               Mailed check           56.95       1889.50       0   \n",
       "2               Mailed check           53.85        108.15       1   \n",
       "3  Bank transfer (automatic)           42.30       1840.75       0   \n",
       "4           Electronic check           70.70        151.65       1   \n",
       "\n",
       "   begin_month  begin_year  end_month  end_year  \n",
       "0            1        2020          2      2020  \n",
       "1            4        2017          2      2020  \n",
       "2           10        2019         12      2019  \n",
       "3            5        2016          2      2020  \n",
       "4            9        2019         11      2019  "
      ]
     },
     "execution_count": 19,
     "metadata": {},
     "output_type": "execute_result"
    }
   ],
   "source": [
    "# добавим поля  month и year\n",
    "df['begin_month'] = df['BeginDate'].dt.month\n",
    "df['begin_year'] = df['BeginDate'].dt.year\n",
    "df['end_month'] = df['EndDate'].dt.month\n",
    "df['end_year'] = df['EndDate'].dt.year\n",
    "df.head()"
   ]
  },
  {
   "cell_type": "code",
   "execution_count": 20,
   "id": "aa9d7858",
   "metadata": {},
   "outputs": [
    {
     "name": "stdout",
     "output_type": "stream",
     "text": [
      "Доля ушедших клиентов 0.2653698707936959\n"
     ]
    }
   ],
   "source": [
    "print('Доля ушедших клиентов', len(df.query('target == 1'))/len(df))"
   ]
  },
  {
   "cell_type": "markdown",
   "id": "b62dbe12",
   "metadata": {},
   "source": [
    "Имеем дисбаланс классов, при обучении  моделей это нужно учесть."
   ]
  },
  {
   "cell_type": "markdown",
   "id": "d65c9576",
   "metadata": {},
   "source": [
    "Посмотрим в какой год было заключено больше всего контрактов."
   ]
  },
  {
   "cell_type": "code",
   "execution_count": 21,
   "id": "fea87bfc",
   "metadata": {},
   "outputs": [
    {
     "data": {
      "image/png": "[encoded data removed]",
      "text/plain": [
       "<Figure size 720x288 with 1 Axes>"
      ]
     },
     "metadata": {
      "needs_background": "light"
     },
     "output_type": "display_data"
    }
   ],
   "source": [
    "(df.pivot_table(index='Type', columns='begin_year', values='customerID', aggfunc='count')\n",
    " .T\n",
    " .plot(kind='line', figsize=(10,4),  style = 'o-')\n",
    ")\n",
    "plt.title('Подключение клиентов в разрезе по типу договора')\n",
    "plt.xlabel('Год')\n",
    "plt.ylabel('кол-во');"
   ]
  },
  {
   "cell_type": "markdown",
   "id": "c7f71f2a",
   "metadata": {},
   "source": [
    "Договоров с типом \"Month-to-month\" от года к году заключается больше, 2020 год можно не смотреть данные неполные.  \n",
    "Проверим по какому типу договора больше выручка."
   ]
  },
  {
   "cell_type": "code",
   "execution_count": 22,
   "id": "0845f3a3",
   "metadata": {},
   "outputs": [
    {
     "data": {
      "image/png": "[encoded data removed]",
      "text/plain": [
       "<Figure size 720x288 with 1 Axes>"
      ]
     },
     "metadata": {
      "needs_background": "light"
     },
     "output_type": "display_data"
    }
   ],
   "source": [
    "(df.pivot_table(index='Type', columns='begin_year', values='TotalCharges', aggfunc='sum')\n",
    " .T\n",
    " .plot(kind='line', figsize=(10,4),  style = 'o-')\n",
    ")\n",
    "plt.title('Выручка от клиентов в разрезе по типу договора')\n",
    "plt.xlabel('Год')\n",
    "plt.ylabel('Сумма');"
   ]
  },
  {
   "cell_type": "markdown",
   "id": "886822ca",
   "metadata": {},
   "source": [
    "Более менее стабильная выручка по типу договора \"Month-to-month\", но в целом она снижается по всем типам договоров от года к году, возможно это связано с уменьшением ежемесячного начисления."
   ]
  },
  {
   "cell_type": "code",
   "execution_count": 23,
   "id": "8ce5c011",
   "metadata": {},
   "outputs": [
    {
     "data": {
      "image/png": "[encoded data removed]",
      "text/plain": [
       "<Figure size 720x288 with 1 Axes>"
      ]
     },
     "metadata": {
      "needs_background": "light"
     },
     "output_type": "display_data"
    }
   ],
   "source": [
    "(df.pivot_table(index='Type', columns='begin_year', values='MonthlyCharges', aggfunc='mean')\n",
    " .T\n",
    " .plot(kind='line', figsize=(10,4),  style = 'o-')\n",
    ")\n",
    "plt.title('Средний размер ежемесячного начисления по типу договора')\n",
    "plt.xlabel('Год')\n",
    "plt.ylabel('Сумма');"
   ]
  },
  {
   "cell_type": "markdown",
   "id": "f954c9fc",
   "metadata": {},
   "source": [
    "Как мы видим средние ежемесячные начисления действительно уменьшаются от года к году. Это может быть связано с высокой конкурентностью на рынке и удешевлением предоставляемых услугм за счет внедрения новых технологий в коммуникации."
   ]
  },
  {
   "cell_type": "markdown",
   "id": "995b354b",
   "metadata": {},
   "source": [
    "Проверим самые пиковые месяцы по подключению новых клиентов."
   ]
  },
  {
   "cell_type": "code",
   "execution_count": 24,
   "id": "1b459f1a",
   "metadata": {},
   "outputs": [
    {
     "data": {
      "image/png": "[encoded data removed]",
      "text/plain": [
       "<Figure size 720x288 with 1 Axes>"
      ]
     },
     "metadata": {
      "needs_background": "light"
     },
     "output_type": "display_data"
    }
   ],
   "source": [
    "(df.pivot_table(index='Type', columns='begin_month', values='customerID', aggfunc='count')\n",
    " .T\n",
    " .plot(kind='line', figsize=(10,4),  style = 'o-')\n",
    ")\n",
    "plt.title('Подключение клиентов в разрезе по типу договора')\n",
    "plt.xlabel('Месяц')\n",
    "plt.ylabel('кол-во');"
   ]
  },
  {
   "cell_type": "markdown",
   "id": "b546ccd9",
   "metadata": {},
   "source": [
    "Какой-то закономерности исходя из времени года выявить не удалось, те пики что мы видим связаны с подключение новых клиентов и ранее мы видели, что пик пришелся на 2014 и 2019 годы."
   ]
  },
  {
   "cell_type": "markdown",
   "id": "cc53828d",
   "metadata": {},
   "source": [
    "Првоерим в какие года пришелся самыйц большой отток клиентов, так же посмотрим отток внутри года, попытаемся выявить закономерность."
   ]
  },
  {
   "cell_type": "code",
   "execution_count": 25,
   "id": "33d1b63d",
   "metadata": {},
   "outputs": [
    {
     "data": {
      "text/html": [
       "<div>\n",
       "<style scoped>\n",
       "    .dataframe tbody tr th:only-of-type {\n",
       "        vertical-align: middle;\n",
       "    }\n",
       "\n",
       "    .dataframe tbody tr th {\n",
       "        vertical-align: top;\n",
       "    }\n",
       "\n",
       "    .dataframe thead th {\n",
       "        text-align: right;\n",
       "    }\n",
       "</style>\n",
       "<table border=\"1\" class=\"dataframe\">\n",
       "  <thead>\n",
       "    <tr style=\"text-align: right;\">\n",
       "      <th>Type</th>\n",
       "      <th>Month-to-month</th>\n",
       "      <th>One year</th>\n",
       "      <th>Two year</th>\n",
       "    </tr>\n",
       "    <tr>\n",
       "      <th>end_year</th>\n",
       "      <th></th>\n",
       "      <th></th>\n",
       "      <th></th>\n",
       "    </tr>\n",
       "  </thead>\n",
       "  <tbody>\n",
       "    <tr>\n",
       "      <th>2019</th>\n",
       "      <td>1242</td>\n",
       "      <td>129</td>\n",
       "      <td>38</td>\n",
       "    </tr>\n",
       "    <tr>\n",
       "      <th>2020</th>\n",
       "      <td>413</td>\n",
       "      <td>37</td>\n",
       "      <td>10</td>\n",
       "    </tr>\n",
       "  </tbody>\n",
       "</table>\n",
       "</div>"
      ],
      "text/plain": [
       "Type      Month-to-month  One year  Two year\n",
       "end_year                                    \n",
       "2019                1242       129        38\n",
       "2020                 413        37        10"
      ]
     },
     "execution_count": 25,
     "metadata": {},
     "output_type": "execute_result"
    }
   ],
   "source": [
    "(df.query('end_year <= 2020 and target==1')\n",
    " .pivot_table(index='Type', columns='end_year', values='customerID', aggfunc='count').T\n",
    ")"
   ]
  },
  {
   "cell_type": "markdown",
   "id": "483af4ef",
   "metadata": {},
   "source": [
    "Основной отток пришелся на 2019 год, при чем по клиентам, с которыми был заключен договор типа \"Month-to-month\", как мы помним и основная масса клиентов была подключена в этот же год и по этому же типу договора."
   ]
  },
  {
   "cell_type": "code",
   "execution_count": 26,
   "id": "e4b1a9a1",
   "metadata": {},
   "outputs": [
    {
     "data": {
      "text/html": [
       "<div>\n",
       "<style scoped>\n",
       "    .dataframe tbody tr th:only-of-type {\n",
       "        vertical-align: middle;\n",
       "    }\n",
       "\n",
       "    .dataframe tbody tr th {\n",
       "        vertical-align: top;\n",
       "    }\n",
       "\n",
       "    .dataframe thead th {\n",
       "        text-align: right;\n",
       "    }\n",
       "</style>\n",
       "<table border=\"1\" class=\"dataframe\">\n",
       "  <thead>\n",
       "    <tr style=\"text-align: right;\">\n",
       "      <th>Type</th>\n",
       "      <th>index</th>\n",
       "      <th>Month-to-month</th>\n",
       "      <th>One year</th>\n",
       "      <th>Two year</th>\n",
       "    </tr>\n",
       "  </thead>\n",
       "  <tbody>\n",
       "    <tr>\n",
       "      <th>0</th>\n",
       "      <td>customerID</td>\n",
       "      <td>3875</td>\n",
       "      <td>1473</td>\n",
       "      <td>1695</td>\n",
       "    </tr>\n",
       "    <tr>\n",
       "      <th>1</th>\n",
       "      <td>customerID</td>\n",
       "      <td>1655</td>\n",
       "      <td>166</td>\n",
       "      <td>48</td>\n",
       "    </tr>\n",
       "  </tbody>\n",
       "</table>\n",
       "</div>"
      ],
      "text/plain": [
       "Type       index  Month-to-month  One year  Two year\n",
       "0     customerID            3875      1473      1695\n",
       "1     customerID            1655       166        48"
      ]
     },
     "execution_count": 26,
     "metadata": {},
     "output_type": "execute_result"
    }
   ],
   "source": [
    "a = df.pivot_table(index='Type', values='customerID', aggfunc='count').T\n",
    "b = df.query('end_year <= 2020 and target==1').pivot_table(index='Type', values='customerID', aggfunc='count').T\n",
    "pd.concat([a, b], join=\"inner\").reset_index()"
   ]
  },
  {
   "cell_type": "markdown",
   "id": "065a068f",
   "metadata": {},
   "source": [
    "По данным за весь период самую большую долю оттока имеют контракты с типом \"Month-to-month\"."
   ]
  },
  {
   "cell_type": "markdown",
   "id": "23ca2fe2",
   "metadata": {},
   "source": [
    "Проверим пиковые месяцы по оттоку клиентов в 2019 году."
   ]
  },
  {
   "cell_type": "code",
   "execution_count": 27,
   "id": "f108656a",
   "metadata": {},
   "outputs": [
    {
     "data": {
      "text/html": [
       "<div>\n",
       "<style scoped>\n",
       "    .dataframe tbody tr th:only-of-type {\n",
       "        vertical-align: middle;\n",
       "    }\n",
       "\n",
       "    .dataframe tbody tr th {\n",
       "        vertical-align: top;\n",
       "    }\n",
       "\n",
       "    .dataframe thead th {\n",
       "        text-align: right;\n",
       "    }\n",
       "</style>\n",
       "<table border=\"1\" class=\"dataframe\">\n",
       "  <thead>\n",
       "    <tr style=\"text-align: right;\">\n",
       "      <th>Type</th>\n",
       "      <th>Month-to-month</th>\n",
       "      <th>One year</th>\n",
       "      <th>Two year</th>\n",
       "    </tr>\n",
       "    <tr>\n",
       "      <th>end_month</th>\n",
       "      <th></th>\n",
       "      <th></th>\n",
       "      <th></th>\n",
       "    </tr>\n",
       "  </thead>\n",
       "  <tbody>\n",
       "    <tr>\n",
       "      <th>10</th>\n",
       "      <td>394</td>\n",
       "      <td>56</td>\n",
       "      <td>8</td>\n",
       "    </tr>\n",
       "    <tr>\n",
       "      <th>11</th>\n",
       "      <td>429</td>\n",
       "      <td>39</td>\n",
       "      <td>17</td>\n",
       "    </tr>\n",
       "    <tr>\n",
       "      <th>12</th>\n",
       "      <td>419</td>\n",
       "      <td>34</td>\n",
       "      <td>13</td>\n",
       "    </tr>\n",
       "  </tbody>\n",
       "</table>\n",
       "</div>"
      ],
      "text/plain": [
       "Type       Month-to-month  One year  Two year\n",
       "end_month                                    \n",
       "10                    394        56         8\n",
       "11                    429        39        17\n",
       "12                    419        34        13"
      ]
     },
     "execution_count": 27,
     "metadata": {},
     "output_type": "execute_result"
    }
   ],
   "source": [
    "(df.query('end_year < 2020 and target==1')\n",
    " .pivot_table(index='Type', columns='end_month', values='customerID', aggfunc='count')\n",
    " .T\n",
    ")"
   ]
  },
  {
   "cell_type": "markdown",
   "id": "3e7c5fd3",
   "metadata": {},
   "source": [
    "Что-то явно изменилось в политике продаж в 2019 году в сентябре-октябре, т.к. пик подключений пришелся на этот период, но так же и клиенты начали уходить начиная с этих дат."
   ]
  },
  {
   "cell_type": "markdown",
   "id": "1bad1186",
   "metadata": {},
   "source": [
    "Для более глубокого анализа требуется объеденить наши таблицы и посмотреть данные в других разрезах. Например кто чаще подключался, женщины, мужчины? Или кто закрывал договор обслуживания, какие услуги пользовались популярностью? Возможно из-за появления какой-то услуги и произошли пики в 2019 году."
   ]
  },
  {
   "cell_type": "markdown",
   "id": "f67af38f",
   "metadata": {},
   "source": [
    "## Подготовка данных к обучению"
   ]
  },
  {
   "cell_type": "markdown",
   "id": "6fa7cd6c",
   "metadata": {},
   "source": [
    "### Объедениение таблиц в единый датасет"
   ]
  },
  {
   "cell_type": "code",
   "execution_count": 28,
   "id": "7e61018e",
   "metadata": {},
   "outputs": [
    {
     "name": "stdout",
     "output_type": "stream",
     "text": [
      "<class 'pandas.core.frame.DataFrame'>\n",
      "RangeIndex: 7043 entries, 0 to 7042\n",
      "Data columns (total 21 columns):\n",
      " #   Column            Non-Null Count  Dtype         \n",
      "---  ------            --------------  -----         \n",
      " 0   customerid        7043 non-null   object        \n",
      " 1   begindate         7043 non-null   datetime64[ns]\n",
      " 2   enddate           7043 non-null   datetime64[ns]\n",
      " 3   type              7043 non-null   object        \n",
      " 4   paperlessbilling  7043 non-null   object        \n",
      " 5   paymentmethod     7043 non-null   object        \n",
      " 6   monthlycharges    7043 non-null   float64       \n",
      " 7   totalcharges      7043 non-null   float64       \n",
      " 8   target            7043 non-null   int64         \n",
      " 9   internetservice   5517 non-null   object        \n",
      " 10  onlinesecurity    5517 non-null   object        \n",
      " 11  onlinebackup      5517 non-null   object        \n",
      " 12  deviceprotection  5517 non-null   object        \n",
      " 13  techsupport       5517 non-null   object        \n",
      " 14  streamingtv       5517 non-null   object        \n",
      " 15  streamingmovies   5517 non-null   object        \n",
      " 16  gender            7043 non-null   object        \n",
      " 17  seniorcitizen     7043 non-null   int64         \n",
      " 18  partner           7043 non-null   object        \n",
      " 19  dependents        7043 non-null   object        \n",
      " 20  multiplelines     6361 non-null   object        \n",
      "dtypes: datetime64[ns](2), float64(2), int64(2), object(15)\n",
      "memory usage: 1.1+ MB\n"
     ]
    }
   ],
   "source": [
    "# объеденим таблицы\n",
    "# заменим индексы в таблицах для объединения\n",
    "# инидексы потом сбросим\n",
    "df = (contract.set_index('customerID')\n",
    "      .join([internet.set_index('customerID'), personal.set_index('customerID'), phone.set_index('customerID')]\n",
    "            , how='left')\n",
    "      .reset_index()\n",
    "     )\n",
    "# приведем названия столбцов к нижнему регистру для удобной работы\n",
    "df.columns = df.columns.str.lower()\n",
    "# выведем общую информацию по полученному датасету\n",
    "df.info()"
   ]
  },
  {
   "cell_type": "code",
   "execution_count": 29,
   "id": "8d58596c",
   "metadata": {},
   "outputs": [
    {
     "data": {
      "text/html": [
       "<div>\n",
       "<style scoped>\n",
       "    .dataframe tbody tr th:only-of-type {\n",
       "        vertical-align: middle;\n",
       "    }\n",
       "\n",
       "    .dataframe tbody tr th {\n",
       "        vertical-align: top;\n",
       "    }\n",
       "\n",
       "    .dataframe thead th {\n",
       "        text-align: right;\n",
       "    }\n",
       "</style>\n",
       "<table border=\"1\" class=\"dataframe\">\n",
       "  <thead>\n",
       "    <tr style=\"text-align: right;\">\n",
       "      <th></th>\n",
       "      <th>customerid</th>\n",
       "      <th>begindate</th>\n",
       "      <th>enddate</th>\n",
       "      <th>type</th>\n",
       "      <th>paperlessbilling</th>\n",
       "      <th>paymentmethod</th>\n",
       "      <th>monthlycharges</th>\n",
       "      <th>totalcharges</th>\n",
       "      <th>target</th>\n",
       "      <th>internetservice</th>\n",
       "      <th>onlinesecurity</th>\n",
       "      <th>onlinebackup</th>\n",
       "      <th>deviceprotection</th>\n",
       "      <th>techsupport</th>\n",
       "      <th>streamingtv</th>\n",
       "      <th>streamingmovies</th>\n",
       "      <th>gender</th>\n",
       "      <th>seniorcitizen</th>\n",
       "      <th>partner</th>\n",
       "      <th>dependents</th>\n",
       "      <th>multiplelines</th>\n",
       "    </tr>\n",
       "  </thead>\n",
       "  <tbody>\n",
       "    <tr>\n",
       "      <th>4246</th>\n",
       "      <td>5153-LXKDT</td>\n",
       "      <td>2014-06-01</td>\n",
       "      <td>2020-02-01</td>\n",
       "      <td>Two year</td>\n",
       "      <td>Yes</td>\n",
       "      <td>Electronic check</td>\n",
       "      <td>110.20</td>\n",
       "      <td>7467.50</td>\n",
       "      <td>0</td>\n",
       "      <td>Fiber optic</td>\n",
       "      <td>Yes</td>\n",
       "      <td>Yes</td>\n",
       "      <td>Yes</td>\n",
       "      <td>No</td>\n",
       "      <td>Yes</td>\n",
       "      <td>Yes</td>\n",
       "      <td>Male</td>\n",
       "      <td>0</td>\n",
       "      <td>Yes</td>\n",
       "      <td>Yes</td>\n",
       "      <td>Yes</td>\n",
       "    </tr>\n",
       "    <tr>\n",
       "      <th>5484</th>\n",
       "      <td>4419-UJMUS</td>\n",
       "      <td>2014-05-01</td>\n",
       "      <td>2020-02-01</td>\n",
       "      <td>Two year</td>\n",
       "      <td>Yes</td>\n",
       "      <td>Electronic check</td>\n",
       "      <td>99.35</td>\n",
       "      <td>6856.45</td>\n",
       "      <td>0</td>\n",
       "      <td>Fiber optic</td>\n",
       "      <td>No</td>\n",
       "      <td>No</td>\n",
       "      <td>No</td>\n",
       "      <td>Yes</td>\n",
       "      <td>Yes</td>\n",
       "      <td>Yes</td>\n",
       "      <td>Male</td>\n",
       "      <td>0</td>\n",
       "      <td>Yes</td>\n",
       "      <td>Yes</td>\n",
       "      <td>Yes</td>\n",
       "    </tr>\n",
       "    <tr>\n",
       "      <th>4705</th>\n",
       "      <td>5760-FXFVO</td>\n",
       "      <td>2019-08-01</td>\n",
       "      <td>2020-02-01</td>\n",
       "      <td>Month-to-month</td>\n",
       "      <td>Yes</td>\n",
       "      <td>Electronic check</td>\n",
       "      <td>78.95</td>\n",
       "      <td>494.95</td>\n",
       "      <td>0</td>\n",
       "      <td>Fiber optic</td>\n",
       "      <td>Yes</td>\n",
       "      <td>Yes</td>\n",
       "      <td>No</td>\n",
       "      <td>No</td>\n",
       "      <td>No</td>\n",
       "      <td>No</td>\n",
       "      <td>Male</td>\n",
       "      <td>0</td>\n",
       "      <td>No</td>\n",
       "      <td>No</td>\n",
       "      <td>No</td>\n",
       "    </tr>\n",
       "    <tr>\n",
       "      <th>312</th>\n",
       "      <td>1557-EMYVT</td>\n",
       "      <td>2016-07-01</td>\n",
       "      <td>2020-02-01</td>\n",
       "      <td>Two year</td>\n",
       "      <td>No</td>\n",
       "      <td>Credit card (automatic)</td>\n",
       "      <td>115.05</td>\n",
       "      <td>4895.10</td>\n",
       "      <td>0</td>\n",
       "      <td>Fiber optic</td>\n",
       "      <td>Yes</td>\n",
       "      <td>Yes</td>\n",
       "      <td>Yes</td>\n",
       "      <td>Yes</td>\n",
       "      <td>Yes</td>\n",
       "      <td>Yes</td>\n",
       "      <td>Female</td>\n",
       "      <td>0</td>\n",
       "      <td>No</td>\n",
       "      <td>No</td>\n",
       "      <td>Yes</td>\n",
       "    </tr>\n",
       "    <tr>\n",
       "      <th>2537</th>\n",
       "      <td>8670-ERCJH</td>\n",
       "      <td>2014-02-01</td>\n",
       "      <td>2020-02-01</td>\n",
       "      <td>Two year</td>\n",
       "      <td>No</td>\n",
       "      <td>Bank transfer (automatic)</td>\n",
       "      <td>113.40</td>\n",
       "      <td>8164.10</td>\n",
       "      <td>0</td>\n",
       "      <td>Fiber optic</td>\n",
       "      <td>Yes</td>\n",
       "      <td>Yes</td>\n",
       "      <td>Yes</td>\n",
       "      <td>Yes</td>\n",
       "      <td>Yes</td>\n",
       "      <td>Yes</td>\n",
       "      <td>Male</td>\n",
       "      <td>0</td>\n",
       "      <td>No</td>\n",
       "      <td>No</td>\n",
       "      <td>Yes</td>\n",
       "    </tr>\n",
       "  </tbody>\n",
       "</table>\n",
       "</div>"
      ],
      "text/plain": [
       "      customerid  begindate    enddate            type paperlessbilling  \\\n",
       "4246  5153-LXKDT 2014-06-01 2020-02-01        Two year              Yes   \n",
       "5484  4419-UJMUS 2014-05-01 2020-02-01        Two year              Yes   \n",
       "4705  5760-FXFVO 2019-08-01 2020-02-01  Month-to-month              Yes   \n",
       "312   1557-EMYVT 2016-07-01 2020-02-01        Two year               No   \n",
       "2537  8670-ERCJH 2014-02-01 2020-02-01        Two year               No   \n",
       "\n",
       "                  paymentmethod  monthlycharges  totalcharges  target  \\\n",
       "4246           Electronic check          110.20       7467.50       0   \n",
       "5484           Electronic check           99.35       6856.45       0   \n",
       "4705           Electronic check           78.95        494.95       0   \n",
       "312     Credit card (automatic)          115.05       4895.10       0   \n",
       "2537  Bank transfer (automatic)          113.40       8164.10       0   \n",
       "\n",
       "     internetservice onlinesecurity onlinebackup deviceprotection techsupport  \\\n",
       "4246     Fiber optic            Yes          Yes              Yes          No   \n",
       "5484     Fiber optic             No           No               No         Yes   \n",
       "4705     Fiber optic            Yes          Yes               No          No   \n",
       "312      Fiber optic            Yes          Yes              Yes         Yes   \n",
       "2537     Fiber optic            Yes          Yes              Yes         Yes   \n",
       "\n",
       "     streamingtv streamingmovies  gender  seniorcitizen partner dependents  \\\n",
       "4246         Yes             Yes    Male              0     Yes        Yes   \n",
       "5484         Yes             Yes    Male              0     Yes        Yes   \n",
       "4705          No              No    Male              0      No         No   \n",
       "312          Yes             Yes  Female              0      No         No   \n",
       "2537         Yes             Yes    Male              0      No         No   \n",
       "\n",
       "     multiplelines  \n",
       "4246           Yes  \n",
       "5484           Yes  \n",
       "4705            No  \n",
       "312            Yes  \n",
       "2537           Yes  "
      ]
     },
     "execution_count": 29,
     "metadata": {},
     "output_type": "execute_result"
    }
   ],
   "source": [
    "df.sample(5)"
   ]
  },
  {
   "cell_type": "markdown",
   "id": "27db5641",
   "metadata": {},
   "source": [
    "Признак seniorcitizen все-таки является категориальным, поэтому заменим на тип данных object."
   ]
  },
  {
   "cell_type": "code",
   "execution_count": 30,
   "id": "00119a33",
   "metadata": {},
   "outputs": [],
   "source": [
    "df['seniorcitizen'] = df['seniorcitizen'].astype('object')"
   ]
  },
  {
   "cell_type": "code",
   "execution_count": 31,
   "id": "44abd5ad",
   "metadata": {},
   "outputs": [],
   "source": [
    "# добавим признак duration - длительность контракта в днях\n",
    "df['duration'] = (df['enddate'] - df['begindate']).astype('timedelta64[D]')\n",
    "df['duration'] = df['duration'].astype('int64')"
   ]
  },
  {
   "cell_type": "markdown",
   "id": "cb42c4bb",
   "metadata": {},
   "source": [
    "### Обработка пропусков в новом датасете\n",
    "У нас есть пропуски, т.к. таблицы были разнородные, с различным количеством строк. "
   ]
  },
  {
   "cell_type": "code",
   "execution_count": 32,
   "id": "b7aa90f5",
   "metadata": {},
   "outputs": [
    {
     "data": {
      "text/html": [
       "<div>\n",
       "<style scoped>\n",
       "    .dataframe tbody tr th:only-of-type {\n",
       "        vertical-align: middle;\n",
       "    }\n",
       "\n",
       "    .dataframe tbody tr th {\n",
       "        vertical-align: top;\n",
       "    }\n",
       "\n",
       "    .dataframe thead th {\n",
       "        text-align: right;\n",
       "    }\n",
       "</style>\n",
       "<table border=\"1\" class=\"dataframe\">\n",
       "  <thead>\n",
       "    <tr style=\"text-align: right;\">\n",
       "      <th></th>\n",
       "      <th>Nan</th>\n",
       "    </tr>\n",
       "  </thead>\n",
       "  <tbody>\n",
       "    <tr>\n",
       "      <th>onlinebackup</th>\n",
       "      <td>0.216669</td>\n",
       "    </tr>\n",
       "    <tr>\n",
       "      <th>deviceprotection</th>\n",
       "      <td>0.216669</td>\n",
       "    </tr>\n",
       "    <tr>\n",
       "      <th>streamingmovies</th>\n",
       "      <td>0.216669</td>\n",
       "    </tr>\n",
       "    <tr>\n",
       "      <th>streamingtv</th>\n",
       "      <td>0.216669</td>\n",
       "    </tr>\n",
       "    <tr>\n",
       "      <th>internetservice</th>\n",
       "      <td>0.216669</td>\n",
       "    </tr>\n",
       "    <tr>\n",
       "      <th>onlinesecurity</th>\n",
       "      <td>0.216669</td>\n",
       "    </tr>\n",
       "    <tr>\n",
       "      <th>techsupport</th>\n",
       "      <td>0.216669</td>\n",
       "    </tr>\n",
       "    <tr>\n",
       "      <th>multiplelines</th>\n",
       "      <td>0.096834</td>\n",
       "    </tr>\n",
       "  </tbody>\n",
       "</table>\n",
       "</div>"
      ],
      "text/plain": [
       "                       Nan\n",
       "onlinebackup      0.216669\n",
       "deviceprotection  0.216669\n",
       "streamingmovies   0.216669\n",
       "streamingtv       0.216669\n",
       "internetservice   0.216669\n",
       "onlinesecurity    0.216669\n",
       "techsupport       0.216669\n",
       "multiplelines     0.096834"
      ]
     },
     "execution_count": 32,
     "metadata": {},
     "output_type": "execute_result"
    }
   ],
   "source": [
    "df.isna().mean().sort_values(ascending=False).to_frame('Nan').query('Nan > 0')"
   ]
  },
  {
   "cell_type": "markdown",
   "id": "16597e97",
   "metadata": {},
   "source": [
    "Отсутствие записи равно отсутсвие услуги, соответственнно пропуски мы сможем заменить на значения No."
   ]
  },
  {
   "cell_type": "code",
   "execution_count": 33,
   "id": "70d981a7",
   "metadata": {},
   "outputs": [],
   "source": [
    "# создадим список с колонками, где есть пропуски\n",
    "cols = ['onlinesecurity', 'techsupport', 'internetservice', 'onlinebackup', \n",
    "        'deviceprotection', 'streamingmovies', 'streamingtv', 'multiplelines']\n",
    "# заменим пропуски на No\n",
    "df[cols] = df[cols].fillna('No')"
   ]
  },
  {
   "cell_type": "code",
   "execution_count": 34,
   "id": "8ec23c08",
   "metadata": {},
   "outputs": [
    {
     "name": "stdout",
     "output_type": "stream",
     "text": [
      "<class 'pandas.core.frame.DataFrame'>\n",
      "RangeIndex: 7043 entries, 0 to 7042\n",
      "Data columns (total 22 columns):\n",
      " #   Column            Non-Null Count  Dtype         \n",
      "---  ------            --------------  -----         \n",
      " 0   customerid        7043 non-null   object        \n",
      " 1   begindate         7043 non-null   datetime64[ns]\n",
      " 2   enddate           7043 non-null   datetime64[ns]\n",
      " 3   type              7043 non-null   object        \n",
      " 4   paperlessbilling  7043 non-null   object        \n",
      " 5   paymentmethod     7043 non-null   object        \n",
      " 6   monthlycharges    7043 non-null   float64       \n",
      " 7   totalcharges      7043 non-null   float64       \n",
      " 8   target            7043 non-null   int64         \n",
      " 9   internetservice   7043 non-null   object        \n",
      " 10  onlinesecurity    7043 non-null   object        \n",
      " 11  onlinebackup      7043 non-null   object        \n",
      " 12  deviceprotection  7043 non-null   object        \n",
      " 13  techsupport       7043 non-null   object        \n",
      " 14  streamingtv       7043 non-null   object        \n",
      " 15  streamingmovies   7043 non-null   object        \n",
      " 16  gender            7043 non-null   object        \n",
      " 17  seniorcitizen     7043 non-null   object        \n",
      " 18  partner           7043 non-null   object        \n",
      " 19  dependents        7043 non-null   object        \n",
      " 20  multiplelines     7043 non-null   object        \n",
      " 21  duration          7043 non-null   int64         \n",
      "dtypes: datetime64[ns](2), float64(2), int64(2), object(16)\n",
      "memory usage: 1.2+ MB\n"
     ]
    }
   ],
   "source": [
    "df.info()"
   ]
  },
  {
   "cell_type": "markdown",
   "id": "e2876a60",
   "metadata": {},
   "source": [
    "Для обучения нам не потребуется признак customerid, удалим его. Так же удалим признаки begindate и enddate, чтобы не получить утечки данных при обучении, т.к. у нас есть признак duration."
   ]
  },
  {
   "cell_type": "code",
   "execution_count": 35,
   "id": "c5919bbc",
   "metadata": {},
   "outputs": [],
   "source": [
    "df.drop(['customerid', 'begindate', 'enddate'], inplace=True, axis=1)"
   ]
  },
  {
   "cell_type": "markdown",
   "id": "88d2445c",
   "metadata": {},
   "source": [
    "### Дополнительный анализ данных после объединения таблиц"
   ]
  },
  {
   "cell_type": "markdown",
   "id": "d4ed2f00",
   "metadata": {},
   "source": [
    "Проверим какие платежи совершали клиенты, которые уходили. Для этого введем еще один признак (потом его удалим), который разобъет наших клиентов на несколько подгрупп исходя из их счетов."
   ]
  },
  {
   "cell_type": "code",
   "execution_count": 36,
   "id": "fe48ecbe",
   "metadata": {},
   "outputs": [],
   "source": [
    "df['charges_group'] = pd.cut(df['monthlycharges'],\n",
    "                               bins=[0., 20., 40., 60., 80., np.inf])"
   ]
  },
  {
   "cell_type": "code",
   "execution_count": 37,
   "id": "fbab4c39",
   "metadata": {},
   "outputs": [],
   "source": [
    "# напишем функцию для меньшего написания кода в дальнейшем\n",
    "# получим таблицу, где будет кол-во ушедших клиентов, всего клиентов и доля ушедших\n",
    "def result_table(data, column):\n",
    "    table = (data.groupby(column)['target'].agg(['sum', 'count'])\n",
    "    .assign(share = lambda x: x['sum'] / x['count'])\n",
    "    ).sort_values(by='share', ascending=False).style.background_gradient(low=0.1, cmap='YlOrRd')\n",
    "    return table"
   ]
  },
  {
   "cell_type": "code",
   "execution_count": 38,
   "id": "2151254d",
   "metadata": {},
   "outputs": [
    {
     "data": {
      "text/html": [
       "<style  type=\"text/css\" >\n",
       "#T_6e104_row0_col0,#T_6e104_row0_col1,#T_6e104_row0_col2{\n",
       "            background-color:  #800026;\n",
       "            color:  #f1f1f1;\n",
       "        }#T_6e104_row1_col0{\n",
       "            background-color:  #fd7a37;\n",
       "            color:  #000000;\n",
       "        }#T_6e104_row1_col1{\n",
       "            background-color:  #fd9a42;\n",
       "            color:  #000000;\n",
       "        }#T_6e104_row1_col2{\n",
       "            background-color:  #9b0026;\n",
       "            color:  #f1f1f1;\n",
       "        }#T_6e104_row2_col0{\n",
       "            background-color:  #fec15d;\n",
       "            color:  #000000;\n",
       "        }#T_6e104_row2_col1{\n",
       "            background-color:  #fecf6b;\n",
       "            color:  #000000;\n",
       "        }#T_6e104_row2_col2{\n",
       "            background-color:  #ee3122;\n",
       "            color:  #f1f1f1;\n",
       "        }#T_6e104_row3_col0{\n",
       "            background-color:  #fee288;\n",
       "            color:  #000000;\n",
       "        }#T_6e104_row3_col1{\n",
       "            background-color:  #fec05b;\n",
       "            color:  #000000;\n",
       "        }#T_6e104_row3_col2{\n",
       "            background-color:  #fed977;\n",
       "            color:  #000000;\n",
       "        }#T_6e104_row4_col0,#T_6e104_row4_col1,#T_6e104_row4_col2{\n",
       "            background-color:  #fff2ac;\n",
       "            color:  #000000;\n",
       "        }</style><table id=\"T_6e104_\" ><thead>    <tr>        <th class=\"blank level0\" ></th>        <th class=\"col_heading level0 col0\" >sum</th>        <th class=\"col_heading level0 col1\" >count</th>        <th class=\"col_heading level0 col2\" >share</th>    </tr>    <tr>        <th class=\"index_name level0\" >charges_group</th>        <th class=\"blank\" ></th>        <th class=\"blank\" ></th>        <th class=\"blank\" ></th>    </tr></thead><tbody>\n",
       "                <tr>\n",
       "                        <th id=\"T_6e104_level0_row0\" class=\"row_heading level0 row0\" >(80.0, inf]</th>\n",
       "                        <td id=\"T_6e104_row0_col0\" class=\"data row0 col0\" >906</td>\n",
       "                        <td id=\"T_6e104_row0_col1\" class=\"data row0 col1\" >2666</td>\n",
       "                        <td id=\"T_6e104_row0_col2\" class=\"data row0 col2\" >0.339835</td>\n",
       "            </tr>\n",
       "            <tr>\n",
       "                        <th id=\"T_6e104_level0_row1\" class=\"row_heading level0 row1\" >(60.0, 80.0]</th>\n",
       "                        <td id=\"T_6e104_row1_col0\" class=\"data row1 col0\" >473</td>\n",
       "                        <td id=\"T_6e104_row1_col1\" class=\"data row1 col1\" >1459</td>\n",
       "                        <td id=\"T_6e104_row1_col2\" class=\"data row1 col2\" >0.324195</td>\n",
       "            </tr>\n",
       "            <tr>\n",
       "                        <th id=\"T_6e104_level0_row2\" class=\"row_heading level0 row2\" >(40.0, 60.0]</th>\n",
       "                        <td id=\"T_6e104_row2_col0\" class=\"data row2 col0\" >276</td>\n",
       "                        <td id=\"T_6e104_row2_col1\" class=\"data row2 col1\" >1080</td>\n",
       "                        <td id=\"T_6e104_row2_col2\" class=\"data row2 col2\" >0.255556</td>\n",
       "            </tr>\n",
       "            <tr>\n",
       "                        <th id=\"T_6e104_level0_row3\" class=\"row_heading level0 row3\" >(20.0, 40.0]</th>\n",
       "                        <td id=\"T_6e104_row3_col0\" class=\"data row3 col0\" >156</td>\n",
       "                        <td id=\"T_6e104_row3_col1\" class=\"data row3 col1\" >1182</td>\n",
       "                        <td id=\"T_6e104_row3_col2\" class=\"data row3 col2\" >0.131980</td>\n",
       "            </tr>\n",
       "            <tr>\n",
       "                        <th id=\"T_6e104_level0_row4\" class=\"row_heading level0 row4\" >(0.0, 20.0]</th>\n",
       "                        <td id=\"T_6e104_row4_col0\" class=\"data row4 col0\" >58</td>\n",
       "                        <td id=\"T_6e104_row4_col1\" class=\"data row4 col1\" >656</td>\n",
       "                        <td id=\"T_6e104_row4_col2\" class=\"data row4 col2\" >0.088415</td>\n",
       "            </tr>\n",
       "    </tbody></table>"
      ],
      "text/plain": [
       "<pandas.io.formats.style.Styler at 0x7f096839c4c0>"
      ]
     },
     "execution_count": 38,
     "metadata": {},
     "output_type": "execute_result"
    }
   ],
   "source": [
    "result_table(df, 'charges_group')"
   ]
  },
  {
   "cell_type": "code",
   "execution_count": 39,
   "id": "6668b2ee",
   "metadata": {},
   "outputs": [],
   "source": [
    "df.drop(['charges_group'], inplace=True, axis=1)"
   ]
  },
  {
   "cell_type": "markdown",
   "id": "c4f02354",
   "metadata": {},
   "source": [
    "Чем больше пользователи платят в месяц - тем выше вероятность ухода, иными словами - уходят наиболее прибыльные клиенты по неизвестной причине"
   ]
  },
  {
   "cell_type": "code",
   "execution_count": 40,
   "id": "f94cfda3",
   "metadata": {},
   "outputs": [
    {
     "data": {
      "text/plain": [
       "target\n",
       "0    61.265124\n",
       "1    74.441332\n",
       "Name: monthlycharges, dtype: float64"
      ]
     },
     "execution_count": 40,
     "metadata": {},
     "output_type": "execute_result"
    }
   ],
   "source": [
    "# выведем средние ежемесячные платежи по клиентам\n",
    "df.groupby('target')['monthlycharges'].agg('mean')"
   ]
  },
  {
   "cell_type": "markdown",
   "id": "c5d47987",
   "metadata": {},
   "source": [
    "Сформулируем Гипотезы о равенстве средних двух генеральных совокупностей.\n",
    "\n",
    "**H0 (нулевая гипотеза)**: Средние ежемесячные платежи ушедших и оставшихся клиентов равны.\n",
    "\n",
    "**H1 (альтернативная гипотеза)**: Средние ежемесячные платежи ушедших и оставшихся клиентов не равны."
   ]
  },
  {
   "cell_type": "code",
   "execution_count": 41,
   "id": "a4aaa941",
   "metadata": {},
   "outputs": [
    {
     "name": "stdout",
     "output_type": "stream",
     "text": [
      "Отвергаем Н0, дисперсии различаются\n",
      "p-value: 1.0261244899421871e-78\n",
      "Дисперсии по выборкам:  [608.4141833954307, 966.7527670734264]\n"
     ]
    }
   ],
   "source": [
    "df_deflux = df.query('target == 1')\n",
    "df_not_deflux = df.query('target == 0')\n",
    "\n",
    "sample_1 = df_deflux['monthlycharges'][df_deflux['monthlycharges'].notna()].tolist()\n",
    "sample_2 = df_not_deflux['monthlycharges'][df_not_deflux['monthlycharges'].notna()].tolist()\n",
    "alpha = .05\n",
    "_, p = stats.levene(sample_1, sample_2)\n",
    "\n",
    "if p < alpha:\n",
    "    print('Отвергаем Н0, дисперсии различаются')\n",
    "else:\n",
    "    print('Не отвергаем Н0, дисперсии не различаются')\n",
    "print('p-value:', p)\n",
    "print('Дисперсии по выборкам: ', [np.var(x, ddof=1) for x in [sample_1, sample_2]])"
   ]
  },
  {
   "cell_type": "code",
   "execution_count": 42,
   "id": "82365a9c",
   "metadata": {},
   "outputs": [
    {
     "name": "stdout",
     "output_type": "stream",
     "text": [
      "p-value: 3.311627651988585e-54\n",
      "Отвергаем Н0\n"
     ]
    }
   ],
   "source": [
    "alpha = .05 \n",
    "results = stats.mannwhitneyu(sample_1, sample_2, alternative='two-sided')\n",
    "\n",
    "print('p-value:', results.pvalue)\n",
    "\n",
    "if results.pvalue < alpha:\n",
    "    print(\"Отвергаем Н0\")\n",
    "else:\n",
    "    print(\"Не отвергаем Н0\")"
   ]
  },
  {
   "cell_type": "markdown",
   "id": "bacc4521",
   "metadata": {},
   "source": [
    "По результатам проведенных тестов делаем вывод, средние ежемесячные платежи ушедших и оставшихся клиентов не равны.\n",
    "И клиенты, которые уходят получают счета выше."
   ]
  },
  {
   "cell_type": "markdown",
   "id": "396ef4e4",
   "metadata": {},
   "source": [
    "Проверим доли оттока пользователей исходя из категориальных признаков, которые есть в наших данных. Составим портрет клиента, который уходит."
   ]
  },
  {
   "cell_type": "code",
   "execution_count": 43,
   "id": "5355e863",
   "metadata": {},
   "outputs": [
    {
     "data": {
      "text/html": [
       "<style  type=\"text/css\" >\n",
       "#T_2ff1f_row0_col0,#T_2ff1f_row0_col1,#T_2ff1f_row0_col2{\n",
       "            background-color:  #800026;\n",
       "            color:  #f1f1f1;\n",
       "        }#T_2ff1f_row1_col0,#T_2ff1f_row1_col1,#T_2ff1f_row1_col2{\n",
       "            background-color:  #fff2ac;\n",
       "            color:  #000000;\n",
       "        }</style><table id=\"T_2ff1f_\" ><thead>    <tr>        <th class=\"blank level0\" ></th>        <th class=\"col_heading level0 col0\" >sum</th>        <th class=\"col_heading level0 col1\" >count</th>        <th class=\"col_heading level0 col2\" >share</th>    </tr>    <tr>        <th class=\"index_name level0\" >paperlessbilling</th>        <th class=\"blank\" ></th>        <th class=\"blank\" ></th>        <th class=\"blank\" ></th>    </tr></thead><tbody>\n",
       "                <tr>\n",
       "                        <th id=\"T_2ff1f_level0_row0\" class=\"row_heading level0 row0\" >Yes</th>\n",
       "                        <td id=\"T_2ff1f_row0_col0\" class=\"data row0 col0\" >1400</td>\n",
       "                        <td id=\"T_2ff1f_row0_col1\" class=\"data row0 col1\" >4171</td>\n",
       "                        <td id=\"T_2ff1f_row0_col2\" class=\"data row0 col2\" >0.335651</td>\n",
       "            </tr>\n",
       "            <tr>\n",
       "                        <th id=\"T_2ff1f_level0_row1\" class=\"row_heading level0 row1\" >No</th>\n",
       "                        <td id=\"T_2ff1f_row1_col0\" class=\"data row1 col0\" >469</td>\n",
       "                        <td id=\"T_2ff1f_row1_col1\" class=\"data row1 col1\" >2872</td>\n",
       "                        <td id=\"T_2ff1f_row1_col2\" class=\"data row1 col2\" >0.163301</td>\n",
       "            </tr>\n",
       "    </tbody></table>"
      ],
      "text/plain": [
       "<pandas.io.formats.style.Styler at 0x7f08ccd325e0>"
      ]
     },
     "metadata": {},
     "output_type": "display_data"
    },
    {
     "data": {
      "text/html": [
       "<style  type=\"text/css\" >\n",
       "#T_a816e_row0_col0,#T_a816e_row0_col1,#T_a816e_row0_col2{\n",
       "            background-color:  #800026;\n",
       "            color:  #f1f1f1;\n",
       "        }#T_a816e_row1_col0,#T_a816e_row1_col1,#T_a816e_row1_col2{\n",
       "            background-color:  #fff2ac;\n",
       "            color:  #000000;\n",
       "        }</style><table id=\"T_a816e_\" ><thead>    <tr>        <th class=\"blank level0\" ></th>        <th class=\"col_heading level0 col0\" >sum</th>        <th class=\"col_heading level0 col1\" >count</th>        <th class=\"col_heading level0 col2\" >share</th>    </tr>    <tr>        <th class=\"index_name level0\" >partner</th>        <th class=\"blank\" ></th>        <th class=\"blank\" ></th>        <th class=\"blank\" ></th>    </tr></thead><tbody>\n",
       "                <tr>\n",
       "                        <th id=\"T_a816e_level0_row0\" class=\"row_heading level0 row0\" >No</th>\n",
       "                        <td id=\"T_a816e_row0_col0\" class=\"data row0 col0\" >1200</td>\n",
       "                        <td id=\"T_a816e_row0_col1\" class=\"data row0 col1\" >3641</td>\n",
       "                        <td id=\"T_a816e_row0_col2\" class=\"data row0 col2\" >0.329580</td>\n",
       "            </tr>\n",
       "            <tr>\n",
       "                        <th id=\"T_a816e_level0_row1\" class=\"row_heading level0 row1\" >Yes</th>\n",
       "                        <td id=\"T_a816e_row1_col0\" class=\"data row1 col0\" >669</td>\n",
       "                        <td id=\"T_a816e_row1_col1\" class=\"data row1 col1\" >3402</td>\n",
       "                        <td id=\"T_a816e_row1_col2\" class=\"data row1 col2\" >0.196649</td>\n",
       "            </tr>\n",
       "    </tbody></table>"
      ],
      "text/plain": [
       "<pandas.io.formats.style.Styler at 0x7f08ccd2feb0>"
      ]
     },
     "metadata": {},
     "output_type": "display_data"
    },
    {
     "data": {
      "text/html": [
       "<style  type=\"text/css\" >\n",
       "#T_b76dc_row0_col0,#T_b76dc_row0_col1,#T_b76dc_row0_col2{\n",
       "            background-color:  #800026;\n",
       "            color:  #f1f1f1;\n",
       "        }#T_b76dc_row1_col0,#T_b76dc_row1_col1,#T_b76dc_row1_col2{\n",
       "            background-color:  #fff2ac;\n",
       "            color:  #000000;\n",
       "        }</style><table id=\"T_b76dc_\" ><thead>    <tr>        <th class=\"blank level0\" ></th>        <th class=\"col_heading level0 col0\" >sum</th>        <th class=\"col_heading level0 col1\" >count</th>        <th class=\"col_heading level0 col2\" >share</th>    </tr>    <tr>        <th class=\"index_name level0\" >onlinebackup</th>        <th class=\"blank\" ></th>        <th class=\"blank\" ></th>        <th class=\"blank\" ></th>    </tr></thead><tbody>\n",
       "                <tr>\n",
       "                        <th id=\"T_b76dc_level0_row0\" class=\"row_heading level0 row0\" >No</th>\n",
       "                        <td id=\"T_b76dc_row0_col0\" class=\"data row0 col0\" >1346</td>\n",
       "                        <td id=\"T_b76dc_row0_col1\" class=\"data row0 col1\" >4614</td>\n",
       "                        <td id=\"T_b76dc_row0_col2\" class=\"data row0 col2\" >0.291721</td>\n",
       "            </tr>\n",
       "            <tr>\n",
       "                        <th id=\"T_b76dc_level0_row1\" class=\"row_heading level0 row1\" >Yes</th>\n",
       "                        <td id=\"T_b76dc_row1_col0\" class=\"data row1 col0\" >523</td>\n",
       "                        <td id=\"T_b76dc_row1_col1\" class=\"data row1 col1\" >2429</td>\n",
       "                        <td id=\"T_b76dc_row1_col2\" class=\"data row1 col2\" >0.215315</td>\n",
       "            </tr>\n",
       "    </tbody></table>"
      ],
      "text/plain": [
       "<pandas.io.formats.style.Styler at 0x7f096839cbe0>"
      ]
     },
     "metadata": {},
     "output_type": "display_data"
    },
    {
     "data": {
      "text/html": [
       "<style  type=\"text/css\" >\n",
       "#T_ed277_row0_col0,#T_ed277_row0_col1,#T_ed277_row0_col2{\n",
       "            background-color:  #800026;\n",
       "            color:  #f1f1f1;\n",
       "        }#T_ed277_row1_col0{\n",
       "            background-color:  #feb852;\n",
       "            color:  #000000;\n",
       "        }#T_ed277_row1_col1{\n",
       "            background-color:  #fc572c;\n",
       "            color:  #000000;\n",
       "        }#T_ed277_row1_col2{\n",
       "            background-color:  #feac49;\n",
       "            color:  #000000;\n",
       "        }#T_ed277_row2_col0,#T_ed277_row2_col1,#T_ed277_row2_col2{\n",
       "            background-color:  #fff2ac;\n",
       "            color:  #000000;\n",
       "        }</style><table id=\"T_ed277_\" ><thead>    <tr>        <th class=\"blank level0\" ></th>        <th class=\"col_heading level0 col0\" >sum</th>        <th class=\"col_heading level0 col1\" >count</th>        <th class=\"col_heading level0 col2\" >share</th>    </tr>    <tr>        <th class=\"index_name level0\" >internetservice</th>        <th class=\"blank\" ></th>        <th class=\"blank\" ></th>        <th class=\"blank\" ></th>    </tr></thead><tbody>\n",
       "                <tr>\n",
       "                        <th id=\"T_ed277_level0_row0\" class=\"row_heading level0 row0\" >Fiber optic</th>\n",
       "                        <td id=\"T_ed277_row0_col0\" class=\"data row0 col0\" >1297</td>\n",
       "                        <td id=\"T_ed277_row0_col1\" class=\"data row0 col1\" >3096</td>\n",
       "                        <td id=\"T_ed277_row0_col2\" class=\"data row0 col2\" >0.418928</td>\n",
       "            </tr>\n",
       "            <tr>\n",
       "                        <th id=\"T_ed277_level0_row1\" class=\"row_heading level0 row1\" >DSL</th>\n",
       "                        <td id=\"T_ed277_row1_col0\" class=\"data row1 col0\" >459</td>\n",
       "                        <td id=\"T_ed277_row1_col1\" class=\"data row1 col1\" >2421</td>\n",
       "                        <td id=\"T_ed277_row1_col2\" class=\"data row1 col2\" >0.189591</td>\n",
       "            </tr>\n",
       "            <tr>\n",
       "                        <th id=\"T_ed277_level0_row2\" class=\"row_heading level0 row2\" >No</th>\n",
       "                        <td id=\"T_ed277_row2_col0\" class=\"data row2 col0\" >113</td>\n",
       "                        <td id=\"T_ed277_row2_col1\" class=\"data row2 col1\" >1526</td>\n",
       "                        <td id=\"T_ed277_row2_col2\" class=\"data row2 col2\" >0.074050</td>\n",
       "            </tr>\n",
       "    </tbody></table>"
      ],
      "text/plain": [
       "<pandas.io.formats.style.Styler at 0x7f08d6efbf40>"
      ]
     },
     "metadata": {},
     "output_type": "display_data"
    },
    {
     "data": {
      "text/html": [
       "<style  type=\"text/css\" >\n",
       "#T_9dc8f_row0_col0,#T_9dc8f_row0_col1,#T_9dc8f_row1_col2{\n",
       "            background-color:  #fff2ac;\n",
       "            color:  #000000;\n",
       "        }#T_9dc8f_row0_col2,#T_9dc8f_row1_col0,#T_9dc8f_row1_col1{\n",
       "            background-color:  #800026;\n",
       "            color:  #f1f1f1;\n",
       "        }</style><table id=\"T_9dc8f_\" ><thead>    <tr>        <th class=\"blank level0\" ></th>        <th class=\"col_heading level0 col0\" >sum</th>        <th class=\"col_heading level0 col1\" >count</th>        <th class=\"col_heading level0 col2\" >share</th>    </tr>    <tr>        <th class=\"index_name level0\" >seniorcitizen</th>        <th class=\"blank\" ></th>        <th class=\"blank\" ></th>        <th class=\"blank\" ></th>    </tr></thead><tbody>\n",
       "                <tr>\n",
       "                        <th id=\"T_9dc8f_level0_row0\" class=\"row_heading level0 row0\" >1</th>\n",
       "                        <td id=\"T_9dc8f_row0_col0\" class=\"data row0 col0\" >476</td>\n",
       "                        <td id=\"T_9dc8f_row0_col1\" class=\"data row0 col1\" >1142</td>\n",
       "                        <td id=\"T_9dc8f_row0_col2\" class=\"data row0 col2\" >0.416813</td>\n",
       "            </tr>\n",
       "            <tr>\n",
       "                        <th id=\"T_9dc8f_level0_row1\" class=\"row_heading level0 row1\" >0</th>\n",
       "                        <td id=\"T_9dc8f_row1_col0\" class=\"data row1 col0\" >1393</td>\n",
       "                        <td id=\"T_9dc8f_row1_col1\" class=\"data row1 col1\" >5901</td>\n",
       "                        <td id=\"T_9dc8f_row1_col2\" class=\"data row1 col2\" >0.236062</td>\n",
       "            </tr>\n",
       "    </tbody></table>"
      ],
      "text/plain": [
       "<pandas.io.formats.style.Styler at 0x7f08ccd32fa0>"
      ]
     },
     "metadata": {},
     "output_type": "display_data"
    },
    {
     "data": {
      "text/html": [
       "<style  type=\"text/css\" >\n",
       "#T_46df2_row0_col0,#T_46df2_row0_col1,#T_46df2_row0_col2{\n",
       "            background-color:  #800026;\n",
       "            color:  #f1f1f1;\n",
       "        }#T_46df2_row1_col0,#T_46df2_row1_col1,#T_46df2_row1_col2{\n",
       "            background-color:  #fff2ac;\n",
       "            color:  #000000;\n",
       "        }</style><table id=\"T_46df2_\" ><thead>    <tr>        <th class=\"blank level0\" ></th>        <th class=\"col_heading level0 col0\" >sum</th>        <th class=\"col_heading level0 col1\" >count</th>        <th class=\"col_heading level0 col2\" >share</th>    </tr>    <tr>        <th class=\"index_name level0\" >deviceprotection</th>        <th class=\"blank\" ></th>        <th class=\"blank\" ></th>        <th class=\"blank\" ></th>    </tr></thead><tbody>\n",
       "                <tr>\n",
       "                        <th id=\"T_46df2_level0_row0\" class=\"row_heading level0 row0\" >No</th>\n",
       "                        <td id=\"T_46df2_row0_col0\" class=\"data row0 col0\" >1324</td>\n",
       "                        <td id=\"T_46df2_row0_col1\" class=\"data row0 col1\" >4621</td>\n",
       "                        <td id=\"T_46df2_row0_col2\" class=\"data row0 col2\" >0.286518</td>\n",
       "            </tr>\n",
       "            <tr>\n",
       "                        <th id=\"T_46df2_level0_row1\" class=\"row_heading level0 row1\" >Yes</th>\n",
       "                        <td id=\"T_46df2_row1_col0\" class=\"data row1 col0\" >545</td>\n",
       "                        <td id=\"T_46df2_row1_col1\" class=\"data row1 col1\" >2422</td>\n",
       "                        <td id=\"T_46df2_row1_col2\" class=\"data row1 col2\" >0.225021</td>\n",
       "            </tr>\n",
       "    </tbody></table>"
      ],
      "text/plain": [
       "<pandas.io.formats.style.Styler at 0x7f08ccc7da90>"
      ]
     },
     "metadata": {},
     "output_type": "display_data"
    },
    {
     "data": {
      "text/html": [
       "<style  type=\"text/css\" >\n",
       "#T_0fd29_row0_col0,#T_0fd29_row0_col1,#T_0fd29_row0_col2{\n",
       "            background-color:  #800026;\n",
       "            color:  #f1f1f1;\n",
       "        }#T_0fd29_row1_col0,#T_0fd29_row1_col1,#T_0fd29_row1_col2{\n",
       "            background-color:  #fff2ac;\n",
       "            color:  #000000;\n",
       "        }</style><table id=\"T_0fd29_\" ><thead>    <tr>        <th class=\"blank level0\" ></th>        <th class=\"col_heading level0 col0\" >sum</th>        <th class=\"col_heading level0 col1\" >count</th>        <th class=\"col_heading level0 col2\" >share</th>    </tr>    <tr>        <th class=\"index_name level0\" >dependents</th>        <th class=\"blank\" ></th>        <th class=\"blank\" ></th>        <th class=\"blank\" ></th>    </tr></thead><tbody>\n",
       "                <tr>\n",
       "                        <th id=\"T_0fd29_level0_row0\" class=\"row_heading level0 row0\" >No</th>\n",
       "                        <td id=\"T_0fd29_row0_col0\" class=\"data row0 col0\" >1543</td>\n",
       "                        <td id=\"T_0fd29_row0_col1\" class=\"data row0 col1\" >4933</td>\n",
       "                        <td id=\"T_0fd29_row0_col2\" class=\"data row0 col2\" >0.312791</td>\n",
       "            </tr>\n",
       "            <tr>\n",
       "                        <th id=\"T_0fd29_level0_row1\" class=\"row_heading level0 row1\" >Yes</th>\n",
       "                        <td id=\"T_0fd29_row1_col0\" class=\"data row1 col0\" >326</td>\n",
       "                        <td id=\"T_0fd29_row1_col1\" class=\"data row1 col1\" >2110</td>\n",
       "                        <td id=\"T_0fd29_row1_col2\" class=\"data row1 col2\" >0.154502</td>\n",
       "            </tr>\n",
       "    </tbody></table>"
      ],
      "text/plain": [
       "<pandas.io.formats.style.Styler at 0x7f08ccd0cdf0>"
      ]
     },
     "metadata": {},
     "output_type": "display_data"
    },
    {
     "data": {
      "text/html": [
       "<style  type=\"text/css\" >\n",
       "#T_66d43_row0_col0,#T_66d43_row0_col2,#T_66d43_row1_col1{\n",
       "            background-color:  #800026;\n",
       "            color:  #f1f1f1;\n",
       "        }#T_66d43_row0_col1,#T_66d43_row1_col0,#T_66d43_row1_col2{\n",
       "            background-color:  #fff2ac;\n",
       "            color:  #000000;\n",
       "        }</style><table id=\"T_66d43_\" ><thead>    <tr>        <th class=\"blank level0\" ></th>        <th class=\"col_heading level0 col0\" >sum</th>        <th class=\"col_heading level0 col1\" >count</th>        <th class=\"col_heading level0 col2\" >share</th>    </tr>    <tr>        <th class=\"index_name level0\" >gender</th>        <th class=\"blank\" ></th>        <th class=\"blank\" ></th>        <th class=\"blank\" ></th>    </tr></thead><tbody>\n",
       "                <tr>\n",
       "                        <th id=\"T_66d43_level0_row0\" class=\"row_heading level0 row0\" >Female</th>\n",
       "                        <td id=\"T_66d43_row0_col0\" class=\"data row0 col0\" >939</td>\n",
       "                        <td id=\"T_66d43_row0_col1\" class=\"data row0 col1\" >3488</td>\n",
       "                        <td id=\"T_66d43_row0_col2\" class=\"data row0 col2\" >0.269209</td>\n",
       "            </tr>\n",
       "            <tr>\n",
       "                        <th id=\"T_66d43_level0_row1\" class=\"row_heading level0 row1\" >Male</th>\n",
       "                        <td id=\"T_66d43_row1_col0\" class=\"data row1 col0\" >930</td>\n",
       "                        <td id=\"T_66d43_row1_col1\" class=\"data row1 col1\" >3555</td>\n",
       "                        <td id=\"T_66d43_row1_col2\" class=\"data row1 col2\" >0.261603</td>\n",
       "            </tr>\n",
       "    </tbody></table>"
      ],
      "text/plain": [
       "<pandas.io.formats.style.Styler at 0x7f08ccd2feb0>"
      ]
     },
     "metadata": {},
     "output_type": "display_data"
    },
    {
     "data": {
      "text/html": [
       "<style  type=\"text/css\" >\n",
       "#T_202cc_row0_col0,#T_202cc_row0_col1,#T_202cc_row0_col2{\n",
       "            background-color:  #800026;\n",
       "            color:  #f1f1f1;\n",
       "        }#T_202cc_row1_col0,#T_202cc_row1_col1,#T_202cc_row1_col2{\n",
       "            background-color:  #fff2ac;\n",
       "            color:  #000000;\n",
       "        }</style><table id=\"T_202cc_\" ><thead>    <tr>        <th class=\"blank level0\" ></th>        <th class=\"col_heading level0 col0\" >sum</th>        <th class=\"col_heading level0 col1\" >count</th>        <th class=\"col_heading level0 col2\" >share</th>    </tr>    <tr>        <th class=\"index_name level0\" >onlinesecurity</th>        <th class=\"blank\" ></th>        <th class=\"blank\" ></th>        <th class=\"blank\" ></th>    </tr></thead><tbody>\n",
       "                <tr>\n",
       "                        <th id=\"T_202cc_level0_row0\" class=\"row_heading level0 row0\" >No</th>\n",
       "                        <td id=\"T_202cc_row0_col0\" class=\"data row0 col0\" >1574</td>\n",
       "                        <td id=\"T_202cc_row0_col1\" class=\"data row0 col1\" >5024</td>\n",
       "                        <td id=\"T_202cc_row0_col2\" class=\"data row0 col2\" >0.313296</td>\n",
       "            </tr>\n",
       "            <tr>\n",
       "                        <th id=\"T_202cc_level0_row1\" class=\"row_heading level0 row1\" >Yes</th>\n",
       "                        <td id=\"T_202cc_row1_col0\" class=\"data row1 col0\" >295</td>\n",
       "                        <td id=\"T_202cc_row1_col1\" class=\"data row1 col1\" >2019</td>\n",
       "                        <td id=\"T_202cc_row1_col2\" class=\"data row1 col2\" >0.146112</td>\n",
       "            </tr>\n",
       "    </tbody></table>"
      ],
      "text/plain": [
       "<pandas.io.formats.style.Styler at 0x7f08d6efbf40>"
      ]
     },
     "metadata": {},
     "output_type": "display_data"
    },
    {
     "data": {
      "text/html": [
       "<style  type=\"text/css\" >\n",
       "#T_9aa97_row0_col0,#T_9aa97_row0_col1,#T_9aa97_row1_col2{\n",
       "            background-color:  #fff2ac;\n",
       "            color:  #000000;\n",
       "        }#T_9aa97_row0_col2,#T_9aa97_row1_col0,#T_9aa97_row1_col1{\n",
       "            background-color:  #800026;\n",
       "            color:  #f1f1f1;\n",
       "        }</style><table id=\"T_9aa97_\" ><thead>    <tr>        <th class=\"blank level0\" ></th>        <th class=\"col_heading level0 col0\" >sum</th>        <th class=\"col_heading level0 col1\" >count</th>        <th class=\"col_heading level0 col2\" >share</th>    </tr>    <tr>        <th class=\"index_name level0\" >streamingtv</th>        <th class=\"blank\" ></th>        <th class=\"blank\" ></th>        <th class=\"blank\" ></th>    </tr></thead><tbody>\n",
       "                <tr>\n",
       "                        <th id=\"T_9aa97_level0_row0\" class=\"row_heading level0 row0\" >Yes</th>\n",
       "                        <td id=\"T_9aa97_row0_col0\" class=\"data row0 col0\" >814</td>\n",
       "                        <td id=\"T_9aa97_row0_col1\" class=\"data row0 col1\" >2707</td>\n",
       "                        <td id=\"T_9aa97_row0_col2\" class=\"data row0 col2\" >0.300702</td>\n",
       "            </tr>\n",
       "            <tr>\n",
       "                        <th id=\"T_9aa97_level0_row1\" class=\"row_heading level0 row1\" >No</th>\n",
       "                        <td id=\"T_9aa97_row1_col0\" class=\"data row1 col0\" >1055</td>\n",
       "                        <td id=\"T_9aa97_row1_col1\" class=\"data row1 col1\" >4336</td>\n",
       "                        <td id=\"T_9aa97_row1_col2\" class=\"data row1 col2\" >0.243312</td>\n",
       "            </tr>\n",
       "    </tbody></table>"
      ],
      "text/plain": [
       "<pandas.io.formats.style.Styler at 0x7f08d72e3a30>"
      ]
     },
     "metadata": {},
     "output_type": "display_data"
    },
    {
     "data": {
      "text/html": [
       "<style  type=\"text/css\" >\n",
       "#T_41d0e_row0_col0,#T_41d0e_row0_col1,#T_41d0e_row1_col2{\n",
       "            background-color:  #fff2ac;\n",
       "            color:  #000000;\n",
       "        }#T_41d0e_row0_col2,#T_41d0e_row1_col0,#T_41d0e_row1_col1{\n",
       "            background-color:  #800026;\n",
       "            color:  #f1f1f1;\n",
       "        }</style><table id=\"T_41d0e_\" ><thead>    <tr>        <th class=\"blank level0\" ></th>        <th class=\"col_heading level0 col0\" >sum</th>        <th class=\"col_heading level0 col1\" >count</th>        <th class=\"col_heading level0 col2\" >share</th>    </tr>    <tr>        <th class=\"index_name level0\" >streamingmovies</th>        <th class=\"blank\" ></th>        <th class=\"blank\" ></th>        <th class=\"blank\" ></th>    </tr></thead><tbody>\n",
       "                <tr>\n",
       "                        <th id=\"T_41d0e_level0_row0\" class=\"row_heading level0 row0\" >Yes</th>\n",
       "                        <td id=\"T_41d0e_row0_col0\" class=\"data row0 col0\" >818</td>\n",
       "                        <td id=\"T_41d0e_row0_col1\" class=\"data row0 col1\" >2732</td>\n",
       "                        <td id=\"T_41d0e_row0_col2\" class=\"data row0 col2\" >0.299414</td>\n",
       "            </tr>\n",
       "            <tr>\n",
       "                        <th id=\"T_41d0e_level0_row1\" class=\"row_heading level0 row1\" >No</th>\n",
       "                        <td id=\"T_41d0e_row1_col0\" class=\"data row1 col0\" >1051</td>\n",
       "                        <td id=\"T_41d0e_row1_col1\" class=\"data row1 col1\" >4311</td>\n",
       "                        <td id=\"T_41d0e_row1_col2\" class=\"data row1 col2\" >0.243795</td>\n",
       "            </tr>\n",
       "    </tbody></table>"
      ],
      "text/plain": [
       "<pandas.io.formats.style.Styler at 0x7f08ccd32910>"
      ]
     },
     "metadata": {},
     "output_type": "display_data"
    },
    {
     "data": {
      "text/html": [
       "<style  type=\"text/css\" >\n",
       "#T_fdadd_row0_col0,#T_fdadd_row0_col1,#T_fdadd_row1_col2{\n",
       "            background-color:  #fff2ac;\n",
       "            color:  #000000;\n",
       "        }#T_fdadd_row0_col2,#T_fdadd_row1_col0,#T_fdadd_row1_col1{\n",
       "            background-color:  #800026;\n",
       "            color:  #f1f1f1;\n",
       "        }</style><table id=\"T_fdadd_\" ><thead>    <tr>        <th class=\"blank level0\" ></th>        <th class=\"col_heading level0 col0\" >sum</th>        <th class=\"col_heading level0 col1\" >count</th>        <th class=\"col_heading level0 col2\" >share</th>    </tr>    <tr>        <th class=\"index_name level0\" >multiplelines</th>        <th class=\"blank\" ></th>        <th class=\"blank\" ></th>        <th class=\"blank\" ></th>    </tr></thead><tbody>\n",
       "                <tr>\n",
       "                        <th id=\"T_fdadd_level0_row0\" class=\"row_heading level0 row0\" >Yes</th>\n",
       "                        <td id=\"T_fdadd_row0_col0\" class=\"data row0 col0\" >850</td>\n",
       "                        <td id=\"T_fdadd_row0_col1\" class=\"data row0 col1\" >2971</td>\n",
       "                        <td id=\"T_fdadd_row0_col2\" class=\"data row0 col2\" >0.286099</td>\n",
       "            </tr>\n",
       "            <tr>\n",
       "                        <th id=\"T_fdadd_level0_row1\" class=\"row_heading level0 row1\" >No</th>\n",
       "                        <td id=\"T_fdadd_row1_col0\" class=\"data row1 col0\" >1019</td>\n",
       "                        <td id=\"T_fdadd_row1_col1\" class=\"data row1 col1\" >4072</td>\n",
       "                        <td id=\"T_fdadd_row1_col2\" class=\"data row1 col2\" >0.250246</td>\n",
       "            </tr>\n",
       "    </tbody></table>"
      ],
      "text/plain": [
       "<pandas.io.formats.style.Styler at 0x7f08ccd293d0>"
      ]
     },
     "metadata": {},
     "output_type": "display_data"
    },
    {
     "data": {
      "text/html": [
       "<style  type=\"text/css\" >\n",
       "#T_17714_row0_col0,#T_17714_row0_col1,#T_17714_row0_col2{\n",
       "            background-color:  #800026;\n",
       "            color:  #f1f1f1;\n",
       "        }#T_17714_row1_col0,#T_17714_row1_col1,#T_17714_row1_col2{\n",
       "            background-color:  #fff2ac;\n",
       "            color:  #000000;\n",
       "        }</style><table id=\"T_17714_\" ><thead>    <tr>        <th class=\"blank level0\" ></th>        <th class=\"col_heading level0 col0\" >sum</th>        <th class=\"col_heading level0 col1\" >count</th>        <th class=\"col_heading level0 col2\" >share</th>    </tr>    <tr>        <th class=\"index_name level0\" >techsupport</th>        <th class=\"blank\" ></th>        <th class=\"blank\" ></th>        <th class=\"blank\" ></th>    </tr></thead><tbody>\n",
       "                <tr>\n",
       "                        <th id=\"T_17714_level0_row0\" class=\"row_heading level0 row0\" >No</th>\n",
       "                        <td id=\"T_17714_row0_col0\" class=\"data row0 col0\" >1559</td>\n",
       "                        <td id=\"T_17714_row0_col1\" class=\"data row0 col1\" >4999</td>\n",
       "                        <td id=\"T_17714_row0_col2\" class=\"data row0 col2\" >0.311862</td>\n",
       "            </tr>\n",
       "            <tr>\n",
       "                        <th id=\"T_17714_level0_row1\" class=\"row_heading level0 row1\" >Yes</th>\n",
       "                        <td id=\"T_17714_row1_col0\" class=\"data row1 col0\" >310</td>\n",
       "                        <td id=\"T_17714_row1_col1\" class=\"data row1 col1\" >2044</td>\n",
       "                        <td id=\"T_17714_row1_col2\" class=\"data row1 col2\" >0.151663</td>\n",
       "            </tr>\n",
       "    </tbody></table>"
      ],
      "text/plain": [
       "<pandas.io.formats.style.Styler at 0x7f08ccd29bb0>"
      ]
     },
     "metadata": {},
     "output_type": "display_data"
    },
    {
     "data": {
      "text/html": [
       "<style  type=\"text/css\" >\n",
       "#T_7f6fe_row0_col0,#T_7f6fe_row0_col1,#T_7f6fe_row0_col2{\n",
       "            background-color:  #800026;\n",
       "            color:  #f1f1f1;\n",
       "        }#T_7f6fe_row1_col0{\n",
       "            background-color:  #ffe590;\n",
       "            color:  #000000;\n",
       "        }#T_7f6fe_row1_col1{\n",
       "            background-color:  #fee38b;\n",
       "            color:  #000000;\n",
       "        }#T_7f6fe_row1_col2{\n",
       "            background-color:  #fee084;\n",
       "            color:  #000000;\n",
       "        }#T_7f6fe_row2_col0{\n",
       "            background-color:  #ffeea3;\n",
       "            color:  #000000;\n",
       "        }#T_7f6fe_row2_col1{\n",
       "            background-color:  #ffefa4;\n",
       "            color:  #000000;\n",
       "        }#T_7f6fe_row2_col2{\n",
       "            background-color:  #ffec9d;\n",
       "            color:  #000000;\n",
       "        }#T_7f6fe_row3_col0,#T_7f6fe_row3_col1,#T_7f6fe_row3_col2{\n",
       "            background-color:  #fff2ac;\n",
       "            color:  #000000;\n",
       "        }</style><table id=\"T_7f6fe_\" ><thead>    <tr>        <th class=\"blank level0\" ></th>        <th class=\"col_heading level0 col0\" >sum</th>        <th class=\"col_heading level0 col1\" >count</th>        <th class=\"col_heading level0 col2\" >share</th>    </tr>    <tr>        <th class=\"index_name level0\" >paymentmethod</th>        <th class=\"blank\" ></th>        <th class=\"blank\" ></th>        <th class=\"blank\" ></th>    </tr></thead><tbody>\n",
       "                <tr>\n",
       "                        <th id=\"T_7f6fe_level0_row0\" class=\"row_heading level0 row0\" >Electronic check</th>\n",
       "                        <td id=\"T_7f6fe_row0_col0\" class=\"data row0 col0\" >1071</td>\n",
       "                        <td id=\"T_7f6fe_row0_col1\" class=\"data row0 col1\" >2365</td>\n",
       "                        <td id=\"T_7f6fe_row0_col2\" class=\"data row0 col2\" >0.452854</td>\n",
       "            </tr>\n",
       "            <tr>\n",
       "                        <th id=\"T_7f6fe_level0_row1\" class=\"row_heading level0 row1\" >Mailed check</th>\n",
       "                        <td id=\"T_7f6fe_row1_col0\" class=\"data row1 col0\" >308</td>\n",
       "                        <td id=\"T_7f6fe_row1_col1\" class=\"data row1 col1\" >1612</td>\n",
       "                        <td id=\"T_7f6fe_row1_col2\" class=\"data row1 col2\" >0.191067</td>\n",
       "            </tr>\n",
       "            <tr>\n",
       "                        <th id=\"T_7f6fe_level0_row2\" class=\"row_heading level0 row2\" >Bank transfer (automatic)</th>\n",
       "                        <td id=\"T_7f6fe_row2_col0\" class=\"data row2 col0\" >258</td>\n",
       "                        <td id=\"T_7f6fe_row2_col1\" class=\"data row2 col1\" >1544</td>\n",
       "                        <td id=\"T_7f6fe_row2_col2\" class=\"data row2 col2\" >0.167098</td>\n",
       "            </tr>\n",
       "            <tr>\n",
       "                        <th id=\"T_7f6fe_level0_row3\" class=\"row_heading level0 row3\" >Credit card (automatic)</th>\n",
       "                        <td id=\"T_7f6fe_row3_col0\" class=\"data row3 col0\" >232</td>\n",
       "                        <td id=\"T_7f6fe_row3_col1\" class=\"data row3 col1\" >1522</td>\n",
       "                        <td id=\"T_7f6fe_row3_col2\" class=\"data row3 col2\" >0.152431</td>\n",
       "            </tr>\n",
       "    </tbody></table>"
      ],
      "text/plain": [
       "<pandas.io.formats.style.Styler at 0x7f08ccd32fa0>"
      ]
     },
     "metadata": {},
     "output_type": "display_data"
    }
   ],
   "source": [
    "object_columns = set(df.select_dtypes(include=['object']).columns) - set(['type', 'target'])\n",
    "for col in object_columns:\n",
    "    display(result_table(df, col))"
   ]
  },
  {
   "cell_type": "markdown",
   "id": "7e9cd211",
   "metadata": {},
   "source": [
    "**Портрет ушедшего клиента:**  \n",
    "- Не имеет иждевенцев  \n",
    "- Холост/не замужем  \n",
    "- Имеет статус пенсионера  \n",
    "- Не пользуется блокировками небезопасных сайтов  \n",
    "- Не имеет выделенной линии поддержки  \n",
    "- Не пользуется облачным хранилищем  \n",
    "- Не использует антивирусное ПО  \n",
    "- Нет разницы по половому признаку  \n",
    "- Пользуется интренет-соединением типа оптоволокно  \n",
    "- Пользуется электронными чеками"
   ]
  },
  {
   "cell_type": "markdown",
   "id": "eb83a9d3",
   "metadata": {},
   "source": [
    "### Проверка на мультиколлинеарность\n",
    "\n",
    "Проверим мультиколлинеарность между нашими численными данными. Если значение будет превышать 0.8 избавимся от признаков, чтобы улучшить обобщение. Воспользуемся Корреляцией Пирсона. Также проверим взаимную информацию категориальных признаков."
   ]
  },
  {
   "cell_type": "code",
   "execution_count": 44,
   "id": "ee03e4ad",
   "metadata": {},
   "outputs": [
    {
     "data": {
      "text/html": [
       "<style  type=\"text/css\" >\n",
       "#T_0fd1a_row0_col0,#T_0fd1a_row1_col1,#T_0fd1a_row2_col2{\n",
       "            background-color:  #800026;\n",
       "            color:  #f1f1f1;\n",
       "        }#T_0fd1a_row0_col1,#T_0fd1a_row0_col2,#T_0fd1a_row2_col0{\n",
       "            background-color:  #fff2ac;\n",
       "            color:  #000000;\n",
       "        }#T_0fd1a_row1_col0{\n",
       "            background-color:  #fc6430;\n",
       "            color:  #000000;\n",
       "        }#T_0fd1a_row1_col2{\n",
       "            background-color:  #d6111f;\n",
       "            color:  #f1f1f1;\n",
       "        }#T_0fd1a_row2_col1{\n",
       "            background-color:  #fd7636;\n",
       "            color:  #000000;\n",
       "        }</style><table id=\"T_0fd1a_\" ><thead>    <tr>        <th class=\"blank level0\" ></th>        <th class=\"col_heading level0 col0\" >monthlycharges</th>        <th class=\"col_heading level0 col1\" >totalcharges</th>        <th class=\"col_heading level0 col2\" >duration</th>    </tr></thead><tbody>\n",
       "                <tr>\n",
       "                        <th id=\"T_0fd1a_level0_row0\" class=\"row_heading level0 row0\" >monthlycharges</th>\n",
       "                        <td id=\"T_0fd1a_row0_col0\" class=\"data row0 col0\" >1.000000</td>\n",
       "                        <td id=\"T_0fd1a_row0_col1\" class=\"data row0 col1\" >0.651174</td>\n",
       "                        <td id=\"T_0fd1a_row0_col2\" class=\"data row0 col2\" >0.247754</td>\n",
       "            </tr>\n",
       "            <tr>\n",
       "                        <th id=\"T_0fd1a_level0_row1\" class=\"row_heading level0 row1\" >totalcharges</th>\n",
       "                        <td id=\"T_0fd1a_row1_col0\" class=\"data row1 col0\" >0.651174</td>\n",
       "                        <td id=\"T_0fd1a_row1_col1\" class=\"data row1 col1\" >1.000000</td>\n",
       "                        <td id=\"T_0fd1a_row1_col2\" class=\"data row1 col2\" >0.826109</td>\n",
       "            </tr>\n",
       "            <tr>\n",
       "                        <th id=\"T_0fd1a_level0_row2\" class=\"row_heading level0 row2\" >duration</th>\n",
       "                        <td id=\"T_0fd1a_row2_col0\" class=\"data row2 col0\" >0.247754</td>\n",
       "                        <td id=\"T_0fd1a_row2_col1\" class=\"data row2 col1\" >0.826109</td>\n",
       "                        <td id=\"T_0fd1a_row2_col2\" class=\"data row2 col2\" >1.000000</td>\n",
       "            </tr>\n",
       "    </tbody></table>"
      ],
      "text/plain": [
       "<pandas.io.formats.style.Styler at 0x7f08ccce44c0>"
      ]
     },
     "execution_count": 44,
     "metadata": {},
     "output_type": "execute_result"
    }
   ],
   "source": [
    "df[['monthlycharges', 'totalcharges', 'duration']].corr().style.background_gradient(low=0.1, cmap='YlOrRd')"
   ]
  },
  {
   "cell_type": "markdown",
   "id": "202afc9a",
   "metadata": {},
   "source": [
    "Сильная корреляция наблюдается по двум признакам duration и totalcharges, удалим totalcharges."
   ]
  },
  {
   "cell_type": "code",
   "execution_count": 45,
   "id": "d5ab203b",
   "metadata": {},
   "outputs": [],
   "source": [
    "df.drop(['totalcharges'], inplace=True, axis=1)"
   ]
  },
  {
   "cell_type": "markdown",
   "id": "58e1d33b",
   "metadata": {},
   "source": [
    "Переведем наши категориальные признаки к целочисленным с помощью кодирования."
   ]
  },
  {
   "cell_type": "code",
   "execution_count": 46,
   "id": "8a5b2f45",
   "metadata": {
    "scrolled": true
   },
   "outputs": [],
   "source": [
    "# создадим копию\n",
    "X = df.copy()\n",
    "y = X.pop('target')\n",
    "# проведем преобразование\n",
    "for col in list(X.select_dtypes(include=['object', 'category']).columns):\n",
    "    X[col], _ = X[col].factorize()"
   ]
  },
  {
   "cell_type": "code",
   "execution_count": 47,
   "id": "83b90c1d",
   "metadata": {},
   "outputs": [
    {
     "data": {
      "text/html": [
       "<style  type=\"text/css\" >\n",
       "#T_f1f6c_row0_col0{\n",
       "            background-color:  #800026;\n",
       "            color:  #f1f1f1;\n",
       "        }#T_f1f6c_row1_col0{\n",
       "            background-color:  #feb651;\n",
       "            color:  #000000;\n",
       "        }#T_f1f6c_row2_col0{\n",
       "            background-color:  #feda78;\n",
       "            color:  #000000;\n",
       "        }#T_f1f6c_row3_col0{\n",
       "            background-color:  #fedc7c;\n",
       "            color:  #000000;\n",
       "        }#T_f1f6c_row4_col0{\n",
       "            background-color:  #fedd7e;\n",
       "            color:  #000000;\n",
       "        }#T_f1f6c_row5_col0{\n",
       "            background-color:  #ffe590;\n",
       "            color:  #000000;\n",
       "        }#T_f1f6c_row6_col0,#T_f1f6c_row7_col0{\n",
       "            background-color:  #ffea99;\n",
       "            color:  #000000;\n",
       "        }#T_f1f6c_row8_col0{\n",
       "            background-color:  #ffeda1;\n",
       "            color:  #000000;\n",
       "        }#T_f1f6c_row9_col0{\n",
       "            background-color:  #ffeea3;\n",
       "            color:  #000000;\n",
       "        }#T_f1f6c_row10_col0{\n",
       "            background-color:  #ffefa4;\n",
       "            color:  #000000;\n",
       "        }#T_f1f6c_row11_col0{\n",
       "            background-color:  #ffefa5;\n",
       "            color:  #000000;\n",
       "        }#T_f1f6c_row12_col0{\n",
       "            background-color:  #fff0a7;\n",
       "            color:  #000000;\n",
       "        }#T_f1f6c_row13_col0,#T_f1f6c_row14_col0{\n",
       "            background-color:  #fff1a9;\n",
       "            color:  #000000;\n",
       "        }#T_f1f6c_row15_col0{\n",
       "            background-color:  #fff1ab;\n",
       "            color:  #000000;\n",
       "        }#T_f1f6c_row16_col0{\n",
       "            background-color:  #fff2ac;\n",
       "            color:  #000000;\n",
       "        }</style><table id=\"T_f1f6c_\" ><thead>    <tr>        <th class=\"blank level0\" ></th>        <th class=\"col_heading level0 col0\" >scores</th>    </tr></thead><tbody>\n",
       "                <tr>\n",
       "                        <th id=\"T_f1f6c_level0_row0\" class=\"row_heading level0 row0\" >duration</th>\n",
       "                        <td id=\"T_f1f6c_row0_col0\" class=\"data row0 col0\" >0.323944</td>\n",
       "            </tr>\n",
       "            <tr>\n",
       "                        <th id=\"T_f1f6c_level0_row1\" class=\"row_heading level0 row1\" >type</th>\n",
       "                        <td id=\"T_f1f6c_row1_col0\" class=\"data row1 col0\" >0.096535</td>\n",
       "            </tr>\n",
       "            <tr>\n",
       "                        <th id=\"T_f1f6c_level0_row2\" class=\"row_heading level0 row2\" >internetservice</th>\n",
       "                        <td id=\"T_f1f6c_row2_col0\" class=\"data row2 col0\" >0.054604</td>\n",
       "            </tr>\n",
       "            <tr>\n",
       "                        <th id=\"T_f1f6c_level0_row3\" class=\"row_heading level0 row3\" >monthlycharges</th>\n",
       "                        <td id=\"T_f1f6c_row3_col0\" class=\"data row3 col0\" >0.050183</td>\n",
       "            </tr>\n",
       "            <tr>\n",
       "                        <th id=\"T_f1f6c_level0_row4\" class=\"row_heading level0 row4\" >paymentmethod</th>\n",
       "                        <td id=\"T_f1f6c_row4_col0\" class=\"data row4 col0\" >0.049559</td>\n",
       "            </tr>\n",
       "            <tr>\n",
       "                        <th id=\"T_f1f6c_level0_row5\" class=\"row_heading level0 row5\" >paperlessbilling</th>\n",
       "                        <td id=\"T_f1f6c_row5_col0\" class=\"data row5 col0\" >0.030015</td>\n",
       "            </tr>\n",
       "            <tr>\n",
       "                        <th id=\"T_f1f6c_level0_row6\" class=\"row_heading level0 row6\" >dependents</th>\n",
       "                        <td id=\"T_f1f6c_row6_col0\" class=\"data row6 col0\" >0.020263</td>\n",
       "            </tr>\n",
       "            <tr>\n",
       "                        <th id=\"T_f1f6c_level0_row7\" class=\"row_heading level0 row7\" >onlinesecurity</th>\n",
       "                        <td id=\"T_f1f6c_row7_col0\" class=\"data row7 col0\" >0.019517</td>\n",
       "            </tr>\n",
       "            <tr>\n",
       "                        <th id=\"T_f1f6c_level0_row8\" class=\"row_heading level0 row8\" >partner</th>\n",
       "                        <td id=\"T_f1f6c_row8_col0\" class=\"data row8 col0\" >0.011267</td>\n",
       "            </tr>\n",
       "            <tr>\n",
       "                        <th id=\"T_f1f6c_level0_row9\" class=\"row_heading level0 row9\" >seniorcitizen</th>\n",
       "                        <td id=\"T_f1f6c_row9_col0\" class=\"data row9 col0\" >0.010109</td>\n",
       "            </tr>\n",
       "            <tr>\n",
       "                        <th id=\"T_f1f6c_level0_row10\" class=\"row_heading level0 row10\" >onlinebackup</th>\n",
       "                        <td id=\"T_f1f6c_row10_col0\" class=\"data row10 col0\" >0.008152</td>\n",
       "            </tr>\n",
       "            <tr>\n",
       "                        <th id=\"T_f1f6c_level0_row11\" class=\"row_heading level0 row11\" >techsupport</th>\n",
       "                        <td id=\"T_f1f6c_row11_col0\" class=\"data row11 col0\" >0.007662</td>\n",
       "            </tr>\n",
       "            <tr>\n",
       "                        <th id=\"T_f1f6c_level0_row12\" class=\"row_heading level0 row12\" >gender</th>\n",
       "                        <td id=\"T_f1f6c_row12_col0\" class=\"data row12 col0\" >0.006209</td>\n",
       "            </tr>\n",
       "            <tr>\n",
       "                        <th id=\"T_f1f6c_level0_row13\" class=\"row_heading level0 row13\" >deviceprotection</th>\n",
       "                        <td id=\"T_f1f6c_row13_col0\" class=\"data row13 col0\" >0.003025</td>\n",
       "            </tr>\n",
       "            <tr>\n",
       "                        <th id=\"T_f1f6c_level0_row14\" class=\"row_heading level0 row14\" >streamingmovies</th>\n",
       "                        <td id=\"T_f1f6c_row14_col0\" class=\"data row14 col0\" >0.002719</td>\n",
       "            </tr>\n",
       "            <tr>\n",
       "                        <th id=\"T_f1f6c_level0_row15\" class=\"row_heading level0 row15\" >streamingtv</th>\n",
       "                        <td id=\"T_f1f6c_row15_col0\" class=\"data row15 col0\" >0.001780</td>\n",
       "            </tr>\n",
       "            <tr>\n",
       "                        <th id=\"T_f1f6c_level0_row16\" class=\"row_heading level0 row16\" >multiplelines</th>\n",
       "                        <td id=\"T_f1f6c_row16_col0\" class=\"data row16 col0\" >0.000000</td>\n",
       "            </tr>\n",
       "    </tbody></table>"
      ],
      "text/plain": [
       "<pandas.io.formats.style.Styler at 0x7f08ccd0cdf0>"
      ]
     },
     "execution_count": 47,
     "metadata": {},
     "output_type": "execute_result"
    }
   ],
   "source": [
    "scores = pd.Series(mutual_info_classif(X, y), index=X.columns).sort_values(ascending=False)\n",
    "scores.to_frame('scores').style.background_gradient(low=0.1, cmap='YlOrRd')"
   ]
  },
  {
   "cell_type": "markdown",
   "id": "9875a056",
   "metadata": {},
   "source": [
    "Больше всего информации о целевом признаке содержится в duration, не так значительно, чтобы удалять из обучения признак. Признак duration будет определять целевой признак. Признак totalcharges был удален."
   ]
  },
  {
   "cell_type": "markdown",
   "id": "2d131c68",
   "metadata": {},
   "source": [
    "### Pipeline предобработки\n",
    "\n",
    "Pipeline будет состоять из следующих компонентов:\n",
    "\n",
    "* StandardScaler для числовых признаков  \n",
    "* OrdinalEncoder для порядковых признаков  \n",
    "* OneHotEncoder для бинарных признаков  "
   ]
  },
  {
   "cell_type": "code",
   "execution_count": 48,
   "id": "30d8d435",
   "metadata": {},
   "outputs": [],
   "source": [
    "def make_X_y():\n",
    "    features, target = df.copy().drop(columns=['target'], axis=1), df.copy()['target']\n",
    "    return train_test_split(features, target, test_size=0.25, random_state=311022, stratify=target)"
   ]
  },
  {
   "cell_type": "code",
   "execution_count": 49,
   "id": "9f186795",
   "metadata": {},
   "outputs": [
    {
     "data": {
      "text/plain": [
       "((5282, 17), (1761, 17), (5282,), (1761,))"
      ]
     },
     "execution_count": 49,
     "metadata": {},
     "output_type": "execute_result"
    }
   ],
   "source": [
    "X_train, X_test, y_train, y_test = make_X_y()\n",
    "X_train.shape, X_test.shape, y_train.shape, y_test.shape"
   ]
  },
  {
   "cell_type": "code",
   "execution_count": 50,
   "id": "5b91e904",
   "metadata": {},
   "outputs": [],
   "source": [
    "numeric_features = list(X_train.select_dtypes(include=['int64', 'float64']).columns)\n",
    "cat_features = ['paymentmethod', 'type', 'internetservice', 'gender']\n",
    "binary_features = list(set(list(X_train.select_dtypes(exclude=['int64', 'float64']).columns)) - set(cat_features))"
   ]
  },
  {
   "cell_type": "code",
   "execution_count": 51,
   "id": "81b42b74",
   "metadata": {},
   "outputs": [],
   "source": [
    "def make_df(X):\n",
    "    cols = (numeric_features + cat_features + binary_features)\n",
    "    X = pd.DataFrame(X, columns=cols)\n",
    "    return X "
   ]
  },
  {
   "cell_type": "code",
   "execution_count": 52,
   "id": "b674f0b4",
   "metadata": {},
   "outputs": [],
   "source": [
    "processor = ColumnTransformer(transformers = [('std_scaler', StandardScaler(), numeric_features),\n",
    "                                                 ('cat', OrdinalEncoder(), cat_features),\n",
    "                                                 ('binary', OneHotEncoder(drop='first'), binary_features)])\n",
    "\n",
    "pl = Pipeline(steps = [('processor', processor),\n",
    "                       ('make_df', FunctionTransformer(make_df, validate=False))])"
   ]
  },
  {
   "cell_type": "markdown",
   "id": "50ac5c1f",
   "metadata": {},
   "source": [
    "Проверим Pipeline."
   ]
  },
  {
   "cell_type": "code",
   "execution_count": 53,
   "id": "72052774",
   "metadata": {},
   "outputs": [],
   "source": [
    "X_train_pl = pl.fit_transform(X_train)"
   ]
  },
  {
   "cell_type": "code",
   "execution_count": 54,
   "id": "98b02f96",
   "metadata": {},
   "outputs": [
    {
     "data": {
      "text/plain": [
       "(5282, 17)"
      ]
     },
     "execution_count": 54,
     "metadata": {},
     "output_type": "execute_result"
    }
   ],
   "source": [
    "X_train_pl.shape"
   ]
  },
  {
   "cell_type": "code",
   "execution_count": 55,
   "id": "527a1437",
   "metadata": {},
   "outputs": [
    {
     "data": {
      "text/html": [
       "<div>\n",
       "<style scoped>\n",
       "    .dataframe tbody tr th:only-of-type {\n",
       "        vertical-align: middle;\n",
       "    }\n",
       "\n",
       "    .dataframe tbody tr th {\n",
       "        vertical-align: top;\n",
       "    }\n",
       "\n",
       "    .dataframe thead th {\n",
       "        text-align: right;\n",
       "    }\n",
       "</style>\n",
       "<table border=\"1\" class=\"dataframe\">\n",
       "  <thead>\n",
       "    <tr style=\"text-align: right;\">\n",
       "      <th></th>\n",
       "      <th>monthlycharges</th>\n",
       "      <th>duration</th>\n",
       "      <th>paymentmethod</th>\n",
       "      <th>type</th>\n",
       "      <th>internetservice</th>\n",
       "      <th>gender</th>\n",
       "      <th>paperlessbilling</th>\n",
       "      <th>partner</th>\n",
       "      <th>onlinebackup</th>\n",
       "      <th>seniorcitizen</th>\n",
       "      <th>deviceprotection</th>\n",
       "      <th>dependents</th>\n",
       "      <th>onlinesecurity</th>\n",
       "      <th>streamingtv</th>\n",
       "      <th>streamingmovies</th>\n",
       "      <th>multiplelines</th>\n",
       "      <th>techsupport</th>\n",
       "    </tr>\n",
       "  </thead>\n",
       "  <tbody>\n",
       "    <tr>\n",
       "      <th>0</th>\n",
       "      <td>1.456984</td>\n",
       "      <td>1.569756</td>\n",
       "      <td>1.0</td>\n",
       "      <td>2.0</td>\n",
       "      <td>1.0</td>\n",
       "      <td>1.0</td>\n",
       "      <td>1.0</td>\n",
       "      <td>1.0</td>\n",
       "      <td>1.0</td>\n",
       "      <td>0.0</td>\n",
       "      <td>1.0</td>\n",
       "      <td>0.0</td>\n",
       "      <td>0.0</td>\n",
       "      <td>1.0</td>\n",
       "      <td>1.0</td>\n",
       "      <td>1.0</td>\n",
       "      <td>1.0</td>\n",
       "    </tr>\n",
       "    <tr>\n",
       "      <th>1</th>\n",
       "      <td>-0.833547</td>\n",
       "      <td>-1.276000</td>\n",
       "      <td>2.0</td>\n",
       "      <td>0.0</td>\n",
       "      <td>0.0</td>\n",
       "      <td>1.0</td>\n",
       "      <td>1.0</td>\n",
       "      <td>0.0</td>\n",
       "      <td>0.0</td>\n",
       "      <td>1.0</td>\n",
       "      <td>1.0</td>\n",
       "      <td>0.0</td>\n",
       "      <td>0.0</td>\n",
       "      <td>0.0</td>\n",
       "      <td>1.0</td>\n",
       "      <td>0.0</td>\n",
       "      <td>0.0</td>\n",
       "    </tr>\n",
       "    <tr>\n",
       "      <th>2</th>\n",
       "      <td>-0.674090</td>\n",
       "      <td>-0.624014</td>\n",
       "      <td>1.0</td>\n",
       "      <td>1.0</td>\n",
       "      <td>0.0</td>\n",
       "      <td>1.0</td>\n",
       "      <td>0.0</td>\n",
       "      <td>1.0</td>\n",
       "      <td>0.0</td>\n",
       "      <td>0.0</td>\n",
       "      <td>1.0</td>\n",
       "      <td>1.0</td>\n",
       "      <td>1.0</td>\n",
       "      <td>1.0</td>\n",
       "      <td>0.0</td>\n",
       "      <td>0.0</td>\n",
       "      <td>0.0</td>\n",
       "    </tr>\n",
       "    <tr>\n",
       "      <th>3</th>\n",
       "      <td>1.358984</td>\n",
       "      <td>1.410768</td>\n",
       "      <td>0.0</td>\n",
       "      <td>2.0</td>\n",
       "      <td>1.0</td>\n",
       "      <td>0.0</td>\n",
       "      <td>1.0</td>\n",
       "      <td>1.0</td>\n",
       "      <td>0.0</td>\n",
       "      <td>0.0</td>\n",
       "      <td>1.0</td>\n",
       "      <td>1.0</td>\n",
       "      <td>0.0</td>\n",
       "      <td>1.0</td>\n",
       "      <td>1.0</td>\n",
       "      <td>1.0</td>\n",
       "      <td>1.0</td>\n",
       "    </tr>\n",
       "    <tr>\n",
       "      <th>4</th>\n",
       "      <td>1.337391</td>\n",
       "      <td>-1.193165</td>\n",
       "      <td>2.0</td>\n",
       "      <td>0.0</td>\n",
       "      <td>1.0</td>\n",
       "      <td>1.0</td>\n",
       "      <td>1.0</td>\n",
       "      <td>0.0</td>\n",
       "      <td>1.0</td>\n",
       "      <td>1.0</td>\n",
       "      <td>1.0</td>\n",
       "      <td>0.0</td>\n",
       "      <td>0.0</td>\n",
       "      <td>1.0</td>\n",
       "      <td>1.0</td>\n",
       "      <td>1.0</td>\n",
       "      <td>0.0</td>\n",
       "    </tr>\n",
       "  </tbody>\n",
       "</table>\n",
       "</div>"
      ],
      "text/plain": [
       "   monthlycharges  duration  paymentmethod  type  internetservice  gender  \\\n",
       "0        1.456984  1.569756            1.0   2.0              1.0     1.0   \n",
       "1       -0.833547 -1.276000            2.0   0.0              0.0     1.0   \n",
       "2       -0.674090 -0.624014            1.0   1.0              0.0     1.0   \n",
       "3        1.358984  1.410768            0.0   2.0              1.0     0.0   \n",
       "4        1.337391 -1.193165            2.0   0.0              1.0     1.0   \n",
       "\n",
       "   paperlessbilling  partner  onlinebackup  seniorcitizen  deviceprotection  \\\n",
       "0               1.0      1.0           1.0            0.0               1.0   \n",
       "1               1.0      0.0           0.0            1.0               1.0   \n",
       "2               0.0      1.0           0.0            0.0               1.0   \n",
       "3               1.0      1.0           0.0            0.0               1.0   \n",
       "4               1.0      0.0           1.0            1.0               1.0   \n",
       "\n",
       "   dependents  onlinesecurity  streamingtv  streamingmovies  multiplelines  \\\n",
       "0         0.0             0.0          1.0              1.0            1.0   \n",
       "1         0.0             0.0          0.0              1.0            0.0   \n",
       "2         1.0             1.0          1.0              0.0            0.0   \n",
       "3         1.0             0.0          1.0              1.0            1.0   \n",
       "4         0.0             0.0          1.0              1.0            1.0   \n",
       "\n",
       "   techsupport  \n",
       "0          1.0  \n",
       "1          0.0  \n",
       "2          0.0  \n",
       "3          1.0  \n",
       "4          0.0  "
      ]
     },
     "execution_count": 55,
     "metadata": {},
     "output_type": "execute_result"
    }
   ],
   "source": [
    "X_train_pl.head()"
   ]
  },
  {
   "cell_type": "markdown",
   "id": "2414294b",
   "metadata": {},
   "source": [
    "Получили преобразованный DataFrame. Можем приступать к подготовке моделей. \n",
    "\n",
    "Создадим вспомогательные списки, в которые будем сохранять метрики по моделям, понадобится для подготовки отчета."
   ]
  },
  {
   "cell_type": "code",
   "execution_count": 62,
   "id": "04dc5730",
   "metadata": {},
   "outputs": [],
   "source": [
    "roc_auc = []\n",
    "best_params = []\n",
    "model_name = []"
   ]
  },
  {
   "cell_type": "markdown",
   "id": "7adf00ff",
   "metadata": {},
   "source": [
    "### Вывод\n",
    "\n",
    "Мы объедениили наши таблицы в единый датасет, обработали пропуски, заменили тип данных, где потребовалось, провели дополнительный анализ с проверкой гипотез. Получили портрет клиента, который уходит.\n",
    "\n",
    "**Портрет ушедшего клиента:**  \n",
    "- Не имеет иждевенцев  \n",
    "- Холост/не замужем  \n",
    "- Имеет статус пенсионера  \n",
    "- Не пользуется блокировками небезопасных сайтов  \n",
    "- Не имеет выделенной линии поддержки  \n",
    "- Не пользуется облачным хранилищем  \n",
    "- Не использует антивирусное ПО  \n",
    "- Нет разницы по половому признаку  \n",
    "- Пользуется интренет-соединением типа оптоволокно  \n",
    "\n",
    "Выполнили проверку на мультиколлинеарность.\n",
    "\n",
    "У нас наблюдается дисбаланс классов, мы это видели в исследовательском анализе. Это нужно учесть в будущем при обучении наших моделей.  \n",
    "Применили StandardScaler для количественных признаков, для того чтобы придать им одинаковый масштаб.  \n",
    "Для категориальных признаков применили OrdinalEncoder.  "
   ]
  },
  {
   "cell_type": "markdown",
   "id": "9dc871d4",
   "metadata": {},
   "source": [
    "## Обучение моделей"
   ]
  },
  {
   "cell_type": "code",
   "execution_count": 57,
   "id": "ae559c3b",
   "metadata": {},
   "outputs": [],
   "source": [
    "# зададим константу\n",
    "random_state = 311022"
   ]
  },
  {
   "cell_type": "markdown",
   "id": "30bbd8ba",
   "metadata": {},
   "source": [
    "Однозначно бустинговые модели будут выдавать лучше результаты, поэтому обучим пару бустинговых моделей, а так же посмотрим на случайный лес."
   ]
  },
  {
   "cell_type": "markdown",
   "id": "8356b13f",
   "metadata": {},
   "source": [
    "### CatBoostClassifier"
   ]
  },
  {
   "cell_type": "code",
   "execution_count": 58,
   "id": "14501ebd",
   "metadata": {},
   "outputs": [],
   "source": [
    "X_train_cbc, X_test_cbc, y_train_cbc, y_test_cbc = make_X_y()\n",
    "category_X = list(X_train_cbc.select_dtypes(include=['object', 'category']))"
   ]
  },
  {
   "cell_type": "code",
   "execution_count": 59,
   "id": "f2dd7c4d",
   "metadata": {},
   "outputs": [
    {
     "name": "stdout",
     "output_type": "stream",
     "text": [
      "0:\tlearn: 0.6857815\ttotal: 56.2ms\tremaining: 11.2s\n",
      "100:\tlearn: 0.4200291\ttotal: 738ms\tremaining: 724ms\n",
      "199:\tlearn: 0.3723667\ttotal: 1.43s\tremaining: 0us\n",
      "0:\tlearn: 0.6863172\ttotal: 7.26ms\tremaining: 1.44s\n",
      "100:\tlearn: 0.4284496\ttotal: 668ms\tremaining: 655ms\n",
      "199:\tlearn: 0.3817390\ttotal: 1.44s\tremaining: 0us\n",
      "0:\tlearn: 0.6860088\ttotal: 7.84ms\tremaining: 1.56s\n",
      "100:\tlearn: 0.4205492\ttotal: 651ms\tremaining: 639ms\n",
      "199:\tlearn: 0.3777324\ttotal: 1.38s\tremaining: 0us\n",
      "0:\tlearn: 0.6862901\ttotal: 7.8ms\tremaining: 1.55s\n",
      "100:\tlearn: 0.4239347\ttotal: 700ms\tremaining: 686ms\n",
      "199:\tlearn: 0.3776991\ttotal: 1.36s\tremaining: 0us\n",
      "0:\tlearn: 0.6862124\ttotal: 7.14ms\tremaining: 1.42s\n",
      "100:\tlearn: 0.4219424\ttotal: 637ms\tremaining: 625ms\n",
      "199:\tlearn: 0.3766510\ttotal: 1.35s\tremaining: 0us\n",
      "0:\tlearn: 0.6252094\ttotal: 7.29ms\tremaining: 2.91s\n",
      "100:\tlearn: 0.1839637\ttotal: 4.36s\tremaining: 12.9s\n",
      "200:\tlearn: 0.0958351\ttotal: 10.9s\tremaining: 10.8s\n",
      "300:\tlearn: 0.0582459\ttotal: 18s\tremaining: 5.92s\n",
      "399:\tlearn: 0.0419722\ttotal: 24.7s\tremaining: 0us\n",
      "0:\tlearn: 0.6299191\ttotal: 7.1ms\tremaining: 2.83s\n",
      "100:\tlearn: 0.1847799\ttotal: 4.56s\tremaining: 13.5s\n",
      "200:\tlearn: 0.0999871\ttotal: 11.3s\tremaining: 11.2s\n",
      "300:\tlearn: 0.0634162\ttotal: 17.6s\tremaining: 5.79s\n",
      "399:\tlearn: 0.0445266\ttotal: 24.2s\tremaining: 0us\n",
      "0:\tlearn: 0.6272962\ttotal: 6.73ms\tremaining: 2.68s\n",
      "100:\tlearn: 0.1792517\ttotal: 4.69s\tremaining: 13.9s\n",
      "200:\tlearn: 0.0959118\ttotal: 11.2s\tremaining: 11.1s\n",
      "300:\tlearn: 0.0594296\ttotal: 17.8s\tremaining: 5.85s\n",
      "399:\tlearn: 0.0422403\ttotal: 24.9s\tremaining: 0us\n",
      "0:\tlearn: 0.6295464\ttotal: 7ms\tremaining: 2.79s\n",
      "100:\tlearn: 0.1911743\ttotal: 3.79s\tremaining: 11.2s\n",
      "200:\tlearn: 0.1012435\ttotal: 10.6s\tremaining: 10.5s\n",
      "300:\tlearn: 0.0659895\ttotal: 17.1s\tremaining: 5.63s\n",
      "399:\tlearn: 0.0458286\ttotal: 24s\tremaining: 0us\n",
      "0:\tlearn: 0.6288886\ttotal: 10.7ms\tremaining: 4.28s\n",
      "100:\tlearn: 0.1734226\ttotal: 4.61s\tremaining: 13.6s\n",
      "200:\tlearn: 0.0868295\ttotal: 11.5s\tremaining: 11.4s\n",
      "300:\tlearn: 0.0539144\ttotal: 18.7s\tremaining: 6.14s\n",
      "399:\tlearn: 0.0372286\ttotal: 25.4s\tremaining: 0us\n",
      "0:\tlearn: 0.6857815\ttotal: 7.79ms\tremaining: 3.11s\n",
      "100:\tlearn: 0.4200291\ttotal: 631ms\tremaining: 1.87s\n",
      "200:\tlearn: 0.3722051\ttotal: 1.36s\tremaining: 1.35s\n",
      "300:\tlearn: 0.3517969\ttotal: 2.13s\tremaining: 701ms\n",
      "399:\tlearn: 0.3388353\ttotal: 2.84s\tremaining: 0us\n",
      "0:\tlearn: 0.6863172\ttotal: 7.4ms\tremaining: 2.95s\n",
      "100:\tlearn: 0.4284496\ttotal: 712ms\tremaining: 2.11s\n",
      "200:\tlearn: 0.3814977\ttotal: 1.52s\tremaining: 1.51s\n",
      "300:\tlearn: 0.3610628\ttotal: 2.27s\tremaining: 748ms\n",
      "399:\tlearn: 0.3494820\ttotal: 3.04s\tremaining: 0us\n",
      "0:\tlearn: 0.6860088\ttotal: 8.02ms\tremaining: 3.2s\n",
      "100:\tlearn: 0.4205492\ttotal: 712ms\tremaining: 2.11s\n",
      "200:\tlearn: 0.3771775\ttotal: 1.42s\tremaining: 1.41s\n",
      "300:\tlearn: 0.3572755\ttotal: 2.13s\tremaining: 701ms\n",
      "399:\tlearn: 0.3446236\ttotal: 2.75s\tremaining: 0us\n",
      "0:\tlearn: 0.6862901\ttotal: 8.52ms\tremaining: 3.4s\n",
      "100:\tlearn: 0.4239347\ttotal: 704ms\tremaining: 2.08s\n",
      "200:\tlearn: 0.3773509\ttotal: 1.47s\tremaining: 1.46s\n",
      "300:\tlearn: 0.3555834\ttotal: 2.19s\tremaining: 720ms\n",
      "399:\tlearn: 0.3413621\ttotal: 2.91s\tremaining: 0us\n",
      "0:\tlearn: 0.6862124\ttotal: 7.37ms\tremaining: 2.94s\n",
      "100:\tlearn: 0.4219424\ttotal: 660ms\tremaining: 1.96s\n",
      "200:\tlearn: 0.3764352\ttotal: 1.37s\tremaining: 1.36s\n",
      "300:\tlearn: 0.3549745\ttotal: 2.07s\tremaining: 682ms\n",
      "399:\tlearn: 0.3403759\ttotal: 2.76s\tremaining: 0us\n",
      "0:\tlearn: 0.6857815\ttotal: 6.83ms\tremaining: 4.09s\n",
      "100:\tlearn: 0.4022473\ttotal: 3.04s\tremaining: 15s\n",
      "200:\tlearn: 0.3433389\ttotal: 7.06s\tremaining: 14s\n",
      "300:\tlearn: 0.3094898\ttotal: 11.2s\tremaining: 11.2s\n",
      "400:\tlearn: 0.2864685\ttotal: 15.5s\tremaining: 7.71s\n",
      "500:\tlearn: 0.2647787\ttotal: 19.9s\tremaining: 3.93s\n",
      "599:\tlearn: 0.2499609\ttotal: 23.7s\tremaining: 0us\n",
      "0:\tlearn: 0.6863172\ttotal: 8.28ms\tremaining: 4.96s\n",
      "100:\tlearn: 0.4177054\ttotal: 2.83s\tremaining: 14s\n",
      "200:\tlearn: 0.3547085\ttotal: 7.25s\tremaining: 14.4s\n",
      "300:\tlearn: 0.3174454\ttotal: 11.8s\tremaining: 11.7s\n",
      "400:\tlearn: 0.2933784\ttotal: 15.7s\tremaining: 7.78s\n",
      "500:\tlearn: 0.2716726\ttotal: 19.4s\tremaining: 3.83s\n",
      "599:\tlearn: 0.2538607\ttotal: 23.9s\tremaining: 0us\n",
      "0:\tlearn: 0.6860088\ttotal: 7ms\tremaining: 4.19s\n",
      "100:\tlearn: 0.4139315\ttotal: 2.15s\tremaining: 10.6s\n",
      "200:\tlearn: 0.3477802\ttotal: 6.49s\tremaining: 12.9s\n",
      "300:\tlearn: 0.3104137\ttotal: 10.7s\tremaining: 10.6s\n",
      "400:\tlearn: 0.2832238\ttotal: 14.3s\tremaining: 7.11s\n",
      "500:\tlearn: 0.2631648\ttotal: 17.9s\tremaining: 3.55s\n",
      "599:\tlearn: 0.2495325\ttotal: 21.1s\tremaining: 0us\n",
      "0:\tlearn: 0.6862901\ttotal: 7.64ms\tremaining: 4.58s\n",
      "100:\tlearn: 0.4108585\ttotal: 2.7s\tremaining: 13.4s\n",
      "200:\tlearn: 0.3421959\ttotal: 7.14s\tremaining: 14.2s\n",
      "300:\tlearn: 0.3078046\ttotal: 10.9s\tremaining: 10.8s\n",
      "400:\tlearn: 0.2823930\ttotal: 14.9s\tremaining: 7.42s\n",
      "500:\tlearn: 0.2613127\ttotal: 19.1s\tremaining: 3.77s\n",
      "599:\tlearn: 0.2497557\ttotal: 22.7s\tremaining: 0us\n",
      "0:\tlearn: 0.6862124\ttotal: 8.05ms\tremaining: 4.82s\n",
      "100:\tlearn: 0.4080403\ttotal: 3.23s\tremaining: 16s\n",
      "200:\tlearn: 0.3432849\ttotal: 7.74s\tremaining: 15.4s\n",
      "300:\tlearn: 0.3076987\ttotal: 12.3s\tremaining: 12.2s\n",
      "400:\tlearn: 0.2821978\ttotal: 16.4s\tremaining: 8.16s\n",
      "500:\tlearn: 0.2611259\ttotal: 20.6s\tremaining: 4.07s\n",
      "599:\tlearn: 0.2423354\ttotal: 25.2s\tremaining: 0us\n",
      "0:\tlearn: 0.6252094\ttotal: 10.7ms\tremaining: 2.14s\n",
      "100:\tlearn: 0.1839637\ttotal: 4.6s\tremaining: 4.51s\n",
      "199:\tlearn: 0.0961877\ttotal: 11.3s\tremaining: 0us\n",
      "0:\tlearn: 0.6299191\ttotal: 10.2ms\tremaining: 2.02s\n",
      "100:\tlearn: 0.1847799\ttotal: 4.65s\tremaining: 4.56s\n",
      "199:\tlearn: 0.1009710\ttotal: 11.2s\tremaining: 0us\n",
      "0:\tlearn: 0.6272962\ttotal: 6.75ms\tremaining: 1.34s\n",
      "100:\tlearn: 0.1792517\ttotal: 4.9s\tremaining: 4.8s\n",
      "199:\tlearn: 0.0963280\ttotal: 11.2s\tremaining: 0us\n",
      "0:\tlearn: 0.6295464\ttotal: 7.02ms\tremaining: 1.4s\n",
      "100:\tlearn: 0.1911743\ttotal: 3.69s\tremaining: 3.62s\n",
      "199:\tlearn: 0.1018958\ttotal: 10.4s\tremaining: 0us\n",
      "0:\tlearn: 0.6288886\ttotal: 7.96ms\tremaining: 1.58s\n",
      "100:\tlearn: 0.1734226\ttotal: 4.61s\tremaining: 4.51s\n",
      "199:\tlearn: 0.0874038\ttotal: 11.2s\tremaining: 0us\n",
      "0:\tlearn: 0.6252094\ttotal: 8.94ms\tremaining: 5.35s\n",
      "100:\tlearn: 0.2812325\ttotal: 714ms\tremaining: 3.53s\n",
      "200:\tlearn: 0.1962958\ttotal: 1.58s\tremaining: 3.14s\n",
      "300:\tlearn: 0.1498260\ttotal: 2.46s\tremaining: 2.44s\n",
      "400:\tlearn: 0.1198337\ttotal: 3.37s\tremaining: 1.67s\n",
      "500:\tlearn: 0.0956617\ttotal: 4.25s\tremaining: 840ms\n",
      "599:\tlearn: 0.0798651\ttotal: 5.12s\tremaining: 0us\n",
      "0:\tlearn: 0.6299191\ttotal: 7.69ms\tremaining: 4.61s\n",
      "100:\tlearn: 0.2832742\ttotal: 742ms\tremaining: 3.67s\n",
      "200:\tlearn: 0.2004337\ttotal: 1.67s\tremaining: 3.31s\n",
      "300:\tlearn: 0.1520509\ttotal: 2.56s\tremaining: 2.55s\n",
      "400:\tlearn: 0.1201203\ttotal: 3.47s\tremaining: 1.72s\n",
      "500:\tlearn: 0.0957019\ttotal: 4.35s\tremaining: 860ms\n",
      "599:\tlearn: 0.0801832\ttotal: 5.21s\tremaining: 0us\n",
      "0:\tlearn: 0.6272962\ttotal: 7.81ms\tremaining: 4.68s\n",
      "100:\tlearn: 0.2870138\ttotal: 684ms\tremaining: 3.38s\n",
      "200:\tlearn: 0.2020178\ttotal: 1.6s\tremaining: 3.17s\n",
      "300:\tlearn: 0.1514876\ttotal: 2.47s\tremaining: 2.45s\n",
      "400:\tlearn: 0.1179811\ttotal: 3.37s\tremaining: 1.67s\n",
      "500:\tlearn: 0.0969032\ttotal: 4.26s\tremaining: 841ms\n",
      "599:\tlearn: 0.0807905\ttotal: 5.13s\tremaining: 0us\n",
      "0:\tlearn: 0.6295464\ttotal: 7.57ms\tremaining: 4.54s\n",
      "100:\tlearn: 0.2842769\ttotal: 723ms\tremaining: 3.57s\n",
      "200:\tlearn: 0.2073708\ttotal: 1.57s\tremaining: 3.12s\n",
      "300:\tlearn: 0.1566855\ttotal: 2.44s\tremaining: 2.42s\n",
      "400:\tlearn: 0.1228096\ttotal: 3.33s\tremaining: 1.65s\n",
      "500:\tlearn: 0.1029852\ttotal: 4.23s\tremaining: 835ms\n",
      "599:\tlearn: 0.0849218\ttotal: 5.14s\tremaining: 0us\n",
      "0:\tlearn: 0.6288886\ttotal: 7.42ms\tremaining: 4.44s\n",
      "100:\tlearn: 0.2760676\ttotal: 719ms\tremaining: 3.55s\n",
      "200:\tlearn: 0.1957795\ttotal: 1.62s\tremaining: 3.22s\n",
      "300:\tlearn: 0.1459106\ttotal: 2.58s\tremaining: 2.56s\n",
      "400:\tlearn: 0.1131977\ttotal: 3.54s\tremaining: 1.75s\n",
      "500:\tlearn: 0.0939018\ttotal: 4.51s\tremaining: 891ms\n",
      "599:\tlearn: 0.0778704\ttotal: 5.53s\tremaining: 0us\n",
      "0:\tlearn: 0.6356513\ttotal: 4.33ms\tremaining: 1.73s\n",
      "100:\tlearn: 0.3475176\ttotal: 308ms\tremaining: 911ms\n",
      "200:\tlearn: 0.3059078\ttotal: 622ms\tremaining: 616ms\n",
      "300:\tlearn: 0.2737420\ttotal: 945ms\tremaining: 311ms\n",
      "399:\tlearn: 0.2510467\ttotal: 1.26s\tremaining: 0us\n",
      "0:\tlearn: 0.6415852\ttotal: 3.7ms\tremaining: 1.48s\n",
      "100:\tlearn: 0.3536268\ttotal: 294ms\tremaining: 869ms\n",
      "200:\tlearn: 0.3130072\ttotal: 628ms\tremaining: 622ms\n",
      "300:\tlearn: 0.2767485\ttotal: 953ms\tremaining: 313ms\n",
      "399:\tlearn: 0.2555166\ttotal: 1.31s\tremaining: 0us\n",
      "0:\tlearn: 0.6366954\ttotal: 3.83ms\tremaining: 1.53s\n",
      "100:\tlearn: 0.3450805\ttotal: 318ms\tremaining: 940ms\n",
      "200:\tlearn: 0.2972027\ttotal: 669ms\tremaining: 662ms\n",
      "300:\tlearn: 0.2613658\ttotal: 1.01s\tremaining: 331ms\n",
      "399:\tlearn: 0.2383544\ttotal: 1.33s\tremaining: 0us\n",
      "0:\tlearn: 0.6403192\ttotal: 3.76ms\tremaining: 1.5s\n",
      "100:\tlearn: 0.3510576\ttotal: 294ms\tremaining: 870ms\n",
      "200:\tlearn: 0.3058524\ttotal: 606ms\tremaining: 600ms\n",
      "300:\tlearn: 0.2780896\ttotal: 923ms\tremaining: 304ms\n",
      "399:\tlearn: 0.2607805\ttotal: 1.25s\tremaining: 0us\n",
      "0:\tlearn: 0.6398874\ttotal: 3.63ms\tremaining: 1.45s\n",
      "100:\tlearn: 0.3457065\ttotal: 304ms\tremaining: 901ms\n",
      "200:\tlearn: 0.2973812\ttotal: 641ms\tremaining: 635ms\n",
      "300:\tlearn: 0.2657275\ttotal: 959ms\tremaining: 315ms\n",
      "399:\tlearn: 0.2441958\ttotal: 1.28s\tremaining: 0us\n",
      "0:\tlearn: 0.6356513\ttotal: 5.52ms\tremaining: 3.3s\n",
      "100:\tlearn: 0.3475176\ttotal: 318ms\tremaining: 1.57s\n",
      "200:\tlearn: 0.3059078\ttotal: 633ms\tremaining: 1.26s\n",
      "300:\tlearn: 0.2737420\ttotal: 967ms\tremaining: 961ms\n",
      "400:\tlearn: 0.2510162\ttotal: 1.28s\tremaining: 638ms\n",
      "500:\tlearn: 0.2329010\ttotal: 1.61s\tremaining: 318ms\n",
      "599:\tlearn: 0.2176706\ttotal: 1.94s\tremaining: 0us\n",
      "0:\tlearn: 0.6415852\ttotal: 3.68ms\tremaining: 2.21s\n",
      "100:\tlearn: 0.3536268\ttotal: 293ms\tremaining: 1.45s\n",
      "200:\tlearn: 0.3130072\ttotal: 601ms\tremaining: 1.19s\n",
      "300:\tlearn: 0.2767485\ttotal: 980ms\tremaining: 973ms\n",
      "400:\tlearn: 0.2552401\ttotal: 1.31s\tremaining: 648ms\n",
      "500:\tlearn: 0.2357954\ttotal: 1.64s\tremaining: 325ms\n",
      "599:\tlearn: 0.2214912\ttotal: 1.97s\tremaining: 0us\n",
      "0:\tlearn: 0.6366954\ttotal: 3.66ms\tremaining: 2.19s\n",
      "100:\tlearn: 0.3450805\ttotal: 314ms\tremaining: 1.55s\n",
      "200:\tlearn: 0.2972027\ttotal: 658ms\tremaining: 1.3s\n",
      "300:\tlearn: 0.2613658\ttotal: 1.02s\tremaining: 1.01s\n",
      "400:\tlearn: 0.2381816\ttotal: 1.4s\tremaining: 694ms\n",
      "500:\tlearn: 0.2214757\ttotal: 1.76s\tremaining: 348ms\n",
      "599:\tlearn: 0.2052584\ttotal: 2.13s\tremaining: 0us\n",
      "0:\tlearn: 0.6403192\ttotal: 3.99ms\tremaining: 2.39s\n",
      "100:\tlearn: 0.3510576\ttotal: 323ms\tremaining: 1.6s\n",
      "200:\tlearn: 0.3058524\ttotal: 669ms\tremaining: 1.33s\n",
      "300:\tlearn: 0.2780896\ttotal: 987ms\tremaining: 980ms\n",
      "400:\tlearn: 0.2598867\ttotal: 1.32s\tremaining: 655ms\n",
      "500:\tlearn: 0.2392046\ttotal: 1.64s\tremaining: 324ms\n",
      "599:\tlearn: 0.2214908\ttotal: 1.97s\tremaining: 0us\n",
      "0:\tlearn: 0.6398874\ttotal: 3.68ms\tremaining: 2.2s\n",
      "100:\tlearn: 0.3457065\ttotal: 303ms\tremaining: 1.5s\n",
      "200:\tlearn: 0.2973812\ttotal: 617ms\tremaining: 1.22s\n",
      "300:\tlearn: 0.2657275\ttotal: 944ms\tremaining: 938ms\n",
      "400:\tlearn: 0.2440389\ttotal: 1.26s\tremaining: 628ms\n",
      "500:\tlearn: 0.2265280\ttotal: 1.59s\tremaining: 315ms\n",
      "599:\tlearn: 0.2139443\ttotal: 1.92s\tremaining: 0us\n",
      "0:\tlearn: 0.6857815\ttotal: 7.4ms\tremaining: 4.43s\n",
      "100:\tlearn: 0.4200291\ttotal: 644ms\tremaining: 3.18s\n",
      "200:\tlearn: 0.3722051\ttotal: 1.37s\tremaining: 2.73s\n",
      "300:\tlearn: 0.3517969\ttotal: 2.07s\tremaining: 2.05s\n",
      "400:\tlearn: 0.3387639\ttotal: 2.77s\tremaining: 1.37s\n",
      "500:\tlearn: 0.3287397\ttotal: 3.46s\tremaining: 684ms\n",
      "599:\tlearn: 0.3208000\ttotal: 4.06s\tremaining: 0us\n",
      "0:\tlearn: 0.6863172\ttotal: 7.05ms\tremaining: 4.22s\n",
      "100:\tlearn: 0.4284496\ttotal: 659ms\tremaining: 3.25s\n",
      "200:\tlearn: 0.3814977\ttotal: 1.39s\tremaining: 2.76s\n",
      "300:\tlearn: 0.3610628\ttotal: 2.13s\tremaining: 2.11s\n",
      "400:\tlearn: 0.3493739\ttotal: 2.83s\tremaining: 1.4s\n",
      "500:\tlearn: 0.3387419\ttotal: 3.55s\tremaining: 702ms\n",
      "599:\tlearn: 0.3295072\ttotal: 4.26s\tremaining: 0us\n",
      "0:\tlearn: 0.6860088\ttotal: 8.23ms\tremaining: 4.93s\n",
      "100:\tlearn: 0.4205492\ttotal: 722ms\tremaining: 3.56s\n",
      "200:\tlearn: 0.3771775\ttotal: 1.38s\tremaining: 2.74s\n",
      "300:\tlearn: 0.3572755\ttotal: 2.04s\tremaining: 2.03s\n",
      "400:\tlearn: 0.3446201\ttotal: 2.65s\tremaining: 1.31s\n",
      "500:\tlearn: 0.3347098\ttotal: 3.32s\tremaining: 656ms\n",
      "599:\tlearn: 0.3256509\ttotal: 3.97s\tremaining: 0us\n",
      "0:\tlearn: 0.6862901\ttotal: 7.52ms\tremaining: 4.5s\n",
      "100:\tlearn: 0.4239347\ttotal: 765ms\tremaining: 3.78s\n",
      "200:\tlearn: 0.3773509\ttotal: 1.52s\tremaining: 3.02s\n",
      "300:\tlearn: 0.3555834\ttotal: 2.24s\tremaining: 2.23s\n",
      "400:\tlearn: 0.3411736\ttotal: 3s\tremaining: 1.49s\n",
      "500:\tlearn: 0.3297411\ttotal: 3.7s\tremaining: 732ms\n",
      "599:\tlearn: 0.3208594\ttotal: 4.37s\tremaining: 0us\n",
      "0:\tlearn: 0.6862124\ttotal: 7.58ms\tremaining: 4.54s\n",
      "100:\tlearn: 0.4219424\ttotal: 661ms\tremaining: 3.27s\n",
      "200:\tlearn: 0.3764352\ttotal: 1.39s\tremaining: 2.76s\n",
      "300:\tlearn: 0.3549745\ttotal: 2.1s\tremaining: 2.08s\n",
      "400:\tlearn: 0.3402766\ttotal: 2.78s\tremaining: 1.38s\n",
      "500:\tlearn: 0.3294251\ttotal: 3.49s\tremaining: 690ms\n",
      "599:\tlearn: 0.3203298\ttotal: 4.16s\tremaining: 0us\n",
      "0:\tlearn: 0.6869389\ttotal: 3.88ms\tremaining: 2.33s\n",
      "100:\tlearn: 0.4348331\ttotal: 315ms\tremaining: 1.56s\n",
      "200:\tlearn: 0.3957804\ttotal: 601ms\tremaining: 1.19s\n",
      "300:\tlearn: 0.3809506\ttotal: 893ms\tremaining: 887ms\n",
      "400:\tlearn: 0.3735705\ttotal: 1.18s\tremaining: 586ms\n",
      "500:\tlearn: 0.3672603\ttotal: 1.48s\tremaining: 293ms\n",
      "599:\tlearn: 0.3626168\ttotal: 1.76s\tremaining: 0us\n",
      "0:\tlearn: 0.6876142\ttotal: 5.79ms\tremaining: 3.47s\n",
      "100:\tlearn: 0.4440619\ttotal: 337ms\tremaining: 1.67s\n",
      "200:\tlearn: 0.4064483\ttotal: 630ms\tremaining: 1.25s\n",
      "300:\tlearn: 0.3913240\ttotal: 929ms\tremaining: 923ms\n",
      "400:\tlearn: 0.3830519\ttotal: 1.23s\tremaining: 609ms\n",
      "500:\tlearn: 0.3776934\ttotal: 1.52s\tremaining: 300ms\n",
      "599:\tlearn: 0.3727570\ttotal: 1.8s\tremaining: 0us\n",
      "0:\tlearn: 0.6870763\ttotal: 3.99ms\tremaining: 2.39s\n",
      "100:\tlearn: 0.4338248\ttotal: 308ms\tremaining: 1.52s\n",
      "200:\tlearn: 0.3971866\ttotal: 606ms\tremaining: 1.2s\n",
      "300:\tlearn: 0.3830231\ttotal: 896ms\tremaining: 890ms\n",
      "400:\tlearn: 0.3746493\ttotal: 1.2s\tremaining: 594ms\n",
      "500:\tlearn: 0.3688512\ttotal: 1.52s\tremaining: 300ms\n",
      "599:\tlearn: 0.3637603\ttotal: 1.83s\tremaining: 0us\n",
      "0:\tlearn: 0.6874744\ttotal: 4.12ms\tremaining: 2.46s\n",
      "100:\tlearn: 0.4371400\ttotal: 332ms\tremaining: 1.64s\n",
      "200:\tlearn: 0.4011141\ttotal: 661ms\tremaining: 1.31s\n",
      "300:\tlearn: 0.3861815\ttotal: 987ms\tremaining: 981ms\n",
      "400:\tlearn: 0.3773697\ttotal: 1.33s\tremaining: 659ms\n",
      "500:\tlearn: 0.3720990\ttotal: 1.65s\tremaining: 326ms\n",
      "599:\tlearn: 0.3678547\ttotal: 1.97s\tremaining: 0us\n",
      "0:\tlearn: 0.6874307\ttotal: 4.47ms\tremaining: 2.68s\n",
      "100:\tlearn: 0.4424614\ttotal: 353ms\tremaining: 1.75s\n",
      "200:\tlearn: 0.4027829\ttotal: 693ms\tremaining: 1.38s\n",
      "300:\tlearn: 0.3867628\ttotal: 1.03s\tremaining: 1.02s\n",
      "400:\tlearn: 0.3776934\ttotal: 1.33s\tremaining: 662ms\n",
      "500:\tlearn: 0.3726957\ttotal: 1.62s\tremaining: 321ms\n",
      "599:\tlearn: 0.3682784\ttotal: 1.91s\tremaining: 0us\n",
      "0:\tlearn: 0.6447872\ttotal: 5.65ms\tremaining: 3.39s\n",
      "100:\tlearn: 0.3494525\ttotal: 402ms\tremaining: 1.98s\n",
      "200:\tlearn: 0.3218402\ttotal: 782ms\tremaining: 1.55s\n",
      "300:\tlearn: 0.2908632\ttotal: 1.17s\tremaining: 1.17s\n",
      "400:\tlearn: 0.2663942\ttotal: 1.58s\tremaining: 787ms\n",
      "500:\tlearn: 0.2481407\ttotal: 2.04s\tremaining: 404ms\n",
      "599:\tlearn: 0.2324428\ttotal: 2.46s\tremaining: 0us\n"
     ]
    },
    {
     "data": {
      "text/plain": [
       "RandomizedSearchCV(cv=ShuffleSplit(n_splits=5, random_state=311022, test_size=0.25, train_size=None),\n",
       "                   estimator=<catboost.core.CatBoostClassifier object at 0x7f08ccc3f550>,\n",
       "                   param_distributions={'depth': range(4, 13, 4),\n",
       "                                        'iterations': range(200, 601, 200),\n",
       "                                        'learning_rate': [0.01, 0.1]},\n",
       "                   scoring='roc_auc')"
      ]
     },
     "execution_count": 59,
     "metadata": {},
     "output_type": "execute_result"
    }
   ],
   "source": [
    "cbc = CatBoostClassifier(loss_function='Logloss', random_state=random_state)\n",
    "cv = ShuffleSplit(n_splits=5, test_size=0.25, random_state=random_state)\n",
    "parameters = {'depth': range(4,13,4),\n",
    "              'learning_rate': [0.01, 0.1],\n",
    "              'iterations': range(200,601,200)\n",
    "             }\n",
    "Grid_CBC = RandomizedSearchCV(cbc, parameters, scoring='roc_auc', cv=cv)\n",
    "Grid_CBC.fit(X_train_cbc, y_train_cbc, cat_features=category_X, verbose=100)"
   ]
  },
  {
   "cell_type": "code",
   "execution_count": 63,
   "id": "19d65dbb",
   "metadata": {},
   "outputs": [],
   "source": [
    "best_score = Grid_CBC.best_score_ \n",
    "estimator_cbc = Grid_CBC.best_estimator_"
   ]
  },
  {
   "cell_type": "code",
   "execution_count": 64,
   "id": "24d4179f",
   "metadata": {},
   "outputs": [],
   "source": [
    "roc_auc.append(best_score)\n",
    "best_params.append(Grid_CBC.best_params_)\n",
    "model_name.append('CatBoostClassifier CV')"
   ]
  },
  {
   "cell_type": "markdown",
   "id": "3e0ac043",
   "metadata": {},
   "source": [
    "### LGBMClassifier"
   ]
  },
  {
   "cell_type": "markdown",
   "id": "251ce37f",
   "metadata": {},
   "source": [
    "LGBM работает лучше и быстрее без Ohe и Ordinal кодирования. Поэтому преобразуем наши выборки для LGBM, переведем все в category кроме числовых."
   ]
  },
  {
   "cell_type": "code",
   "execution_count": 65,
   "id": "96ecfd5e",
   "metadata": {},
   "outputs": [
    {
     "data": {
      "text/plain": [
       "((5282, 17), (1761, 17), (5282,), (1761,))"
      ]
     },
     "execution_count": 65,
     "metadata": {},
     "output_type": "execute_result"
    }
   ],
   "source": [
    "X_train_lgbm, X_test_lgbm, y_train_lgbm, y_test_lgbm = make_X_y()\n",
    "X_train_lgbm.shape, X_test_lgbm.shape, y_train_lgbm.shape, y_test_lgbm.shape"
   ]
  },
  {
   "cell_type": "code",
   "execution_count": 70,
   "id": "3b127ea5",
   "metadata": {},
   "outputs": [],
   "source": [
    "category_X_lgbm = list(X_train_lgbm.select_dtypes(include=['object', 'category']))\n",
    "X_train_lgbm[category_X_lgbm] = (X_train_lgbm[category_X_lgbm].apply(lambda x: x.astype('category')))\n",
    "X_test_lgbm[category_X_lgbm] = (X_test_lgbm[category_X_lgbm].apply(lambda x: x.astype('category')))"
   ]
  },
  {
   "cell_type": "code",
   "execution_count": 71,
   "id": "158ea78f",
   "metadata": {},
   "outputs": [
    {
     "name": "stdout",
     "output_type": "stream",
     "text": [
      "<class 'pandas.core.frame.DataFrame'>\n",
      "Int64Index: 5282 entries, 3040 to 2903\n",
      "Data columns (total 17 columns):\n",
      " #   Column            Non-Null Count  Dtype   \n",
      "---  ------            --------------  -----   \n",
      " 0   type              5282 non-null   category\n",
      " 1   paperlessbilling  5282 non-null   category\n",
      " 2   paymentmethod     5282 non-null   category\n",
      " 3   monthlycharges    5282 non-null   float64 \n",
      " 4   internetservice   5282 non-null   category\n",
      " 5   onlinesecurity    5282 non-null   category\n",
      " 6   onlinebackup      5282 non-null   category\n",
      " 7   deviceprotection  5282 non-null   category\n",
      " 8   techsupport       5282 non-null   category\n",
      " 9   streamingtv       5282 non-null   category\n",
      " 10  streamingmovies   5282 non-null   category\n",
      " 11  gender            5282 non-null   category\n",
      " 12  seniorcitizen     5282 non-null   category\n",
      " 13  partner           5282 non-null   category\n",
      " 14  dependents        5282 non-null   category\n",
      " 15  multiplelines     5282 non-null   category\n",
      " 16  duration          5282 non-null   int64   \n",
      "dtypes: category(15), float64(1), int64(1)\n",
      "memory usage: 203.1 KB\n"
     ]
    }
   ],
   "source": [
    "X_train_lgbm.info()"
   ]
  },
  {
   "cell_type": "code",
   "execution_count": 72,
   "id": "ad4af98e",
   "metadata": {},
   "outputs": [
    {
     "data": {
      "text/plain": [
       "RandomizedSearchCV(cv=ShuffleSplit(n_splits=5, random_state=311022, test_size=0.25, train_size=None),\n",
       "                   estimator=LGBMClassifier(class_weight='balanced',\n",
       "                                            random_state=311022),\n",
       "                   param_distributions={'learning_rate': [0.01, 0.1, 1.0],\n",
       "                                        'max_depth': range(5, 8),\n",
       "                                        'n_estimators': range(100, 501, 100),\n",
       "                                        'num_leaves': [32, 64, 128]},\n",
       "                   scoring='roc_auc')"
      ]
     },
     "execution_count": 72,
     "metadata": {},
     "output_type": "execute_result"
    }
   ],
   "source": [
    "lgbm = LGBMClassifier(random_state=random_state, class_weight = 'balanced')\n",
    "\n",
    "cv = ShuffleSplit(n_splits=5, test_size=0.25, random_state=random_state)\n",
    "params = {'n_estimators': range(100, 501, 100),\n",
    "          'learning_rate': [0.01, 0.1, 1.0],\n",
    "          'max_depth': range(5, 8, 1),\n",
    "          'num_leaves': [32, 64, 128]}\n",
    "\n",
    "grid_cv = RandomizedSearchCV(lgbm, params, scoring='roc_auc', cv=cv)\n",
    "grid_cv.fit(X_train_lgbm, y_train_lgbm)"
   ]
  },
  {
   "cell_type": "code",
   "execution_count": 73,
   "id": "0be1d5ee",
   "metadata": {
    "scrolled": true
   },
   "outputs": [],
   "source": [
    "best_score = grid_cv.best_score_ \n",
    "estimator_lgbm = grid_cv.best_estimator_"
   ]
  },
  {
   "cell_type": "code",
   "execution_count": 74,
   "id": "10b32e28",
   "metadata": {},
   "outputs": [],
   "source": [
    "roc_auc.append(best_score)\n",
    "best_params.append(grid_cv.best_params_)\n",
    "model_name.append('LGBMClassifier CV')"
   ]
  },
  {
   "cell_type": "markdown",
   "id": "5b58088c",
   "metadata": {},
   "source": [
    "### RandomForestClassifier"
   ]
  },
  {
   "cell_type": "code",
   "execution_count": 75,
   "id": "9bd12118",
   "metadata": {},
   "outputs": [
    {
     "data": {
      "text/plain": [
       "((5282, 17), (1761, 17), (5282,), (1761,))"
      ]
     },
     "execution_count": 75,
     "metadata": {},
     "output_type": "execute_result"
    }
   ],
   "source": [
    "X_train_rfc, X_test_rfc, y_train_rfc, y_test_rfc = make_X_y()\n",
    "X_train_rfc.shape, X_test_rfc.shape, y_train_rfc.shape, y_test_rfc.shape"
   ]
  },
  {
   "cell_type": "code",
   "execution_count": 76,
   "id": "eedb6c8b",
   "metadata": {},
   "outputs": [],
   "source": [
    "# применим заготовленный pipeline\n",
    "X_train_pl = pl.fit_transform(X_train_rfc)"
   ]
  },
  {
   "cell_type": "code",
   "execution_count": 78,
   "id": "e2a3ec0a",
   "metadata": {},
   "outputs": [
    {
     "data": {
      "text/plain": [
       "RandomizedSearchCV(cv=ShuffleSplit(n_splits=5, random_state=311022, test_size=0.25, train_size=None),\n",
       "                   estimator=RandomForestClassifier(class_weight='balanced',\n",
       "                                                    random_state=311022),\n",
       "                   param_distributions={'max_depth': range(1, 24),\n",
       "                                        'n_estimators': range(1, 1001, 100)},\n",
       "                   scoring='roc_auc')"
      ]
     },
     "execution_count": 78,
     "metadata": {},
     "output_type": "execute_result"
    }
   ],
   "source": [
    "rfc = RandomForestClassifier(random_state=random_state, class_weight='balanced')\n",
    "\n",
    "cv = ShuffleSplit(n_splits=5, test_size=0.25, random_state=random_state)\n",
    "params = {'n_estimators': range(1, 1001, 100),\n",
    "          'max_depth': range(1, 24, 1)}\n",
    "\n",
    "grid_cv = RandomizedSearchCV(rfc, params, scoring='roc_auc', cv=cv)\n",
    "grid_cv.fit(X_train_pl, y_train_rfc)"
   ]
  },
  {
   "cell_type": "code",
   "execution_count": 79,
   "id": "b73a015c",
   "metadata": {},
   "outputs": [],
   "source": [
    "best_score = grid_cv.best_score_ \n",
    "estimator_rfc = grid_cv.best_estimator_"
   ]
  },
  {
   "cell_type": "code",
   "execution_count": 80,
   "id": "ca763ddb",
   "metadata": {},
   "outputs": [],
   "source": [
    "roc_auc.append(best_score)\n",
    "best_params.append(grid_cv.best_params_)\n",
    "model_name.append('RandomForestClassifier CV')"
   ]
  },
  {
   "cell_type": "markdown",
   "id": "e9a288b6",
   "metadata": {},
   "source": [
    "### Выбор лучшей модели и ее тестирование"
   ]
  },
  {
   "cell_type": "code",
   "execution_count": 81,
   "id": "fbf3f08f",
   "metadata": {},
   "outputs": [
    {
     "data": {
      "text/html": [
       "<style  type=\"text/css\" >\n",
       "#T_26d23_row0_col2{\n",
       "            background-color:  green;\n",
       "        }</style><table id=\"T_26d23_\" ><thead>    <tr>        <th class=\"blank level0\" ></th>        <th class=\"col_heading level0 col0\" >model</th>        <th class=\"col_heading level0 col1\" >best_params</th>        <th class=\"col_heading level0 col2\" >ROC-AUC</th>    </tr></thead><tbody>\n",
       "                <tr>\n",
       "                        <th id=\"T_26d23_level0_row0\" class=\"row_heading level0 row0\" >0</th>\n",
       "                        <td id=\"T_26d23_row0_col0\" class=\"data row0 col0\" >CatBoostClassifier CV</td>\n",
       "                        <td id=\"T_26d23_row0_col1\" class=\"data row0 col1\" >{'learning_rate': 0.1, 'iterations': 600, 'depth': 4}</td>\n",
       "                        <td id=\"T_26d23_row0_col2\" class=\"data row0 col2\" >0.914662</td>\n",
       "            </tr>\n",
       "            <tr>\n",
       "                        <th id=\"T_26d23_level0_row1\" class=\"row_heading level0 row1\" >1</th>\n",
       "                        <td id=\"T_26d23_row1_col0\" class=\"data row1 col0\" >LGBMClassifier CV</td>\n",
       "                        <td id=\"T_26d23_row1_col1\" class=\"data row1 col1\" >{'num_leaves': 128, 'n_estimators': 400, 'max_depth': 7, 'learning_rate': 0.1}</td>\n",
       "                        <td id=\"T_26d23_row1_col2\" class=\"data row1 col2\" >0.895809</td>\n",
       "            </tr>\n",
       "            <tr>\n",
       "                        <th id=\"T_26d23_level0_row2\" class=\"row_heading level0 row2\" >2</th>\n",
       "                        <td id=\"T_26d23_row2_col0\" class=\"data row2 col0\" >RandomForestClassifier CV</td>\n",
       "                        <td id=\"T_26d23_row2_col1\" class=\"data row2 col1\" >{'n_estimators': 701, 'max_depth': 9}</td>\n",
       "                        <td id=\"T_26d23_row2_col2\" class=\"data row2 col2\" >0.858804</td>\n",
       "            </tr>\n",
       "    </tbody></table>"
      ],
      "text/plain": [
       "<pandas.io.formats.style.Styler at 0x7f08d703e370>"
      ]
     },
     "execution_count": 81,
     "metadata": {},
     "output_type": "execute_result"
    }
   ],
   "source": [
    "model_table = (pd.DataFrame({'model' : model_name,   \n",
    "                             'best_params': best_params,\n",
    "                             'ROC-AUC': roc_auc,\n",
    "                            })\n",
    "               .sort_values(by='ROC-AUC', ascending=False).reset_index(drop=True)\n",
    "              )\n",
    "model_table.style.highlight_max(['ROC-AUC'], color='green', axis=0)"
   ]
  },
  {
   "cell_type": "markdown",
   "id": "4d9a7c03",
   "metadata": {},
   "source": [
    "По результатам кросс-валидации лучшую метрику ROC-AUC получили на модели CatBoostClassifier равную 0.91.  \n",
    "Посмотрим важность признаков по модели CatBoostClassifier."
   ]
  },
  {
   "cell_type": "code",
   "execution_count": 82,
   "id": "fdcd743a",
   "metadata": {},
   "outputs": [
    {
     "data": {
      "image/png": "[encoded data removed]",
      "text/plain": [
       "<Figure size 720x288 with 1 Axes>"
      ]
     },
     "metadata": {
      "needs_background": "light"
     },
     "output_type": "display_data"
    }
   ],
   "source": [
    "feature_importance = (pd.DataFrame({'features': list(X_train_cbc.columns), \n",
    "                                     'importance': estimator_cbc.feature_importances_})\n",
    "                       .sort_values(by='importance', ascending=False))\n",
    "plt.figure(figsize=(10, 4));\n",
    "sns.barplot(x='importance', y='features', data=feature_importance);\n",
    "plt.title('Важность признаков');"
   ]
  },
  {
   "cell_type": "markdown",
   "id": "5ca2e425",
   "metadata": {},
   "source": [
    "Самым важным признаком у модели является duration, добавленный нами в ходе исследовательского анализа. Не менее важные признаки MonthlyCharges, Type и InternetService.  \n",
    "\n",
    "Получим предсказания нашей лучшей модели на тестовой выборке и выведем график ROC-AUC."
   ]
  },
  {
   "cell_type": "code",
   "execution_count": 83,
   "id": "64996021",
   "metadata": {},
   "outputs": [
    {
     "data": {
      "image/png": "[encoded data removed]",
      "text/plain": [
       "<Figure size 720x720 with 1 Axes>"
      ]
     },
     "metadata": {
      "needs_background": "light"
     },
     "output_type": "display_data"
    },
    {
     "name": "stdout",
     "output_type": "stream",
     "text": [
      "ROC-AUC: 0.9212698039708886\n"
     ]
    }
   ],
   "source": [
    "predict = estimator_cbc.predict_proba(X_test_cbc)[:, 1]\n",
    "\n",
    "fpr, tpr, thresholds = roc_curve(y_test_cbc, predict)\n",
    "plt.figure(figsize=(10, 10))\n",
    "plt.plot(fpr, tpr, linestyle='-')\n",
    "plt.plot([0, 1], [0, 1], linestyle='--')\n",
    "plt.xlim([0.0, 1.0])\n",
    "plt.ylim([0.0, 1.0])\n",
    "plt.xlabel('False Positive Rate')\n",
    "plt.ylabel('True Positive Rate')\n",
    "plt.title('ROC-кривая')\n",
    "plt.show()\n",
    "print(\"ROC-AUC:\", roc_auc_score(y_test_cbc, predict))"
   ]
  },
  {
   "cell_type": "markdown",
   "id": "b0417dc0",
   "metadata": {},
   "source": [
    "Метрика на тестовой выборке еще выше. Проверим другие метрики по выбранной модели."
   ]
  },
  {
   "cell_type": "code",
   "execution_count": 84,
   "id": "21681951",
   "metadata": {},
   "outputs": [
    {
     "name": "stdout",
     "output_type": "stream",
     "text": [
      "Accuracy 0.8739352640545145\n",
      "F1 0.7369668246445498\n"
     ]
    }
   ],
   "source": [
    "y_bin = (predict >= 0.5)*1\n",
    "print('Accuracy', accuracy_score(y_test_cbc, y_bin))\n",
    "print('F1', f1_score(y_test_cbc, y_bin))"
   ]
  },
  {
   "cell_type": "markdown",
   "id": "511faf25",
   "metadata": {},
   "source": [
    "### Вывод"
   ]
  },
  {
   "cell_type": "code",
   "execution_count": 85,
   "id": "74c335eb",
   "metadata": {
    "scrolled": true
   },
   "outputs": [
    {
     "data": {
      "text/html": [
       "<style  type=\"text/css\" >\n",
       "#T_1104a_row0_col2{\n",
       "            background-color:  green;\n",
       "        }</style><table id=\"T_1104a_\" ><thead>    <tr>        <th class=\"blank level0\" ></th>        <th class=\"col_heading level0 col0\" >model</th>        <th class=\"col_heading level0 col1\" >best_params</th>        <th class=\"col_heading level0 col2\" >ROC-AUC</th>        <th class=\"col_heading level0 col3\" >Статус</th>    </tr></thead><tbody>\n",
       "                <tr>\n",
       "                        <th id=\"T_1104a_level0_row0\" class=\"row_heading level0 row0\" >0</th>\n",
       "                        <td id=\"T_1104a_row0_col0\" class=\"data row0 col0\" >CatBoostClassifier CV</td>\n",
       "                        <td id=\"T_1104a_row0_col1\" class=\"data row0 col1\" >{'learning_rate': 0.1, 'iterations': 600, 'depth': 4}</td>\n",
       "                        <td id=\"T_1104a_row0_col2\" class=\"data row0 col2\" >0.914662</td>\n",
       "                        <td id=\"T_1104a_row0_col3\" class=\"data row0 col3\" >Метрика достигнута</td>\n",
       "            </tr>\n",
       "            <tr>\n",
       "                        <th id=\"T_1104a_level0_row1\" class=\"row_heading level0 row1\" >1</th>\n",
       "                        <td id=\"T_1104a_row1_col0\" class=\"data row1 col0\" >LGBMClassifier CV</td>\n",
       "                        <td id=\"T_1104a_row1_col1\" class=\"data row1 col1\" >{'num_leaves': 128, 'n_estimators': 400, 'max_depth': 7, 'learning_rate': 0.1}</td>\n",
       "                        <td id=\"T_1104a_row1_col2\" class=\"data row1 col2\" >0.895809</td>\n",
       "                        <td id=\"T_1104a_row1_col3\" class=\"data row1 col3\" >Метрика достигнута</td>\n",
       "            </tr>\n",
       "            <tr>\n",
       "                        <th id=\"T_1104a_level0_row2\" class=\"row_heading level0 row2\" >2</th>\n",
       "                        <td id=\"T_1104a_row2_col0\" class=\"data row2 col0\" >RandomForestClassifier CV</td>\n",
       "                        <td id=\"T_1104a_row2_col1\" class=\"data row2 col1\" >{'n_estimators': 701, 'max_depth': 9}</td>\n",
       "                        <td id=\"T_1104a_row2_col2\" class=\"data row2 col2\" >0.858804</td>\n",
       "                        <td id=\"T_1104a_row2_col3\" class=\"data row2 col3\" >Метрика достигнута</td>\n",
       "            </tr>\n",
       "    </tbody></table>"
      ],
      "text/plain": [
       "<pandas.io.formats.style.Styler at 0x7f08d7262d00>"
      ]
     },
     "execution_count": 85,
     "metadata": {},
     "output_type": "execute_result"
    }
   ],
   "source": [
    "model_table = (pd.DataFrame({'model' : model_name,   \n",
    "                             'best_params': best_params,\n",
    "                             'ROC-AUC': roc_auc,\n",
    "                            })\n",
    "               .sort_values(by='ROC-AUC', ascending=False).reset_index(drop=True)\n",
    "              )\n",
    "model_table['Статус'] = model_table['ROC-AUC'].apply(lambda x:'Метрика достигнута' if x >= 0.85 else 'Метрика не достигнута')\n",
    "model_table.style.highlight_max(['ROC-AUC'], color='green', axis=0)"
   ]
  },
  {
   "cell_type": "markdown",
   "id": "0d199619",
   "metadata": {},
   "source": [
    "В результате проведенных иследований, получили портрет клиента, которые чаще всего покидают компанию.  \n",
    "Компанию покидают чаще всего прибыльные пользователи:\n",
    "- Не имеет иждевенцев\n",
    "- Холост/не замужем\n",
    "- Имеет статус пенсионера\n",
    "- Не пользуется блокировками небезопасных сайтов\n",
    "- Не имеет выделенной линии поддержки\n",
    "- Не пользуется облачным хранилищем\n",
    "- Не использует антивирусное ПО\n",
    "- Нет разницы по половому признаку\n",
    "- Пользуется интренет-соединением типа оптоволокно\n",
    "- Пользуется электронными чеками\n",
    "\n",
    "Чем выше помесячная оплата, тем выше вероятность ухода. Данные исследования подтвердились также выводами моделей на важности признаков.\n",
    "\n",
    "По результатам работы быи выполнены все пункты плана работ. \n",
    "* Выгрузили данные и дали краткое описание.  \n",
    "* Выполнили предобработку данных (проверили на пропуски, явные дубли, аномалии, изменили тип данных).  \n",
    "* Выполнили короткий исследовательский анализ до объединения данных в один датасет.  \n",
    "* Подготовили данные к обучению: объеденили таблицы в один датасет, обработали пропуски, которые образовались в ходе объединения, провели дополнительный анализ данных, выполнили проверку на мультиколлинеарность, подготовили небольшой Pipeline предобработки для обучения. Создали дополнительный признак `duration`, длительность контракта в днях. Удалили `EndDate` и `BeginDate`, чтобы избежать утечки данных. По показаниям взаимной информации `duration` имеет 0.3п взаимной информации и будет приемлем для обработки. Была обнаружена сильная корреляция между количеством дней и итоговым/накопительным счетом - признак TotalCharges удалили.  \n",
    "* Обучили три модели: CatBoostClassifier, LGBMClassifier и RandomForestClassifier с подбором гиперпараметров и кросс-валидацией. Выбрали лучшую модель, по которой провели тест, вывели график с ключевой метрикой, так же получили показания по другим метрикам. Изучили важность признаков для модели.\n",
    "\n",
    "В ходе обучения выяснено, что наиболее важными признаки для лучшей модели стали - duration, MonthleCharges, Type и InternetService.  \n",
    "Целевой метрикой обозначили ROC-AUC со следующими критериями оценки:  \n",
    "• 0.85 ≤ AUC-ROC < 0.87 — удовлетворительно  \n",
    "• 0.87 ≤ AUC-ROC < 0.88 — хорошо  \n",
    "• AUC-ROC ≥ 0.88 — отлично    \n",
    "Лучше себя показала модель на базе CatBoost, метрика AUC на тесте достигла 0.92, дополнительно посмотрели метрики:\n",
    "* F1 0.74, что можно считать неплохим результатом  \n",
    "* Accuracy  0.87  \n",
    "Работа осложняется подбором гиперпараметров с помощью RandomizedSearchCV и GridSearchCV, возможно стоит попробовать подбирать гиперпараметры с помощью Optuna. RandomForestClassifier выдал самую плохую метрику из трех моделей, но соответствующую критериям оценки."
   ]
  },
  {
   "cell_type": "markdown",
   "id": "140b9a3c",
   "metadata": {},
   "source": [
    "## Отчет о проделанной работе\n",
    "\n",
    "**Цель проекта** – разработать модель прогнозирования оттока клиентов (Churn prediction model). Модель должна быть готова через 2 недели. За это время необходимо провести исследование и разработать самостоятельно модель, написать отчет по исследованию. После этого модель пойдет в Production.\n",
    "\n",
    "**Описание проекта:**  \n",
    "Оператор связи «Ниединогоразрыва.ком» хочет научиться прогнозировать отток клиентов. Если выяснится, что пользователь планирует уйти, ему будут предложены промокоды и специальные условия. Команда оператора собрала персональные данные о некоторых клиентах, информацию об их тарифах и договорах.\n",
    "\n",
    "Отдел маркетинга провел исследование и выяснил, что в последнее время из нашей компании все чаще начали уходить клиенты к конкурентам. Стоимость маркетинговых затрат на возврат ушедшего клиента весьма высока, дешевле удержать клиента.\n",
    "\n",
    "**Описание данных**\n",
    "\n",
    "Данные состоят из файлов, полученных из разных источников:\n",
    "\n",
    "- `contract.csv` — информация о договоре;\n",
    "- `personal.csv` — персональные данные клиента;\n",
    "- `internet.csv` — информация об интернет-услугах;\n",
    "- `phone.csv` — информация об услугах телефонии.\n",
    "\n",
    "Во всех файлах столбец `customerID` содержит код клиента.\n",
    "\n",
    "Информация о договорах актуальна на 1 февраля 2020."
   ]
  },
  {
   "cell_type": "markdown",
   "id": "5dd377b4",
   "metadata": {},
   "source": [
    "План работы был следующим:\n",
    "\n",
    "1.  Загрузка данных и описание  \n",
    "    1.1  Вывод  \n",
    "2.  Предобработка данных  \n",
    "    2.1  Проверка на пропуски  \n",
    "    2.2  Изменение типов данных  \n",
    "    2.3  Проверка на явные дубликаты  \n",
    "    2.4  Проверка на аномалии  \n",
    "    2.5  Вывод  \n",
    "3.  Исследовательский анализ данных  \n",
    "4.  Подготовка данных к обучению  \n",
    "    4.1  Объединение таблиц в единый датасет  \n",
    "    4.2  Обработка пропусков в новом датасете  \n",
    "    4.3  Дополнительный анализ данных после объединения таблиц  \n",
    "    4.4  Проверка на мультиколлинеарность  \n",
    "    4.5  Pipeline предобработки  \n",
    "    4.6  Вывод  \n",
    "5.  Обучение моделей  \n",
    "    5.1  CatBoostClassifier  \n",
    "    5.2  LGBMClassifier  \n",
    "    5.3  RandomForestClassifier  \n",
    "    5.4  Выбор лучшей модели и ее тестирование  \n",
    "6.  Отчет по результатам анализа"
   ]
  },
  {
   "cell_type": "markdown",
   "id": "ada29120",
   "metadata": {},
   "source": [
    "### Какие пункты плана были выполнены, а какие — нет?"
   ]
  },
  {
   "cell_type": "markdown",
   "id": "dd7096cd",
   "metadata": {},
   "source": [
    "По результатам работы быи выполнены все пункты плана работ. \n",
    "1. Выгрузили данные и дали краткое описание.  \n",
    "2. Выполнили предобработку данных (проверили на пропуски, явные дубли, аномалии, изменили тип данных).  \n",
    "3. Выполнили короткий исследовательский анализ до объединения данных в один датасет.  \n",
    "4. Подготовили данные к обучению: объеденили таблицы в один датасет, обработали пропуски, которые образовались в ходе объединения, провели дополнительный анализ данных, выполнили проверку на мультиколлинеарность, подготовили небольшой Pipeline предобработки для обучения. Создали дополнительный признак `duration`, длительность контракта в днях. Удалили `EndDate` и `BeginDate`, чтобы избежать утечки данных. По показаниям взаимной информации `duration` имеет 0.3п взаимной информации и будет приемлем для обработки. Была обнаружена сильная корреляция между количеством дней и итоговым/накопительным счетом - признак TotalCharges удалили.  \n",
    "5. Обучили три модели: CatBoostClassifier, LGBMClassifier и RandomForestClassifier с подбором гиперпараметров и кросс-валидацией. Выбрали лучшую модель, по которой провели тест, вывели график с ключевой метрикой, так же получили показания по другим метрикам. Изучили важность признаков для модели."
   ]
  },
  {
   "cell_type": "markdown",
   "id": "2ec2bfaa",
   "metadata": {},
   "source": [
    "### Какие трудности возникли и как их преодолели?"
   ]
  },
  {
   "cell_type": "markdown",
   "id": "599acda0",
   "metadata": {},
   "source": [
    "Работа осложнялась подбором гиперпараметров, т.к. на это расходуется много времени, начинали подбор с помощью с помощью GridSearchCV, но он мог занимать сутки, поэтому было принято решение использовать RandomizedSearchCV. Возможно стоит попробовать подбирать гиперпараметры с помощью Optuna, она отрабаывает быстрее."
   ]
  },
  {
   "cell_type": "markdown",
   "id": "830366a8",
   "metadata": {},
   "source": [
    "### Какие ключевые шаги в решении задачи выделили?"
   ]
  },
  {
   "cell_type": "markdown",
   "id": "03b0c0ff",
   "metadata": {},
   "source": [
    "Ключевыми шагами в работе являлись:  \n",
    "* *Предобработка данных.* После объединения было много пропусков в данных, сам датасет был небольшой ~ 7000 записей и удалять пропуски было бы нерациональным решением. Так же было важно добавить целевой признак target - факт ухода клиента из компании и признак duration - длительность контракта в днях и удалить признаки EndDate и BeginDate, чтобы избежать утечки данных.  \n",
    "* *Проверка на мультиколлинеарность.* Данный шаг является важным, если будут использовать линейные модели. В нашей работе линейные модели не применялись, но данный пункт мы выполнили и по результатам удалили признак TotalCharges, т.к. была обнаружена сильная корреляция с duration.  \n",
    "* *Обучение моделей*. Необходимо уделить достаточное время для подбора гиперпараметров моделей, т.к. достигнутые метрики в нашей проекте скорее всего не являются пределом.Обязательно фиксировать полученные метрики по каждй модели для выбора лучшей в дальнейшем.\n",
    "* *Выбор лучшей модели и ее тестирование.* Проведение анализа важности факторов с помощью команды feature_importances_. График рейтинга факторов по силе влияния на целевой признака отражает, что часть факторов слабозначимые для модели и оказывают незначительное влияние на целевой признак, можно убрать из модели признаки: streamingmovies, dependents и посмотреть, какой результат будет достигнут; затем убрать еще пару признаков: onlinebackup и deviceprotection и уже выбрать окончательную форму датасета для обучения с лучшими целевыми метриками. Эти признаки скорее всего не влияют на уход клиента. В ходе обучения выяснено, что наиболее важными признаками для ухода клиента стали - duration, MonthleCharges, Type и InternetService."
   ]
  },
  {
   "cell_type": "markdown",
   "id": "b9a97fc4",
   "metadata": {},
   "source": [
    "### Какая итоговая модель и какое у неё качество?"
   ]
  },
  {
   "attachments": {
    "image.png": {
     "image/png": "[encoded data removed]"
    }
   },
   "cell_type": "markdown",
   "id": "6ba2acf8",
   "metadata": {},
   "source": [
    "Лучше себя показала модель CatBoostClassifier с гиперпараметрами 'learning_rate'= 0.1, 'iterations'=600, 'depth'=4.  \n",
    "Метрика AUC на тесте достигла 0.92, дополнительно посмотрели метрики:\n",
    "* F1 0.74, что можно считать неплохим результатом  \n",
    "* Accuracy  0.87  \n",
    "\n",
    "Ниже представлена сравнительная таблица по результатам кросс-валидации моделей:\n",
    "\n",
    "![image.png](attachment:image.png)"
   ]
  }
 ],
 "metadata": {
  "ExecuteTimeLog": [
   {
    "duration": 87,
    "start_time": "2022-11-01T09:55:56.487Z"
   },
   {
    "duration": 77,
    "start_time": "2022-11-01T09:59:17.826Z"
   },
   {
    "duration": 128,
    "start_time": "2022-11-01T10:00:59.305Z"
   },
   {
    "duration": 78,
    "start_time": "2022-11-01T10:04:21.417Z"
   },
   {
    "duration": 72,
    "start_time": "2022-11-01T12:35:46.616Z"
   },
   {
    "duration": 55,
    "start_time": "2022-11-01T12:36:07.913Z"
   },
   {
    "duration": 46,
    "start_time": "2022-11-02T06:30:16.290Z"
   },
   {
    "duration": 1317,
    "start_time": "2022-11-02T06:30:24.979Z"
   },
   {
    "duration": 443,
    "start_time": "2022-11-02T06:30:26.298Z"
   },
   {
    "duration": 26,
    "start_time": "2022-11-02T06:30:26.743Z"
   },
   {
    "duration": 16,
    "start_time": "2022-11-02T06:30:26.771Z"
   },
   {
    "duration": 18,
    "start_time": "2022-11-02T06:30:26.789Z"
   },
   {
    "duration": 13,
    "start_time": "2022-11-02T06:30:26.809Z"
   },
   {
    "duration": 9,
    "start_time": "2022-11-02T06:30:26.824Z"
   },
   {
    "duration": 4,
    "start_time": "2022-11-02T06:30:26.835Z"
   },
   {
    "duration": 51,
    "start_time": "2022-11-02T06:30:26.841Z"
   },
   {
    "duration": 5,
    "start_time": "2022-11-02T06:30:26.894Z"
   },
   {
    "duration": 15,
    "start_time": "2022-11-02T06:30:26.900Z"
   },
   {
    "duration": 14,
    "start_time": "2022-11-02T06:30:26.916Z"
   },
   {
    "duration": 22,
    "start_time": "2022-11-02T06:30:26.931Z"
   },
   {
    "duration": 49,
    "start_time": "2022-11-02T06:30:26.956Z"
   },
   {
    "duration": 4,
    "start_time": "2022-11-02T06:30:27.006Z"
   },
   {
    "duration": 267,
    "start_time": "2022-11-02T06:30:27.012Z"
   },
   {
    "duration": 255,
    "start_time": "2022-11-02T06:30:27.281Z"
   },
   {
    "duration": 4,
    "start_time": "2022-11-02T06:30:27.537Z"
   },
   {
    "duration": 21,
    "start_time": "2022-11-02T06:30:27.543Z"
   },
   {
    "duration": 4,
    "start_time": "2022-11-02T06:30:27.565Z"
   },
   {
    "duration": 224,
    "start_time": "2022-11-02T06:30:27.570Z"
   },
   {
    "duration": 195,
    "start_time": "2022-11-02T06:30:27.796Z"
   },
   {
    "duration": 206,
    "start_time": "2022-11-02T06:30:27.993Z"
   },
   {
    "duration": 199,
    "start_time": "2022-11-02T06:30:28.201Z"
   },
   {
    "duration": 23,
    "start_time": "2022-11-02T06:30:28.402Z"
   },
   {
    "duration": 33,
    "start_time": "2022-11-02T06:30:28.427Z"
   },
   {
    "duration": 34,
    "start_time": "2022-11-02T06:30:28.462Z"
   },
   {
    "duration": 124,
    "start_time": "2022-11-02T06:30:28.498Z"
   },
   {
    "duration": 20,
    "start_time": "2022-11-02T06:34:40.153Z"
   },
   {
    "duration": 27,
    "start_time": "2022-11-02T06:34:45.993Z"
   },
   {
    "duration": 30,
    "start_time": "2022-11-02T06:35:16.003Z"
   },
   {
    "duration": 30,
    "start_time": "2022-11-02T06:35:55.532Z"
   },
   {
    "duration": 25,
    "start_time": "2022-11-02T06:35:59.183Z"
   },
   {
    "duration": 8,
    "start_time": "2022-11-02T06:37:22.282Z"
   },
   {
    "duration": 19,
    "start_time": "2022-11-02T06:37:29.153Z"
   },
   {
    "duration": 5,
    "start_time": "2022-11-02T06:37:54.313Z"
   },
   {
    "duration": 18,
    "start_time": "2022-11-02T06:39:39.747Z"
   },
   {
    "duration": 16,
    "start_time": "2022-11-02T06:39:43.764Z"
   },
   {
    "duration": 21,
    "start_time": "2022-11-02T06:39:46.552Z"
   },
   {
    "duration": 21,
    "start_time": "2022-11-02T06:39:50.414Z"
   },
   {
    "duration": 31,
    "start_time": "2022-11-02T06:42:22.087Z"
   },
   {
    "duration": 21,
    "start_time": "2022-11-02T06:42:27.108Z"
   },
   {
    "duration": 4,
    "start_time": "2022-11-02T06:52:35.148Z"
   },
   {
    "duration": 1173,
    "start_time": "2022-11-02T06:53:10.839Z"
   },
   {
    "duration": 96,
    "start_time": "2022-11-02T06:55:55.905Z"
   },
   {
    "duration": 1113,
    "start_time": "2022-11-02T06:56:03.446Z"
   },
   {
    "duration": 104,
    "start_time": "2022-11-02T06:56:04.561Z"
   },
   {
    "duration": 25,
    "start_time": "2022-11-02T06:56:04.667Z"
   },
   {
    "duration": 17,
    "start_time": "2022-11-02T06:56:04.693Z"
   },
   {
    "duration": 18,
    "start_time": "2022-11-02T06:56:04.714Z"
   },
   {
    "duration": 13,
    "start_time": "2022-11-02T06:56:04.733Z"
   },
   {
    "duration": 10,
    "start_time": "2022-11-02T06:56:04.748Z"
   },
   {
    "duration": 4,
    "start_time": "2022-11-02T06:56:04.792Z"
   },
   {
    "duration": 19,
    "start_time": "2022-11-02T06:56:04.797Z"
   },
   {
    "duration": 5,
    "start_time": "2022-11-02T06:56:04.818Z"
   },
   {
    "duration": 15,
    "start_time": "2022-11-02T06:56:04.824Z"
   },
   {
    "duration": 12,
    "start_time": "2022-11-02T06:56:04.840Z"
   },
   {
    "duration": 47,
    "start_time": "2022-11-02T06:56:04.854Z"
   },
   {
    "duration": 19,
    "start_time": "2022-11-02T06:56:04.903Z"
   },
   {
    "duration": 4,
    "start_time": "2022-11-02T06:56:04.924Z"
   },
   {
    "duration": 272,
    "start_time": "2022-11-02T06:56:04.929Z"
   },
   {
    "duration": 245,
    "start_time": "2022-11-02T06:56:05.203Z"
   },
   {
    "duration": 3,
    "start_time": "2022-11-02T06:56:05.449Z"
   },
   {
    "duration": 29,
    "start_time": "2022-11-02T06:56:05.454Z"
   },
   {
    "duration": 4,
    "start_time": "2022-11-02T06:56:05.491Z"
   },
   {
    "duration": 221,
    "start_time": "2022-11-02T06:56:05.496Z"
   },
   {
    "duration": 195,
    "start_time": "2022-11-02T06:56:05.718Z"
   },
   {
    "duration": 207,
    "start_time": "2022-11-02T06:56:05.915Z"
   },
   {
    "duration": 184,
    "start_time": "2022-11-02T06:56:06.124Z"
   },
   {
    "duration": 18,
    "start_time": "2022-11-02T06:56:06.309Z"
   },
   {
    "duration": 20,
    "start_time": "2022-11-02T06:56:06.329Z"
   },
   {
    "duration": 17,
    "start_time": "2022-11-02T06:56:06.351Z"
   },
   {
    "duration": 38,
    "start_time": "2022-11-02T06:56:06.391Z"
   },
   {
    "duration": 29,
    "start_time": "2022-11-02T06:56:06.432Z"
   },
   {
    "duration": 28,
    "start_time": "2022-11-02T06:56:06.463Z"
   },
   {
    "duration": 1343,
    "start_time": "2022-11-02T06:56:06.494Z"
   },
   {
    "duration": 36,
    "start_time": "2022-11-02T06:56:26.492Z"
   },
   {
    "duration": 1149,
    "start_time": "2022-11-02T06:57:08.064Z"
   },
   {
    "duration": 103,
    "start_time": "2022-11-02T06:57:09.215Z"
   },
   {
    "duration": 24,
    "start_time": "2022-11-02T06:57:09.319Z"
   },
   {
    "duration": 15,
    "start_time": "2022-11-02T06:57:09.344Z"
   },
   {
    "duration": 18,
    "start_time": "2022-11-02T06:57:09.361Z"
   },
   {
    "duration": 23,
    "start_time": "2022-11-02T06:57:09.381Z"
   },
   {
    "duration": 11,
    "start_time": "2022-11-02T06:57:09.405Z"
   },
   {
    "duration": 5,
    "start_time": "2022-11-02T06:57:09.417Z"
   },
   {
    "duration": 16,
    "start_time": "2022-11-02T06:57:09.424Z"
   },
   {
    "duration": 5,
    "start_time": "2022-11-02T06:57:09.442Z"
   },
   {
    "duration": 44,
    "start_time": "2022-11-02T06:57:09.448Z"
   },
   {
    "duration": 12,
    "start_time": "2022-11-02T06:57:09.494Z"
   },
   {
    "duration": 18,
    "start_time": "2022-11-02T06:57:09.507Z"
   },
   {
    "duration": 18,
    "start_time": "2022-11-02T06:57:09.528Z"
   },
   {
    "duration": 4,
    "start_time": "2022-11-02T06:57:09.547Z"
   },
   {
    "duration": 293,
    "start_time": "2022-11-02T06:57:09.553Z"
   },
   {
    "duration": 250,
    "start_time": "2022-11-02T06:57:09.848Z"
   },
   {
    "duration": 4,
    "start_time": "2022-11-02T06:57:10.100Z"
   },
   {
    "duration": 30,
    "start_time": "2022-11-02T06:57:10.105Z"
   },
   {
    "duration": 4,
    "start_time": "2022-11-02T06:57:10.137Z"
   },
   {
    "duration": 226,
    "start_time": "2022-11-02T06:57:10.142Z"
   },
   {
    "duration": 207,
    "start_time": "2022-11-02T06:57:10.370Z"
   },
   {
    "duration": 179,
    "start_time": "2022-11-02T06:57:10.578Z"
   },
   {
    "duration": 184,
    "start_time": "2022-11-02T06:57:10.758Z"
   },
   {
    "duration": 23,
    "start_time": "2022-11-02T06:57:10.944Z"
   },
   {
    "duration": 35,
    "start_time": "2022-11-02T06:57:10.969Z"
   },
   {
    "duration": 17,
    "start_time": "2022-11-02T06:57:11.006Z"
   },
   {
    "duration": 33,
    "start_time": "2022-11-02T06:57:11.025Z"
   },
   {
    "duration": 44,
    "start_time": "2022-11-02T06:57:11.060Z"
   },
   {
    "duration": 4,
    "start_time": "2022-11-02T06:57:11.105Z"
   },
   {
    "duration": 1307,
    "start_time": "2022-11-02T06:57:11.112Z"
   },
   {
    "duration": 1080,
    "start_time": "2022-11-02T06:59:14.149Z"
   },
   {
    "duration": 104,
    "start_time": "2022-11-02T06:59:15.231Z"
   },
   {
    "duration": 24,
    "start_time": "2022-11-02T06:59:15.337Z"
   },
   {
    "duration": 17,
    "start_time": "2022-11-02T06:59:15.363Z"
   },
   {
    "duration": 18,
    "start_time": "2022-11-02T06:59:15.382Z"
   },
   {
    "duration": 14,
    "start_time": "2022-11-02T06:59:15.401Z"
   },
   {
    "duration": 10,
    "start_time": "2022-11-02T06:59:15.417Z"
   },
   {
    "duration": 9,
    "start_time": "2022-11-02T06:59:15.429Z"
   },
   {
    "duration": 17,
    "start_time": "2022-11-02T06:59:15.440Z"
   },
   {
    "duration": 4,
    "start_time": "2022-11-02T06:59:15.459Z"
   },
   {
    "duration": 37,
    "start_time": "2022-11-02T06:59:15.464Z"
   },
   {
    "duration": 11,
    "start_time": "2022-11-02T06:59:15.503Z"
   },
   {
    "duration": 19,
    "start_time": "2022-11-02T06:59:15.515Z"
   },
   {
    "duration": 19,
    "start_time": "2022-11-02T06:59:15.537Z"
   },
   {
    "duration": 4,
    "start_time": "2022-11-02T06:59:15.558Z"
   },
   {
    "duration": 262,
    "start_time": "2022-11-02T06:59:15.591Z"
   },
   {
    "duration": 253,
    "start_time": "2022-11-02T06:59:15.854Z"
   },
   {
    "duration": 3,
    "start_time": "2022-11-02T06:59:16.109Z"
   },
   {
    "duration": 23,
    "start_time": "2022-11-02T06:59:16.113Z"
   },
   {
    "duration": 4,
    "start_time": "2022-11-02T06:59:16.138Z"
   },
   {
    "duration": 216,
    "start_time": "2022-11-02T06:59:16.143Z"
   },
   {
    "duration": 233,
    "start_time": "2022-11-02T06:59:16.360Z"
   },
   {
    "duration": 230,
    "start_time": "2022-11-02T06:59:16.595Z"
   },
   {
    "duration": 197,
    "start_time": "2022-11-02T06:59:16.826Z"
   },
   {
    "duration": 20,
    "start_time": "2022-11-02T06:59:17.025Z"
   },
   {
    "duration": 45,
    "start_time": "2022-11-02T06:59:17.047Z"
   },
   {
    "duration": 19,
    "start_time": "2022-11-02T06:59:17.094Z"
   },
   {
    "duration": 32,
    "start_time": "2022-11-02T06:59:17.115Z"
   },
   {
    "duration": 17,
    "start_time": "2022-11-02T06:59:17.149Z"
   },
   {
    "duration": 5,
    "start_time": "2022-11-02T06:59:17.191Z"
   },
   {
    "duration": 1296,
    "start_time": "2022-11-02T06:59:17.197Z"
   },
   {
    "duration": 1097,
    "start_time": "2022-11-02T07:02:14.742Z"
   },
   {
    "duration": 103,
    "start_time": "2022-11-02T07:02:15.841Z"
   },
   {
    "duration": 27,
    "start_time": "2022-11-02T07:02:15.946Z"
   },
   {
    "duration": 18,
    "start_time": "2022-11-02T07:02:15.974Z"
   },
   {
    "duration": 21,
    "start_time": "2022-11-02T07:02:15.994Z"
   },
   {
    "duration": 19,
    "start_time": "2022-11-02T07:02:16.017Z"
   },
   {
    "duration": 14,
    "start_time": "2022-11-02T07:02:16.038Z"
   },
   {
    "duration": 37,
    "start_time": "2022-11-02T07:02:16.054Z"
   },
   {
    "duration": 17,
    "start_time": "2022-11-02T07:02:16.093Z"
   },
   {
    "duration": 6,
    "start_time": "2022-11-02T07:02:16.111Z"
   },
   {
    "duration": 13,
    "start_time": "2022-11-02T07:02:16.119Z"
   },
   {
    "duration": 13,
    "start_time": "2022-11-02T07:02:16.134Z"
   },
   {
    "duration": 49,
    "start_time": "2022-11-02T07:02:16.148Z"
   },
   {
    "duration": 20,
    "start_time": "2022-11-02T07:02:16.200Z"
   },
   {
    "duration": 4,
    "start_time": "2022-11-02T07:02:16.222Z"
   },
   {
    "duration": 314,
    "start_time": "2022-11-02T07:02:16.228Z"
   },
   {
    "duration": 310,
    "start_time": "2022-11-02T07:02:16.544Z"
   },
   {
    "duration": 3,
    "start_time": "2022-11-02T07:02:16.855Z"
   },
   {
    "duration": 35,
    "start_time": "2022-11-02T07:02:16.860Z"
   },
   {
    "duration": 7,
    "start_time": "2022-11-02T07:02:16.897Z"
   },
   {
    "duration": 223,
    "start_time": "2022-11-02T07:02:16.905Z"
   },
   {
    "duration": 220,
    "start_time": "2022-11-02T07:02:17.130Z"
   },
   {
    "duration": 241,
    "start_time": "2022-11-02T07:02:17.352Z"
   },
   {
    "duration": 198,
    "start_time": "2022-11-02T07:02:17.595Z"
   },
   {
    "duration": 22,
    "start_time": "2022-11-02T07:02:17.795Z"
   },
   {
    "duration": 25,
    "start_time": "2022-11-02T07:02:17.819Z"
   },
   {
    "duration": 46,
    "start_time": "2022-11-02T07:02:17.846Z"
   },
   {
    "duration": 35,
    "start_time": "2022-11-02T07:02:17.894Z"
   },
   {
    "duration": 30,
    "start_time": "2022-11-02T07:02:17.931Z"
   },
   {
    "duration": 30,
    "start_time": "2022-11-02T07:02:17.963Z"
   },
   {
    "duration": 1367,
    "start_time": "2022-11-02T07:02:17.995Z"
   },
   {
    "duration": 4,
    "start_time": "2022-11-02T07:06:02.694Z"
   },
   {
    "duration": 114,
    "start_time": "2022-11-02T07:06:02.699Z"
   },
   {
    "duration": 20,
    "start_time": "2022-11-02T07:06:02.814Z"
   },
   {
    "duration": 38,
    "start_time": "2022-11-02T07:06:02.836Z"
   },
   {
    "duration": 19,
    "start_time": "2022-11-02T07:06:02.876Z"
   },
   {
    "duration": 17,
    "start_time": "2022-11-02T07:06:02.896Z"
   },
   {
    "duration": 9,
    "start_time": "2022-11-02T07:06:02.915Z"
   },
   {
    "duration": 7,
    "start_time": "2022-11-02T07:06:02.926Z"
   },
   {
    "duration": 18,
    "start_time": "2022-11-02T07:06:02.935Z"
   },
   {
    "duration": 39,
    "start_time": "2022-11-02T07:06:02.955Z"
   },
   {
    "duration": 12,
    "start_time": "2022-11-02T07:06:02.996Z"
   },
   {
    "duration": 19,
    "start_time": "2022-11-02T07:06:03.010Z"
   },
   {
    "duration": 27,
    "start_time": "2022-11-02T07:06:03.031Z"
   },
   {
    "duration": 42,
    "start_time": "2022-11-02T07:06:03.060Z"
   },
   {
    "duration": 4,
    "start_time": "2022-11-02T07:06:03.103Z"
   },
   {
    "duration": 331,
    "start_time": "2022-11-02T07:06:03.109Z"
   },
   {
    "duration": 244,
    "start_time": "2022-11-02T07:06:03.443Z"
   },
   {
    "duration": 4,
    "start_time": "2022-11-02T07:06:03.688Z"
   },
   {
    "duration": 21,
    "start_time": "2022-11-02T07:06:03.693Z"
   },
   {
    "duration": 4,
    "start_time": "2022-11-02T07:06:03.715Z"
   },
   {
    "duration": 220,
    "start_time": "2022-11-02T07:06:03.721Z"
   },
   {
    "duration": 198,
    "start_time": "2022-11-02T07:06:03.942Z"
   },
   {
    "duration": 186,
    "start_time": "2022-11-02T07:06:04.142Z"
   },
   {
    "duration": 228,
    "start_time": "2022-11-02T07:06:04.330Z"
   },
   {
    "duration": 275,
    "start_time": "2022-11-02T07:06:06.883Z"
   },
   {
    "duration": 24,
    "start_time": "2022-11-02T07:06:14.443Z"
   },
   {
    "duration": 24,
    "start_time": "2022-11-02T07:06:33.563Z"
   },
   {
    "duration": 19,
    "start_time": "2022-11-02T07:06:39.562Z"
   },
   {
    "duration": 20,
    "start_time": "2022-11-02T07:06:49.512Z"
   },
   {
    "duration": 80,
    "start_time": "2022-11-02T07:09:43.562Z"
   },
   {
    "duration": 12,
    "start_time": "2022-11-02T07:10:33.593Z"
   },
   {
    "duration": 13,
    "start_time": "2022-11-02T07:10:38.804Z"
   },
   {
    "duration": 1179,
    "start_time": "2022-11-02T07:11:11.296Z"
   },
   {
    "duration": 106,
    "start_time": "2022-11-02T07:11:12.477Z"
   },
   {
    "duration": 24,
    "start_time": "2022-11-02T07:11:12.585Z"
   },
   {
    "duration": 22,
    "start_time": "2022-11-02T07:11:12.612Z"
   },
   {
    "duration": 23,
    "start_time": "2022-11-02T07:11:12.636Z"
   },
   {
    "duration": 39,
    "start_time": "2022-11-02T07:11:12.661Z"
   },
   {
    "duration": 11,
    "start_time": "2022-11-02T07:11:12.702Z"
   },
   {
    "duration": 4,
    "start_time": "2022-11-02T07:11:12.715Z"
   },
   {
    "duration": 22,
    "start_time": "2022-11-02T07:11:12.720Z"
   },
   {
    "duration": 7,
    "start_time": "2022-11-02T07:11:12.746Z"
   },
   {
    "duration": 44,
    "start_time": "2022-11-02T07:11:12.755Z"
   },
   {
    "duration": 13,
    "start_time": "2022-11-02T07:11:12.800Z"
   },
   {
    "duration": 21,
    "start_time": "2022-11-02T07:11:12.816Z"
   },
   {
    "duration": 20,
    "start_time": "2022-11-02T07:11:12.838Z"
   },
   {
    "duration": 4,
    "start_time": "2022-11-02T07:11:12.890Z"
   },
   {
    "duration": 261,
    "start_time": "2022-11-02T07:11:12.896Z"
   },
   {
    "duration": 247,
    "start_time": "2022-11-02T07:11:13.159Z"
   },
   {
    "duration": 4,
    "start_time": "2022-11-02T07:11:13.408Z"
   },
   {
    "duration": 21,
    "start_time": "2022-11-02T07:11:13.414Z"
   },
   {
    "duration": 4,
    "start_time": "2022-11-02T07:11:13.437Z"
   },
   {
    "duration": 228,
    "start_time": "2022-11-02T07:11:13.443Z"
   },
   {
    "duration": 192,
    "start_time": "2022-11-02T07:11:13.673Z"
   },
   {
    "duration": 194,
    "start_time": "2022-11-02T07:11:13.867Z"
   },
   {
    "duration": 195,
    "start_time": "2022-11-02T07:11:14.063Z"
   },
   {
    "duration": 20,
    "start_time": "2022-11-02T07:11:14.259Z"
   },
   {
    "duration": 23,
    "start_time": "2022-11-02T07:11:14.292Z"
   },
   {
    "duration": 20,
    "start_time": "2022-11-02T07:11:14.317Z"
   },
   {
    "duration": 54,
    "start_time": "2022-11-02T07:11:14.341Z"
   },
   {
    "duration": 26,
    "start_time": "2022-11-02T07:11:14.397Z"
   },
   {
    "duration": 5,
    "start_time": "2022-11-02T07:11:14.426Z"
   },
   {
    "duration": 90,
    "start_time": "2022-11-02T07:11:14.433Z"
   },
   {
    "duration": 102,
    "start_time": "2022-11-02T07:11:59.238Z"
   },
   {
    "duration": 47,
    "start_time": "2022-11-02T07:12:11.666Z"
   },
   {
    "duration": 25,
    "start_time": "2022-11-02T07:12:40.206Z"
   },
   {
    "duration": 24,
    "start_time": "2022-11-02T07:12:49.086Z"
   },
   {
    "duration": 19,
    "start_time": "2022-11-02T07:13:05.919Z"
   },
   {
    "duration": 17,
    "start_time": "2022-11-02T07:13:32.308Z"
   },
   {
    "duration": 35,
    "start_time": "2022-11-02T07:39:55.384Z"
   },
   {
    "duration": 39,
    "start_time": "2022-11-02T07:42:46.713Z"
   },
   {
    "duration": 3,
    "start_time": "2022-11-02T07:44:01.714Z"
   },
   {
    "duration": 9,
    "start_time": "2022-11-02T07:44:15.282Z"
   },
   {
    "duration": 110,
    "start_time": "2022-11-02T07:44:19.144Z"
   },
   {
    "duration": 11,
    "start_time": "2022-11-02T07:44:56.705Z"
   },
   {
    "duration": 34,
    "start_time": "2022-11-02T07:44:59.414Z"
   },
   {
    "duration": 19,
    "start_time": "2022-11-02T07:45:04.575Z"
   },
   {
    "duration": 1136,
    "start_time": "2022-11-02T07:45:11.643Z"
   },
   {
    "duration": 105,
    "start_time": "2022-11-02T07:45:12.781Z"
   },
   {
    "duration": 27,
    "start_time": "2022-11-02T07:45:12.887Z"
   },
   {
    "duration": 17,
    "start_time": "2022-11-02T07:45:12.915Z"
   },
   {
    "duration": 18,
    "start_time": "2022-11-02T07:45:12.933Z"
   },
   {
    "duration": 46,
    "start_time": "2022-11-02T07:45:12.953Z"
   },
   {
    "duration": 9,
    "start_time": "2022-11-02T07:45:13.001Z"
   },
   {
    "duration": 5,
    "start_time": "2022-11-02T07:45:13.012Z"
   },
   {
    "duration": 18,
    "start_time": "2022-11-02T07:45:13.019Z"
   },
   {
    "duration": 6,
    "start_time": "2022-11-02T07:45:13.038Z"
   },
   {
    "duration": 46,
    "start_time": "2022-11-02T07:45:13.045Z"
   },
   {
    "duration": 14,
    "start_time": "2022-11-02T07:45:13.093Z"
   },
   {
    "duration": 20,
    "start_time": "2022-11-02T07:45:13.108Z"
   },
   {
    "duration": 21,
    "start_time": "2022-11-02T07:45:13.131Z"
   },
   {
    "duration": 5,
    "start_time": "2022-11-02T07:45:13.153Z"
   },
   {
    "duration": 277,
    "start_time": "2022-11-02T07:45:13.159Z"
   },
   {
    "duration": 246,
    "start_time": "2022-11-02T07:45:13.438Z"
   },
   {
    "duration": 3,
    "start_time": "2022-11-02T07:45:13.690Z"
   },
   {
    "duration": 21,
    "start_time": "2022-11-02T07:45:13.695Z"
   },
   {
    "duration": 4,
    "start_time": "2022-11-02T07:45:13.719Z"
   },
   {
    "duration": 218,
    "start_time": "2022-11-02T07:45:13.725Z"
   },
   {
    "duration": 184,
    "start_time": "2022-11-02T07:45:13.945Z"
   },
   {
    "duration": 188,
    "start_time": "2022-11-02T07:45:14.130Z"
   },
   {
    "duration": 239,
    "start_time": "2022-11-02T07:45:14.320Z"
   },
   {
    "duration": 30,
    "start_time": "2022-11-02T07:45:14.561Z"
   },
   {
    "duration": 27,
    "start_time": "2022-11-02T07:45:14.594Z"
   },
   {
    "duration": 19,
    "start_time": "2022-11-02T07:45:14.622Z"
   },
   {
    "duration": 64,
    "start_time": "2022-11-02T07:45:14.642Z"
   },
   {
    "duration": 24,
    "start_time": "2022-11-02T07:45:14.708Z"
   },
   {
    "duration": 5,
    "start_time": "2022-11-02T07:45:14.733Z"
   },
   {
    "duration": 15,
    "start_time": "2022-11-02T07:45:14.740Z"
   },
   {
    "duration": 36,
    "start_time": "2022-11-02T07:45:14.757Z"
   },
   {
    "duration": 38,
    "start_time": "2022-11-02T07:45:14.797Z"
   },
   {
    "duration": 93,
    "start_time": "2022-11-02T07:47:30.674Z"
   },
   {
    "duration": 22,
    "start_time": "2022-11-02T07:47:35.784Z"
   },
   {
    "duration": 16,
    "start_time": "2022-11-02T07:49:39.964Z"
   },
   {
    "duration": 6,
    "start_time": "2022-11-02T07:49:43.844Z"
   },
   {
    "duration": 7,
    "start_time": "2022-11-02T07:57:03.348Z"
   },
   {
    "duration": 1135,
    "start_time": "2022-11-02T07:57:10.504Z"
   },
   {
    "duration": 103,
    "start_time": "2022-11-02T07:57:11.641Z"
   },
   {
    "duration": 26,
    "start_time": "2022-11-02T07:57:11.745Z"
   },
   {
    "duration": 18,
    "start_time": "2022-11-02T07:57:11.772Z"
   },
   {
    "duration": 19,
    "start_time": "2022-11-02T07:57:11.793Z"
   },
   {
    "duration": 19,
    "start_time": "2022-11-02T07:57:11.814Z"
   },
   {
    "duration": 17,
    "start_time": "2022-11-02T07:57:11.835Z"
   },
   {
    "duration": 6,
    "start_time": "2022-11-02T07:57:11.854Z"
   },
   {
    "duration": 18,
    "start_time": "2022-11-02T07:57:11.892Z"
   },
   {
    "duration": 6,
    "start_time": "2022-11-02T07:57:11.911Z"
   },
   {
    "duration": 14,
    "start_time": "2022-11-02T07:57:11.921Z"
   },
   {
    "duration": 14,
    "start_time": "2022-11-02T07:57:11.937Z"
   },
   {
    "duration": 59,
    "start_time": "2022-11-02T07:57:11.953Z"
   },
   {
    "duration": 30,
    "start_time": "2022-11-02T07:57:12.016Z"
   },
   {
    "duration": 5,
    "start_time": "2022-11-02T07:57:12.049Z"
   },
   {
    "duration": 317,
    "start_time": "2022-11-02T07:57:12.056Z"
   },
   {
    "duration": 279,
    "start_time": "2022-11-02T07:57:12.375Z"
   },
   {
    "duration": 4,
    "start_time": "2022-11-02T07:57:12.656Z"
   },
   {
    "duration": 33,
    "start_time": "2022-11-02T07:57:12.662Z"
   },
   {
    "duration": 4,
    "start_time": "2022-11-02T07:57:12.697Z"
   },
   {
    "duration": 229,
    "start_time": "2022-11-02T07:57:12.704Z"
   },
   {
    "duration": 195,
    "start_time": "2022-11-02T07:57:12.935Z"
   },
   {
    "duration": 209,
    "start_time": "2022-11-02T07:57:13.133Z"
   },
   {
    "duration": 200,
    "start_time": "2022-11-02T07:57:13.344Z"
   },
   {
    "duration": 20,
    "start_time": "2022-11-02T07:57:13.546Z"
   },
   {
    "duration": 39,
    "start_time": "2022-11-02T07:57:13.568Z"
   },
   {
    "duration": 26,
    "start_time": "2022-11-02T07:57:13.609Z"
   },
   {
    "duration": 33,
    "start_time": "2022-11-02T07:57:13.637Z"
   },
   {
    "duration": 27,
    "start_time": "2022-11-02T07:57:13.691Z"
   },
   {
    "duration": 4,
    "start_time": "2022-11-02T07:57:13.720Z"
   },
   {
    "duration": 6,
    "start_time": "2022-11-02T07:57:13.726Z"
   },
   {
    "duration": 15,
    "start_time": "2022-11-02T07:57:13.734Z"
   },
   {
    "duration": 46,
    "start_time": "2022-11-02T07:57:13.752Z"
   },
   {
    "duration": 18,
    "start_time": "2022-11-02T07:57:13.799Z"
   },
   {
    "duration": 5,
    "start_time": "2022-11-02T07:57:13.819Z"
   },
   {
    "duration": 95,
    "start_time": "2022-11-02T07:59:11.245Z"
   },
   {
    "duration": 1197,
    "start_time": "2022-11-02T07:59:25.691Z"
   },
   {
    "duration": 102,
    "start_time": "2022-11-02T07:59:26.891Z"
   },
   {
    "duration": 25,
    "start_time": "2022-11-02T07:59:26.995Z"
   },
   {
    "duration": 24,
    "start_time": "2022-11-02T07:59:27.022Z"
   },
   {
    "duration": 46,
    "start_time": "2022-11-02T07:59:27.048Z"
   },
   {
    "duration": 13,
    "start_time": "2022-11-02T07:59:27.095Z"
   },
   {
    "duration": 12,
    "start_time": "2022-11-02T07:59:27.109Z"
   },
   {
    "duration": 4,
    "start_time": "2022-11-02T07:59:27.123Z"
   },
   {
    "duration": 20,
    "start_time": "2022-11-02T07:59:27.129Z"
   },
   {
    "duration": 39,
    "start_time": "2022-11-02T07:59:27.152Z"
   },
   {
    "duration": 15,
    "start_time": "2022-11-02T07:59:27.193Z"
   },
   {
    "duration": 16,
    "start_time": "2022-11-02T07:59:27.210Z"
   },
   {
    "duration": 26,
    "start_time": "2022-11-02T07:59:27.229Z"
   },
   {
    "duration": 55,
    "start_time": "2022-11-02T07:59:27.259Z"
   },
   {
    "duration": 6,
    "start_time": "2022-11-02T07:59:27.315Z"
   },
   {
    "duration": 270,
    "start_time": "2022-11-02T07:59:27.322Z"
   },
   {
    "duration": 242,
    "start_time": "2022-11-02T07:59:27.594Z"
   },
   {
    "duration": 3,
    "start_time": "2022-11-02T07:59:27.837Z"
   },
   {
    "duration": 34,
    "start_time": "2022-11-02T07:59:27.842Z"
   },
   {
    "duration": 4,
    "start_time": "2022-11-02T07:59:27.878Z"
   },
   {
    "duration": 225,
    "start_time": "2022-11-02T07:59:27.884Z"
   },
   {
    "duration": 192,
    "start_time": "2022-11-02T07:59:28.111Z"
   },
   {
    "duration": 200,
    "start_time": "2022-11-02T07:59:28.305Z"
   },
   {
    "duration": 196,
    "start_time": "2022-11-02T07:59:28.507Z"
   },
   {
    "duration": 20,
    "start_time": "2022-11-02T07:59:28.704Z"
   },
   {
    "duration": 21,
    "start_time": "2022-11-02T07:59:28.726Z"
   },
   {
    "duration": 19,
    "start_time": "2022-11-02T07:59:28.749Z"
   },
   {
    "duration": 35,
    "start_time": "2022-11-02T07:59:28.792Z"
   },
   {
    "duration": 26,
    "start_time": "2022-11-02T07:59:28.829Z"
   },
   {
    "duration": 4,
    "start_time": "2022-11-02T07:59:28.857Z"
   },
   {
    "duration": 31,
    "start_time": "2022-11-02T07:59:28.862Z"
   },
   {
    "duration": 14,
    "start_time": "2022-11-02T07:59:28.895Z"
   },
   {
    "duration": 8,
    "start_time": "2022-11-02T07:59:28.911Z"
   },
   {
    "duration": 16,
    "start_time": "2022-11-02T07:59:28.921Z"
   },
   {
    "duration": 4,
    "start_time": "2022-11-02T07:59:28.939Z"
   },
   {
    "duration": 6,
    "start_time": "2022-11-02T08:07:19.508Z"
   },
   {
    "duration": 57,
    "start_time": "2022-11-02T08:09:23.564Z"
   },
   {
    "duration": 32,
    "start_time": "2022-11-02T08:09:36.447Z"
   },
   {
    "duration": 21,
    "start_time": "2022-11-02T08:09:44.053Z"
   },
   {
    "duration": 24,
    "start_time": "2022-11-02T08:09:52.620Z"
   },
   {
    "duration": 24,
    "start_time": "2022-11-02T08:09:57.003Z"
   },
   {
    "duration": 23,
    "start_time": "2022-11-02T08:10:55.101Z"
   },
   {
    "duration": 7,
    "start_time": "2022-11-02T08:11:50.082Z"
   },
   {
    "duration": 109,
    "start_time": "2022-11-02T08:16:54.604Z"
   },
   {
    "duration": 20,
    "start_time": "2022-11-02T08:17:10.411Z"
   },
   {
    "duration": 2,
    "start_time": "2022-11-02T08:18:05.724Z"
   },
   {
    "duration": 16,
    "start_time": "2022-11-02T08:18:10.213Z"
   },
   {
    "duration": 25,
    "start_time": "2022-11-02T08:20:21.101Z"
   },
   {
    "duration": 10,
    "start_time": "2022-11-02T08:21:27.693Z"
   },
   {
    "duration": 94,
    "start_time": "2022-11-02T08:21:39.533Z"
   },
   {
    "duration": 18,
    "start_time": "2022-11-02T08:24:33.301Z"
   },
   {
    "duration": 18,
    "start_time": "2022-11-02T08:24:51.482Z"
   },
   {
    "duration": 17,
    "start_time": "2022-11-02T08:25:36.125Z"
   },
   {
    "duration": 79,
    "start_time": "2022-11-02T08:30:20.392Z"
   },
   {
    "duration": 4,
    "start_time": "2022-11-02T08:30:27.942Z"
   },
   {
    "duration": 10,
    "start_time": "2022-11-02T08:30:47.009Z"
   },
   {
    "duration": 3,
    "start_time": "2022-11-02T08:31:14.041Z"
   },
   {
    "duration": 17,
    "start_time": "2022-11-02T08:31:14.721Z"
   },
   {
    "duration": 8,
    "start_time": "2022-11-02T08:33:21.021Z"
   },
   {
    "duration": 47,
    "start_time": "2022-11-02T08:33:24.391Z"
   },
   {
    "duration": 19,
    "start_time": "2022-11-02T08:34:14.660Z"
   },
   {
    "duration": 23,
    "start_time": "2022-11-02T08:36:45.153Z"
   },
   {
    "duration": 1355,
    "start_time": "2022-11-02T08:37:20.954Z"
   },
   {
    "duration": 103,
    "start_time": "2022-11-02T08:37:22.312Z"
   },
   {
    "duration": 26,
    "start_time": "2022-11-02T08:37:22.417Z"
   },
   {
    "duration": 18,
    "start_time": "2022-11-02T08:37:22.445Z"
   },
   {
    "duration": 29,
    "start_time": "2022-11-02T08:37:22.465Z"
   },
   {
    "duration": 13,
    "start_time": "2022-11-02T08:37:22.495Z"
   },
   {
    "duration": 9,
    "start_time": "2022-11-02T08:37:22.509Z"
   },
   {
    "duration": 4,
    "start_time": "2022-11-02T08:37:22.520Z"
   },
   {
    "duration": 24,
    "start_time": "2022-11-02T08:37:22.525Z"
   },
   {
    "duration": 7,
    "start_time": "2022-11-02T08:37:22.551Z"
   },
   {
    "duration": 41,
    "start_time": "2022-11-02T08:37:22.559Z"
   },
   {
    "duration": 12,
    "start_time": "2022-11-02T08:37:22.602Z"
   },
   {
    "duration": 19,
    "start_time": "2022-11-02T08:37:22.615Z"
   },
   {
    "duration": 22,
    "start_time": "2022-11-02T08:37:22.637Z"
   },
   {
    "duration": 32,
    "start_time": "2022-11-02T08:37:22.661Z"
   },
   {
    "duration": 276,
    "start_time": "2022-11-02T08:37:22.695Z"
   },
   {
    "duration": 251,
    "start_time": "2022-11-02T08:37:22.973Z"
   },
   {
    "duration": 5,
    "start_time": "2022-11-02T08:37:23.226Z"
   },
   {
    "duration": 30,
    "start_time": "2022-11-02T08:37:23.233Z"
   },
   {
    "duration": 5,
    "start_time": "2022-11-02T08:37:23.265Z"
   },
   {
    "duration": 226,
    "start_time": "2022-11-02T08:37:23.271Z"
   },
   {
    "duration": 195,
    "start_time": "2022-11-02T08:37:23.498Z"
   },
   {
    "duration": 187,
    "start_time": "2022-11-02T08:37:23.695Z"
   },
   {
    "duration": 195,
    "start_time": "2022-11-02T08:37:23.883Z"
   },
   {
    "duration": 25,
    "start_time": "2022-11-02T08:37:24.080Z"
   },
   {
    "duration": 21,
    "start_time": "2022-11-02T08:37:24.107Z"
   },
   {
    "duration": 17,
    "start_time": "2022-11-02T08:37:24.130Z"
   },
   {
    "duration": 57,
    "start_time": "2022-11-02T08:37:24.148Z"
   },
   {
    "duration": 23,
    "start_time": "2022-11-02T08:37:24.207Z"
   },
   {
    "duration": 3,
    "start_time": "2022-11-02T08:37:24.232Z"
   },
   {
    "duration": 7,
    "start_time": "2022-11-02T08:37:24.236Z"
   },
   {
    "duration": 15,
    "start_time": "2022-11-02T08:37:24.244Z"
   },
   {
    "duration": 36,
    "start_time": "2022-11-02T08:37:24.260Z"
   },
   {
    "duration": 17,
    "start_time": "2022-11-02T08:37:24.298Z"
   },
   {
    "duration": 5,
    "start_time": "2022-11-02T08:37:24.317Z"
   },
   {
    "duration": 9,
    "start_time": "2022-11-02T08:37:24.324Z"
   },
   {
    "duration": 5,
    "start_time": "2022-11-02T08:37:24.335Z"
   },
   {
    "duration": 93,
    "start_time": "2022-11-02T08:37:24.341Z"
   },
   {
    "duration": 7,
    "start_time": "2022-11-02T08:37:24.437Z"
   },
   {
    "duration": 20,
    "start_time": "2022-11-02T08:37:24.449Z"
   },
   {
    "duration": 25,
    "start_time": "2022-11-02T08:37:24.473Z"
   },
   {
    "duration": 19,
    "start_time": "2022-11-02T08:37:24.500Z"
   },
   {
    "duration": 32,
    "start_time": "2022-11-02T08:37:46.916Z"
   },
   {
    "duration": 96,
    "start_time": "2022-11-02T08:38:02.746Z"
   },
   {
    "duration": 20,
    "start_time": "2022-11-02T08:39:10.328Z"
   },
   {
    "duration": 4,
    "start_time": "2022-11-02T08:39:39.436Z"
   },
   {
    "duration": 780,
    "start_time": "2022-11-02T08:40:04.350Z"
   },
   {
    "duration": 22,
    "start_time": "2022-11-02T08:40:16.792Z"
   },
   {
    "duration": 2745,
    "start_time": "2022-11-02T08:40:29.583Z"
   },
   {
    "duration": 96,
    "start_time": "2022-11-02T08:41:13.403Z"
   },
   {
    "duration": 18,
    "start_time": "2022-11-02T08:43:23.767Z"
   },
   {
    "duration": 4,
    "start_time": "2022-11-02T08:43:54.696Z"
   },
   {
    "duration": 16,
    "start_time": "2022-11-02T08:43:59.877Z"
   },
   {
    "duration": 2714,
    "start_time": "2022-11-02T08:44:05.566Z"
   },
   {
    "duration": 1119,
    "start_time": "2022-11-02T08:44:31.654Z"
   },
   {
    "duration": 105,
    "start_time": "2022-11-02T08:44:32.775Z"
   },
   {
    "duration": 24,
    "start_time": "2022-11-02T08:44:32.881Z"
   },
   {
    "duration": 16,
    "start_time": "2022-11-02T08:44:32.907Z"
   },
   {
    "duration": 19,
    "start_time": "2022-11-02T08:44:32.924Z"
   },
   {
    "duration": 13,
    "start_time": "2022-11-02T08:44:32.944Z"
   },
   {
    "duration": 40,
    "start_time": "2022-11-02T08:44:32.959Z"
   },
   {
    "duration": 4,
    "start_time": "2022-11-02T08:44:33.001Z"
   },
   {
    "duration": 20,
    "start_time": "2022-11-02T08:44:33.006Z"
   },
   {
    "duration": 6,
    "start_time": "2022-11-02T08:44:33.027Z"
   },
   {
    "duration": 11,
    "start_time": "2022-11-02T08:44:33.034Z"
   },
   {
    "duration": 13,
    "start_time": "2022-11-02T08:44:33.046Z"
   },
   {
    "duration": 21,
    "start_time": "2022-11-02T08:44:33.090Z"
   },
   {
    "duration": 21,
    "start_time": "2022-11-02T08:44:33.114Z"
   },
   {
    "duration": 3,
    "start_time": "2022-11-02T08:44:33.137Z"
   },
   {
    "duration": 307,
    "start_time": "2022-11-02T08:44:33.142Z"
   },
   {
    "duration": 262,
    "start_time": "2022-11-02T08:44:33.451Z"
   },
   {
    "duration": 3,
    "start_time": "2022-11-02T08:44:33.715Z"
   },
   {
    "duration": 20,
    "start_time": "2022-11-02T08:44:33.720Z"
   },
   {
    "duration": 4,
    "start_time": "2022-11-02T08:44:33.742Z"
   },
   {
    "duration": 220,
    "start_time": "2022-11-02T08:44:33.748Z"
   },
   {
    "duration": 201,
    "start_time": "2022-11-02T08:44:33.970Z"
   },
   {
    "duration": 201,
    "start_time": "2022-11-02T08:44:34.172Z"
   },
   {
    "duration": 221,
    "start_time": "2022-11-02T08:44:34.375Z"
   },
   {
    "duration": 20,
    "start_time": "2022-11-02T08:44:34.598Z"
   },
   {
    "duration": 21,
    "start_time": "2022-11-02T08:44:34.619Z"
   },
   {
    "duration": 55,
    "start_time": "2022-11-02T08:44:34.642Z"
   },
   {
    "duration": 36,
    "start_time": "2022-11-02T08:44:34.698Z"
   },
   {
    "duration": 34,
    "start_time": "2022-11-02T08:44:34.736Z"
   },
   {
    "duration": 3,
    "start_time": "2022-11-02T08:44:34.772Z"
   },
   {
    "duration": 23,
    "start_time": "2022-11-02T08:44:34.777Z"
   },
   {
    "duration": 20,
    "start_time": "2022-11-02T08:44:34.802Z"
   },
   {
    "duration": 12,
    "start_time": "2022-11-02T08:44:34.824Z"
   },
   {
    "duration": 15,
    "start_time": "2022-11-02T08:44:34.838Z"
   },
   {
    "duration": 5,
    "start_time": "2022-11-02T08:44:34.855Z"
   },
   {
    "duration": 8,
    "start_time": "2022-11-02T08:44:34.861Z"
   },
   {
    "duration": 4,
    "start_time": "2022-11-02T08:44:34.871Z"
   },
   {
    "duration": 62,
    "start_time": "2022-11-02T08:44:34.876Z"
   },
   {
    "duration": 8,
    "start_time": "2022-11-02T08:44:34.940Z"
   },
   {
    "duration": 30,
    "start_time": "2022-11-02T08:44:34.949Z"
   },
   {
    "duration": 13,
    "start_time": "2022-11-02T08:44:34.992Z"
   },
   {
    "duration": 216,
    "start_time": "2022-11-02T08:44:35.007Z"
   },
   {
    "duration": 17,
    "start_time": "2022-11-02T08:44:35.225Z"
   },
   {
    "duration": 17,
    "start_time": "2022-11-02T08:51:18.631Z"
   },
   {
    "duration": 118,
    "start_time": "2022-11-02T08:51:54.640Z"
   },
   {
    "duration": 151,
    "start_time": "2022-11-02T08:52:46.752Z"
   },
   {
    "duration": 103,
    "start_time": "2022-11-02T08:53:17.154Z"
   },
   {
    "duration": 283,
    "start_time": "2022-11-02T08:53:29.962Z"
   },
   {
    "duration": 235,
    "start_time": "2022-11-02T08:53:52.492Z"
   },
   {
    "duration": 120,
    "start_time": "2022-11-02T08:56:29.555Z"
   },
   {
    "duration": 190,
    "start_time": "2022-11-02T08:58:08.712Z"
   },
   {
    "duration": 12,
    "start_time": "2022-11-02T09:06:10.042Z"
   },
   {
    "duration": 1182,
    "start_time": "2022-11-02T09:06:22.068Z"
   },
   {
    "duration": 108,
    "start_time": "2022-11-02T09:06:23.252Z"
   },
   {
    "duration": 25,
    "start_time": "2022-11-02T09:06:23.361Z"
   },
   {
    "duration": 16,
    "start_time": "2022-11-02T09:06:23.387Z"
   },
   {
    "duration": 18,
    "start_time": "2022-11-02T09:06:23.405Z"
   },
   {
    "duration": 14,
    "start_time": "2022-11-02T09:06:23.424Z"
   },
   {
    "duration": 11,
    "start_time": "2022-11-02T09:06:23.440Z"
   },
   {
    "duration": 4,
    "start_time": "2022-11-02T09:06:23.452Z"
   },
   {
    "duration": 50,
    "start_time": "2022-11-02T09:06:23.457Z"
   },
   {
    "duration": 6,
    "start_time": "2022-11-02T09:06:23.509Z"
   },
   {
    "duration": 11,
    "start_time": "2022-11-02T09:06:23.516Z"
   },
   {
    "duration": 13,
    "start_time": "2022-11-02T09:06:23.528Z"
   },
   {
    "duration": 19,
    "start_time": "2022-11-02T09:06:23.542Z"
   },
   {
    "duration": 45,
    "start_time": "2022-11-02T09:06:23.564Z"
   },
   {
    "duration": 5,
    "start_time": "2022-11-02T09:06:23.611Z"
   },
   {
    "duration": 290,
    "start_time": "2022-11-02T09:06:23.617Z"
   },
   {
    "duration": 265,
    "start_time": "2022-11-02T09:06:23.909Z"
   },
   {
    "duration": 15,
    "start_time": "2022-11-02T09:06:24.176Z"
   },
   {
    "duration": 28,
    "start_time": "2022-11-02T09:06:24.193Z"
   },
   {
    "duration": 4,
    "start_time": "2022-11-02T09:06:24.223Z"
   },
   {
    "duration": 260,
    "start_time": "2022-11-02T09:06:24.229Z"
   },
   {
    "duration": 203,
    "start_time": "2022-11-02T09:06:24.492Z"
   },
   {
    "duration": 186,
    "start_time": "2022-11-02T09:06:24.696Z"
   },
   {
    "duration": 203,
    "start_time": "2022-11-02T09:06:24.883Z"
   },
   {
    "duration": 21,
    "start_time": "2022-11-02T09:06:25.088Z"
   },
   {
    "duration": 21,
    "start_time": "2022-11-02T09:06:25.110Z"
   },
   {
    "duration": 16,
    "start_time": "2022-11-02T09:06:25.133Z"
   },
   {
    "duration": 61,
    "start_time": "2022-11-02T09:06:25.151Z"
   },
   {
    "duration": 23,
    "start_time": "2022-11-02T09:06:25.213Z"
   },
   {
    "duration": 4,
    "start_time": "2022-11-02T09:06:25.237Z"
   },
   {
    "duration": 7,
    "start_time": "2022-11-02T09:06:25.242Z"
   },
   {
    "duration": 16,
    "start_time": "2022-11-02T09:06:25.251Z"
   },
   {
    "duration": 13,
    "start_time": "2022-11-02T09:06:25.290Z"
   },
   {
    "duration": 19,
    "start_time": "2022-11-02T09:06:25.304Z"
   },
   {
    "duration": 13,
    "start_time": "2022-11-02T09:06:25.325Z"
   },
   {
    "duration": 8,
    "start_time": "2022-11-02T09:06:25.340Z"
   },
   {
    "duration": 4,
    "start_time": "2022-11-02T09:06:25.349Z"
   },
   {
    "duration": 56,
    "start_time": "2022-11-02T09:06:25.354Z"
   },
   {
    "duration": 6,
    "start_time": "2022-11-02T09:06:25.412Z"
   },
   {
    "duration": 16,
    "start_time": "2022-11-02T09:06:25.420Z"
   },
   {
    "duration": 9,
    "start_time": "2022-11-02T09:06:25.440Z"
   },
   {
    "duration": 315,
    "start_time": "2022-11-02T09:06:25.451Z"
   },
   {
    "duration": 109,
    "start_time": "2022-11-02T09:06:40.602Z"
   },
   {
    "duration": 1231,
    "start_time": "2022-11-02T09:06:53.984Z"
   },
   {
    "duration": 105,
    "start_time": "2022-11-02T09:06:55.217Z"
   },
   {
    "duration": 28,
    "start_time": "2022-11-02T09:06:55.324Z"
   },
   {
    "duration": 17,
    "start_time": "2022-11-02T09:06:55.354Z"
   },
   {
    "duration": 27,
    "start_time": "2022-11-02T09:06:55.374Z"
   },
   {
    "duration": 15,
    "start_time": "2022-11-02T09:06:55.403Z"
   },
   {
    "duration": 11,
    "start_time": "2022-11-02T09:06:55.419Z"
   },
   {
    "duration": 5,
    "start_time": "2022-11-02T09:06:55.432Z"
   },
   {
    "duration": 16,
    "start_time": "2022-11-02T09:06:55.439Z"
   },
   {
    "duration": 35,
    "start_time": "2022-11-02T09:06:55.456Z"
   },
   {
    "duration": 14,
    "start_time": "2022-11-02T09:06:55.493Z"
   },
   {
    "duration": 12,
    "start_time": "2022-11-02T09:06:55.509Z"
   },
   {
    "duration": 20,
    "start_time": "2022-11-02T09:06:55.523Z"
   },
   {
    "duration": 46,
    "start_time": "2022-11-02T09:06:55.546Z"
   },
   {
    "duration": 4,
    "start_time": "2022-11-02T09:06:55.593Z"
   },
   {
    "duration": 256,
    "start_time": "2022-11-02T09:06:55.598Z"
   },
   {
    "duration": 248,
    "start_time": "2022-11-02T09:06:55.855Z"
   },
   {
    "duration": 3,
    "start_time": "2022-11-02T09:06:56.105Z"
   },
   {
    "duration": 20,
    "start_time": "2022-11-02T09:06:56.110Z"
   },
   {
    "duration": 3,
    "start_time": "2022-11-02T09:06:56.132Z"
   },
   {
    "duration": 211,
    "start_time": "2022-11-02T09:06:56.137Z"
   },
   {
    "duration": 182,
    "start_time": "2022-11-02T09:06:56.349Z"
   },
   {
    "duration": 236,
    "start_time": "2022-11-02T09:06:56.533Z"
   },
   {
    "duration": 197,
    "start_time": "2022-11-02T09:06:56.771Z"
   },
   {
    "duration": 27,
    "start_time": "2022-11-02T09:06:56.969Z"
   },
   {
    "duration": 21,
    "start_time": "2022-11-02T09:06:56.999Z"
   },
   {
    "duration": 17,
    "start_time": "2022-11-02T09:06:57.021Z"
   },
   {
    "duration": 53,
    "start_time": "2022-11-02T09:06:57.039Z"
   },
   {
    "duration": 24,
    "start_time": "2022-11-02T09:06:57.094Z"
   },
   {
    "duration": 4,
    "start_time": "2022-11-02T09:06:57.120Z"
   },
   {
    "duration": 6,
    "start_time": "2022-11-02T09:06:57.126Z"
   },
   {
    "duration": 20,
    "start_time": "2022-11-02T09:06:57.134Z"
   },
   {
    "duration": 41,
    "start_time": "2022-11-02T09:06:57.156Z"
   },
   {
    "duration": 17,
    "start_time": "2022-11-02T09:06:57.199Z"
   },
   {
    "duration": 5,
    "start_time": "2022-11-02T09:06:57.218Z"
   },
   {
    "duration": 7,
    "start_time": "2022-11-02T09:06:57.225Z"
   },
   {
    "duration": 4,
    "start_time": "2022-11-02T09:06:57.234Z"
   },
   {
    "duration": 88,
    "start_time": "2022-11-02T09:06:57.239Z"
   },
   {
    "duration": 5,
    "start_time": "2022-11-02T09:06:57.328Z"
   },
   {
    "duration": 8,
    "start_time": "2022-11-02T09:06:57.335Z"
   },
   {
    "duration": 44,
    "start_time": "2022-11-02T09:06:57.347Z"
   },
   {
    "duration": 11,
    "start_time": "2022-11-02T09:06:57.393Z"
   },
   {
    "duration": 302,
    "start_time": "2022-11-02T09:06:57.405Z"
   },
   {
    "duration": 13,
    "start_time": "2022-11-02T09:08:20.753Z"
   },
   {
    "duration": 9,
    "start_time": "2022-11-02T09:08:27.882Z"
   },
   {
    "duration": 103,
    "start_time": "2022-11-02T09:10:15.602Z"
   },
   {
    "duration": 9,
    "start_time": "2022-11-02T09:10:49.917Z"
   },
   {
    "duration": 3,
    "start_time": "2022-11-02T09:11:02.112Z"
   },
   {
    "duration": 12,
    "start_time": "2022-11-02T09:11:20.992Z"
   },
   {
    "duration": 17,
    "start_time": "2022-11-02T09:11:41.239Z"
   },
   {
    "duration": 5,
    "start_time": "2022-11-02T09:17:34.007Z"
   },
   {
    "duration": 23,
    "start_time": "2022-11-02T09:17:48.798Z"
   },
   {
    "duration": 23,
    "start_time": "2022-11-02T09:20:52.037Z"
   },
   {
    "duration": 10,
    "start_time": "2022-11-02T09:23:43.808Z"
   },
   {
    "duration": 294,
    "start_time": "2022-11-02T09:24:14.589Z"
   },
   {
    "duration": 34,
    "start_time": "2022-11-02T09:24:24.269Z"
   },
   {
    "duration": 4,
    "start_time": "2022-11-02T09:25:10.869Z"
   },
   {
    "duration": 5,
    "start_time": "2022-11-02T09:25:26.119Z"
   },
   {
    "duration": 17,
    "start_time": "2022-11-02T09:25:45.797Z"
   },
   {
    "duration": 3,
    "start_time": "2022-11-02T09:25:59.888Z"
   },
   {
    "duration": 3,
    "start_time": "2022-11-02T09:26:05.788Z"
   },
   {
    "duration": 22,
    "start_time": "2022-11-02T09:26:33.809Z"
   },
   {
    "duration": 6,
    "start_time": "2022-11-02T09:26:35.293Z"
   },
   {
    "duration": 13,
    "start_time": "2022-11-02T09:26:37.390Z"
   },
   {
    "duration": 22,
    "start_time": "2022-11-02T09:27:04.845Z"
   },
   {
    "duration": 5,
    "start_time": "2022-11-02T09:27:06.469Z"
   },
   {
    "duration": 13,
    "start_time": "2022-11-02T09:27:08.812Z"
   },
   {
    "duration": 5,
    "start_time": "2022-11-02T09:27:28.517Z"
   },
   {
    "duration": 18,
    "start_time": "2022-11-02T09:27:48.588Z"
   },
   {
    "duration": 18,
    "start_time": "2022-11-02T09:28:24.321Z"
   },
   {
    "duration": 22,
    "start_time": "2022-11-02T09:29:13.637Z"
   },
   {
    "duration": 1476,
    "start_time": "2022-11-02T09:29:25.268Z"
   },
   {
    "duration": 102,
    "start_time": "2022-11-02T09:29:26.746Z"
   },
   {
    "duration": 26,
    "start_time": "2022-11-02T09:29:26.849Z"
   },
   {
    "duration": 16,
    "start_time": "2022-11-02T09:29:26.877Z"
   },
   {
    "duration": 19,
    "start_time": "2022-11-02T09:29:26.896Z"
   },
   {
    "duration": 13,
    "start_time": "2022-11-02T09:29:26.917Z"
   },
   {
    "duration": 10,
    "start_time": "2022-11-02T09:29:26.932Z"
   },
   {
    "duration": 4,
    "start_time": "2022-11-02T09:29:26.944Z"
   },
   {
    "duration": 47,
    "start_time": "2022-11-02T09:29:26.949Z"
   },
   {
    "duration": 7,
    "start_time": "2022-11-02T09:29:26.997Z"
   },
   {
    "duration": 13,
    "start_time": "2022-11-02T09:29:27.006Z"
   },
   {
    "duration": 14,
    "start_time": "2022-11-02T09:29:27.021Z"
   },
   {
    "duration": 21,
    "start_time": "2022-11-02T09:29:27.037Z"
   },
   {
    "duration": 20,
    "start_time": "2022-11-02T09:29:27.091Z"
   },
   {
    "duration": 4,
    "start_time": "2022-11-02T09:29:27.113Z"
   },
   {
    "duration": 285,
    "start_time": "2022-11-02T09:29:27.119Z"
   },
   {
    "duration": 270,
    "start_time": "2022-11-02T09:29:27.406Z"
   },
   {
    "duration": 3,
    "start_time": "2022-11-02T09:29:27.677Z"
   },
   {
    "duration": 26,
    "start_time": "2022-11-02T09:29:27.682Z"
   },
   {
    "duration": 3,
    "start_time": "2022-11-02T09:29:27.710Z"
   },
   {
    "duration": 222,
    "start_time": "2022-11-02T09:29:27.715Z"
   },
   {
    "duration": 287,
    "start_time": "2022-11-02T09:29:27.939Z"
   },
   {
    "duration": 203,
    "start_time": "2022-11-02T09:29:28.228Z"
   },
   {
    "duration": 202,
    "start_time": "2022-11-02T09:29:28.433Z"
   },
   {
    "duration": 22,
    "start_time": "2022-11-02T09:29:28.637Z"
   },
   {
    "duration": 40,
    "start_time": "2022-11-02T09:29:28.660Z"
   },
   {
    "duration": 18,
    "start_time": "2022-11-02T09:29:28.702Z"
   },
   {
    "duration": 34,
    "start_time": "2022-11-02T09:29:28.722Z"
   },
   {
    "duration": 48,
    "start_time": "2022-11-02T09:29:28.757Z"
   },
   {
    "duration": 4,
    "start_time": "2022-11-02T09:29:28.806Z"
   },
   {
    "duration": 9,
    "start_time": "2022-11-02T09:29:28.811Z"
   },
   {
    "duration": 14,
    "start_time": "2022-11-02T09:29:28.822Z"
   },
   {
    "duration": 10,
    "start_time": "2022-11-02T09:29:28.838Z"
   },
   {
    "duration": 15,
    "start_time": "2022-11-02T09:29:28.850Z"
   },
   {
    "duration": 5,
    "start_time": "2022-11-02T09:29:28.892Z"
   },
   {
    "duration": 8,
    "start_time": "2022-11-02T09:29:28.899Z"
   },
   {
    "duration": 4,
    "start_time": "2022-11-02T09:29:28.909Z"
   },
   {
    "duration": 79,
    "start_time": "2022-11-02T09:29:28.915Z"
   },
   {
    "duration": 5,
    "start_time": "2022-11-02T09:29:28.995Z"
   },
   {
    "duration": 7,
    "start_time": "2022-11-02T09:29:29.003Z"
   },
   {
    "duration": 17,
    "start_time": "2022-11-02T09:29:29.015Z"
   },
   {
    "duration": 10,
    "start_time": "2022-11-02T09:29:29.034Z"
   },
   {
    "duration": 261,
    "start_time": "2022-11-02T09:29:29.045Z"
   },
   {
    "duration": 14,
    "start_time": "2022-11-02T09:29:29.307Z"
   },
   {
    "duration": 10,
    "start_time": "2022-11-02T09:29:29.322Z"
   },
   {
    "duration": 39,
    "start_time": "2022-11-02T09:29:29.334Z"
   },
   {
    "duration": 118,
    "start_time": "2022-11-02T09:29:29.375Z"
   },
   {
    "duration": 14,
    "start_time": "2022-11-02T09:29:54.366Z"
   },
   {
    "duration": 15,
    "start_time": "2022-11-02T09:30:13.718Z"
   },
   {
    "duration": 16,
    "start_time": "2022-11-02T09:30:19.817Z"
   },
   {
    "duration": 16,
    "start_time": "2022-11-02T09:30:29.447Z"
   },
   {
    "duration": 12,
    "start_time": "2022-11-02T09:31:18.670Z"
   },
   {
    "duration": 12,
    "start_time": "2022-11-02T09:35:57.448Z"
   },
   {
    "duration": 12,
    "start_time": "2022-11-02T09:36:29.558Z"
   },
   {
    "duration": 5,
    "start_time": "2022-11-02T09:36:36.599Z"
   },
   {
    "duration": 14,
    "start_time": "2022-11-02T09:36:38.617Z"
   },
   {
    "duration": 17,
    "start_time": "2022-11-02T09:36:54.427Z"
   },
   {
    "duration": 13,
    "start_time": "2022-11-02T09:37:10.598Z"
   },
   {
    "duration": 12,
    "start_time": "2022-11-02T09:37:19.719Z"
   },
   {
    "duration": 11,
    "start_time": "2022-11-02T09:37:25.466Z"
   },
   {
    "duration": 12,
    "start_time": "2022-11-02T09:37:47.637Z"
   },
   {
    "duration": 7,
    "start_time": "2022-11-02T09:37:50.597Z"
   },
   {
    "duration": 12,
    "start_time": "2022-11-02T09:37:51.671Z"
   },
   {
    "duration": 11,
    "start_time": "2022-11-02T09:38:14.267Z"
   },
   {
    "duration": 10,
    "start_time": "2022-11-02T09:38:25.479Z"
   },
   {
    "duration": 4,
    "start_time": "2022-11-02T09:42:24.652Z"
   },
   {
    "duration": 21,
    "start_time": "2022-11-02T09:42:29.741Z"
   },
   {
    "duration": 16,
    "start_time": "2022-11-02T09:42:39.811Z"
   },
   {
    "duration": 5,
    "start_time": "2022-11-02T09:42:53.471Z"
   },
   {
    "duration": 5,
    "start_time": "2022-11-02T09:42:57.221Z"
   },
   {
    "duration": 21,
    "start_time": "2022-11-02T09:43:03.306Z"
   },
   {
    "duration": 25,
    "start_time": "2022-11-02T09:43:42.931Z"
   },
   {
    "duration": 11,
    "start_time": "2022-11-02T09:43:53.961Z"
   },
   {
    "duration": 23,
    "start_time": "2022-11-02T09:46:09.782Z"
   },
   {
    "duration": 1402,
    "start_time": "2022-11-02T09:46:16.870Z"
   },
   {
    "duration": 100,
    "start_time": "2022-11-02T09:46:18.274Z"
   },
   {
    "duration": 26,
    "start_time": "2022-11-02T09:46:18.376Z"
   },
   {
    "duration": 17,
    "start_time": "2022-11-02T09:46:18.404Z"
   },
   {
    "duration": 19,
    "start_time": "2022-11-02T09:46:18.423Z"
   },
   {
    "duration": 14,
    "start_time": "2022-11-02T09:46:18.443Z"
   },
   {
    "duration": 41,
    "start_time": "2022-11-02T09:46:18.458Z"
   },
   {
    "duration": 5,
    "start_time": "2022-11-02T09:46:18.500Z"
   },
   {
    "duration": 16,
    "start_time": "2022-11-02T09:46:18.506Z"
   },
   {
    "duration": 6,
    "start_time": "2022-11-02T09:46:18.524Z"
   },
   {
    "duration": 13,
    "start_time": "2022-11-02T09:46:18.532Z"
   },
   {
    "duration": 45,
    "start_time": "2022-11-02T09:46:18.547Z"
   },
   {
    "duration": 22,
    "start_time": "2022-11-02T09:46:18.594Z"
   },
   {
    "duration": 22,
    "start_time": "2022-11-02T09:46:18.620Z"
   },
   {
    "duration": 4,
    "start_time": "2022-11-02T09:46:18.645Z"
   },
   {
    "duration": 290,
    "start_time": "2022-11-02T09:46:18.651Z"
   },
   {
    "duration": 237,
    "start_time": "2022-11-02T09:46:18.943Z"
   },
   {
    "duration": 3,
    "start_time": "2022-11-02T09:46:19.181Z"
   },
   {
    "duration": 20,
    "start_time": "2022-11-02T09:46:19.191Z"
   },
   {
    "duration": 5,
    "start_time": "2022-11-02T09:46:19.212Z"
   },
   {
    "duration": 220,
    "start_time": "2022-11-02T09:46:19.218Z"
   },
   {
    "duration": 291,
    "start_time": "2022-11-02T09:46:19.440Z"
   },
   {
    "duration": 187,
    "start_time": "2022-11-02T09:46:19.733Z"
   },
   {
    "duration": 199,
    "start_time": "2022-11-02T09:46:19.922Z"
   },
   {
    "duration": 20,
    "start_time": "2022-11-02T09:46:20.122Z"
   },
   {
    "duration": 21,
    "start_time": "2022-11-02T09:46:20.143Z"
   },
   {
    "duration": 38,
    "start_time": "2022-11-02T09:46:20.166Z"
   },
   {
    "duration": 32,
    "start_time": "2022-11-02T09:46:20.205Z"
   },
   {
    "duration": 24,
    "start_time": "2022-11-02T09:46:20.239Z"
   },
   {
    "duration": 28,
    "start_time": "2022-11-02T09:46:20.265Z"
   },
   {
    "duration": 6,
    "start_time": "2022-11-02T09:46:20.295Z"
   },
   {
    "duration": 14,
    "start_time": "2022-11-02T09:46:20.303Z"
   },
   {
    "duration": 10,
    "start_time": "2022-11-02T09:46:20.318Z"
   },
   {
    "duration": 14,
    "start_time": "2022-11-02T09:46:20.329Z"
   },
   {
    "duration": 4,
    "start_time": "2022-11-02T09:46:20.345Z"
   },
   {
    "duration": 7,
    "start_time": "2022-11-02T09:46:20.351Z"
   },
   {
    "duration": 32,
    "start_time": "2022-11-02T09:46:20.360Z"
   },
   {
    "duration": 60,
    "start_time": "2022-11-02T09:46:20.394Z"
   },
   {
    "duration": 5,
    "start_time": "2022-11-02T09:46:20.456Z"
   },
   {
    "duration": 10,
    "start_time": "2022-11-02T09:46:20.462Z"
   },
   {
    "duration": 16,
    "start_time": "2022-11-02T09:46:20.493Z"
   },
   {
    "duration": 10,
    "start_time": "2022-11-02T09:46:20.511Z"
   },
   {
    "duration": 212,
    "start_time": "2022-11-02T09:46:20.522Z"
   },
   {
    "duration": 14,
    "start_time": "2022-11-02T09:46:20.736Z"
   },
   {
    "duration": 5,
    "start_time": "2022-11-02T09:46:20.752Z"
   },
   {
    "duration": 50,
    "start_time": "2022-11-02T09:46:20.759Z"
   },
   {
    "duration": 487,
    "start_time": "2022-11-02T09:46:20.811Z"
   },
   {
    "duration": 80,
    "start_time": "2022-11-02T09:46:31.059Z"
   },
   {
    "duration": 91,
    "start_time": "2022-11-02T09:47:46.628Z"
   },
   {
    "duration": 5,
    "start_time": "2022-11-02T09:47:52.654Z"
   },
   {
    "duration": 67,
    "start_time": "2022-11-02T09:48:19.893Z"
   },
   {
    "duration": 81,
    "start_time": "2022-11-02T09:48:40.484Z"
   },
   {
    "duration": 21,
    "start_time": "2022-11-02T09:49:19.775Z"
   },
   {
    "duration": 72,
    "start_time": "2022-11-02T09:49:20.894Z"
   },
   {
    "duration": 529,
    "start_time": "2022-11-02T09:49:34.704Z"
   },
   {
    "duration": 5,
    "start_time": "2022-11-02T09:49:47.824Z"
   },
   {
    "duration": 134,
    "start_time": "2022-11-02T09:49:51.364Z"
   },
   {
    "duration": 24,
    "start_time": "2022-11-02T09:50:05.673Z"
   },
   {
    "duration": 527,
    "start_time": "2022-11-02T09:50:08.265Z"
   },
   {
    "duration": 526,
    "start_time": "2022-11-02T09:50:41.924Z"
   },
   {
    "duration": 509,
    "start_time": "2022-11-02T09:51:00.554Z"
   },
   {
    "duration": 21,
    "start_time": "2022-11-02T09:51:20.165Z"
   },
   {
    "duration": 486,
    "start_time": "2022-11-02T09:51:21.174Z"
   },
   {
    "duration": 52,
    "start_time": "2022-11-02T09:52:15.794Z"
   },
   {
    "duration": 505,
    "start_time": "2022-11-02T09:54:13.855Z"
   },
   {
    "duration": 88,
    "start_time": "2022-11-02T10:13:42.766Z"
   },
   {
    "duration": 8,
    "start_time": "2022-11-02T10:16:23.600Z"
   },
   {
    "duration": 8,
    "start_time": "2022-11-02T10:18:13.598Z"
   },
   {
    "duration": 6,
    "start_time": "2022-11-02T10:29:06.130Z"
   },
   {
    "duration": 17,
    "start_time": "2022-11-02T10:29:18.390Z"
   },
   {
    "duration": 7,
    "start_time": "2022-11-02T10:29:28.170Z"
   },
   {
    "duration": 8,
    "start_time": "2022-11-02T10:30:20.349Z"
   },
   {
    "duration": 6,
    "start_time": "2022-11-02T10:30:49.860Z"
   },
   {
    "duration": 6,
    "start_time": "2022-11-02T10:30:53.030Z"
   },
   {
    "duration": 7,
    "start_time": "2022-11-02T10:31:09.200Z"
   },
   {
    "duration": 10,
    "start_time": "2022-11-02T10:32:17.097Z"
   },
   {
    "duration": 5,
    "start_time": "2022-11-02T10:32:42.740Z"
   },
   {
    "duration": 3,
    "start_time": "2022-11-02T10:32:50.317Z"
   },
   {
    "duration": 10,
    "start_time": "2022-11-02T10:37:52.603Z"
   },
   {
    "duration": 5,
    "start_time": "2022-11-02T10:38:25.496Z"
   },
   {
    "duration": 6,
    "start_time": "2022-11-02T10:38:53.114Z"
   },
   {
    "duration": 10,
    "start_time": "2022-11-02T10:38:58.104Z"
   },
   {
    "duration": 4,
    "start_time": "2022-11-02T10:39:06.195Z"
   },
   {
    "duration": 37,
    "start_time": "2022-11-02T10:39:14.516Z"
   },
   {
    "duration": 4,
    "start_time": "2022-11-02T10:39:21.875Z"
   },
   {
    "duration": 3,
    "start_time": "2022-11-02T10:43:21.096Z"
   },
   {
    "duration": 4,
    "start_time": "2022-11-02T10:43:22.496Z"
   },
   {
    "duration": 34,
    "start_time": "2022-11-02T10:43:24.037Z"
   },
   {
    "duration": 27,
    "start_time": "2022-11-02T10:43:25.565Z"
   },
   {
    "duration": 4,
    "start_time": "2022-11-02T10:43:35.066Z"
   },
   {
    "duration": 21,
    "start_time": "2022-11-02T10:43:46.656Z"
   },
   {
    "duration": 36,
    "start_time": "2022-11-02T10:44:14.006Z"
   },
   {
    "duration": 4,
    "start_time": "2022-11-02T10:44:18.495Z"
   },
   {
    "duration": 30,
    "start_time": "2022-11-02T10:44:22.777Z"
   },
   {
    "duration": 27,
    "start_time": "2022-11-02T10:44:56.505Z"
   },
   {
    "duration": 1554,
    "start_time": "2022-11-02T10:46:49.679Z"
   },
   {
    "duration": 103,
    "start_time": "2022-11-02T10:46:51.235Z"
   },
   {
    "duration": 27,
    "start_time": "2022-11-02T10:46:51.339Z"
   },
   {
    "duration": 18,
    "start_time": "2022-11-02T10:46:51.368Z"
   },
   {
    "duration": 18,
    "start_time": "2022-11-02T10:46:51.388Z"
   },
   {
    "duration": 15,
    "start_time": "2022-11-02T10:46:51.408Z"
   },
   {
    "duration": 10,
    "start_time": "2022-11-02T10:46:51.425Z"
   },
   {
    "duration": 5,
    "start_time": "2022-11-02T10:46:51.437Z"
   },
   {
    "duration": 48,
    "start_time": "2022-11-02T10:46:51.444Z"
   },
   {
    "duration": 6,
    "start_time": "2022-11-02T10:46:51.494Z"
   },
   {
    "duration": 13,
    "start_time": "2022-11-02T10:46:51.501Z"
   },
   {
    "duration": 12,
    "start_time": "2022-11-02T10:46:51.516Z"
   },
   {
    "duration": 20,
    "start_time": "2022-11-02T10:46:51.530Z"
   },
   {
    "duration": 46,
    "start_time": "2022-11-02T10:46:51.554Z"
   },
   {
    "duration": 4,
    "start_time": "2022-11-02T10:46:51.602Z"
   },
   {
    "duration": 279,
    "start_time": "2022-11-02T10:46:51.608Z"
   },
   {
    "duration": 265,
    "start_time": "2022-11-02T10:46:51.891Z"
   },
   {
    "duration": 4,
    "start_time": "2022-11-02T10:46:52.158Z"
   },
   {
    "duration": 33,
    "start_time": "2022-11-02T10:46:52.163Z"
   },
   {
    "duration": 4,
    "start_time": "2022-11-02T10:46:52.198Z"
   },
   {
    "duration": 307,
    "start_time": "2022-11-02T10:46:52.204Z"
   },
   {
    "duration": 201,
    "start_time": "2022-11-02T10:46:52.514Z"
   },
   {
    "duration": 193,
    "start_time": "2022-11-02T10:46:52.717Z"
   },
   {
    "duration": 208,
    "start_time": "2022-11-02T10:46:52.912Z"
   },
   {
    "duration": 21,
    "start_time": "2022-11-02T10:46:53.122Z"
   },
   {
    "duration": 22,
    "start_time": "2022-11-02T10:46:53.144Z"
   },
   {
    "duration": 39,
    "start_time": "2022-11-02T10:46:53.167Z"
   },
   {
    "duration": 33,
    "start_time": "2022-11-02T10:46:53.208Z"
   },
   {
    "duration": 49,
    "start_time": "2022-11-02T10:46:53.243Z"
   },
   {
    "duration": 4,
    "start_time": "2022-11-02T10:46:53.293Z"
   },
   {
    "duration": 8,
    "start_time": "2022-11-02T10:46:53.299Z"
   },
   {
    "duration": 14,
    "start_time": "2022-11-02T10:46:53.308Z"
   },
   {
    "duration": 11,
    "start_time": "2022-11-02T10:46:53.324Z"
   },
   {
    "duration": 16,
    "start_time": "2022-11-02T10:46:53.336Z"
   },
   {
    "duration": 5,
    "start_time": "2022-11-02T10:46:53.354Z"
   },
   {
    "duration": 7,
    "start_time": "2022-11-02T10:46:53.392Z"
   },
   {
    "duration": 4,
    "start_time": "2022-11-02T10:46:53.401Z"
   },
   {
    "duration": 59,
    "start_time": "2022-11-02T10:46:53.407Z"
   },
   {
    "duration": 25,
    "start_time": "2022-11-02T10:46:53.468Z"
   },
   {
    "duration": 6,
    "start_time": "2022-11-02T10:46:53.495Z"
   },
   {
    "duration": 18,
    "start_time": "2022-11-02T10:46:53.506Z"
   },
   {
    "duration": 11,
    "start_time": "2022-11-02T10:46:53.526Z"
   },
   {
    "duration": 255,
    "start_time": "2022-11-02T10:46:53.539Z"
   },
   {
    "duration": 15,
    "start_time": "2022-11-02T10:46:53.796Z"
   },
   {
    "duration": 5,
    "start_time": "2022-11-02T10:46:53.813Z"
   },
   {
    "duration": 21,
    "start_time": "2022-11-02T10:46:53.819Z"
   },
   {
    "duration": 541,
    "start_time": "2022-11-02T10:46:53.842Z"
   },
   {
    "duration": 11,
    "start_time": "2022-11-02T10:46:54.385Z"
   },
   {
    "duration": 7,
    "start_time": "2022-11-02T10:46:54.398Z"
   },
   {
    "duration": 8,
    "start_time": "2022-11-02T10:46:54.407Z"
   },
   {
    "duration": 4,
    "start_time": "2022-11-02T10:46:54.417Z"
   },
   {
    "duration": 4,
    "start_time": "2022-11-02T10:46:54.423Z"
   },
   {
    "duration": 76,
    "start_time": "2022-11-02T10:46:54.429Z"
   },
   {
    "duration": 5,
    "start_time": "2022-11-02T10:46:54.507Z"
   },
   {
    "duration": 20,
    "start_time": "2022-11-02T10:46:54.515Z"
   },
   {
    "duration": 3,
    "start_time": "2022-11-02T10:52:40.436Z"
   },
   {
    "duration": 26,
    "start_time": "2022-11-02T10:54:49.186Z"
   },
   {
    "duration": 5,
    "start_time": "2022-11-02T10:55:13.018Z"
   },
   {
    "duration": 2,
    "start_time": "2022-11-02T10:57:36.895Z"
   },
   {
    "duration": 118,
    "start_time": "2022-11-02T10:58:24.836Z"
   },
   {
    "duration": 267115,
    "start_time": "2022-11-02T10:58:37.086Z"
   },
   {
    "duration": 6,
    "start_time": "2022-11-02T11:03:20.738Z"
   },
   {
    "duration": 3,
    "start_time": "2022-11-02T11:03:28.910Z"
   },
   {
    "duration": 3,
    "start_time": "2022-11-02T11:03:34.857Z"
   },
   {
    "duration": 523790,
    "start_time": "2022-11-02T11:04:57.417Z"
   },
   {
    "duration": 10,
    "start_time": "2022-11-02T11:13:49.186Z"
   },
   {
    "duration": 8,
    "start_time": "2022-11-02T11:14:37.518Z"
   },
   {
    "duration": 8,
    "start_time": "2022-11-02T11:15:33.017Z"
   },
   {
    "duration": 22,
    "start_time": "2022-11-02T11:15:49.408Z"
   },
   {
    "duration": 38,
    "start_time": "2022-11-02T11:17:27.971Z"
   },
   {
    "duration": 10,
    "start_time": "2022-11-02T11:17:43.413Z"
   },
   {
    "duration": 20,
    "start_time": "2022-11-02T11:17:47.942Z"
   },
   {
    "duration": 1232232,
    "start_time": "2022-11-02T11:18:00.884Z"
   },
   {
    "duration": 0,
    "start_time": "2022-11-02T11:38:33.119Z"
   },
   {
    "duration": 2,
    "start_time": "2022-11-02T11:40:17.544Z"
   },
   {
    "duration": 132622,
    "start_time": "2022-11-02T11:40:51.593Z"
   },
   {
    "duration": 0,
    "start_time": "2022-11-02T11:43:04.218Z"
   },
   {
    "duration": 8,
    "start_time": "2022-11-02T11:43:42.053Z"
   },
   {
    "duration": 41,
    "start_time": "2022-11-02T11:43:42.972Z"
   },
   {
    "duration": 20,
    "start_time": "2022-11-02T11:43:46.402Z"
   },
   {
    "duration": 3,
    "start_time": "2022-11-02T11:43:47.623Z"
   },
   {
    "duration": 107392,
    "start_time": "2022-11-02T11:43:48.317Z"
   },
   {
    "duration": 4,
    "start_time": "2022-11-02T11:46:40.004Z"
   },
   {
    "duration": 2,
    "start_time": "2022-11-02T11:46:42.763Z"
   },
   {
    "duration": 385,
    "start_time": "2022-11-02T11:46:59.423Z"
   },
   {
    "duration": 15,
    "start_time": "2022-11-02T11:47:02.975Z"
   },
   {
    "duration": 6,
    "start_time": "2022-11-02T11:47:29.183Z"
   },
   {
    "duration": 158,
    "start_time": "2022-11-02T11:47:36.733Z"
   },
   {
    "duration": 233,
    "start_time": "2022-11-02T11:47:49.013Z"
   },
   {
    "duration": 23,
    "start_time": "2022-11-02T11:48:39.532Z"
   },
   {
    "duration": 130,
    "start_time": "2022-11-02T11:48:57.352Z"
   },
   {
    "duration": 229,
    "start_time": "2022-11-02T11:49:31.203Z"
   },
   {
    "duration": 147,
    "start_time": "2022-11-02T11:49:39.592Z"
   },
   {
    "duration": 120,
    "start_time": "2022-11-02T11:49:47.630Z"
   },
   {
    "duration": 39,
    "start_time": "2022-11-02T11:51:02.668Z"
   },
   {
    "duration": 14,
    "start_time": "2022-11-02T11:51:08.801Z"
   },
   {
    "duration": 6,
    "start_time": "2022-11-02T11:51:57.390Z"
   },
   {
    "duration": 101,
    "start_time": "2022-11-02T11:52:02.570Z"
   },
   {
    "duration": 21,
    "start_time": "2022-11-02T11:52:02.897Z"
   },
   {
    "duration": 18,
    "start_time": "2022-11-02T11:52:03.209Z"
   },
   {
    "duration": 20,
    "start_time": "2022-11-02T11:52:03.499Z"
   },
   {
    "duration": 16,
    "start_time": "2022-11-02T11:52:03.819Z"
   },
   {
    "duration": 14,
    "start_time": "2022-11-02T11:52:05.380Z"
   },
   {
    "duration": 6,
    "start_time": "2022-11-02T11:52:05.579Z"
   },
   {
    "duration": 20,
    "start_time": "2022-11-02T11:52:05.871Z"
   },
   {
    "duration": 9,
    "start_time": "2022-11-02T11:52:06.179Z"
   },
   {
    "duration": 10,
    "start_time": "2022-11-02T11:52:07.260Z"
   },
   {
    "duration": 13,
    "start_time": "2022-11-02T11:52:07.521Z"
   },
   {
    "duration": 20,
    "start_time": "2022-11-02T11:52:07.839Z"
   },
   {
    "duration": 20,
    "start_time": "2022-11-02T11:52:08.280Z"
   },
   {
    "duration": 4,
    "start_time": "2022-11-02T11:52:08.431Z"
   },
   {
    "duration": 263,
    "start_time": "2022-11-02T11:52:08.581Z"
   },
   {
    "duration": 249,
    "start_time": "2022-11-02T11:52:08.846Z"
   },
   {
    "duration": 4,
    "start_time": "2022-11-02T11:52:09.628Z"
   },
   {
    "duration": 20,
    "start_time": "2022-11-02T11:52:09.779Z"
   },
   {
    "duration": 5,
    "start_time": "2022-11-02T11:52:09.970Z"
   },
   {
    "duration": 222,
    "start_time": "2022-11-02T11:52:10.341Z"
   },
   {
    "duration": 193,
    "start_time": "2022-11-02T11:52:10.639Z"
   },
   {
    "duration": 184,
    "start_time": "2022-11-02T11:52:10.949Z"
   },
   {
    "duration": 200,
    "start_time": "2022-11-02T11:52:11.448Z"
   },
   {
    "duration": 20,
    "start_time": "2022-11-02T11:52:11.949Z"
   },
   {
    "duration": 21,
    "start_time": "2022-11-02T11:52:12.280Z"
   },
   {
    "duration": 18,
    "start_time": "2022-11-02T11:52:12.759Z"
   },
   {
    "duration": 30,
    "start_time": "2022-11-02T11:52:14.268Z"
   },
   {
    "duration": 23,
    "start_time": "2022-11-02T11:52:14.426Z"
   },
   {
    "duration": 4,
    "start_time": "2022-11-02T11:52:14.747Z"
   },
   {
    "duration": 6,
    "start_time": "2022-11-02T11:52:14.889Z"
   },
   {
    "duration": 15,
    "start_time": "2022-11-02T11:52:15.209Z"
   },
   {
    "duration": 12,
    "start_time": "2022-11-02T11:52:15.530Z"
   },
   {
    "duration": 17,
    "start_time": "2022-11-02T11:52:15.709Z"
   },
   {
    "duration": 5,
    "start_time": "2022-11-02T11:52:16.020Z"
   },
   {
    "duration": 7,
    "start_time": "2022-11-02T11:52:16.500Z"
   },
   {
    "duration": 5,
    "start_time": "2022-11-02T11:52:16.722Z"
   },
   {
    "duration": 121,
    "start_time": "2022-11-02T11:52:16.819Z"
   },
   {
    "duration": 5,
    "start_time": "2022-11-02T11:52:16.979Z"
   },
   {
    "duration": 7,
    "start_time": "2022-11-02T11:52:17.299Z"
   },
   {
    "duration": 20,
    "start_time": "2022-11-02T11:52:17.639Z"
   },
   {
    "duration": 10,
    "start_time": "2022-11-02T11:52:17.804Z"
   },
   {
    "duration": 205,
    "start_time": "2022-11-02T11:52:18.300Z"
   },
   {
    "duration": 15,
    "start_time": "2022-11-02T11:52:18.799Z"
   },
   {
    "duration": 4,
    "start_time": "2022-11-02T11:52:19.528Z"
   },
   {
    "duration": 21,
    "start_time": "2022-11-02T11:52:19.960Z"
   },
   {
    "duration": 505,
    "start_time": "2022-11-02T11:52:20.130Z"
   },
   {
    "duration": 9,
    "start_time": "2022-11-02T11:52:20.698Z"
   },
   {
    "duration": 9,
    "start_time": "2022-11-02T11:52:20.839Z"
   },
   {
    "duration": 6,
    "start_time": "2022-11-02T11:52:21.208Z"
   },
   {
    "duration": 3,
    "start_time": "2022-11-02T11:52:21.379Z"
   },
   {
    "duration": 4,
    "start_time": "2022-11-02T11:52:21.569Z"
   },
   {
    "duration": 36,
    "start_time": "2022-11-02T11:52:21.709Z"
   },
   {
    "duration": 3,
    "start_time": "2022-11-02T11:52:22.340Z"
   },
   {
    "duration": 20,
    "start_time": "2022-11-02T11:52:22.739Z"
   },
   {
    "duration": 4,
    "start_time": "2022-11-02T11:52:24.829Z"
   },
   {
    "duration": 2,
    "start_time": "2022-11-02T11:52:28.477Z"
   },
   {
    "duration": 222203,
    "start_time": "2022-11-02T11:52:39.699Z"
   },
   {
    "duration": 3,
    "start_time": "2022-11-02T11:58:22.860Z"
   },
   {
    "duration": 2,
    "start_time": "2022-11-02T11:58:26.250Z"
   },
   {
    "duration": 21,
    "start_time": "2022-11-02T11:58:26.650Z"
   },
   {
    "duration": 47,
    "start_time": "2022-11-02T11:59:08.610Z"
   },
   {
    "duration": 273,
    "start_time": "2022-11-02T11:59:13.331Z"
   },
   {
    "duration": 7,
    "start_time": "2022-11-02T11:59:16.828Z"
   },
   {
    "duration": 180,
    "start_time": "2022-11-02T11:59:18.942Z"
   },
   {
    "duration": 9,
    "start_time": "2022-11-02T11:59:44.780Z"
   },
   {
    "duration": 38,
    "start_time": "2022-11-02T11:59:48.340Z"
   },
   {
    "duration": 20,
    "start_time": "2022-11-02T11:59:53.250Z"
   },
   {
    "duration": 6,
    "start_time": "2022-11-02T12:01:58.683Z"
   },
   {
    "duration": 9,
    "start_time": "2022-11-02T12:03:15.671Z"
   },
   {
    "duration": 9,
    "start_time": "2022-11-02T12:03:16.172Z"
   },
   {
    "duration": 8,
    "start_time": "2022-11-02T12:03:17.431Z"
   },
   {
    "duration": 3,
    "start_time": "2022-11-02T12:03:17.811Z"
   },
   {
    "duration": 4,
    "start_time": "2022-11-02T12:03:18.231Z"
   },
   {
    "duration": 52,
    "start_time": "2022-11-02T12:03:18.841Z"
   },
   {
    "duration": 3,
    "start_time": "2022-11-02T12:03:20.552Z"
   },
   {
    "duration": 23,
    "start_time": "2022-11-02T12:03:20.931Z"
   },
   {
    "duration": 4,
    "start_time": "2022-11-02T12:03:25.511Z"
   },
   {
    "duration": 5,
    "start_time": "2022-11-02T12:07:13.067Z"
   },
   {
    "duration": 3,
    "start_time": "2022-11-02T12:09:53.536Z"
   },
   {
    "duration": 31,
    "start_time": "2022-11-02T12:10:00.926Z"
   },
   {
    "duration": 11,
    "start_time": "2022-11-02T12:10:07.286Z"
   },
   {
    "duration": 15963,
    "start_time": "2022-11-02T12:11:22.672Z"
   },
   {
    "duration": 12,
    "start_time": "2022-11-02T12:11:47.417Z"
   },
   {
    "duration": 7,
    "start_time": "2022-11-02T12:12:14.807Z"
   },
   {
    "duration": 177,
    "start_time": "2022-11-02T12:12:18.503Z"
   },
   {
    "duration": 8,
    "start_time": "2022-11-02T12:13:20.349Z"
   },
   {
    "duration": 8,
    "start_time": "2022-11-02T12:13:47.243Z"
   },
   {
    "duration": 15,
    "start_time": "2022-11-02T12:13:52.543Z"
   },
   {
    "duration": 37430,
    "start_time": "2022-11-02T12:13:57.254Z"
   },
   {
    "duration": 7,
    "start_time": "2022-11-02T12:14:38.807Z"
   },
   {
    "duration": 168,
    "start_time": "2022-11-02T12:14:39.635Z"
   },
   {
    "duration": 9,
    "start_time": "2022-11-02T12:16:40.117Z"
   },
   {
    "duration": 253,
    "start_time": "2022-11-02T12:16:59.676Z"
   },
   {
    "duration": 5,
    "start_time": "2022-11-02T12:20:03.780Z"
   },
   {
    "duration": 12,
    "start_time": "2022-11-02T12:20:05.209Z"
   },
   {
    "duration": 19,
    "start_time": "2022-11-02T12:20:08.506Z"
   },
   {
    "duration": 22,
    "start_time": "2022-11-02T12:20:09.614Z"
   },
   {
    "duration": 43752,
    "start_time": "2022-11-02T12:20:14.732Z"
   },
   {
    "duration": 8,
    "start_time": "2022-11-02T12:21:02.911Z"
   },
   {
    "duration": 168,
    "start_time": "2022-11-02T12:21:04.021Z"
   },
   {
    "duration": 5,
    "start_time": "2022-11-02T12:21:07.466Z"
   },
   {
    "duration": 259,
    "start_time": "2022-11-02T12:21:08.935Z"
   },
   {
    "duration": 8,
    "start_time": "2022-11-02T12:21:37.546Z"
   },
   {
    "duration": 1374,
    "start_time": "2022-11-02T12:22:33.200Z"
   },
   {
    "duration": 0,
    "start_time": "2022-11-02T12:22:34.576Z"
   },
   {
    "duration": 8,
    "start_time": "2022-11-02T12:22:51.353Z"
   },
   {
    "duration": 11,
    "start_time": "2022-11-02T12:22:51.778Z"
   },
   {
    "duration": 8,
    "start_time": "2022-11-02T12:22:53.707Z"
   },
   {
    "duration": 5,
    "start_time": "2022-11-02T12:22:54.101Z"
   },
   {
    "duration": 9,
    "start_time": "2022-11-02T12:22:54.474Z"
   },
   {
    "duration": 67,
    "start_time": "2022-11-02T12:22:56.109Z"
   },
   {
    "duration": 5,
    "start_time": "2022-11-02T12:22:57.109Z"
   },
   {
    "duration": 17,
    "start_time": "2022-11-02T12:22:57.866Z"
   },
   {
    "duration": 26,
    "start_time": "2022-11-02T12:23:06.263Z"
   },
   {
    "duration": 1718,
    "start_time": "2022-11-03T06:44:28.022Z"
   },
   {
    "duration": 327,
    "start_time": "2022-11-03T06:44:29.743Z"
   },
   {
    "duration": 29,
    "start_time": "2022-11-03T06:44:30.071Z"
   },
   {
    "duration": 18,
    "start_time": "2022-11-03T06:44:30.103Z"
   },
   {
    "duration": 26,
    "start_time": "2022-11-03T06:44:30.123Z"
   },
   {
    "duration": 51,
    "start_time": "2022-11-03T06:44:30.151Z"
   },
   {
    "duration": 12,
    "start_time": "2022-11-03T06:44:30.204Z"
   },
   {
    "duration": 6,
    "start_time": "2022-11-03T06:44:30.218Z"
   },
   {
    "duration": 27,
    "start_time": "2022-11-03T06:44:30.227Z"
   },
   {
    "duration": 8,
    "start_time": "2022-11-03T06:44:30.258Z"
   },
   {
    "duration": 29,
    "start_time": "2022-11-03T06:44:30.268Z"
   },
   {
    "duration": 16,
    "start_time": "2022-11-03T06:44:30.299Z"
   },
   {
    "duration": 37,
    "start_time": "2022-11-03T06:44:30.316Z"
   },
   {
    "duration": 40,
    "start_time": "2022-11-03T06:44:30.355Z"
   },
   {
    "duration": 8,
    "start_time": "2022-11-03T06:44:30.398Z"
   },
   {
    "duration": 307,
    "start_time": "2022-11-03T06:44:30.408Z"
   },
   {
    "duration": 267,
    "start_time": "2022-11-03T06:44:30.717Z"
   },
   {
    "duration": 5,
    "start_time": "2022-11-03T06:44:30.987Z"
   },
   {
    "duration": 28,
    "start_time": "2022-11-03T06:44:30.994Z"
   },
   {
    "duration": 4,
    "start_time": "2022-11-03T06:44:31.024Z"
   },
   {
    "duration": 344,
    "start_time": "2022-11-03T06:44:31.030Z"
   },
   {
    "duration": 211,
    "start_time": "2022-11-03T06:44:31.375Z"
   },
   {
    "duration": 209,
    "start_time": "2022-11-03T06:44:31.590Z"
   },
   {
    "duration": 214,
    "start_time": "2022-11-03T06:44:31.801Z"
   },
   {
    "duration": 25,
    "start_time": "2022-11-03T06:44:32.017Z"
   },
   {
    "duration": 23,
    "start_time": "2022-11-03T06:44:32.043Z"
   },
   {
    "duration": 24,
    "start_time": "2022-11-03T06:44:32.091Z"
   },
   {
    "duration": 49,
    "start_time": "2022-11-03T06:44:32.121Z"
   },
   {
    "duration": 36,
    "start_time": "2022-11-03T06:44:32.172Z"
   },
   {
    "duration": 4,
    "start_time": "2022-11-03T06:44:32.210Z"
   },
   {
    "duration": 7,
    "start_time": "2022-11-03T06:44:32.216Z"
   },
   {
    "duration": 18,
    "start_time": "2022-11-03T06:44:32.224Z"
   },
   {
    "duration": 11,
    "start_time": "2022-11-03T06:44:32.244Z"
   },
   {
    "duration": 51,
    "start_time": "2022-11-03T06:44:32.256Z"
   },
   {
    "duration": 5,
    "start_time": "2022-11-03T06:44:32.308Z"
   },
   {
    "duration": 13,
    "start_time": "2022-11-03T06:44:32.315Z"
   },
   {
    "duration": 4,
    "start_time": "2022-11-03T06:44:32.330Z"
   },
   {
    "duration": 80,
    "start_time": "2022-11-03T06:44:32.336Z"
   },
   {
    "duration": 6,
    "start_time": "2022-11-03T06:44:32.418Z"
   },
   {
    "duration": 13,
    "start_time": "2022-11-03T06:44:32.427Z"
   },
   {
    "duration": 19,
    "start_time": "2022-11-03T06:44:32.442Z"
   },
   {
    "duration": 36,
    "start_time": "2022-11-03T06:44:32.462Z"
   },
   {
    "duration": 229,
    "start_time": "2022-11-03T06:44:32.501Z"
   },
   {
    "duration": 20,
    "start_time": "2022-11-03T06:44:32.732Z"
   },
   {
    "duration": 5,
    "start_time": "2022-11-03T06:44:32.754Z"
   },
   {
    "duration": 46,
    "start_time": "2022-11-03T06:44:32.761Z"
   },
   {
    "duration": 523,
    "start_time": "2022-11-03T06:44:32.809Z"
   },
   {
    "duration": 8,
    "start_time": "2022-11-03T06:44:33.334Z"
   },
   {
    "duration": 10,
    "start_time": "2022-11-03T06:44:33.345Z"
   },
   {
    "duration": 6,
    "start_time": "2022-11-03T06:44:33.357Z"
   },
   {
    "duration": 25,
    "start_time": "2022-11-03T06:44:33.365Z"
   },
   {
    "duration": 4,
    "start_time": "2022-11-03T06:44:33.393Z"
   },
   {
    "duration": 58,
    "start_time": "2022-11-03T06:44:33.398Z"
   },
   {
    "duration": 5,
    "start_time": "2022-11-03T06:44:33.458Z"
   },
   {
    "duration": 50,
    "start_time": "2022-11-03T06:44:33.465Z"
   },
   {
    "duration": 3,
    "start_time": "2022-11-03T06:44:33.517Z"
   },
   {
    "duration": 4,
    "start_time": "2022-11-03T06:44:33.522Z"
   },
   {
    "duration": 9,
    "start_time": "2022-11-03T06:44:33.528Z"
   },
   {
    "duration": 7,
    "start_time": "2022-11-03T06:44:33.539Z"
   },
   {
    "duration": 47,
    "start_time": "2022-11-03T06:44:33.548Z"
   },
   {
    "duration": 41705,
    "start_time": "2022-11-03T06:44:33.597Z"
   },
   {
    "duration": 9,
    "start_time": "2022-11-03T06:45:15.304Z"
   },
   {
    "duration": 191,
    "start_time": "2022-11-03T06:45:15.315Z"
   },
   {
    "duration": 9,
    "start_time": "2022-11-03T06:45:15.507Z"
   },
   {
    "duration": 283,
    "start_time": "2022-11-03T06:45:15.518Z"
   },
   {
    "duration": 10,
    "start_time": "2022-11-03T06:45:15.803Z"
   },
   {
    "duration": 76,
    "start_time": "2022-11-03T06:45:15.815Z"
   },
   {
    "duration": 20,
    "start_time": "2022-11-03T06:45:15.893Z"
   },
   {
    "duration": 1041818,
    "start_time": "2022-11-03T06:45:15.914Z"
   },
   {
    "duration": 0,
    "start_time": "2022-11-03T07:02:37.735Z"
   },
   {
    "duration": 0,
    "start_time": "2022-11-03T07:02:37.736Z"
   },
   {
    "duration": 0,
    "start_time": "2022-11-03T07:02:37.737Z"
   },
   {
    "duration": 0,
    "start_time": "2022-11-03T07:02:37.738Z"
   },
   {
    "duration": 0,
    "start_time": "2022-11-03T07:02:37.739Z"
   },
   {
    "duration": 0,
    "start_time": "2022-11-03T07:02:37.740Z"
   },
   {
    "duration": 3,
    "start_time": "2022-11-03T07:08:35.736Z"
   },
   {
    "duration": 14,
    "start_time": "2022-11-03T07:08:46.416Z"
   },
   {
    "duration": 43,
    "start_time": "2022-11-03T07:09:06.386Z"
   },
   {
    "duration": 10,
    "start_time": "2022-11-03T07:09:33.616Z"
   },
   {
    "duration": 18,
    "start_time": "2022-11-03T07:09:37.006Z"
   },
   {
    "duration": 17,
    "start_time": "2022-11-03T07:09:39.518Z"
   },
   {
    "duration": 3,
    "start_time": "2022-11-03T07:09:40.307Z"
   },
   {
    "duration": 3,
    "start_time": "2022-11-03T07:09:42.556Z"
   },
   {
    "duration": 69,
    "start_time": "2022-11-03T07:09:43.636Z"
   },
   {
    "duration": 4,
    "start_time": "2022-11-03T07:09:45.056Z"
   },
   {
    "duration": 30,
    "start_time": "2022-11-03T07:09:46.546Z"
   },
   {
    "duration": 12,
    "start_time": "2022-11-03T07:10:06.656Z"
   },
   {
    "duration": 15,
    "start_time": "2022-11-03T07:10:08.466Z"
   },
   {
    "duration": 19,
    "start_time": "2022-11-03T07:10:12.106Z"
   },
   {
    "duration": 3,
    "start_time": "2022-11-03T07:11:00.543Z"
   },
   {
    "duration": 11,
    "start_time": "2022-11-03T07:11:02.727Z"
   },
   {
    "duration": 7,
    "start_time": "2022-11-03T07:11:08.486Z"
   },
   {
    "duration": 3,
    "start_time": "2022-11-03T07:11:09.044Z"
   },
   {
    "duration": 4,
    "start_time": "2022-11-03T07:11:09.536Z"
   },
   {
    "duration": 56,
    "start_time": "2022-11-03T07:11:10.976Z"
   },
   {
    "duration": 4,
    "start_time": "2022-11-03T07:11:11.286Z"
   },
   {
    "duration": 22,
    "start_time": "2022-11-03T07:11:12.086Z"
   },
   {
    "duration": 11,
    "start_time": "2022-11-03T07:11:18.386Z"
   },
   {
    "duration": 8,
    "start_time": "2022-11-03T07:11:19.346Z"
   },
   {
    "duration": 14,
    "start_time": "2022-11-03T07:11:20.855Z"
   },
   {
    "duration": 13,
    "start_time": "2022-11-03T07:11:37.617Z"
   },
   {
    "duration": 38,
    "start_time": "2022-11-03T07:11:38.405Z"
   },
   {
    "duration": 28,
    "start_time": "2022-11-03T07:11:39.995Z"
   },
   {
    "duration": 240,
    "start_time": "2022-11-03T07:16:11.839Z"
   },
   {
    "duration": 254,
    "start_time": "2022-11-03T07:16:38.640Z"
   },
   {
    "duration": 24,
    "start_time": "2022-11-03T07:17:53.685Z"
   },
   {
    "duration": 23,
    "start_time": "2022-11-03T07:18:17.732Z"
   },
   {
    "duration": 353,
    "start_time": "2022-11-03T07:19:01.002Z"
   },
   {
    "duration": 15,
    "start_time": "2022-11-03T07:19:43.840Z"
   },
   {
    "duration": 60,
    "start_time": "2022-11-03T07:19:46.380Z"
   },
   {
    "duration": 31,
    "start_time": "2022-11-03T07:19:47.337Z"
   },
   {
    "duration": 17,
    "start_time": "2022-11-03T07:20:00.741Z"
   },
   {
    "duration": 13,
    "start_time": "2022-11-03T07:20:34.920Z"
   },
   {
    "duration": 15,
    "start_time": "2022-11-03T07:20:48.450Z"
   },
   {
    "duration": 12,
    "start_time": "2022-11-03T07:20:56.002Z"
   },
   {
    "duration": 13,
    "start_time": "2022-11-03T07:21:03.551Z"
   },
   {
    "duration": 4,
    "start_time": "2022-11-03T07:21:07.740Z"
   },
   {
    "duration": 4,
    "start_time": "2022-11-03T07:21:18.881Z"
   },
   {
    "duration": 4,
    "start_time": "2022-11-03T07:21:42.360Z"
   },
   {
    "duration": 5,
    "start_time": "2022-11-03T07:22:00.749Z"
   },
   {
    "duration": 4,
    "start_time": "2022-11-03T07:22:06.920Z"
   },
   {
    "duration": 453396,
    "start_time": "2022-11-03T07:22:16.200Z"
   },
   {
    "duration": 4,
    "start_time": "2022-11-03T07:30:28.096Z"
   },
   {
    "duration": 3,
    "start_time": "2022-11-03T07:30:45.915Z"
   },
   {
    "duration": 29,
    "start_time": "2022-11-03T07:30:52.615Z"
   },
   {
    "duration": 6,
    "start_time": "2022-11-03T07:30:54.386Z"
   },
   {
    "duration": 150,
    "start_time": "2022-11-03T07:30:57.255Z"
   },
   {
    "duration": 6,
    "start_time": "2022-11-03T07:36:13.785Z"
   },
   {
    "duration": 11,
    "start_time": "2022-11-03T07:40:25.929Z"
   },
   {
    "duration": 102,
    "start_time": "2022-11-03T07:40:30.889Z"
   },
   {
    "duration": 8,
    "start_time": "2022-11-03T07:40:33.358Z"
   },
   {
    "duration": 180,
    "start_time": "2022-11-03T07:40:34.379Z"
   },
   {
    "duration": 150,
    "start_time": "2022-11-03T07:41:13.988Z"
   },
   {
    "duration": 144,
    "start_time": "2022-11-03T07:41:51.007Z"
   },
   {
    "duration": 36316,
    "start_time": "2022-11-03T07:43:22.500Z"
   },
   {
    "duration": 8,
    "start_time": "2022-11-03T07:44:14.379Z"
   },
   {
    "duration": 151,
    "start_time": "2022-11-03T07:44:15.360Z"
   },
   {
    "duration": 225,
    "start_time": "2022-11-03T07:44:18.897Z"
   },
   {
    "duration": 12,
    "start_time": "2022-11-03T07:45:24.248Z"
   },
   {
    "duration": 7,
    "start_time": "2022-11-03T07:45:26.227Z"
   },
   {
    "duration": 13,
    "start_time": "2022-11-03T07:45:27.558Z"
   },
   {
    "duration": 33257,
    "start_time": "2022-11-03T07:45:30.500Z"
   },
   {
    "duration": 6,
    "start_time": "2022-11-03T07:46:12.949Z"
   },
   {
    "duration": 152,
    "start_time": "2022-11-03T07:46:13.738Z"
   },
   {
    "duration": 233,
    "start_time": "2022-11-03T07:46:19.575Z"
   },
   {
    "duration": 13,
    "start_time": "2022-11-03T07:46:37.207Z"
   },
   {
    "duration": 7,
    "start_time": "2022-11-03T07:46:38.912Z"
   },
   {
    "duration": 15,
    "start_time": "2022-11-03T07:46:39.562Z"
   },
   {
    "duration": 33759,
    "start_time": "2022-11-03T07:46:41.159Z"
   },
   {
    "duration": 7,
    "start_time": "2022-11-03T07:47:24.328Z"
   },
   {
    "duration": 140,
    "start_time": "2022-11-03T07:47:24.826Z"
   },
   {
    "duration": 273,
    "start_time": "2022-11-03T07:47:44.329Z"
   },
   {
    "duration": 147,
    "start_time": "2022-11-03T07:47:55.889Z"
   },
   {
    "duration": 12,
    "start_time": "2022-11-03T07:49:22.799Z"
   },
   {
    "duration": 6,
    "start_time": "2022-11-03T07:49:23.532Z"
   },
   {
    "duration": 13,
    "start_time": "2022-11-03T07:49:23.978Z"
   },
   {
    "duration": 35262,
    "start_time": "2022-11-03T07:49:24.878Z"
   },
   {
    "duration": 6,
    "start_time": "2022-11-03T07:50:00.142Z"
   },
   {
    "duration": 146,
    "start_time": "2022-11-03T07:50:00.150Z"
   },
   {
    "duration": 228,
    "start_time": "2022-11-03T07:50:00.298Z"
   },
   {
    "duration": 5,
    "start_time": "2022-11-03T07:51:09.455Z"
   },
   {
    "duration": 17,
    "start_time": "2022-11-03T07:51:19.878Z"
   },
   {
    "duration": 6,
    "start_time": "2022-11-03T07:51:32.818Z"
   },
   {
    "duration": 4,
    "start_time": "2022-11-03T07:51:34.708Z"
   },
   {
    "duration": 13,
    "start_time": "2022-11-03T07:55:13.925Z"
   },
   {
    "duration": 8,
    "start_time": "2022-11-03T07:55:14.436Z"
   },
   {
    "duration": 13,
    "start_time": "2022-11-03T07:55:18.500Z"
   },
   {
    "duration": 2,
    "start_time": "2022-11-03T07:56:27.286Z"
   },
   {
    "duration": 10,
    "start_time": "2022-11-03T07:56:27.556Z"
   },
   {
    "duration": 7,
    "start_time": "2022-11-03T07:56:28.075Z"
   },
   {
    "duration": 6,
    "start_time": "2022-11-03T07:56:32.375Z"
   },
   {
    "duration": 87,
    "start_time": "2022-11-03T07:56:33.235Z"
   },
   {
    "duration": 18,
    "start_time": "2022-11-03T07:57:14.837Z"
   },
   {
    "duration": 4,
    "start_time": "2022-11-03T07:57:28.105Z"
   },
   {
    "duration": 2,
    "start_time": "2022-11-03T07:58:01.786Z"
   },
   {
    "duration": 10,
    "start_time": "2022-11-03T07:58:02.037Z"
   },
   {
    "duration": 5,
    "start_time": "2022-11-03T07:58:02.356Z"
   },
   {
    "duration": 7,
    "start_time": "2022-11-03T07:58:02.695Z"
   },
   {
    "duration": 6,
    "start_time": "2022-11-03T07:58:04.056Z"
   },
   {
    "duration": 36944,
    "start_time": "2022-11-03T07:58:04.948Z"
   },
   {
    "duration": 7,
    "start_time": "2022-11-03T07:58:41.894Z"
   },
   {
    "duration": 4,
    "start_time": "2022-11-03T07:58:51.736Z"
   },
   {
    "duration": 153,
    "start_time": "2022-11-03T07:58:54.096Z"
   },
   {
    "duration": 210,
    "start_time": "2022-11-03T07:58:58.407Z"
   },
   {
    "duration": 2,
    "start_time": "2022-11-03T07:59:15.096Z"
   },
   {
    "duration": 11,
    "start_time": "2022-11-03T07:59:15.356Z"
   },
   {
    "duration": 8,
    "start_time": "2022-11-03T07:59:15.646Z"
   },
   {
    "duration": 36840,
    "start_time": "2022-11-03T07:59:17.656Z"
   },
   {
    "duration": 9,
    "start_time": "2022-11-03T07:59:54.499Z"
   },
   {
    "duration": 165,
    "start_time": "2022-11-03T07:59:54.509Z"
   },
   {
    "duration": 226,
    "start_time": "2022-11-03T07:59:54.675Z"
   },
   {
    "duration": 11,
    "start_time": "2022-11-03T08:01:34.376Z"
   },
   {
    "duration": 41,
    "start_time": "2022-11-03T08:01:34.856Z"
   },
   {
    "duration": 28,
    "start_time": "2022-11-03T08:01:35.406Z"
   },
   {
    "duration": 233971,
    "start_time": "2022-11-03T08:01:38.836Z"
   },
   {
    "duration": 4,
    "start_time": "2022-11-03T08:05:48.398Z"
   },
   {
    "duration": 3,
    "start_time": "2022-11-03T08:05:51.519Z"
   },
   {
    "duration": 59,
    "start_time": "2022-11-03T08:05:58.540Z"
   },
   {
    "duration": 25,
    "start_time": "2022-11-03T08:07:00.948Z"
   },
   {
    "duration": 13,
    "start_time": "2022-11-03T08:07:13.059Z"
   },
   {
    "duration": 123,
    "start_time": "2022-11-03T08:07:19.480Z"
   },
   {
    "duration": 8,
    "start_time": "2022-11-03T08:07:20.588Z"
   },
   {
    "duration": 151,
    "start_time": "2022-11-03T08:07:33.629Z"
   },
   {
    "duration": 22,
    "start_time": "2022-11-03T08:09:43.302Z"
   },
   {
    "duration": 235,
    "start_time": "2022-11-03T08:09:53.169Z"
   },
   {
    "duration": 1486,
    "start_time": "2022-11-03T08:10:13.717Z"
   },
   {
    "duration": 116,
    "start_time": "2022-11-03T08:10:15.205Z"
   },
   {
    "duration": 24,
    "start_time": "2022-11-03T08:10:15.323Z"
   },
   {
    "duration": 16,
    "start_time": "2022-11-03T08:10:15.349Z"
   },
   {
    "duration": 39,
    "start_time": "2022-11-03T08:10:15.367Z"
   },
   {
    "duration": 17,
    "start_time": "2022-11-03T08:10:15.409Z"
   },
   {
    "duration": 10,
    "start_time": "2022-11-03T08:10:15.427Z"
   },
   {
    "duration": 8,
    "start_time": "2022-11-03T08:10:15.439Z"
   },
   {
    "duration": 19,
    "start_time": "2022-11-03T08:10:15.449Z"
   },
   {
    "duration": 25,
    "start_time": "2022-11-03T08:10:15.470Z"
   },
   {
    "duration": 13,
    "start_time": "2022-11-03T08:10:15.498Z"
   },
   {
    "duration": 13,
    "start_time": "2022-11-03T08:10:15.513Z"
   },
   {
    "duration": 19,
    "start_time": "2022-11-03T08:10:15.528Z"
   },
   {
    "duration": 53,
    "start_time": "2022-11-03T08:10:15.548Z"
   },
   {
    "duration": 3,
    "start_time": "2022-11-03T08:10:15.603Z"
   },
   {
    "duration": 270,
    "start_time": "2022-11-03T08:10:15.608Z"
   },
   {
    "duration": 265,
    "start_time": "2022-11-03T08:10:15.879Z"
   },
   {
    "duration": 3,
    "start_time": "2022-11-03T08:10:16.146Z"
   },
   {
    "duration": 21,
    "start_time": "2022-11-03T08:10:16.151Z"
   },
   {
    "duration": 20,
    "start_time": "2022-11-03T08:10:16.174Z"
   },
   {
    "duration": 307,
    "start_time": "2022-11-03T08:10:16.195Z"
   },
   {
    "duration": 243,
    "start_time": "2022-11-03T08:10:16.504Z"
   },
   {
    "duration": 204,
    "start_time": "2022-11-03T08:10:16.749Z"
   },
   {
    "duration": 201,
    "start_time": "2022-11-03T08:10:16.955Z"
   },
   {
    "duration": 20,
    "start_time": "2022-11-03T08:10:17.158Z"
   },
   {
    "duration": 24,
    "start_time": "2022-11-03T08:10:17.191Z"
   },
   {
    "duration": 18,
    "start_time": "2022-11-03T08:10:17.216Z"
   },
   {
    "duration": 54,
    "start_time": "2022-11-03T08:10:17.238Z"
   },
   {
    "duration": 22,
    "start_time": "2022-11-03T08:10:17.293Z"
   },
   {
    "duration": 4,
    "start_time": "2022-11-03T08:10:17.316Z"
   },
   {
    "duration": 6,
    "start_time": "2022-11-03T08:10:17.322Z"
   },
   {
    "duration": 15,
    "start_time": "2022-11-03T08:10:17.330Z"
   },
   {
    "duration": 44,
    "start_time": "2022-11-03T08:10:17.347Z"
   },
   {
    "duration": 15,
    "start_time": "2022-11-03T08:10:17.393Z"
   },
   {
    "duration": 5,
    "start_time": "2022-11-03T08:10:17.409Z"
   },
   {
    "duration": 14,
    "start_time": "2022-11-03T08:10:17.416Z"
   },
   {
    "duration": 4,
    "start_time": "2022-11-03T08:10:17.432Z"
   },
   {
    "duration": 79,
    "start_time": "2022-11-03T08:10:17.437Z"
   },
   {
    "duration": 5,
    "start_time": "2022-11-03T08:10:17.519Z"
   },
   {
    "duration": 8,
    "start_time": "2022-11-03T08:10:17.526Z"
   },
   {
    "duration": 16,
    "start_time": "2022-11-03T08:10:17.536Z"
   },
   {
    "duration": 39,
    "start_time": "2022-11-03T08:10:17.554Z"
   },
   {
    "duration": 216,
    "start_time": "2022-11-03T08:10:17.595Z"
   },
   {
    "duration": 15,
    "start_time": "2022-11-03T08:10:17.813Z"
   },
   {
    "duration": 4,
    "start_time": "2022-11-03T08:10:17.830Z"
   },
   {
    "duration": 23,
    "start_time": "2022-11-03T08:10:17.836Z"
   },
   {
    "duration": 549,
    "start_time": "2022-11-03T08:10:17.861Z"
   },
   {
    "duration": 3,
    "start_time": "2022-11-03T08:10:18.412Z"
   },
   {
    "duration": 13,
    "start_time": "2022-11-03T08:10:18.417Z"
   },
   {
    "duration": 8,
    "start_time": "2022-11-03T08:10:18.431Z"
   },
   {
    "duration": 5,
    "start_time": "2022-11-03T08:10:18.441Z"
   },
   {
    "duration": 5,
    "start_time": "2022-11-03T08:10:18.448Z"
   },
   {
    "duration": 94,
    "start_time": "2022-11-03T08:10:18.454Z"
   },
   {
    "duration": 4,
    "start_time": "2022-11-03T08:10:18.550Z"
   },
   {
    "duration": 25,
    "start_time": "2022-11-03T08:10:18.555Z"
   },
   {
    "duration": 6,
    "start_time": "2022-11-03T08:10:18.590Z"
   },
   {
    "duration": 5,
    "start_time": "2022-11-03T08:10:18.597Z"
   },
   {
    "duration": 13,
    "start_time": "2022-11-03T08:10:18.604Z"
   },
   {
    "duration": 5,
    "start_time": "2022-11-03T08:10:18.619Z"
   },
   {
    "duration": 38721,
    "start_time": "2022-11-03T08:10:18.627Z"
   },
   {
    "duration": 7,
    "start_time": "2022-11-03T08:10:57.350Z"
   },
   {
    "duration": 164,
    "start_time": "2022-11-03T08:10:57.358Z"
   },
   {
    "duration": 260,
    "start_time": "2022-11-03T08:10:57.524Z"
   },
   {
    "duration": 18,
    "start_time": "2022-11-03T08:10:57.786Z"
   },
   {
    "duration": 43,
    "start_time": "2022-11-03T08:10:57.806Z"
   },
   {
    "duration": 45,
    "start_time": "2022-11-03T08:10:57.851Z"
   },
   {
    "duration": 542615,
    "start_time": "2022-11-03T08:10:57.898Z"
   },
   {
    "duration": 5,
    "start_time": "2022-11-03T08:20:00.515Z"
   },
   {
    "duration": 4,
    "start_time": "2022-11-03T08:20:00.592Z"
   },
   {
    "duration": 95,
    "start_time": "2022-11-03T08:20:00.597Z"
   },
   {
    "duration": 7,
    "start_time": "2022-11-03T08:20:00.694Z"
   },
   {
    "duration": 197,
    "start_time": "2022-11-03T08:20:00.702Z"
   },
   {
    "duration": 255,
    "start_time": "2022-11-03T08:20:00.901Z"
   },
   {
    "duration": 278,
    "start_time": "2022-11-03T08:22:22.123Z"
   },
   {
    "duration": 155,
    "start_time": "2022-11-03T08:23:38.704Z"
   },
   {
    "duration": 28,
    "start_time": "2022-11-03T08:23:55.283Z"
   },
   {
    "duration": 22,
    "start_time": "2022-11-03T08:24:06.424Z"
   },
   {
    "duration": 21,
    "start_time": "2022-11-03T08:24:36.636Z"
   },
   {
    "duration": 129,
    "start_time": "2022-11-03T08:25:31.210Z"
   },
   {
    "duration": 47296,
    "start_time": "2022-11-03T08:26:39.066Z"
   },
   {
    "duration": 9,
    "start_time": "2022-11-03T08:27:34.667Z"
   },
   {
    "duration": 196,
    "start_time": "2022-11-03T08:27:35.415Z"
   },
   {
    "duration": 256,
    "start_time": "2022-11-03T08:27:37.802Z"
   },
   {
    "duration": 19,
    "start_time": "2022-11-03T08:27:41.607Z"
   },
   {
    "duration": 5,
    "start_time": "2022-11-03T08:33:59.796Z"
   },
   {
    "duration": 38485,
    "start_time": "2022-11-03T08:34:21.035Z"
   },
   {
    "duration": 3,
    "start_time": "2022-11-03T08:34:59.522Z"
   },
   {
    "duration": 3,
    "start_time": "2022-11-03T08:35:04.713Z"
   },
   {
    "duration": 3,
    "start_time": "2022-11-03T08:35:06.945Z"
   },
   {
    "duration": 10,
    "start_time": "2022-11-03T08:35:07.516Z"
   },
   {
    "duration": 6,
    "start_time": "2022-11-03T08:35:08.926Z"
   },
   {
    "duration": 38826,
    "start_time": "2022-11-03T08:35:15.944Z"
   },
   {
    "duration": 25,
    "start_time": "2022-11-03T08:36:03.826Z"
   },
   {
    "duration": 3,
    "start_time": "2022-11-03T08:36:08.066Z"
   },
   {
    "duration": 8,
    "start_time": "2022-11-03T08:36:19.106Z"
   },
   {
    "duration": 151,
    "start_time": "2022-11-03T08:36:30.530Z"
   },
   {
    "duration": 214,
    "start_time": "2022-11-03T08:36:33.536Z"
   },
   {
    "duration": 10,
    "start_time": "2022-11-03T08:36:37.475Z"
   },
   {
    "duration": 40,
    "start_time": "2022-11-03T08:36:38.638Z"
   },
   {
    "duration": 22,
    "start_time": "2022-11-03T08:36:40.285Z"
   },
   {
    "duration": 4,
    "start_time": "2022-11-03T08:36:43.436Z"
   },
   {
    "duration": 3,
    "start_time": "2022-11-03T08:36:44.083Z"
   },
   {
    "duration": 29,
    "start_time": "2022-11-03T08:36:44.795Z"
   },
   {
    "duration": 8,
    "start_time": "2022-11-03T08:36:51.036Z"
   },
   {
    "duration": 148,
    "start_time": "2022-11-03T08:36:52.265Z"
   },
   {
    "duration": 234,
    "start_time": "2022-11-03T08:36:55.395Z"
   },
   {
    "duration": 16,
    "start_time": "2022-11-03T08:37:01.761Z"
   },
   {
    "duration": 19,
    "start_time": "2022-11-03T08:37:25.501Z"
   },
   {
    "duration": 16,
    "start_time": "2022-11-03T08:37:49.190Z"
   },
   {
    "duration": 10,
    "start_time": "2022-11-03T08:40:42.860Z"
   },
   {
    "duration": 55,
    "start_time": "2022-11-03T08:40:50.399Z"
   },
   {
    "duration": 4,
    "start_time": "2022-11-03T08:42:31.291Z"
   },
   {
    "duration": 11,
    "start_time": "2022-11-03T08:42:31.571Z"
   },
   {
    "duration": 7,
    "start_time": "2022-11-03T08:42:31.999Z"
   },
   {
    "duration": 3,
    "start_time": "2022-11-03T08:42:32.359Z"
   },
   {
    "duration": 4,
    "start_time": "2022-11-03T08:42:32.709Z"
   },
   {
    "duration": 50,
    "start_time": "2022-11-03T08:42:33.359Z"
   },
   {
    "duration": 4,
    "start_time": "2022-11-03T08:42:33.820Z"
   },
   {
    "duration": 4,
    "start_time": "2022-11-03T08:43:52.651Z"
   },
   {
    "duration": 11,
    "start_time": "2022-11-03T08:43:56.502Z"
   },
   {
    "duration": 4,
    "start_time": "2022-11-03T08:44:06.332Z"
   },
   {
    "duration": 5,
    "start_time": "2022-11-03T08:44:19.300Z"
   },
   {
    "duration": 4,
    "start_time": "2022-11-03T08:44:25.364Z"
   },
   {
    "duration": 5,
    "start_time": "2022-11-03T08:44:36.542Z"
   },
   {
    "duration": 6,
    "start_time": "2022-11-03T08:45:03.503Z"
   },
   {
    "duration": 3,
    "start_time": "2022-11-03T08:45:18.965Z"
   },
   {
    "duration": 9,
    "start_time": "2022-11-03T08:45:19.535Z"
   },
   {
    "duration": 9,
    "start_time": "2022-11-03T08:45:20.073Z"
   },
   {
    "duration": 6,
    "start_time": "2022-11-03T08:45:20.534Z"
   },
   {
    "duration": 4,
    "start_time": "2022-11-03T08:45:21.045Z"
   },
   {
    "duration": 68,
    "start_time": "2022-11-03T08:45:22.245Z"
   },
   {
    "duration": 4,
    "start_time": "2022-11-03T08:45:32.315Z"
   },
   {
    "duration": 22,
    "start_time": "2022-11-03T08:45:34.096Z"
   },
   {
    "duration": 9,
    "start_time": "2022-11-03T08:46:07.214Z"
   },
   {
    "duration": 8,
    "start_time": "2022-11-03T08:46:09.224Z"
   },
   {
    "duration": 3,
    "start_time": "2022-11-03T08:46:11.093Z"
   },
   {
    "duration": 3,
    "start_time": "2022-11-03T08:46:17.155Z"
   },
   {
    "duration": 74,
    "start_time": "2022-11-03T08:46:19.324Z"
   },
   {
    "duration": 4,
    "start_time": "2022-11-03T08:46:35.644Z"
   },
   {
    "duration": 34,
    "start_time": "2022-11-03T08:46:36.292Z"
   },
   {
    "duration": 4,
    "start_time": "2022-11-03T08:46:38.046Z"
   },
   {
    "duration": 22,
    "start_time": "2022-11-03T08:46:38.266Z"
   },
   {
    "duration": 55,
    "start_time": "2022-11-03T08:46:46.407Z"
   },
   {
    "duration": 10,
    "start_time": "2022-11-03T08:46:48.625Z"
   },
   {
    "duration": 59,
    "start_time": "2022-11-03T08:46:49.594Z"
   },
   {
    "duration": 235,
    "start_time": "2022-11-03T08:50:55.645Z"
   },
   {
    "duration": 10,
    "start_time": "2022-11-03T08:51:11.435Z"
   },
   {
    "duration": 53,
    "start_time": "2022-11-03T08:51:12.645Z"
   },
   {
    "duration": 42407,
    "start_time": "2022-11-03T08:51:35.446Z"
   },
   {
    "duration": 17,
    "start_time": "2022-11-03T08:52:17.855Z"
   },
   {
    "duration": 5,
    "start_time": "2022-11-03T08:53:59.465Z"
   },
   {
    "duration": 4,
    "start_time": "2022-11-03T08:54:05.866Z"
   },
   {
    "duration": 20,
    "start_time": "2022-11-03T08:54:19.304Z"
   },
   {
    "duration": 90,
    "start_time": "2022-11-03T08:54:39.107Z"
   },
   {
    "duration": 11,
    "start_time": "2022-11-03T08:55:46.816Z"
   },
   {
    "duration": 261,
    "start_time": "2022-11-03T08:56:01.047Z"
   },
   {
    "duration": 302,
    "start_time": "2022-11-03T08:56:56.425Z"
   },
   {
    "duration": 16,
    "start_time": "2022-11-03T08:57:04.796Z"
   },
   {
    "duration": 12,
    "start_time": "2022-11-03T08:58:01.621Z"
   },
   {
    "duration": 56,
    "start_time": "2022-11-03T08:58:01.930Z"
   },
   {
    "duration": 70582,
    "start_time": "2022-11-03T08:58:02.932Z"
   },
   {
    "duration": 3,
    "start_time": "2022-11-03T08:59:48.731Z"
   },
   {
    "duration": 3,
    "start_time": "2022-11-03T08:59:50.562Z"
   },
   {
    "duration": 265,
    "start_time": "2022-11-03T08:59:51.241Z"
   },
   {
    "duration": 9,
    "start_time": "2022-11-03T08:59:51.848Z"
   },
   {
    "duration": 149,
    "start_time": "2022-11-03T08:59:52.950Z"
   },
   {
    "duration": 381,
    "start_time": "2022-11-03T08:59:56.660Z"
   },
   {
    "duration": 16,
    "start_time": "2022-11-03T08:59:59.950Z"
   },
   {
    "duration": 197,
    "start_time": "2022-11-03T09:01:36.779Z"
   },
   {
    "duration": 1593,
    "start_time": "2022-11-03T09:02:28.651Z"
   },
   {
    "duration": 108,
    "start_time": "2022-11-03T09:02:30.246Z"
   },
   {
    "duration": 29,
    "start_time": "2022-11-03T09:02:30.356Z"
   },
   {
    "duration": 30,
    "start_time": "2022-11-03T09:02:30.387Z"
   },
   {
    "duration": 37,
    "start_time": "2022-11-03T09:02:30.420Z"
   },
   {
    "duration": 35,
    "start_time": "2022-11-03T09:02:30.460Z"
   },
   {
    "duration": 20,
    "start_time": "2022-11-03T09:02:30.497Z"
   },
   {
    "duration": 14,
    "start_time": "2022-11-03T09:02:30.519Z"
   },
   {
    "duration": 47,
    "start_time": "2022-11-03T09:02:30.535Z"
   },
   {
    "duration": 42,
    "start_time": "2022-11-03T09:02:30.584Z"
   },
   {
    "duration": 24,
    "start_time": "2022-11-03T09:02:30.628Z"
   },
   {
    "duration": 20,
    "start_time": "2022-11-03T09:02:30.654Z"
   },
   {
    "duration": 31,
    "start_time": "2022-11-03T09:02:30.675Z"
   },
   {
    "duration": 21,
    "start_time": "2022-11-03T09:02:30.709Z"
   },
   {
    "duration": 21,
    "start_time": "2022-11-03T09:02:30.732Z"
   },
   {
    "duration": 290,
    "start_time": "2022-11-03T09:02:30.754Z"
   },
   {
    "duration": 270,
    "start_time": "2022-11-03T09:02:31.046Z"
   },
   {
    "duration": 3,
    "start_time": "2022-11-03T09:02:31.318Z"
   },
   {
    "duration": 25,
    "start_time": "2022-11-03T09:02:31.323Z"
   },
   {
    "duration": 4,
    "start_time": "2022-11-03T09:02:31.351Z"
   },
   {
    "duration": 313,
    "start_time": "2022-11-03T09:02:31.357Z"
   },
   {
    "duration": 196,
    "start_time": "2022-11-03T09:02:31.672Z"
   },
   {
    "duration": 195,
    "start_time": "2022-11-03T09:02:31.869Z"
   },
   {
    "duration": 207,
    "start_time": "2022-11-03T09:02:32.066Z"
   },
   {
    "duration": 30,
    "start_time": "2022-11-03T09:02:32.275Z"
   },
   {
    "duration": 28,
    "start_time": "2022-11-03T09:02:32.307Z"
   },
   {
    "duration": 19,
    "start_time": "2022-11-03T09:02:32.337Z"
   },
   {
    "duration": 64,
    "start_time": "2022-11-03T09:02:32.358Z"
   },
   {
    "duration": 23,
    "start_time": "2022-11-03T09:02:32.424Z"
   },
   {
    "duration": 5,
    "start_time": "2022-11-03T09:02:32.449Z"
   },
   {
    "duration": 15,
    "start_time": "2022-11-03T09:02:32.456Z"
   },
   {
    "duration": 31,
    "start_time": "2022-11-03T09:02:32.473Z"
   },
   {
    "duration": 12,
    "start_time": "2022-11-03T09:02:32.506Z"
   },
   {
    "duration": 16,
    "start_time": "2022-11-03T09:02:32.520Z"
   },
   {
    "duration": 6,
    "start_time": "2022-11-03T09:02:32.538Z"
   },
   {
    "duration": 15,
    "start_time": "2022-11-03T09:02:32.546Z"
   },
   {
    "duration": 3,
    "start_time": "2022-11-03T09:02:32.592Z"
   },
   {
    "duration": 69,
    "start_time": "2022-11-03T09:02:32.597Z"
   },
   {
    "duration": 5,
    "start_time": "2022-11-03T09:02:32.668Z"
   },
   {
    "duration": 69,
    "start_time": "2022-11-03T09:02:32.675Z"
   },
   {
    "duration": 19,
    "start_time": "2022-11-03T09:02:32.748Z"
   },
   {
    "duration": 11,
    "start_time": "2022-11-03T09:02:32.769Z"
   },
   {
    "duration": 226,
    "start_time": "2022-11-03T09:02:32.781Z"
   },
   {
    "duration": 13,
    "start_time": "2022-11-03T09:02:33.009Z"
   },
   {
    "duration": 4,
    "start_time": "2022-11-03T09:02:33.024Z"
   },
   {
    "duration": 22,
    "start_time": "2022-11-03T09:02:33.029Z"
   },
   {
    "duration": 513,
    "start_time": "2022-11-03T09:02:33.053Z"
   },
   {
    "duration": 3,
    "start_time": "2022-11-03T09:02:33.568Z"
   },
   {
    "duration": 23,
    "start_time": "2022-11-03T09:02:33.573Z"
   },
   {
    "duration": 7,
    "start_time": "2022-11-03T09:02:33.598Z"
   },
   {
    "duration": 4,
    "start_time": "2022-11-03T09:02:33.607Z"
   },
   {
    "duration": 5,
    "start_time": "2022-11-03T09:02:33.613Z"
   },
   {
    "duration": 34,
    "start_time": "2022-11-03T09:02:33.620Z"
   },
   {
    "duration": 5,
    "start_time": "2022-11-03T09:02:33.656Z"
   },
   {
    "duration": 48,
    "start_time": "2022-11-03T09:02:33.662Z"
   },
   {
    "duration": 4,
    "start_time": "2022-11-03T09:02:33.712Z"
   },
   {
    "duration": 6,
    "start_time": "2022-11-03T09:02:33.718Z"
   },
   {
    "duration": 15,
    "start_time": "2022-11-03T09:02:33.725Z"
   },
   {
    "duration": 7,
    "start_time": "2022-11-03T09:02:33.742Z"
   },
   {
    "duration": 37793,
    "start_time": "2022-11-03T09:02:33.751Z"
   },
   {
    "duration": 10,
    "start_time": "2022-11-03T09:03:11.546Z"
   },
   {
    "duration": 169,
    "start_time": "2022-11-03T09:03:11.558Z"
   },
   {
    "duration": 233,
    "start_time": "2022-11-03T09:03:11.729Z"
   },
   {
    "duration": 11,
    "start_time": "2022-11-03T09:03:11.963Z"
   },
   {
    "duration": 48,
    "start_time": "2022-11-03T09:03:11.976Z"
   },
   {
    "duration": 20,
    "start_time": "2022-11-03T09:03:12.026Z"
   },
   {
    "duration": 1196554,
    "start_time": "2022-11-03T09:03:12.047Z"
   },
   {
    "duration": 3,
    "start_time": "2022-11-03T09:23:08.603Z"
   },
   {
    "duration": 6,
    "start_time": "2022-11-03T09:23:08.608Z"
   },
   {
    "duration": 79,
    "start_time": "2022-11-03T09:23:08.616Z"
   },
   {
    "duration": 215,
    "start_time": "2022-11-03T09:23:08.707Z"
   },
   {
    "duration": 244,
    "start_time": "2022-11-03T09:23:08.923Z"
   },
   {
    "duration": 10,
    "start_time": "2022-11-03T09:23:09.169Z"
   },
   {
    "duration": 50,
    "start_time": "2022-11-03T09:23:09.191Z"
   },
   {
    "duration": 79913,
    "start_time": "2022-11-03T09:23:09.243Z"
   },
   {
    "duration": 4,
    "start_time": "2022-11-03T09:24:29.157Z"
   },
   {
    "duration": 9,
    "start_time": "2022-11-03T09:24:29.162Z"
   },
   {
    "duration": 161,
    "start_time": "2022-11-03T09:24:29.172Z"
   },
   {
    "duration": 9,
    "start_time": "2022-11-03T09:24:29.335Z"
   },
   {
    "duration": 163,
    "start_time": "2022-11-03T09:24:29.345Z"
   },
   {
    "duration": 382,
    "start_time": "2022-11-03T09:24:29.510Z"
   },
   {
    "duration": 15,
    "start_time": "2022-11-03T09:24:29.894Z"
   },
   {
    "duration": 11,
    "start_time": "2022-11-03T09:24:29.913Z"
   },
   {
    "duration": 9,
    "start_time": "2022-11-03T09:26:18.846Z"
   },
   {
    "duration": 1581,
    "start_time": "2022-11-03T09:28:01.674Z"
   },
   {
    "duration": 107,
    "start_time": "2022-11-03T09:28:03.257Z"
   },
   {
    "duration": 27,
    "start_time": "2022-11-03T09:28:03.365Z"
   },
   {
    "duration": 17,
    "start_time": "2022-11-03T09:28:03.394Z"
   },
   {
    "duration": 20,
    "start_time": "2022-11-03T09:28:03.413Z"
   },
   {
    "duration": 15,
    "start_time": "2022-11-03T09:28:03.435Z"
   },
   {
    "duration": 43,
    "start_time": "2022-11-03T09:28:03.452Z"
   },
   {
    "duration": 5,
    "start_time": "2022-11-03T09:28:03.498Z"
   },
   {
    "duration": 20,
    "start_time": "2022-11-03T09:28:03.504Z"
   },
   {
    "duration": 9,
    "start_time": "2022-11-03T09:28:03.527Z"
   },
   {
    "duration": 15,
    "start_time": "2022-11-03T09:28:03.538Z"
   },
   {
    "duration": 45,
    "start_time": "2022-11-03T09:28:03.555Z"
   },
   {
    "duration": 21,
    "start_time": "2022-11-03T09:28:03.601Z"
   },
   {
    "duration": 22,
    "start_time": "2022-11-03T09:28:03.624Z"
   },
   {
    "duration": 4,
    "start_time": "2022-11-03T09:28:03.648Z"
   },
   {
    "duration": 302,
    "start_time": "2022-11-03T09:28:03.653Z"
   },
   {
    "duration": 272,
    "start_time": "2022-11-03T09:28:03.958Z"
   },
   {
    "duration": 4,
    "start_time": "2022-11-03T09:28:04.232Z"
   },
   {
    "duration": 22,
    "start_time": "2022-11-03T09:28:04.238Z"
   },
   {
    "duration": 4,
    "start_time": "2022-11-03T09:28:04.262Z"
   },
   {
    "duration": 319,
    "start_time": "2022-11-03T09:28:04.291Z"
   },
   {
    "duration": 205,
    "start_time": "2022-11-03T09:28:04.612Z"
   },
   {
    "duration": 208,
    "start_time": "2022-11-03T09:28:04.819Z"
   },
   {
    "duration": 205,
    "start_time": "2022-11-03T09:28:05.029Z"
   },
   {
    "duration": 22,
    "start_time": "2022-11-03T09:28:05.237Z"
   },
   {
    "duration": 44,
    "start_time": "2022-11-03T09:28:05.261Z"
   },
   {
    "duration": 20,
    "start_time": "2022-11-03T09:28:05.307Z"
   },
   {
    "duration": 38,
    "start_time": "2022-11-03T09:28:05.331Z"
   },
   {
    "duration": 23,
    "start_time": "2022-11-03T09:28:05.391Z"
   },
   {
    "duration": 5,
    "start_time": "2022-11-03T09:28:05.416Z"
   },
   {
    "duration": 7,
    "start_time": "2022-11-03T09:28:05.424Z"
   },
   {
    "duration": 21,
    "start_time": "2022-11-03T09:28:05.432Z"
   },
   {
    "duration": 46,
    "start_time": "2022-11-03T09:28:05.455Z"
   },
   {
    "duration": 24,
    "start_time": "2022-11-03T09:28:05.503Z"
   },
   {
    "duration": 5,
    "start_time": "2022-11-03T09:28:05.529Z"
   },
   {
    "duration": 7,
    "start_time": "2022-11-03T09:28:05.537Z"
   },
   {
    "duration": 4,
    "start_time": "2022-11-03T09:28:05.546Z"
   },
   {
    "duration": 89,
    "start_time": "2022-11-03T09:28:05.552Z"
   },
   {
    "duration": 4,
    "start_time": "2022-11-03T09:28:05.643Z"
   },
   {
    "duration": 8,
    "start_time": "2022-11-03T09:28:05.649Z"
   },
   {
    "duration": 46,
    "start_time": "2022-11-03T09:28:05.659Z"
   },
   {
    "duration": 14,
    "start_time": "2022-11-03T09:28:05.708Z"
   },
   {
    "duration": 240,
    "start_time": "2022-11-03T09:28:05.724Z"
   },
   {
    "duration": 41,
    "start_time": "2022-11-03T09:28:05.966Z"
   },
   {
    "duration": 6,
    "start_time": "2022-11-03T09:28:06.008Z"
   },
   {
    "duration": 22,
    "start_time": "2022-11-03T09:28:06.016Z"
   },
   {
    "duration": 537,
    "start_time": "2022-11-03T09:28:06.040Z"
   },
   {
    "duration": 4,
    "start_time": "2022-11-03T09:28:06.580Z"
   },
   {
    "duration": 20,
    "start_time": "2022-11-03T09:28:06.590Z"
   },
   {
    "duration": 7,
    "start_time": "2022-11-03T09:28:06.612Z"
   },
   {
    "duration": 9,
    "start_time": "2022-11-03T09:28:06.621Z"
   },
   {
    "duration": 8,
    "start_time": "2022-11-03T09:28:06.632Z"
   },
   {
    "duration": 72,
    "start_time": "2022-11-03T09:28:06.642Z"
   },
   {
    "duration": 5,
    "start_time": "2022-11-03T09:28:06.717Z"
   },
   {
    "duration": 28,
    "start_time": "2022-11-03T09:28:06.724Z"
   },
   {
    "duration": 7,
    "start_time": "2022-11-03T09:28:06.754Z"
   },
   {
    "duration": 5,
    "start_time": "2022-11-03T09:28:06.763Z"
   },
   {
    "duration": 31,
    "start_time": "2022-11-03T09:28:06.770Z"
   },
   {
    "duration": 6,
    "start_time": "2022-11-03T09:28:06.803Z"
   },
   {
    "duration": 44810,
    "start_time": "2022-11-03T09:28:06.810Z"
   },
   {
    "duration": 8,
    "start_time": "2022-11-03T09:28:51.622Z"
   },
   {
    "duration": 170,
    "start_time": "2022-11-03T09:28:51.631Z"
   },
   {
    "duration": 260,
    "start_time": "2022-11-03T09:28:51.802Z"
   },
   {
    "duration": 12,
    "start_time": "2022-11-03T09:28:52.064Z"
   },
   {
    "duration": 37,
    "start_time": "2022-11-03T09:28:52.091Z"
   },
   {
    "duration": 34,
    "start_time": "2022-11-03T09:28:52.130Z"
   },
   {
    "duration": 1337942,
    "start_time": "2022-11-03T09:28:52.166Z"
   },
   {
    "duration": 4,
    "start_time": "2022-11-03T09:51:10.110Z"
   },
   {
    "duration": 5,
    "start_time": "2022-11-03T09:51:10.115Z"
   },
   {
    "duration": 89,
    "start_time": "2022-11-03T09:51:10.121Z"
   },
   {
    "duration": 74,
    "start_time": "2022-11-03T09:51:10.217Z"
   },
   {
    "duration": 169,
    "start_time": "2022-11-03T09:51:10.293Z"
   },
   {
    "duration": 230,
    "start_time": "2022-11-03T09:51:10.463Z"
   },
   {
    "duration": 9,
    "start_time": "2022-11-03T09:51:10.696Z"
   },
   {
    "duration": 49,
    "start_time": "2022-11-03T09:51:10.707Z"
   },
   {
    "duration": 73957,
    "start_time": "2022-11-03T09:51:10.758Z"
   },
   {
    "duration": 5,
    "start_time": "2022-11-03T09:52:24.717Z"
   },
   {
    "duration": 12,
    "start_time": "2022-11-03T09:52:24.724Z"
   },
   {
    "duration": 166,
    "start_time": "2022-11-03T09:52:24.738Z"
   },
   {
    "duration": 8,
    "start_time": "2022-11-03T09:52:24.905Z"
   },
   {
    "duration": 162,
    "start_time": "2022-11-03T09:52:24.914Z"
   },
   {
    "duration": 283,
    "start_time": "2022-11-03T09:52:25.080Z"
   },
   {
    "duration": 26,
    "start_time": "2022-11-03T09:52:25.365Z"
   },
   {
    "duration": 124,
    "start_time": "2022-11-04T08:34:06.664Z"
   },
   {
    "duration": 56,
    "start_time": "2022-11-04T08:40:02.145Z"
   },
   {
    "duration": 46,
    "start_time": "2022-11-04T08:42:30.224Z"
   },
   {
    "duration": 78,
    "start_time": "2022-11-04T08:45:01.805Z"
   },
   {
    "duration": 48,
    "start_time": "2022-11-04T08:51:31.605Z"
   },
   {
    "duration": 47,
    "start_time": "2022-11-04T08:53:51.665Z"
   },
   {
    "duration": 47,
    "start_time": "2022-11-04T09:00:00.905Z"
   },
   {
    "duration": 82,
    "start_time": "2022-11-04T09:01:10.946Z"
   },
   {
    "duration": 43,
    "start_time": "2022-11-04T09:04:40.844Z"
   },
   {
    "duration": 63,
    "start_time": "2022-11-04T09:05:27.765Z"
   },
   {
    "duration": 41,
    "start_time": "2022-11-04T09:08:23.805Z"
   },
   {
    "duration": 43,
    "start_time": "2022-11-04T11:47:21.781Z"
   },
   {
    "duration": 1467,
    "start_time": "2022-11-04T11:47:31.315Z"
   },
   {
    "duration": 323,
    "start_time": "2022-11-04T11:47:32.784Z"
   },
   {
    "duration": 23,
    "start_time": "2022-11-04T11:47:33.108Z"
   },
   {
    "duration": 15,
    "start_time": "2022-11-04T11:47:33.132Z"
   },
   {
    "duration": 16,
    "start_time": "2022-11-04T11:47:33.150Z"
   },
   {
    "duration": 11,
    "start_time": "2022-11-04T11:47:33.167Z"
   },
   {
    "duration": 9,
    "start_time": "2022-11-04T11:47:33.179Z"
   },
   {
    "duration": 33,
    "start_time": "2022-11-04T11:47:33.189Z"
   },
   {
    "duration": 12,
    "start_time": "2022-11-04T11:47:33.224Z"
   },
   {
    "duration": 5,
    "start_time": "2022-11-04T11:47:33.237Z"
   },
   {
    "duration": 12,
    "start_time": "2022-11-04T11:47:33.243Z"
   },
   {
    "duration": 12,
    "start_time": "2022-11-04T11:47:33.256Z"
   },
   {
    "duration": 19,
    "start_time": "2022-11-04T11:47:33.269Z"
   },
   {
    "duration": 42,
    "start_time": "2022-11-04T11:47:33.290Z"
   },
   {
    "duration": 3,
    "start_time": "2022-11-04T11:47:33.334Z"
   },
   {
    "duration": 238,
    "start_time": "2022-11-04T11:47:33.339Z"
   },
   {
    "duration": 226,
    "start_time": "2022-11-04T11:47:33.578Z"
   },
   {
    "duration": 3,
    "start_time": "2022-11-04T11:47:33.806Z"
   },
   {
    "duration": 22,
    "start_time": "2022-11-04T11:47:33.810Z"
   },
   {
    "duration": 94,
    "start_time": "2022-11-04T11:47:42.513Z"
   },
   {
    "duration": 7,
    "start_time": "2022-11-04T11:48:29.029Z"
   },
   {
    "duration": 4,
    "start_time": "2022-11-04T12:08:04.433Z"
   },
   {
    "duration": 108,
    "start_time": "2022-11-04T12:08:04.439Z"
   },
   {
    "duration": 18,
    "start_time": "2022-11-04T12:08:04.549Z"
   },
   {
    "duration": 20,
    "start_time": "2022-11-04T12:08:04.568Z"
   },
   {
    "duration": 24,
    "start_time": "2022-11-04T12:08:04.590Z"
   },
   {
    "duration": 23,
    "start_time": "2022-11-04T12:08:04.615Z"
   },
   {
    "duration": 18,
    "start_time": "2022-11-04T12:08:04.639Z"
   },
   {
    "duration": 19,
    "start_time": "2022-11-04T12:08:04.658Z"
   },
   {
    "duration": 25,
    "start_time": "2022-11-04T12:08:04.679Z"
   },
   {
    "duration": 16,
    "start_time": "2022-11-04T12:08:04.705Z"
   },
   {
    "duration": 21,
    "start_time": "2022-11-04T12:08:04.722Z"
   },
   {
    "duration": 17,
    "start_time": "2022-11-04T12:08:04.744Z"
   },
   {
    "duration": 32,
    "start_time": "2022-11-04T12:08:04.762Z"
   },
   {
    "duration": 17,
    "start_time": "2022-11-04T12:08:04.797Z"
   },
   {
    "duration": 4,
    "start_time": "2022-11-04T12:08:04.815Z"
   },
   {
    "duration": 211,
    "start_time": "2022-11-04T12:08:04.820Z"
   },
   {
    "duration": 212,
    "start_time": "2022-11-04T12:08:05.032Z"
   },
   {
    "duration": 3,
    "start_time": "2022-11-04T12:08:05.245Z"
   },
   {
    "duration": 22,
    "start_time": "2022-11-04T12:08:05.249Z"
   },
   {
    "duration": 6,
    "start_time": "2022-11-04T12:08:05.272Z"
   },
   {
    "duration": 193,
    "start_time": "2022-11-04T12:08:05.279Z"
   },
   {
    "duration": 169,
    "start_time": "2022-11-04T12:08:05.474Z"
   },
   {
    "duration": 167,
    "start_time": "2022-11-04T12:08:05.644Z"
   },
   {
    "duration": 184,
    "start_time": "2022-11-04T12:08:05.812Z"
   },
   {
    "duration": 26,
    "start_time": "2022-11-04T12:08:05.998Z"
   },
   {
    "duration": 44,
    "start_time": "2022-11-04T12:08:06.026Z"
   },
   {
    "duration": 20,
    "start_time": "2022-11-04T12:08:06.072Z"
   },
   {
    "duration": 35,
    "start_time": "2022-11-04T12:08:06.096Z"
   },
   {
    "duration": 25,
    "start_time": "2022-11-04T12:08:06.133Z"
   },
   {
    "duration": 5,
    "start_time": "2022-11-04T12:08:06.160Z"
   },
   {
    "duration": 13,
    "start_time": "2022-11-04T12:08:06.166Z"
   },
   {
    "duration": 22,
    "start_time": "2022-11-04T12:08:06.180Z"
   },
   {
    "duration": 11,
    "start_time": "2022-11-04T12:08:06.222Z"
   },
   {
    "duration": 26,
    "start_time": "2022-11-04T12:08:06.235Z"
   },
   {
    "duration": 4,
    "start_time": "2022-11-04T12:08:06.263Z"
   },
   {
    "duration": 21,
    "start_time": "2022-11-04T12:08:06.268Z"
   },
   {
    "duration": 5,
    "start_time": "2022-11-04T12:08:06.291Z"
   },
   {
    "duration": 53,
    "start_time": "2022-11-04T12:08:06.297Z"
   },
   {
    "duration": 4,
    "start_time": "2022-11-04T12:08:06.351Z"
   },
   {
    "duration": 9,
    "start_time": "2022-11-04T12:08:06.356Z"
   },
   {
    "duration": 15,
    "start_time": "2022-11-04T12:08:06.368Z"
   },
   {
    "duration": 8,
    "start_time": "2022-11-04T12:08:06.384Z"
   },
   {
    "duration": 178,
    "start_time": "2022-11-04T12:08:06.393Z"
   },
   {
    "duration": 12,
    "start_time": "2022-11-04T12:08:06.573Z"
   },
   {
    "duration": 5,
    "start_time": "2022-11-04T12:08:06.587Z"
   },
   {
    "duration": 47,
    "start_time": "2022-11-04T12:08:06.593Z"
   },
   {
    "duration": 458,
    "start_time": "2022-11-04T12:08:06.642Z"
   },
   {
    "duration": 3,
    "start_time": "2022-11-04T12:08:07.102Z"
   },
   {
    "duration": 19,
    "start_time": "2022-11-04T12:08:07.107Z"
   },
   {
    "duration": 7,
    "start_time": "2022-11-04T12:08:07.127Z"
   },
   {
    "duration": 5,
    "start_time": "2022-11-04T12:08:07.136Z"
   },
   {
    "duration": 5,
    "start_time": "2022-11-04T12:08:07.143Z"
   },
   {
    "duration": 42,
    "start_time": "2022-11-04T12:08:07.150Z"
   },
   {
    "duration": 3,
    "start_time": "2022-11-04T12:08:07.194Z"
   },
   {
    "duration": 35,
    "start_time": "2022-11-04T12:08:07.198Z"
   },
   {
    "duration": 6,
    "start_time": "2022-11-04T12:08:07.234Z"
   },
   {
    "duration": 5,
    "start_time": "2022-11-04T12:08:07.242Z"
   },
   {
    "duration": 16,
    "start_time": "2022-11-04T12:08:07.248Z"
   },
   {
    "duration": 6,
    "start_time": "2022-11-04T12:08:07.265Z"
   },
   {
    "duration": 3,
    "start_time": "2022-11-04T12:08:12.449Z"
   },
   {
    "duration": 136,
    "start_time": "2022-11-04T12:08:14.220Z"
   },
   {
    "duration": 3,
    "start_time": "2022-11-04T12:12:51.521Z"
   },
   {
    "duration": 81,
    "start_time": "2022-11-04T12:12:52.121Z"
   },
   {
    "duration": 77,
    "start_time": "2022-11-04T12:13:08.003Z"
   },
   {
    "duration": 2,
    "start_time": "2022-11-04T12:23:40.880Z"
   },
   {
    "duration": 89,
    "start_time": "2022-11-04T12:23:46.861Z"
   },
   {
    "duration": 4,
    "start_time": "2022-11-04T12:24:39.600Z"
   },
   {
    "duration": 85,
    "start_time": "2022-11-04T12:24:40.880Z"
   },
   {
    "duration": 3,
    "start_time": "2022-11-04T12:24:58.620Z"
   },
   {
    "duration": 76,
    "start_time": "2022-11-04T12:24:59.081Z"
   },
   {
    "duration": 2,
    "start_time": "2022-11-04T12:25:06.227Z"
   },
   {
    "duration": 76,
    "start_time": "2022-11-04T12:25:07.523Z"
   },
   {
    "duration": 3,
    "start_time": "2022-11-04T12:25:45.400Z"
   },
   {
    "duration": 84,
    "start_time": "2022-11-04T12:25:45.840Z"
   },
   {
    "duration": 95,
    "start_time": "2022-11-04T12:26:02.660Z"
   },
   {
    "duration": 81,
    "start_time": "2022-11-04T12:26:40.200Z"
   },
   {
    "duration": 74,
    "start_time": "2022-11-04T12:26:58.265Z"
   },
   {
    "duration": 2904,
    "start_time": "2022-11-04T12:31:18.315Z"
   },
   {
    "duration": 3,
    "start_time": "2022-11-04T12:37:19.194Z"
   },
   {
    "duration": 2693,
    "start_time": "2022-11-04T12:37:20.143Z"
   },
   {
    "duration": 98,
    "start_time": "2022-11-04T12:38:01.954Z"
   },
   {
    "duration": 39,
    "start_time": "2022-11-04T12:39:29.845Z"
   },
   {
    "duration": 3,
    "start_time": "2022-11-04T12:39:32.686Z"
   },
   {
    "duration": 1282,
    "start_time": "2022-11-04T12:39:59.643Z"
   },
   {
    "duration": 135,
    "start_time": "2022-11-04T12:40:31.066Z"
   },
   {
    "duration": 91,
    "start_time": "2022-11-04T12:43:30.197Z"
   },
   {
    "duration": 86,
    "start_time": "2022-11-04T12:44:15.140Z"
   },
   {
    "duration": 73,
    "start_time": "2022-11-04T12:46:05.095Z"
   },
   {
    "duration": 38,
    "start_time": "2022-11-04T12:46:09.525Z"
   },
   {
    "duration": 3,
    "start_time": "2022-11-04T12:46:09.903Z"
   },
   {
    "duration": 77,
    "start_time": "2022-11-04T12:46:10.503Z"
   },
   {
    "duration": 39,
    "start_time": "2022-11-04T12:46:47.663Z"
   },
   {
    "duration": 30,
    "start_time": "2022-11-04T12:46:53.040Z"
   },
   {
    "duration": 5,
    "start_time": "2022-11-04T12:46:58.776Z"
   },
   {
    "duration": 3,
    "start_time": "2022-11-04T12:48:14.728Z"
   },
   {
    "duration": 85,
    "start_time": "2022-11-04T12:48:15.137Z"
   },
   {
    "duration": 3,
    "start_time": "2022-11-04T12:48:28.032Z"
   },
   {
    "duration": 79,
    "start_time": "2022-11-04T12:48:28.655Z"
   },
   {
    "duration": 3,
    "start_time": "2022-11-04T12:48:35.583Z"
   },
   {
    "duration": 100,
    "start_time": "2022-11-04T12:48:35.793Z"
   },
   {
    "duration": 12,
    "start_time": "2022-11-04T12:49:20.625Z"
   },
   {
    "duration": 33,
    "start_time": "2022-11-04T12:49:21.587Z"
   },
   {
    "duration": 22,
    "start_time": "2022-11-04T12:49:23.279Z"
   },
   {
    "duration": 245961,
    "start_time": "2022-11-04T12:49:25.675Z"
   },
   {
    "duration": 3,
    "start_time": "2022-11-04T12:57:07.068Z"
   },
   {
    "duration": 5,
    "start_time": "2022-11-04T12:57:08.720Z"
   },
   {
    "duration": 4,
    "start_time": "2022-11-04T12:57:15.862Z"
   },
   {
    "duration": 27,
    "start_time": "2022-11-04T12:57:20.405Z"
   },
   {
    "duration": 131,
    "start_time": "2022-11-04T12:57:24.963Z"
   },
   {
    "duration": 194,
    "start_time": "2022-11-04T12:57:32.354Z"
   },
   {
    "duration": 39,
    "start_time": "2022-11-04T12:58:08.889Z"
   },
   {
    "duration": 4,
    "start_time": "2022-11-04T12:58:09.746Z"
   },
   {
    "duration": 127632,
    "start_time": "2022-11-04T12:59:39.357Z"
   },
   {
    "duration": 447583,
    "start_time": "2022-11-04T13:03:15.655Z"
   },
   {
    "duration": 12,
    "start_time": "2022-11-04T13:10:58.269Z"
   },
   {
    "duration": 12,
    "start_time": "2022-11-04T13:11:13.155Z"
   },
   {
    "duration": 12,
    "start_time": "2022-11-04T13:11:20.758Z"
   },
   {
    "duration": 12,
    "start_time": "2022-11-04T13:52:28.482Z"
   },
   {
    "duration": 12,
    "start_time": "2022-11-04T13:54:09.703Z"
   },
   {
    "duration": 71,
    "start_time": "2022-11-04T13:54:13.872Z"
   },
   {
    "duration": 109663,
    "start_time": "2022-11-04T13:54:20.742Z"
   },
   {
    "duration": 12,
    "start_time": "2022-11-04T13:57:24.888Z"
   },
   {
    "duration": 70,
    "start_time": "2022-11-04T13:57:43.489Z"
   },
   {
    "duration": 499975,
    "start_time": "2022-11-04T13:58:21.280Z"
   },
   {
    "duration": 2,
    "start_time": "2022-11-04T14:07:36.876Z"
   },
   {
    "duration": 2,
    "start_time": "2022-11-04T14:07:44.556Z"
   },
   {
    "duration": 19,
    "start_time": "2022-11-04T14:07:55.731Z"
   },
   {
    "duration": 293,
    "start_time": "2022-11-04T14:08:21.392Z"
   },
   {
    "duration": 4,
    "start_time": "2022-11-04T14:08:37.124Z"
   },
   {
    "duration": 8,
    "start_time": "2022-11-04T14:08:42.795Z"
   },
   {
    "duration": 4,
    "start_time": "2022-11-04T14:09:09.895Z"
   },
   {
    "duration": 3,
    "start_time": "2022-11-04T14:09:16.335Z"
   },
   {
    "duration": 4,
    "start_time": "2022-11-04T14:09:36.376Z"
   },
   {
    "duration": 2,
    "start_time": "2022-11-04T14:09:53.065Z"
   },
   {
    "duration": 3,
    "start_time": "2022-11-04T14:09:56.955Z"
   },
   {
    "duration": 3,
    "start_time": "2022-11-04T14:09:58.857Z"
   },
   {
    "duration": 3,
    "start_time": "2022-11-04T14:10:03.095Z"
   },
   {
    "duration": 3,
    "start_time": "2022-11-04T14:10:33.965Z"
   },
   {
    "duration": 4,
    "start_time": "2022-11-04T14:12:08.206Z"
   },
   {
    "duration": 12,
    "start_time": "2022-11-04T14:12:48.655Z"
   },
   {
    "duration": 4,
    "start_time": "2022-11-04T14:13:16.633Z"
   },
   {
    "duration": 12,
    "start_time": "2022-11-04T14:14:13.854Z"
   },
   {
    "duration": 10,
    "start_time": "2022-11-04T14:14:14.375Z"
   },
   {
    "duration": 4514,
    "start_time": "2022-11-04T14:14:59.145Z"
   },
   {
    "duration": 137547,
    "start_time": "2022-11-04T14:15:30.365Z"
   },
   {
    "duration": 2,
    "start_time": "2022-11-04T14:18:27.743Z"
   },
   {
    "duration": 4,
    "start_time": "2022-11-04T14:18:30.604Z"
   },
   {
    "duration": 3,
    "start_time": "2022-11-04T14:18:44.544Z"
   },
   {
    "duration": 151075,
    "start_time": "2022-11-04T14:19:26.503Z"
   },
   {
    "duration": 3,
    "start_time": "2022-11-04T14:22:02.564Z"
   },
   {
    "duration": 4,
    "start_time": "2022-11-04T14:22:04.321Z"
   },
   {
    "duration": 126335,
    "start_time": "2022-11-04T14:22:39.994Z"
   },
   {
    "duration": 3,
    "start_time": "2022-11-04T14:24:46.330Z"
   },
   {
    "duration": 6,
    "start_time": "2022-11-04T14:24:46.334Z"
   },
   {
    "duration": 610990,
    "start_time": "2022-11-04T14:25:13.266Z"
   },
   {
    "duration": 3,
    "start_time": "2022-11-04T14:35:24.258Z"
   },
   {
    "duration": 30,
    "start_time": "2022-11-04T14:35:24.262Z"
   },
   {
    "duration": 1379,
    "start_time": "2022-11-04T15:19:19.526Z"
   },
   {
    "duration": 103,
    "start_time": "2022-11-04T15:19:20.907Z"
   },
   {
    "duration": 24,
    "start_time": "2022-11-04T15:19:21.012Z"
   },
   {
    "duration": 14,
    "start_time": "2022-11-04T15:19:21.038Z"
   },
   {
    "duration": 17,
    "start_time": "2022-11-04T15:19:21.055Z"
   },
   {
    "duration": 15,
    "start_time": "2022-11-04T15:19:21.073Z"
   },
   {
    "duration": 40,
    "start_time": "2022-11-04T15:19:21.089Z"
   },
   {
    "duration": 3,
    "start_time": "2022-11-04T15:19:21.131Z"
   },
   {
    "duration": 22,
    "start_time": "2022-11-04T15:19:21.135Z"
   },
   {
    "duration": 5,
    "start_time": "2022-11-04T15:19:21.158Z"
   },
   {
    "duration": 14,
    "start_time": "2022-11-04T15:19:21.164Z"
   },
   {
    "duration": 10,
    "start_time": "2022-11-04T15:19:21.180Z"
   },
   {
    "duration": 48,
    "start_time": "2022-11-04T15:19:21.191Z"
   },
   {
    "duration": 24,
    "start_time": "2022-11-04T15:19:21.242Z"
   },
   {
    "duration": 4,
    "start_time": "2022-11-04T15:19:21.268Z"
   },
   {
    "duration": 269,
    "start_time": "2022-11-04T15:19:21.273Z"
   },
   {
    "duration": 242,
    "start_time": "2022-11-04T15:19:21.543Z"
   },
   {
    "duration": 3,
    "start_time": "2022-11-04T15:19:21.786Z"
   },
   {
    "duration": 35,
    "start_time": "2022-11-04T15:19:21.791Z"
   },
   {
    "duration": 76,
    "start_time": "2022-11-04T15:19:21.827Z"
   },
   {
    "duration": 200,
    "start_time": "2022-11-04T15:19:21.904Z"
   },
   {
    "duration": 182,
    "start_time": "2022-11-04T15:19:22.106Z"
   },
   {
    "duration": 175,
    "start_time": "2022-11-04T15:19:22.289Z"
   },
   {
    "duration": 186,
    "start_time": "2022-11-04T15:19:22.465Z"
   },
   {
    "duration": 18,
    "start_time": "2022-11-04T15:19:22.653Z"
   },
   {
    "duration": 18,
    "start_time": "2022-11-04T15:19:22.673Z"
   },
   {
    "duration": 38,
    "start_time": "2022-11-04T15:19:22.693Z"
   },
   {
    "duration": 32,
    "start_time": "2022-11-04T15:19:22.733Z"
   },
   {
    "duration": 20,
    "start_time": "2022-11-04T15:19:22.767Z"
   },
   {
    "duration": 35,
    "start_time": "2022-11-04T15:19:22.789Z"
   },
   {
    "duration": 7,
    "start_time": "2022-11-04T15:19:22.826Z"
   },
   {
    "duration": 16,
    "start_time": "2022-11-04T15:19:22.834Z"
   },
   {
    "duration": 11,
    "start_time": "2022-11-04T15:19:22.852Z"
   },
   {
    "duration": 59,
    "start_time": "2022-11-04T15:19:22.864Z"
   },
   {
    "duration": 5,
    "start_time": "2022-11-04T15:19:22.925Z"
   },
   {
    "duration": 16,
    "start_time": "2022-11-04T15:19:22.932Z"
   },
   {
    "duration": 26,
    "start_time": "2022-11-04T15:19:22.949Z"
   },
   {
    "duration": 99,
    "start_time": "2022-11-04T15:19:22.976Z"
   },
   {
    "duration": 4,
    "start_time": "2022-11-04T15:19:23.077Z"
   },
   {
    "duration": 24,
    "start_time": "2022-11-04T15:19:23.082Z"
   },
   {
    "duration": 25,
    "start_time": "2022-11-04T15:19:23.110Z"
   },
   {
    "duration": 13,
    "start_time": "2022-11-04T15:19:23.137Z"
   },
   {
    "duration": 191,
    "start_time": "2022-11-04T15:19:23.152Z"
   },
   {
    "duration": 15,
    "start_time": "2022-11-04T15:19:23.344Z"
   },
   {
    "duration": 18,
    "start_time": "2022-11-04T15:19:23.361Z"
   },
   {
    "duration": 31,
    "start_time": "2022-11-04T15:19:23.380Z"
   },
   {
    "duration": 461,
    "start_time": "2022-11-04T15:19:23.413Z"
   },
   {
    "duration": 3,
    "start_time": "2022-11-04T15:19:23.876Z"
   },
   {
    "duration": 14,
    "start_time": "2022-11-04T15:19:23.880Z"
   },
   {
    "duration": 6,
    "start_time": "2022-11-04T15:19:23.895Z"
   },
   {
    "duration": 22,
    "start_time": "2022-11-04T15:19:23.903Z"
   },
   {
    "duration": 7,
    "start_time": "2022-11-04T15:19:23.926Z"
   },
   {
    "duration": 33,
    "start_time": "2022-11-04T15:19:23.934Z"
   },
   {
    "duration": 4,
    "start_time": "2022-11-04T15:19:23.968Z"
   },
   {
    "duration": 33,
    "start_time": "2022-11-04T15:19:23.973Z"
   },
   {
    "duration": 15,
    "start_time": "2022-11-04T15:19:24.007Z"
   },
   {
    "duration": 5,
    "start_time": "2022-11-04T15:19:24.024Z"
   },
   {
    "duration": 13,
    "start_time": "2022-11-04T15:19:24.031Z"
   },
   {
    "duration": 122,
    "start_time": "2022-11-04T15:19:24.046Z"
   },
   {
    "duration": 0,
    "start_time": "2022-11-04T15:19:24.171Z"
   },
   {
    "duration": 0,
    "start_time": "2022-11-04T15:19:24.172Z"
   },
   {
    "duration": 0,
    "start_time": "2022-11-04T15:19:24.173Z"
   },
   {
    "duration": 0,
    "start_time": "2022-11-04T15:19:24.174Z"
   },
   {
    "duration": 0,
    "start_time": "2022-11-04T15:19:24.175Z"
   },
   {
    "duration": 0,
    "start_time": "2022-11-04T15:19:24.177Z"
   },
   {
    "duration": 0,
    "start_time": "2022-11-04T15:19:24.178Z"
   },
   {
    "duration": 0,
    "start_time": "2022-11-04T15:19:24.179Z"
   },
   {
    "duration": 0,
    "start_time": "2022-11-04T15:19:24.180Z"
   },
   {
    "duration": 0,
    "start_time": "2022-11-04T15:19:24.181Z"
   },
   {
    "duration": 0,
    "start_time": "2022-11-04T15:19:24.182Z"
   },
   {
    "duration": 0,
    "start_time": "2022-11-04T15:19:24.183Z"
   },
   {
    "duration": 0,
    "start_time": "2022-11-04T15:19:24.184Z"
   },
   {
    "duration": 0,
    "start_time": "2022-11-04T15:19:24.185Z"
   },
   {
    "duration": 0,
    "start_time": "2022-11-04T15:19:24.186Z"
   },
   {
    "duration": 0,
    "start_time": "2022-11-04T15:19:24.187Z"
   },
   {
    "duration": 0,
    "start_time": "2022-11-04T15:19:24.221Z"
   },
   {
    "duration": 0,
    "start_time": "2022-11-04T15:19:24.222Z"
   },
   {
    "duration": 11,
    "start_time": "2022-11-04T15:20:15.425Z"
   },
   {
    "duration": 1391,
    "start_time": "2022-11-04T15:20:30.798Z"
   },
   {
    "duration": 106,
    "start_time": "2022-11-04T15:20:32.191Z"
   },
   {
    "duration": 23,
    "start_time": "2022-11-04T15:20:32.298Z"
   },
   {
    "duration": 14,
    "start_time": "2022-11-04T15:20:32.323Z"
   },
   {
    "duration": 22,
    "start_time": "2022-11-04T15:20:32.338Z"
   },
   {
    "duration": 23,
    "start_time": "2022-11-04T15:20:32.361Z"
   },
   {
    "duration": 16,
    "start_time": "2022-11-04T15:20:32.385Z"
   },
   {
    "duration": 8,
    "start_time": "2022-11-04T15:20:32.402Z"
   },
   {
    "duration": 21,
    "start_time": "2022-11-04T15:20:32.411Z"
   },
   {
    "duration": 8,
    "start_time": "2022-11-04T15:20:32.435Z"
   },
   {
    "duration": 12,
    "start_time": "2022-11-04T15:20:32.445Z"
   },
   {
    "duration": 12,
    "start_time": "2022-11-04T15:20:32.458Z"
   },
   {
    "duration": 18,
    "start_time": "2022-11-04T15:20:32.472Z"
   },
   {
    "duration": 21,
    "start_time": "2022-11-04T15:20:32.521Z"
   },
   {
    "duration": 4,
    "start_time": "2022-11-04T15:20:32.543Z"
   },
   {
    "duration": 234,
    "start_time": "2022-11-04T15:20:32.548Z"
   },
   {
    "duration": 225,
    "start_time": "2022-11-04T15:20:32.784Z"
   },
   {
    "duration": 11,
    "start_time": "2022-11-04T15:20:33.011Z"
   },
   {
    "duration": 18,
    "start_time": "2022-11-04T15:20:33.024Z"
   },
   {
    "duration": 96,
    "start_time": "2022-11-04T15:20:33.044Z"
   },
   {
    "duration": 187,
    "start_time": "2022-11-04T15:20:33.142Z"
   },
   {
    "duration": 196,
    "start_time": "2022-11-04T15:20:33.331Z"
   },
   {
    "duration": 175,
    "start_time": "2022-11-04T15:20:33.529Z"
   },
   {
    "duration": 177,
    "start_time": "2022-11-04T15:20:33.706Z"
   },
   {
    "duration": 19,
    "start_time": "2022-11-04T15:20:33.885Z"
   },
   {
    "duration": 37,
    "start_time": "2022-11-04T15:20:33.906Z"
   },
   {
    "duration": 16,
    "start_time": "2022-11-04T15:20:33.944Z"
   },
   {
    "duration": 30,
    "start_time": "2022-11-04T15:20:33.964Z"
   },
   {
    "duration": 19,
    "start_time": "2022-11-04T15:20:34.022Z"
   },
   {
    "duration": 4,
    "start_time": "2022-11-04T15:20:34.043Z"
   },
   {
    "duration": 8,
    "start_time": "2022-11-04T15:20:34.049Z"
   },
   {
    "duration": 18,
    "start_time": "2022-11-04T15:20:34.058Z"
   },
   {
    "duration": 10,
    "start_time": "2022-11-04T15:20:34.078Z"
   },
   {
    "duration": 43,
    "start_time": "2022-11-04T15:20:34.090Z"
   },
   {
    "duration": 4,
    "start_time": "2022-11-04T15:20:34.134Z"
   },
   {
    "duration": 9,
    "start_time": "2022-11-04T15:20:34.140Z"
   },
   {
    "duration": 5,
    "start_time": "2022-11-04T15:20:34.151Z"
   },
   {
    "duration": 69,
    "start_time": "2022-11-04T15:20:34.158Z"
   },
   {
    "duration": 4,
    "start_time": "2022-11-04T15:20:34.229Z"
   },
   {
    "duration": 47,
    "start_time": "2022-11-04T15:20:34.234Z"
   },
   {
    "duration": 27,
    "start_time": "2022-11-04T15:20:34.283Z"
   },
   {
    "duration": 8,
    "start_time": "2022-11-04T15:20:34.312Z"
   },
   {
    "duration": 165,
    "start_time": "2022-11-04T15:20:34.322Z"
   },
   {
    "duration": 33,
    "start_time": "2022-11-04T15:20:34.489Z"
   },
   {
    "duration": 4,
    "start_time": "2022-11-04T15:20:34.523Z"
   },
   {
    "duration": 23,
    "start_time": "2022-11-04T15:20:34.529Z"
   },
   {
    "duration": 466,
    "start_time": "2022-11-04T15:20:34.553Z"
   },
   {
    "duration": 3,
    "start_time": "2022-11-04T15:20:35.021Z"
   },
   {
    "duration": 15,
    "start_time": "2022-11-04T15:20:35.025Z"
   },
   {
    "duration": 6,
    "start_time": "2022-11-04T15:20:35.041Z"
   },
   {
    "duration": 16,
    "start_time": "2022-11-04T15:20:35.048Z"
   },
   {
    "duration": 6,
    "start_time": "2022-11-04T15:20:35.066Z"
   },
   {
    "duration": 34,
    "start_time": "2022-11-04T15:20:35.073Z"
   },
   {
    "duration": 14,
    "start_time": "2022-11-04T15:20:35.108Z"
   },
   {
    "duration": 19,
    "start_time": "2022-11-04T15:20:35.123Z"
   },
   {
    "duration": 8,
    "start_time": "2022-11-04T15:20:35.143Z"
   },
   {
    "duration": 6,
    "start_time": "2022-11-04T15:20:35.153Z"
   },
   {
    "duration": 15,
    "start_time": "2022-11-04T15:20:35.160Z"
   },
   {
    "duration": 431893,
    "start_time": "2022-11-04T15:20:35.176Z"
   },
   {
    "duration": 3,
    "start_time": "2022-11-04T15:27:47.070Z"
   },
   {
    "duration": 101,
    "start_time": "2022-11-04T15:27:47.074Z"
   },
   {
    "duration": 0,
    "start_time": "2022-11-04T15:27:47.176Z"
   },
   {
    "duration": 0,
    "start_time": "2022-11-04T15:27:47.177Z"
   },
   {
    "duration": 0,
    "start_time": "2022-11-04T15:27:47.178Z"
   },
   {
    "duration": 0,
    "start_time": "2022-11-04T15:27:47.179Z"
   },
   {
    "duration": 0,
    "start_time": "2022-11-04T15:27:47.180Z"
   },
   {
    "duration": 0,
    "start_time": "2022-11-04T15:27:47.181Z"
   },
   {
    "duration": 0,
    "start_time": "2022-11-04T15:27:47.182Z"
   },
   {
    "duration": 0,
    "start_time": "2022-11-04T15:27:47.183Z"
   },
   {
    "duration": 0,
    "start_time": "2022-11-04T15:27:47.184Z"
   },
   {
    "duration": 0,
    "start_time": "2022-11-04T15:27:47.185Z"
   },
   {
    "duration": 0,
    "start_time": "2022-11-04T15:27:47.186Z"
   },
   {
    "duration": 0,
    "start_time": "2022-11-04T15:27:47.187Z"
   },
   {
    "duration": 0,
    "start_time": "2022-11-04T15:27:47.187Z"
   },
   {
    "duration": 0,
    "start_time": "2022-11-04T15:27:47.188Z"
   },
   {
    "duration": 0,
    "start_time": "2022-11-04T15:27:47.190Z"
   },
   {
    "duration": 0,
    "start_time": "2022-11-04T15:27:47.190Z"
   },
   {
    "duration": 2,
    "start_time": "2022-11-04T15:29:23.462Z"
   },
   {
    "duration": 3,
    "start_time": "2022-11-04T15:29:26.961Z"
   },
   {
    "duration": 3,
    "start_time": "2022-11-04T15:29:27.675Z"
   },
   {
    "duration": 11,
    "start_time": "2022-11-04T15:29:32.919Z"
   },
   {
    "duration": 35,
    "start_time": "2022-11-04T15:29:34.048Z"
   },
   {
    "duration": 12,
    "start_time": "2022-11-04T15:29:36.319Z"
   },
   {
    "duration": 275,
    "start_time": "2022-11-04T15:29:37.719Z"
   },
   {
    "duration": 4,
    "start_time": "2022-11-04T15:30:45.598Z"
   },
   {
    "duration": 32,
    "start_time": "2022-11-04T15:31:16.740Z"
   },
   {
    "duration": 19,
    "start_time": "2022-11-04T15:31:17.691Z"
   },
   {
    "duration": 150002,
    "start_time": "2022-11-04T15:31:18.643Z"
   },
   {
    "duration": 2,
    "start_time": "2022-11-04T15:33:48.646Z"
   },
   {
    "duration": 13,
    "start_time": "2022-11-04T15:33:48.649Z"
   },
   {
    "duration": 11,
    "start_time": "2022-11-04T15:34:51.624Z"
   },
   {
    "duration": 30,
    "start_time": "2022-11-04T15:34:52.758Z"
   },
   {
    "duration": 72,
    "start_time": "2022-11-04T15:34:55.407Z"
   },
   {
    "duration": 69618,
    "start_time": "2022-11-04T15:35:02.935Z"
   },
   {
    "duration": 2,
    "start_time": "2022-11-04T15:36:12.555Z"
   },
   {
    "duration": 10,
    "start_time": "2022-11-04T15:36:12.559Z"
   },
   {
    "duration": 11,
    "start_time": "2022-11-04T15:36:24.048Z"
   },
   {
    "duration": 223,
    "start_time": "2022-11-04T15:36:39.100Z"
   },
   {
    "duration": 133,
    "start_time": "2022-11-04T15:41:17.199Z"
   },
   {
    "duration": 5,
    "start_time": "2022-11-04T15:41:49.473Z"
   },
   {
    "duration": 17,
    "start_time": "2022-11-04T15:42:12.319Z"
   },
   {
    "duration": 61,
    "start_time": "2022-11-05T08:50:04.497Z"
   },
   {
    "duration": 41,
    "start_time": "2022-11-05T08:57:53.757Z"
   },
   {
    "duration": 75,
    "start_time": "2022-11-05T18:16:10.076Z"
   }
  ],
  "kernelspec": {
   "display_name": "Python 3 (ipykernel)",
   "language": "python",
   "name": "python3"
  },
  "language_info": {
   "codemirror_mode": {
    "name": "ipython",
    "version": 3
   },
   "file_extension": ".py",
   "mimetype": "text/x-python",
   "name": "python",
   "nbconvert_exporter": "python",
   "pygments_lexer": "ipython3",
   "version": "3.9.12"
  },
  "toc": {
   "base_numbering": 1,
   "nav_menu": {
    "height": "566px",
    "width": "376px"
   },
   "number_sections": true,
   "sideBar": true,
   "skip_h1_title": true,
   "title_cell": "Table of Contents",
   "title_sidebar": "Contents",
   "toc_cell": false,
   "toc_position": {},
   "toc_section_display": true,
   "toc_window_display": false
  }
 },
 "nbformat": 4,
 "nbformat_minor": 5
}
