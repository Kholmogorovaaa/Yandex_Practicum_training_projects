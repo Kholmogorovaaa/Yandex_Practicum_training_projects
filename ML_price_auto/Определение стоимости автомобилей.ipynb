{
 "cells": [
  {
   "cell_type": "markdown",
   "metadata": {},
   "source": [
    "# План\n",
    "\n",
    "1. Подготовка данных  \n",
    "    1.1 Загрузка данных  \n",
    "    1.2 Описание данных  \n",
    "    1.3 Предобработка данных  \n",
    "    1.4 Короткий анализ данных  \n",
    "    1.5 Подготовка данных для обучения  \n",
    "    1.6 Вывод  \n",
    "2. Обучение моделей  \n",
    "    2.1 Catboost  \n",
    "    2.2 LightGBM  \n",
    "    2.3 LinearRegression  \n",
    "3. Анализ моделей  \n",
    "4. Вывод  "
   ]
  },
  {
   "cell_type": "markdown",
   "metadata": {},
   "source": [
    "# Определение стоимости автомобилей"
   ]
  },
  {
   "cell_type": "markdown",
   "metadata": {},
   "source": [
    "**Задача:**  \n",
    "Сервис по продаже автомобилей с пробегом «Не бит, не крашен» разрабатывает приложение для привлечения новых клиентов. В нём можно быстро узнать рыночную стоимость своего автомобиля. В вашем распоряжении исторические данные: технические характеристики, комплектации и цены автомобилей. Нужно построить модель для определения стоимости. \n",
    "\n",
    "**Заказчику важны:**  \n",
    "- качество предсказания;\n",
    "- скорость предсказания;\n",
    "- время обучения.\n",
    "\n",
    "**Примечания:**  \n",
    "Для оценки качества моделей применим метрику RMSE. Значение метрики RMSE должно быть меньше 2500.  \n",
    "Освоим библиотеку LightGBM и её средствами постром модели градиентного бустинга."
   ]
  },
  {
   "cell_type": "markdown",
   "metadata": {},
   "source": [
    "## Подготовка данных"
   ]
  },
  {
   "cell_type": "markdown",
   "metadata": {},
   "source": [
    "### Загрузка данных"
   ]
  },
  {
   "cell_type": "code",
   "execution_count": 33,
   "metadata": {},
   "outputs": [],
   "source": [
    "# импортируем требуемые библиотеки\n",
    "\n",
    "import pandas as pd\n",
    "import numpy as np\n",
    "import seaborn as sns\n",
    "import matplotlib.pyplot as plt\n",
    "import time\n",
    "import lightgbm as lgb\n",
    "\n",
    "from sklearn.model_selection import train_test_split\n",
    "from catboost import CatBoostRegressor\n",
    "from sklearn.linear_model import LinearRegression\n",
    "from sklearn.preprocessing import StandardScaler, OrdinalEncoder\n",
    "from sklearn.metrics import mean_squared_error\n",
    "from sklearn.model_selection import GridSearchCV\n",
    "from catboost import Pool, cv\n",
    "from tqdm import tqdm\n",
    "\n",
    "pd.set_option('display.max_columns', None)"
   ]
  },
  {
   "cell_type": "code",
   "execution_count": 2,
   "metadata": {},
   "outputs": [
    {
     "data": {
      "text/html": [
       "<div>\n",
       "<style scoped>\n",
       "    .dataframe tbody tr th:only-of-type {\n",
       "        vertical-align: middle;\n",
       "    }\n",
       "\n",
       "    .dataframe tbody tr th {\n",
       "        vertical-align: top;\n",
       "    }\n",
       "\n",
       "    .dataframe thead th {\n",
       "        text-align: right;\n",
       "    }\n",
       "</style>\n",
       "<table border=\"1\" class=\"dataframe\">\n",
       "  <thead>\n",
       "    <tr style=\"text-align: right;\">\n",
       "      <th></th>\n",
       "      <th>DateCrawled</th>\n",
       "      <th>Price</th>\n",
       "      <th>VehicleType</th>\n",
       "      <th>RegistrationYear</th>\n",
       "      <th>Gearbox</th>\n",
       "      <th>Power</th>\n",
       "      <th>Model</th>\n",
       "      <th>Kilometer</th>\n",
       "      <th>RegistrationMonth</th>\n",
       "      <th>FuelType</th>\n",
       "      <th>Brand</th>\n",
       "      <th>NotRepaired</th>\n",
       "      <th>DateCreated</th>\n",
       "      <th>NumberOfPictures</th>\n",
       "      <th>PostalCode</th>\n",
       "      <th>LastSeen</th>\n",
       "    </tr>\n",
       "  </thead>\n",
       "  <tbody>\n",
       "    <tr>\n",
       "      <th>241946</th>\n",
       "      <td>2016-03-15 21:37:39</td>\n",
       "      <td>999</td>\n",
       "      <td>sedan</td>\n",
       "      <td>1997</td>\n",
       "      <td>manual</td>\n",
       "      <td>75</td>\n",
       "      <td>NaN</td>\n",
       "      <td>150000</td>\n",
       "      <td>1</td>\n",
       "      <td>petrol</td>\n",
       "      <td>volkswagen</td>\n",
       "      <td>no</td>\n",
       "      <td>2016-03-15 00:00:00</td>\n",
       "      <td>0</td>\n",
       "      <td>26629</td>\n",
       "      <td>2016-03-17 19:45:37</td>\n",
       "    </tr>\n",
       "    <tr>\n",
       "      <th>204400</th>\n",
       "      <td>2016-03-20 22:48:22</td>\n",
       "      <td>5999</td>\n",
       "      <td>small</td>\n",
       "      <td>2006</td>\n",
       "      <td>manual</td>\n",
       "      <td>120</td>\n",
       "      <td>cooper</td>\n",
       "      <td>150000</td>\n",
       "      <td>12</td>\n",
       "      <td>petrol</td>\n",
       "      <td>mini</td>\n",
       "      <td>no</td>\n",
       "      <td>2016-03-20 00:00:00</td>\n",
       "      <td>0</td>\n",
       "      <td>33729</td>\n",
       "      <td>2016-03-27 13:46:11</td>\n",
       "    </tr>\n",
       "    <tr>\n",
       "      <th>20689</th>\n",
       "      <td>2016-03-15 07:59:03</td>\n",
       "      <td>2399</td>\n",
       "      <td>sedan</td>\n",
       "      <td>2004</td>\n",
       "      <td>manual</td>\n",
       "      <td>125</td>\n",
       "      <td>vectra</td>\n",
       "      <td>150000</td>\n",
       "      <td>6</td>\n",
       "      <td>gasoline</td>\n",
       "      <td>opel</td>\n",
       "      <td>no</td>\n",
       "      <td>2016-03-15 00:00:00</td>\n",
       "      <td>0</td>\n",
       "      <td>66687</td>\n",
       "      <td>2016-03-27 18:15:33</td>\n",
       "    </tr>\n",
       "  </tbody>\n",
       "</table>\n",
       "</div>"
      ],
      "text/plain": [
       "                DateCrawled  Price VehicleType  RegistrationYear Gearbox  \\\n",
       "241946  2016-03-15 21:37:39    999       sedan              1997  manual   \n",
       "204400  2016-03-20 22:48:22   5999       small              2006  manual   \n",
       "20689   2016-03-15 07:59:03   2399       sedan              2004  manual   \n",
       "\n",
       "        Power   Model  Kilometer  RegistrationMonth  FuelType       Brand  \\\n",
       "241946     75     NaN     150000                  1    petrol  volkswagen   \n",
       "204400    120  cooper     150000                 12    petrol        mini   \n",
       "20689     125  vectra     150000                  6  gasoline        opel   \n",
       "\n",
       "       NotRepaired          DateCreated  NumberOfPictures  PostalCode  \\\n",
       "241946          no  2016-03-15 00:00:00                 0       26629   \n",
       "204400          no  2016-03-20 00:00:00                 0       33729   \n",
       "20689           no  2016-03-15 00:00:00                 0       66687   \n",
       "\n",
       "                   LastSeen  \n",
       "241946  2016-03-17 19:45:37  \n",
       "204400  2016-03-27 13:46:11  \n",
       "20689   2016-03-27 18:15:33  "
      ]
     },
     "execution_count": 2,
     "metadata": {},
     "output_type": "execute_result"
    }
   ],
   "source": [
    "# загрузим данные\n",
    "df = pd.read_csv('/datasets/autos.csv')\n",
    "# выведем рандомные 3 строки\n",
    "df.sample(3)"
   ]
  },
  {
   "cell_type": "markdown",
   "metadata": {},
   "source": [
    "Названия столбцов имеют заглавные буквы, переименуем колонки для более удобной работы."
   ]
  },
  {
   "cell_type": "code",
   "execution_count": 3,
   "metadata": {},
   "outputs": [
    {
     "data": {
      "text/plain": [
       "Index(['date_crawled', 'price', 'vehicle_type', 'registration_year', 'gearbox',\n",
       "       'power', 'model', 'kilometer', 'registration_month', 'fuel_type',\n",
       "       'brand', 'not_repaired', 'date_created', 'number_of_pictures',\n",
       "       'postal_code', 'last_seen'],\n",
       "      dtype='object')"
      ]
     },
     "execution_count": 3,
     "metadata": {},
     "output_type": "execute_result"
    }
   ],
   "source": [
    "df.columns = df.columns.str.lower()\n",
    "df.columns = ['date_crawled', 'price', 'vehicle_type', 'registration_year', 'gearbox',\n",
    "       'power', 'model', 'kilometer', 'registration_month', 'fuel_type', 'brand',\n",
    "       'not_repaired', 'date_created', 'number_of_pictures', 'postal_code',\n",
    "       'last_seen']\n",
    "df.columns"
   ]
  },
  {
   "cell_type": "code",
   "execution_count": 4,
   "metadata": {},
   "outputs": [
    {
     "name": "stdout",
     "output_type": "stream",
     "text": [
      "<class 'pandas.core.frame.DataFrame'>\n",
      "RangeIndex: 354369 entries, 0 to 354368\n",
      "Data columns (total 16 columns):\n",
      " #   Column              Non-Null Count   Dtype \n",
      "---  ------              --------------   ----- \n",
      " 0   date_crawled        354369 non-null  object\n",
      " 1   price               354369 non-null  int64 \n",
      " 2   vehicle_type        316879 non-null  object\n",
      " 3   registration_year   354369 non-null  int64 \n",
      " 4   gearbox             334536 non-null  object\n",
      " 5   power               354369 non-null  int64 \n",
      " 6   model               334664 non-null  object\n",
      " 7   kilometer           354369 non-null  int64 \n",
      " 8   registration_month  354369 non-null  int64 \n",
      " 9   fuel_type           321474 non-null  object\n",
      " 10  brand               354369 non-null  object\n",
      " 11  not_repaired        283215 non-null  object\n",
      " 12  date_created        354369 non-null  object\n",
      " 13  number_of_pictures  354369 non-null  int64 \n",
      " 14  postal_code         354369 non-null  int64 \n",
      " 15  last_seen           354369 non-null  object\n",
      "dtypes: int64(7), object(9)\n",
      "memory usage: 43.3+ MB\n"
     ]
    }
   ],
   "source": [
    "df.info()"
   ]
  },
  {
   "cell_type": "markdown",
   "metadata": {},
   "source": [
    "### Описание данных\n",
    "\n",
    "**Признаки:**  \n",
    "* `DateCrawled` — дата скачивания анкеты из базы\n",
    "* `VehicleType` — тип автомобильного кузова\n",
    "* `RegistrationYear` — год регистрации автомобиля\n",
    "* `Gearbox` — тип коробки передач\n",
    "* `Power` — мощность (л. с.)\n",
    "* `Model` — модель автомобиля\n",
    "* `Kilometer` — пробег (км)\n",
    "* `RegistrationMonth` — месяц регистрации автомобиля\n",
    "* `FuelType` — тип топлива\n",
    "* `Brand` — марка автомобиля\n",
    "* `NotRepaired` — была машина в ремонте или нет\n",
    "* `DateCreated` — дата создания анкеты\n",
    "* `NumberOfPictures` — количество фотографий автомобиля\n",
    "* `PostalCode` — почтовый индекс владельца анкеты (пользователя)\n",
    "* `LastSeen` — дата последней активности пользователя\n",
    "\n",
    "**Целевой признак:**\n",
    "* `Price` — цена (евро)"
   ]
  },
  {
   "cell_type": "markdown",
   "metadata": {},
   "source": [
    "Удалим на текущем этапе признаки, которые на наш взгляд точно не потребуются для обучения:\n",
    "\n",
    "* `date_crawled` — дата скачивания анкеты из базы \n",
    "* `date_created` — дата создания анкеты \n",
    "* `number_of_pictures` — количество фотографий автомобиля\n",
    "* `postalcode` — почтовый индекс владельца анкеты (пользователя) \n",
    "* `last_seen` — дата последней активности пользователя "
   ]
  },
  {
   "cell_type": "code",
   "execution_count": 5,
   "metadata": {},
   "outputs": [
    {
     "data": {
      "text/html": [
       "<div>\n",
       "<style scoped>\n",
       "    .dataframe tbody tr th:only-of-type {\n",
       "        vertical-align: middle;\n",
       "    }\n",
       "\n",
       "    .dataframe tbody tr th {\n",
       "        vertical-align: top;\n",
       "    }\n",
       "\n",
       "    .dataframe thead th {\n",
       "        text-align: right;\n",
       "    }\n",
       "</style>\n",
       "<table border=\"1\" class=\"dataframe\">\n",
       "  <thead>\n",
       "    <tr style=\"text-align: right;\">\n",
       "      <th></th>\n",
       "      <th>price</th>\n",
       "      <th>vehicle_type</th>\n",
       "      <th>registration_year</th>\n",
       "      <th>gearbox</th>\n",
       "      <th>power</th>\n",
       "      <th>model</th>\n",
       "      <th>kilometer</th>\n",
       "      <th>registration_month</th>\n",
       "      <th>fuel_type</th>\n",
       "      <th>brand</th>\n",
       "      <th>not_repaired</th>\n",
       "    </tr>\n",
       "  </thead>\n",
       "  <tbody>\n",
       "    <tr>\n",
       "      <th>0</th>\n",
       "      <td>480</td>\n",
       "      <td>NaN</td>\n",
       "      <td>1993</td>\n",
       "      <td>manual</td>\n",
       "      <td>0</td>\n",
       "      <td>golf</td>\n",
       "      <td>150000</td>\n",
       "      <td>0</td>\n",
       "      <td>petrol</td>\n",
       "      <td>volkswagen</td>\n",
       "      <td>NaN</td>\n",
       "    </tr>\n",
       "    <tr>\n",
       "      <th>1</th>\n",
       "      <td>18300</td>\n",
       "      <td>coupe</td>\n",
       "      <td>2011</td>\n",
       "      <td>manual</td>\n",
       "      <td>190</td>\n",
       "      <td>NaN</td>\n",
       "      <td>125000</td>\n",
       "      <td>5</td>\n",
       "      <td>gasoline</td>\n",
       "      <td>audi</td>\n",
       "      <td>yes</td>\n",
       "    </tr>\n",
       "    <tr>\n",
       "      <th>2</th>\n",
       "      <td>9800</td>\n",
       "      <td>suv</td>\n",
       "      <td>2004</td>\n",
       "      <td>auto</td>\n",
       "      <td>163</td>\n",
       "      <td>grand</td>\n",
       "      <td>125000</td>\n",
       "      <td>8</td>\n",
       "      <td>gasoline</td>\n",
       "      <td>jeep</td>\n",
       "      <td>NaN</td>\n",
       "    </tr>\n",
       "    <tr>\n",
       "      <th>3</th>\n",
       "      <td>1500</td>\n",
       "      <td>small</td>\n",
       "      <td>2001</td>\n",
       "      <td>manual</td>\n",
       "      <td>75</td>\n",
       "      <td>golf</td>\n",
       "      <td>150000</td>\n",
       "      <td>6</td>\n",
       "      <td>petrol</td>\n",
       "      <td>volkswagen</td>\n",
       "      <td>no</td>\n",
       "    </tr>\n",
       "    <tr>\n",
       "      <th>4</th>\n",
       "      <td>3600</td>\n",
       "      <td>small</td>\n",
       "      <td>2008</td>\n",
       "      <td>manual</td>\n",
       "      <td>69</td>\n",
       "      <td>fabia</td>\n",
       "      <td>90000</td>\n",
       "      <td>7</td>\n",
       "      <td>gasoline</td>\n",
       "      <td>skoda</td>\n",
       "      <td>no</td>\n",
       "    </tr>\n",
       "  </tbody>\n",
       "</table>\n",
       "</div>"
      ],
      "text/plain": [
       "   price vehicle_type  registration_year gearbox  power  model  kilometer  \\\n",
       "0    480          NaN               1993  manual      0   golf     150000   \n",
       "1  18300        coupe               2011  manual    190    NaN     125000   \n",
       "2   9800          suv               2004    auto    163  grand     125000   \n",
       "3   1500        small               2001  manual     75   golf     150000   \n",
       "4   3600        small               2008  manual     69  fabia      90000   \n",
       "\n",
       "   registration_month fuel_type       brand not_repaired  \n",
       "0                   0    petrol  volkswagen          NaN  \n",
       "1                   5  gasoline        audi          yes  \n",
       "2                   8  gasoline        jeep          NaN  \n",
       "3                   6    petrol  volkswagen           no  \n",
       "4                   7  gasoline       skoda           no  "
      ]
     },
     "execution_count": 5,
     "metadata": {},
     "output_type": "execute_result"
    }
   ],
   "source": [
    "columns_drop = ['date_crawled', 'date_created', 'number_of_pictures', 'postal_code', 'last_seen']\n",
    "df = df.drop(columns_drop, axis=1)\n",
    "df.head()"
   ]
  },
  {
   "cell_type": "markdown",
   "metadata": {},
   "source": [
    "### Предобработка данных"
   ]
  },
  {
   "cell_type": "code",
   "execution_count": 6,
   "metadata": {},
   "outputs": [
    {
     "data": {
      "text/plain": [
       "vehicle_type    0.105794\n",
       "gearbox         0.055967\n",
       "model           0.055606\n",
       "fuel_type       0.092827\n",
       "not_repaired    0.200791\n",
       "dtype: float64"
      ]
     },
     "execution_count": 6,
     "metadata": {},
     "output_type": "execute_result"
    }
   ],
   "source": [
    "# проверим датасет на пропуски, выведем поля, где они есть\n",
    "df.isna().mean()[df.isna().mean() > 0]"
   ]
  },
  {
   "cell_type": "markdown",
   "metadata": {},
   "source": [
    "Есть значительные пропуски (доля свыше 0,05 или свыше 5%) в 5 признаках. Для обучения модели CatBoost это не является проблемой, но мы так же будем использовать другие модели, где такие пропуски приведут к неудовлетворительным результатам.\n",
    "Все признаки с пропусками категориальные, удалять пропуски не будем заменим их на unknown.\n",
    "Умышленно скорее всего не заполнено поле NotRepaired — была машина в ремонте или нет. В остальных полях скорее всего просто нет требования к обязательному заполнению, хотя эти признаки влияют на конечную стоимость авто."
   ]
  },
  {
   "cell_type": "code",
   "execution_count": 7,
   "metadata": {},
   "outputs": [],
   "source": [
    "# сделаем замену пропусков\n",
    "columns_fillna = ['vehicle_type', 'gearbox', 'model', 'fuel_type', 'not_repaired']\n",
    "df[columns_fillna] = df[columns_fillna].fillna('unknown')"
   ]
  },
  {
   "cell_type": "code",
   "execution_count": 8,
   "metadata": {},
   "outputs": [
    {
     "data": {
      "text/plain": [
       "price                 0.0\n",
       "vehicle_type          0.0\n",
       "registration_year     0.0\n",
       "gearbox               0.0\n",
       "power                 0.0\n",
       "model                 0.0\n",
       "kilometer             0.0\n",
       "registration_month    0.0\n",
       "fuel_type             0.0\n",
       "brand                 0.0\n",
       "not_repaired          0.0\n",
       "dtype: float64"
      ]
     },
     "execution_count": 8,
     "metadata": {},
     "output_type": "execute_result"
    }
   ],
   "source": [
    "# удалим записи с пропусками\n",
    "df = df.dropna()\n",
    "df.isna().mean()"
   ]
  },
  {
   "cell_type": "code",
   "execution_count": 9,
   "metadata": {},
   "outputs": [
    {
     "name": "stdout",
     "output_type": "stream",
     "text": [
      "Кол-во дублей 27543\n"
     ]
    }
   ],
   "source": [
    "# проверим на дубли наш датасет\n",
    "print('Кол-во дублей', df.duplicated().sum())"
   ]
  },
  {
   "cell_type": "markdown",
   "metadata": {},
   "source": [
    "После замены пропусков появилось очень много дублей, но их мы удалим, чтобы улучшить обучение моделей."
   ]
  },
  {
   "cell_type": "code",
   "execution_count": 10,
   "metadata": {},
   "outputs": [],
   "source": [
    "df = df.drop_duplicates().reset_index(drop=True)"
   ]
  },
  {
   "cell_type": "markdown",
   "metadata": {},
   "source": [
    "### Короткий анализ данных"
   ]
  },
  {
   "cell_type": "code",
   "execution_count": 11,
   "metadata": {},
   "outputs": [
    {
     "data": {
      "text/html": [
       "<div>\n",
       "<style scoped>\n",
       "    .dataframe tbody tr th:only-of-type {\n",
       "        vertical-align: middle;\n",
       "    }\n",
       "\n",
       "    .dataframe tbody tr th {\n",
       "        vertical-align: top;\n",
       "    }\n",
       "\n",
       "    .dataframe thead th {\n",
       "        text-align: right;\n",
       "    }\n",
       "</style>\n",
       "<table border=\"1\" class=\"dataframe\">\n",
       "  <thead>\n",
       "    <tr style=\"text-align: right;\">\n",
       "      <th></th>\n",
       "      <th>price</th>\n",
       "      <th>registration_year</th>\n",
       "      <th>power</th>\n",
       "      <th>kilometer</th>\n",
       "      <th>registration_month</th>\n",
       "    </tr>\n",
       "  </thead>\n",
       "  <tbody>\n",
       "    <tr>\n",
       "      <th>count</th>\n",
       "      <td>326826.000000</td>\n",
       "      <td>326826.000000</td>\n",
       "      <td>326826.000000</td>\n",
       "      <td>326826.000000</td>\n",
       "      <td>326826.000000</td>\n",
       "    </tr>\n",
       "    <tr>\n",
       "      <th>mean</th>\n",
       "      <td>4403.747330</td>\n",
       "      <td>2004.230985</td>\n",
       "      <td>110.244705</td>\n",
       "      <td>128144.073605</td>\n",
       "      <td>5.696239</td>\n",
       "    </tr>\n",
       "    <tr>\n",
       "      <th>std</th>\n",
       "      <td>4518.209808</td>\n",
       "      <td>91.120018</td>\n",
       "      <td>195.886373</td>\n",
       "      <td>37947.663920</td>\n",
       "      <td>3.724122</td>\n",
       "    </tr>\n",
       "    <tr>\n",
       "      <th>min</th>\n",
       "      <td>0.000000</td>\n",
       "      <td>1000.000000</td>\n",
       "      <td>0.000000</td>\n",
       "      <td>5000.000000</td>\n",
       "      <td>0.000000</td>\n",
       "    </tr>\n",
       "    <tr>\n",
       "      <th>25%</th>\n",
       "      <td>1000.000000</td>\n",
       "      <td>1999.000000</td>\n",
       "      <td>69.000000</td>\n",
       "      <td>125000.000000</td>\n",
       "      <td>3.000000</td>\n",
       "    </tr>\n",
       "    <tr>\n",
       "      <th>50%</th>\n",
       "      <td>2700.000000</td>\n",
       "      <td>2003.000000</td>\n",
       "      <td>105.000000</td>\n",
       "      <td>150000.000000</td>\n",
       "      <td>6.000000</td>\n",
       "    </tr>\n",
       "    <tr>\n",
       "      <th>75%</th>\n",
       "      <td>6350.000000</td>\n",
       "      <td>2008.000000</td>\n",
       "      <td>141.000000</td>\n",
       "      <td>150000.000000</td>\n",
       "      <td>9.000000</td>\n",
       "    </tr>\n",
       "    <tr>\n",
       "      <th>max</th>\n",
       "      <td>20000.000000</td>\n",
       "      <td>9999.000000</td>\n",
       "      <td>20000.000000</td>\n",
       "      <td>150000.000000</td>\n",
       "      <td>12.000000</td>\n",
       "    </tr>\n",
       "  </tbody>\n",
       "</table>\n",
       "</div>"
      ],
      "text/plain": [
       "               price  registration_year          power      kilometer  \\\n",
       "count  326826.000000      326826.000000  326826.000000  326826.000000   \n",
       "mean     4403.747330        2004.230985     110.244705  128144.073605   \n",
       "std      4518.209808          91.120018     195.886373   37947.663920   \n",
       "min         0.000000        1000.000000       0.000000    5000.000000   \n",
       "25%      1000.000000        1999.000000      69.000000  125000.000000   \n",
       "50%      2700.000000        2003.000000     105.000000  150000.000000   \n",
       "75%      6350.000000        2008.000000     141.000000  150000.000000   \n",
       "max     20000.000000        9999.000000   20000.000000  150000.000000   \n",
       "\n",
       "       registration_month  \n",
       "count       326826.000000  \n",
       "mean             5.696239  \n",
       "std              3.724122  \n",
       "min              0.000000  \n",
       "25%              3.000000  \n",
       "50%              6.000000  \n",
       "75%              9.000000  \n",
       "max             12.000000  "
      ]
     },
     "execution_count": 11,
     "metadata": {},
     "output_type": "execute_result"
    }
   ],
   "source": [
    "# выведем общие данные по численным значениям\n",
    "df.describe()"
   ]
  },
  {
   "cell_type": "code",
   "execution_count": 12,
   "metadata": {},
   "outputs": [
    {
     "data": {
      "image/png": "[encoded data removed]",
      "text/plain": [
       "<Figure size 864x288 with 1 Axes>"
      ]
     },
     "metadata": {
      "needs_background": "light"
     },
     "output_type": "display_data"
    },
    {
     "data": {
      "image/png": "[encoded data removed]",
      "text/plain": [
       "<Figure size 864x288 with 1 Axes>"
      ]
     },
     "metadata": {
      "needs_background": "light"
     },
     "output_type": "display_data"
    }
   ],
   "source": [
    "# посмотрим выбросы в числовых данных\n",
    "column_plot = ['price', 'kilometer']\n",
    "plt.figure(figsize=(12, 4))\n",
    "sns.boxplot(data=df[column_plot], orient=\"h\", palette=\"Set2\")\n",
    "plt.title(f'«Ящик с усами»')\n",
    "plt.show();\n",
    "\n",
    "column_plot = ['registration_month', 'registration_year', 'power']\n",
    "plt.figure(figsize=(12, 4))\n",
    "sns.boxplot(data=df[column_plot], orient=\"h\", palette=\"Set2\")\n",
    "plt.show();"
   ]
  },
  {
   "cell_type": "markdown",
   "metadata": {},
   "source": [
    "Имеем аномальные значения в поле price, где цена необъективно низкая или вовсе авная 0. Так же есть выбросы по мощности автомобилей (power) их мы удалим из датасета. В поле с годом регистрации есть аномальные значения (1000 и 9999), так же как и в поле месяц регистрации есть значения равные 0. Уберем выбросы и аномалии."
   ]
  },
  {
   "cell_type": "code",
   "execution_count": 13,
   "metadata": {},
   "outputs": [],
   "source": [
    "# уберем аномалии по цене, оставим данные свыше 100 евро\n",
    "df = df.query('price > 100')\n",
    "# уберем аномалии по году, оставим данные свыше 1900 года и меньше 2023\n",
    "df = df.query('1900 <= registration_year < 2023')\n",
    "# уберем выбросы по мощности, оставим данные меньше 1000 л.с.\n",
    "df = df.query('power < 1000')"
   ]
  },
  {
   "cell_type": "code",
   "execution_count": 14,
   "metadata": {},
   "outputs": [],
   "source": [
    "# колонку registration_month так же удалим из выборки для обучения \n",
    "df = df.drop('registration_month', axis=1)"
   ]
  },
  {
   "cell_type": "code",
   "execution_count": 15,
   "metadata": {},
   "outputs": [
    {
     "data": {
      "image/png": "[encoded data removed]",
      "text/plain": [
       "<Figure size 576x288 with 2 Axes>"
      ]
     },
     "metadata": {
      "needs_background": "light"
     },
     "output_type": "display_data"
    }
   ],
   "source": [
    "# выведем корреляцию Пирсона\n",
    "plt.figure(figsize=(8, 4))\n",
    "(sns.heatmap(\n",
    "    df.corr()\n",
    "    , annot=True\n",
    "    , cmap='RdYlGn'\n",
    "    , square=True)\n",
    ")\n",
    "plt.show()"
   ]
  },
  {
   "cell_type": "markdown",
   "metadata": {},
   "source": [
    "Наблюдается небольшая корреляция к цене в зависимости от года постановки на учет, мощности и пробегу. У обучающих признаков корреляции между собой не наблюдается."
   ]
  },
  {
   "cell_type": "code",
   "execution_count": 16,
   "metadata": {},
   "outputs": [
    {
     "data": {
      "text/plain": [
       "0.8851758623803504"
      ]
     },
     "execution_count": 16,
     "metadata": {},
     "output_type": "execute_result"
    }
   ],
   "source": [
    "# проверим сколько данных осталось после удаления выбросов\n",
    "df.shape[0]/354368"
   ]
  },
  {
   "cell_type": "markdown",
   "metadata": {},
   "source": [
    "### Подготовка данных для обучения"
   ]
  },
  {
   "cell_type": "code",
   "execution_count": 17,
   "metadata": {},
   "outputs": [],
   "source": [
    "random_state = 777"
   ]
  },
  {
   "cell_type": "code",
   "execution_count": 18,
   "metadata": {},
   "outputs": [],
   "source": [
    "# выделим целевой признак\n",
    "# остальные признаки сохраним в отдельную выборку\n",
    "# разобъем наши признаки на обучающие и тестовые \n",
    "X_train, X_test, y_train, y_test = train_test_split(\n",
    "    df.drop('price', axis=1), df.price, test_size=0.25, random_state=random_state)"
   ]
  },
  {
   "cell_type": "code",
   "execution_count": 19,
   "metadata": {},
   "outputs": [
    {
     "data": {
      "text/plain": [
       "((235258, 9), (78420, 9), (235258,), (78420,))"
      ]
     },
     "execution_count": 19,
     "metadata": {},
     "output_type": "execute_result"
    }
   ],
   "source": [
    "# проверим полученные датасеты\n",
    "X_train.shape, X_test.shape, y_train.shape, y_test.shape"
   ]
  },
  {
   "cell_type": "markdown",
   "metadata": {},
   "source": [
    "### Вывод\n",
    "\n",
    "Убрали признаки, которые не понадобятся для обучения:\n",
    "\n",
    "* `date_crawled` — дата скачивания анкеты из базы \n",
    "* `date_created` — дата создания анкеты \n",
    "* `number_of_pictures` — количество фотографий автомобиля\n",
    "* `postalcode` — почтовый индекс владельца анкеты (пользователя) \n",
    "* `last_seen` — дата последней активности пользователя * \n",
    "* `registration_month` — месяц регистрации автомобиля\n",
    "\n",
    "На этапе подготовки данных для обучения были выявлены пропуски, дубликаты и аномалии.  \n",
    "Пропуски замененили на unknown, т.к. они были в категориальных признаках.  \n",
    "Дубли удалили для лучшего обучения модели.  \n",
    "Выбросы и аномалии убрали из основной выборки."
   ]
  },
  {
   "cell_type": "markdown",
   "metadata": {},
   "source": [
    "## Обучение моделей"
   ]
  },
  {
   "cell_type": "markdown",
   "metadata": {},
   "source": [
    "Catboost, LightGBM умеют работать с категориальными признаками, поэтому OHE применять не будем.\n",
    "Сделаем OHE и стандартизацию при обучении моделей ансамбля.\n",
    "Для оценки качества моделей применим метрику RMSE. "
   ]
  },
  {
   "cell_type": "code",
   "execution_count": 20,
   "metadata": {},
   "outputs": [],
   "source": [
    "# в данные списки будем записывать полученные метрики и модели\n",
    "rmse = []\n",
    "time_train = []\n",
    "time_test = []\n",
    "model_name = []"
   ]
  },
  {
   "cell_type": "code",
   "execution_count": 21,
   "metadata": {},
   "outputs": [
    {
     "data": {
      "text/plain": [
       "['vehicle_type', 'gearbox', 'model', 'fuel_type', 'brand', 'not_repaired']"
      ]
     },
     "execution_count": 21,
     "metadata": {},
     "output_type": "execute_result"
    }
   ],
   "source": [
    "# подготовим список категориальных признаков\n",
    "X_category = list(X_train.select_dtypes(include=['object']).columns)\n",
    "X_category"
   ]
  },
  {
   "cell_type": "markdown",
   "metadata": {},
   "source": [
    "### Catboost"
   ]
  },
  {
   "cell_type": "markdown",
   "metadata": {},
   "source": [
    "Подберем параметры для CatBoost с помощью GridSearchCV. "
   ]
  },
  {
   "cell_type": "code",
   "execution_count": 22,
   "metadata": {},
   "outputs": [],
   "source": [
    "# укажем параметры \n",
    "parametrs = { 'iterations': range(40, 200, 40),\n",
    "              'learning_rate': [0.25],\n",
    "              'random_seed': [random_state],\n",
    "              'l2_leaf_reg': [15],\n",
    "              'depth': range(4, 16, 4)\n",
    "            }"
   ]
  },
  {
   "cell_type": "code",
   "execution_count": null,
   "metadata": {},
   "outputs": [],
   "source": [
    "# напишем функцию для расчета RMSE, котрую будем использовать в GridSearchCV.\n",
    "def rmse(y, predict):\n",
    "    rmse = mean_squared_error(y, predict) ** 0.5\n",
    "    print(rmse)\n",
    "    return rmse"
   ]
  },
  {
   "cell_type": "code",
   "execution_count": 23,
   "metadata": {},
   "outputs": [
    {
     "name": "stdout",
     "output_type": "stream",
     "text": [
      "0:\tlearn: 3930.6410083\ttotal: 134ms\tremaining: 5.23s\n",
      "39:\tlearn: 1915.6429004\ttotal: 2.36s\tremaining: 0us\n",
      "0:\tlearn: 3922.2862587\ttotal: 68.9ms\tremaining: 2.69s\n",
      "39:\tlearn: 1920.0759388\ttotal: 2.16s\tremaining: 0us\n",
      "0:\tlearn: 3921.5125516\ttotal: 68ms\tremaining: 2.65s\n",
      "39:\tlearn: 1932.1080312\ttotal: 2.18s\tremaining: 0us\n",
      "0:\tlearn: 3909.5404865\ttotal: 89.5ms\tremaining: 3.49s\n",
      "39:\tlearn: 1927.7648199\ttotal: 2.19s\tremaining: 0us\n",
      "0:\tlearn: 3925.9532670\ttotal: 63.6ms\tremaining: 2.48s\n",
      "39:\tlearn: 1917.7486400\ttotal: 2.13s\tremaining: 0us\n",
      "0:\tlearn: 3930.6410083\ttotal: 64.2ms\tremaining: 5.07s\n",
      "50:\tlearn: 1882.6628876\ttotal: 2.78s\tremaining: 1.58s\n",
      "79:\tlearn: 1825.3121264\ttotal: 4.43s\tremaining: 0us\n",
      "0:\tlearn: 3922.2862587\ttotal: 83.4ms\tremaining: 6.59s\n",
      "50:\tlearn: 1884.2314735\ttotal: 2.8s\tremaining: 1.59s\n",
      "79:\tlearn: 1829.7165250\ttotal: 4.31s\tremaining: 0us\n",
      "0:\tlearn: 3921.5125516\ttotal: 65.9ms\tremaining: 5.21s\n",
      "50:\tlearn: 1891.0370244\ttotal: 2.87s\tremaining: 1.63s\n",
      "79:\tlearn: 1832.5151582\ttotal: 4.46s\tremaining: 0us\n",
      "0:\tlearn: 3909.5404865\ttotal: 69.2ms\tremaining: 5.47s\n",
      "50:\tlearn: 1893.9574754\ttotal: 2.79s\tremaining: 1.58s\n",
      "79:\tlearn: 1837.1834538\ttotal: 4.35s\tremaining: 0us\n",
      "0:\tlearn: 3925.9532670\ttotal: 62.5ms\tremaining: 4.94s\n",
      "50:\tlearn: 1887.1720606\ttotal: 2.85s\tremaining: 1.62s\n",
      "79:\tlearn: 1830.3738687\ttotal: 4.37s\tremaining: 0us\n",
      "0:\tlearn: 3930.6410083\ttotal: 65.5ms\tremaining: 7.8s\n",
      "50:\tlearn: 1882.6628876\ttotal: 2.78s\tremaining: 3.76s\n",
      "100:\tlearn: 1800.1015427\ttotal: 5.41s\tremaining: 1.02s\n",
      "119:\tlearn: 1785.2869899\ttotal: 6.44s\tremaining: 0us\n",
      "0:\tlearn: 3922.2862587\ttotal: 65.4ms\tremaining: 7.78s\n",
      "50:\tlearn: 1884.2314735\ttotal: 2.75s\tremaining: 3.72s\n",
      "100:\tlearn: 1807.1367257\ttotal: 5.47s\tremaining: 1.03s\n",
      "119:\tlearn: 1791.1675034\ttotal: 6.5s\tremaining: 0us\n",
      "0:\tlearn: 3921.5125516\ttotal: 67.1ms\tremaining: 7.98s\n",
      "50:\tlearn: 1891.0370244\ttotal: 2.85s\tremaining: 3.86s\n",
      "100:\tlearn: 1807.2546179\ttotal: 5.47s\tremaining: 1.03s\n",
      "119:\tlearn: 1792.0466391\ttotal: 6.42s\tremaining: 0us\n",
      "0:\tlearn: 3909.5404865\ttotal: 75.3ms\tremaining: 8.96s\n",
      "50:\tlearn: 1893.9574754\ttotal: 2.93s\tremaining: 3.96s\n",
      "100:\tlearn: 1810.1718349\ttotal: 5.53s\tremaining: 1.04s\n",
      "119:\tlearn: 1792.5001986\ttotal: 6.53s\tremaining: 0us\n",
      "0:\tlearn: 3925.9532670\ttotal: 68.7ms\tremaining: 8.18s\n",
      "50:\tlearn: 1887.1720606\ttotal: 2.75s\tremaining: 3.72s\n",
      "100:\tlearn: 1803.9086335\ttotal: 5.47s\tremaining: 1.03s\n",
      "119:\tlearn: 1786.3875408\ttotal: 6.48s\tremaining: 0us\n",
      "0:\tlearn: 3930.6410083\ttotal: 66.8ms\tremaining: 10.6s\n",
      "50:\tlearn: 1882.6628876\ttotal: 2.8s\tremaining: 5.99s\n",
      "100:\tlearn: 1800.1015427\ttotal: 5.48s\tremaining: 3.2s\n",
      "150:\tlearn: 1765.9150054\ttotal: 8.18s\tremaining: 488ms\n",
      "159:\tlearn: 1760.9324990\ttotal: 8.66s\tremaining: 0us\n",
      "0:\tlearn: 3922.2862587\ttotal: 66.7ms\tremaining: 10.6s\n",
      "50:\tlearn: 1884.2314735\ttotal: 2.75s\tremaining: 5.88s\n",
      "100:\tlearn: 1807.1367257\ttotal: 5.33s\tremaining: 3.12s\n",
      "150:\tlearn: 1767.9769419\ttotal: 8.02s\tremaining: 478ms\n",
      "159:\tlearn: 1762.5222235\ttotal: 8.49s\tremaining: 0us\n",
      "0:\tlearn: 3921.5125516\ttotal: 65ms\tremaining: 10.3s\n",
      "50:\tlearn: 1891.0370244\ttotal: 2.69s\tremaining: 5.76s\n",
      "100:\tlearn: 1807.2546179\ttotal: 5.35s\tremaining: 3.13s\n",
      "150:\tlearn: 1774.0003934\ttotal: 7.98s\tremaining: 476ms\n",
      "159:\tlearn: 1768.2502458\ttotal: 8.44s\tremaining: 0us\n",
      "0:\tlearn: 3909.5404865\ttotal: 72.2ms\tremaining: 11.5s\n",
      "50:\tlearn: 1893.9574754\ttotal: 2.75s\tremaining: 5.88s\n",
      "100:\tlearn: 1810.1718349\ttotal: 5.44s\tremaining: 3.17s\n",
      "150:\tlearn: 1774.2346911\ttotal: 8.32s\tremaining: 496ms\n",
      "159:\tlearn: 1768.1388158\ttotal: 8.78s\tremaining: 0us\n",
      "0:\tlearn: 3925.9532670\ttotal: 67.4ms\tremaining: 10.7s\n",
      "50:\tlearn: 1887.1720606\ttotal: 2.86s\tremaining: 6.11s\n",
      "100:\tlearn: 1803.9086335\ttotal: 5.64s\tremaining: 3.3s\n",
      "150:\tlearn: 1765.4243225\ttotal: 8.51s\tremaining: 507ms\n",
      "159:\tlearn: 1762.6043622\ttotal: 8.98s\tremaining: 0us\n",
      "0:\tlearn: 3798.2544201\ttotal: 115ms\tremaining: 4.5s\n",
      "39:\tlearn: 1759.2777165\ttotal: 3.77s\tremaining: 0us\n",
      "0:\tlearn: 3793.1860649\ttotal: 106ms\tremaining: 4.13s\n",
      "39:\tlearn: 1756.6386380\ttotal: 3.82s\tremaining: 0us\n",
      "0:\tlearn: 3785.9123413\ttotal: 107ms\tremaining: 4.16s\n",
      "39:\tlearn: 1757.7683493\ttotal: 3.76s\tremaining: 0us\n",
      "0:\tlearn: 3805.1550543\ttotal: 118ms\tremaining: 4.59s\n",
      "39:\tlearn: 1763.1613894\ttotal: 3.76s\tremaining: 0us\n",
      "0:\tlearn: 3800.6953895\ttotal: 113ms\tremaining: 4.39s\n",
      "39:\tlearn: 1758.6029842\ttotal: 3.73s\tremaining: 0us\n",
      "0:\tlearn: 3798.2544201\ttotal: 104ms\tremaining: 8.2s\n",
      "50:\tlearn: 1731.5938814\ttotal: 4.81s\tremaining: 2.73s\n",
      "79:\tlearn: 1688.5516647\ttotal: 7.49s\tremaining: 0us\n",
      "0:\tlearn: 3793.1860649\ttotal: 107ms\tremaining: 8.49s\n",
      "50:\tlearn: 1729.8954009\ttotal: 4.65s\tremaining: 2.65s\n",
      "79:\tlearn: 1684.2385627\ttotal: 7.31s\tremaining: 0us\n",
      "0:\tlearn: 3785.9123413\ttotal: 102ms\tremaining: 8.08s\n",
      "50:\tlearn: 1726.1725528\ttotal: 4.74s\tremaining: 2.7s\n",
      "79:\tlearn: 1697.9648667\ttotal: 7.42s\tremaining: 0us\n",
      "0:\tlearn: 3805.1550543\ttotal: 106ms\tremaining: 8.35s\n",
      "50:\tlearn: 1735.2255803\ttotal: 4.66s\tremaining: 2.65s\n",
      "79:\tlearn: 1687.4888490\ttotal: 7.3s\tremaining: 0us\n",
      "0:\tlearn: 3800.6953895\ttotal: 115ms\tremaining: 9.09s\n",
      "50:\tlearn: 1732.1457829\ttotal: 4.83s\tremaining: 2.75s\n",
      "79:\tlearn: 1687.3681600\ttotal: 7.49s\tremaining: 0us\n",
      "0:\tlearn: 3798.2544201\ttotal: 107ms\tremaining: 12.8s\n",
      "50:\tlearn: 1731.5938814\ttotal: 4.74s\tremaining: 6.42s\n",
      "100:\tlearn: 1667.0765566\ttotal: 9.39s\tremaining: 1.77s\n",
      "119:\tlearn: 1653.7883506\ttotal: 11.2s\tremaining: 0us\n",
      "0:\tlearn: 3793.1860649\ttotal: 114ms\tremaining: 13.6s\n",
      "50:\tlearn: 1729.8954009\ttotal: 4.78s\tremaining: 6.47s\n",
      "100:\tlearn: 1662.4104926\ttotal: 9.24s\tremaining: 1.74s\n",
      "119:\tlearn: 1649.5871073\ttotal: 11s\tremaining: 0us\n",
      "0:\tlearn: 3785.9123413\ttotal: 103ms\tremaining: 12.2s\n",
      "50:\tlearn: 1726.1725528\ttotal: 4.81s\tremaining: 6.5s\n",
      "100:\tlearn: 1677.6236168\ttotal: 9.44s\tremaining: 1.77s\n",
      "119:\tlearn: 1661.9951745\ttotal: 11.2s\tremaining: 0us\n",
      "0:\tlearn: 3805.1550543\ttotal: 114ms\tremaining: 13.6s\n",
      "50:\tlearn: 1735.2255803\ttotal: 5.04s\tremaining: 6.82s\n",
      "100:\tlearn: 1670.1996989\ttotal: 9.8s\tremaining: 1.84s\n",
      "119:\tlearn: 1658.5313216\ttotal: 11.5s\tremaining: 0us\n",
      "0:\tlearn: 3800.6953895\ttotal: 108ms\tremaining: 12.9s\n",
      "50:\tlearn: 1732.1457829\ttotal: 4.75s\tremaining: 6.42s\n",
      "100:\tlearn: 1671.2940172\ttotal: 9.26s\tremaining: 1.74s\n",
      "119:\tlearn: 1658.5725350\ttotal: 10.9s\tremaining: 0us\n",
      "0:\tlearn: 3798.2544201\ttotal: 104ms\tremaining: 16.5s\n",
      "50:\tlearn: 1731.5938814\ttotal: 4.78s\tremaining: 10.2s\n",
      "100:\tlearn: 1667.0765566\ttotal: 9.4s\tremaining: 5.49s\n",
      "150:\tlearn: 1631.1833422\ttotal: 13.9s\tremaining: 831ms\n",
      "159:\tlearn: 1625.0407398\ttotal: 14.9s\tremaining: 0us\n",
      "0:\tlearn: 3793.1860649\ttotal: 109ms\tremaining: 17.3s\n",
      "50:\tlearn: 1729.8954009\ttotal: 5.26s\tremaining: 11.3s\n",
      "100:\tlearn: 1662.4104926\ttotal: 10.1s\tremaining: 5.91s\n",
      "150:\tlearn: 1629.0880833\ttotal: 14.8s\tremaining: 880ms\n",
      "159:\tlearn: 1624.3849221\ttotal: 15.6s\tremaining: 0us\n",
      "0:\tlearn: 3785.9123413\ttotal: 109ms\tremaining: 17.3s\n",
      "50:\tlearn: 1726.1725528\ttotal: 4.79s\tremaining: 10.2s\n",
      "100:\tlearn: 1677.6236168\ttotal: 9.41s\tremaining: 5.49s\n",
      "150:\tlearn: 1641.0755506\ttotal: 13.9s\tremaining: 830ms\n",
      "159:\tlearn: 1634.4545150\ttotal: 14.7s\tremaining: 0us\n",
      "0:\tlearn: 3805.1550543\ttotal: 106ms\tremaining: 16.9s\n",
      "50:\tlearn: 1735.2255803\ttotal: 4.85s\tremaining: 10.4s\n",
      "100:\tlearn: 1670.1996989\ttotal: 9.28s\tremaining: 5.42s\n",
      "150:\tlearn: 1641.6412823\ttotal: 14s\tremaining: 833ms\n",
      "159:\tlearn: 1634.5179105\ttotal: 14.8s\tremaining: 0us\n",
      "0:\tlearn: 3800.6953895\ttotal: 110ms\tremaining: 17.5s\n",
      "50:\tlearn: 1732.1457829\ttotal: 4.71s\tremaining: 10.1s\n",
      "100:\tlearn: 1671.2940172\ttotal: 9.32s\tremaining: 5.44s\n",
      "150:\tlearn: 1639.0583604\ttotal: 13.7s\tremaining: 814ms\n",
      "159:\tlearn: 1635.4038648\ttotal: 14.4s\tremaining: 0us\n",
      "0:\tlearn: 3759.1388701\ttotal: 242ms\tremaining: 9.45s\n",
      "39:\tlearn: 1654.5769388\ttotal: 7s\tremaining: 0us\n",
      "0:\tlearn: 3752.3126361\ttotal: 195ms\tremaining: 7.61s\n",
      "39:\tlearn: 1654.6399778\ttotal: 6.94s\tremaining: 0us\n",
      "0:\tlearn: 3746.8113600\ttotal: 182ms\tremaining: 7.09s\n",
      "39:\tlearn: 1658.8774583\ttotal: 6.96s\tremaining: 0us\n",
      "0:\tlearn: 3760.1735434\ttotal: 179ms\tremaining: 6.98s\n",
      "39:\tlearn: 1662.0106906\ttotal: 7.11s\tremaining: 0us\n",
      "0:\tlearn: 3764.7011331\ttotal: 189ms\tremaining: 7.37s\n",
      "39:\tlearn: 1656.0508723\ttotal: 7.21s\tremaining: 0us\n",
      "0:\tlearn: 3759.1388701\ttotal: 187ms\tremaining: 14.8s\n",
      "50:\tlearn: 1625.7437268\ttotal: 9.44s\tremaining: 5.37s\n",
      "79:\tlearn: 1586.0484091\ttotal: 14.8s\tremaining: 0us\n",
      "0:\tlearn: 3752.3126361\ttotal: 191ms\tremaining: 15.1s\n",
      "50:\tlearn: 1630.7463679\ttotal: 9.38s\tremaining: 5.33s\n",
      "79:\tlearn: 1582.2432837\ttotal: 14.8s\tremaining: 0us\n",
      "0:\tlearn: 3746.8113600\ttotal: 208ms\tremaining: 16.4s\n",
      "50:\tlearn: 1634.8697037\ttotal: 9.07s\tremaining: 5.16s\n",
      "79:\tlearn: 1586.0745854\ttotal: 14.1s\tremaining: 0us\n",
      "0:\tlearn: 3760.1735434\ttotal: 204ms\tremaining: 16.1s\n",
      "50:\tlearn: 1636.3371294\ttotal: 9.28s\tremaining: 5.28s\n",
      "79:\tlearn: 1590.5036269\ttotal: 14.4s\tremaining: 0us\n",
      "0:\tlearn: 3764.7011331\ttotal: 175ms\tremaining: 13.8s\n",
      "50:\tlearn: 1626.5898129\ttotal: 9.13s\tremaining: 5.19s\n",
      "79:\tlearn: 1572.0786826\ttotal: 14.4s\tremaining: 0us\n",
      "0:\tlearn: 3759.1388701\ttotal: 184ms\tremaining: 21.9s\n",
      "50:\tlearn: 1625.7437268\ttotal: 9.43s\tremaining: 12.8s\n",
      "100:\tlearn: 1564.7475319\ttotal: 18.4s\tremaining: 3.46s\n",
      "119:\tlearn: 1549.5554028\ttotal: 21.8s\tremaining: 0us\n",
      "0:\tlearn: 3752.3126361\ttotal: 224ms\tremaining: 26.6s\n",
      "50:\tlearn: 1630.7463679\ttotal: 9.41s\tremaining: 12.7s\n",
      "100:\tlearn: 1550.5609643\ttotal: 18.5s\tremaining: 3.48s\n",
      "119:\tlearn: 1532.2760311\ttotal: 21.9s\tremaining: 0us\n",
      "0:\tlearn: 3746.8113600\ttotal: 181ms\tremaining: 21.5s\n",
      "50:\tlearn: 1634.8697037\ttotal: 9.02s\tremaining: 12.2s\n",
      "100:\tlearn: 1567.4376389\ttotal: 17.8s\tremaining: 3.36s\n",
      "119:\tlearn: 1543.2901356\ttotal: 21.2s\tremaining: 0us\n",
      "0:\tlearn: 3760.1735434\ttotal: 185ms\tremaining: 22s\n",
      "50:\tlearn: 1636.3371294\ttotal: 9.07s\tremaining: 12.3s\n",
      "100:\tlearn: 1567.1577310\ttotal: 17.6s\tremaining: 3.32s\n",
      "119:\tlearn: 1552.9082577\ttotal: 21s\tremaining: 0us\n",
      "0:\tlearn: 3764.7011331\ttotal: 221ms\tremaining: 26.3s\n",
      "50:\tlearn: 1626.5898129\ttotal: 8.99s\tremaining: 12.2s\n",
      "100:\tlearn: 1545.7497232\ttotal: 17.5s\tremaining: 3.29s\n",
      "119:\tlearn: 1528.5360069\ttotal: 20.6s\tremaining: 0us\n",
      "0:\tlearn: 3759.1388701\ttotal: 173ms\tremaining: 27.5s\n",
      "50:\tlearn: 1625.7437268\ttotal: 8.97s\tremaining: 19.2s\n",
      "100:\tlearn: 1564.7475319\ttotal: 17.5s\tremaining: 10.2s\n",
      "150:\tlearn: 1500.4507016\ttotal: 26s\tremaining: 1.55s\n",
      "159:\tlearn: 1490.5390200\ttotal: 27.6s\tremaining: 0us\n",
      "0:\tlearn: 3752.3126361\ttotal: 195ms\tremaining: 30.9s\n",
      "50:\tlearn: 1630.7463679\ttotal: 9.1s\tremaining: 19.5s\n",
      "100:\tlearn: 1550.5609643\ttotal: 17.8s\tremaining: 10.4s\n",
      "150:\tlearn: 1505.0093944\ttotal: 26.4s\tremaining: 1.57s\n",
      "159:\tlearn: 1496.4839745\ttotal: 27.9s\tremaining: 0us\n",
      "0:\tlearn: 3746.8113600\ttotal: 182ms\tremaining: 29s\n",
      "50:\tlearn: 1634.8697037\ttotal: 8.87s\tremaining: 19s\n",
      "100:\tlearn: 1567.4376389\ttotal: 17.6s\tremaining: 10.3s\n",
      "150:\tlearn: 1513.1000100\ttotal: 26.5s\tremaining: 1.58s\n",
      "159:\tlearn: 1504.6023618\ttotal: 28.1s\tremaining: 0us\n",
      "0:\tlearn: 3760.1735434\ttotal: 188ms\tremaining: 29.8s\n",
      "50:\tlearn: 1636.3371294\ttotal: 9.27s\tremaining: 19.8s\n",
      "100:\tlearn: 1567.1577310\ttotal: 18s\tremaining: 10.5s\n",
      "150:\tlearn: 1513.4495028\ttotal: 26.6s\tremaining: 1.59s\n",
      "159:\tlearn: 1502.5572443\ttotal: 28.2s\tremaining: 0us\n",
      "0:\tlearn: 3764.7011331\ttotal: 175ms\tremaining: 27.8s\n",
      "50:\tlearn: 1626.5898129\ttotal: 8.94s\tremaining: 19.1s\n",
      "100:\tlearn: 1545.7497232\ttotal: 17.6s\tremaining: 10.3s\n",
      "150:\tlearn: 1500.8097357\ttotal: 26s\tremaining: 1.55s\n",
      "159:\tlearn: 1497.7567342\ttotal: 27.5s\tremaining: 0us\n",
      "0:\tlearn: 3756.9099567\ttotal: 242ms\tremaining: 38.5s\n",
      "50:\tlearn: 1638.4268724\ttotal: 10.8s\tremaining: 23.1s\n",
      "100:\tlearn: 1558.9225568\ttotal: 21.5s\tremaining: 12.6s\n",
      "150:\tlearn: 1509.4605524\ttotal: 32s\tremaining: 1.91s\n",
      "159:\tlearn: 1503.0046726\ttotal: 33.9s\tremaining: 0us\n",
      "CPU times: user 11min 45s, sys: 4.36 s, total: 11min 49s\n",
      "Wall time: 12min 34s\n"
     ]
    }
   ],
   "source": [
    "%%time\n",
    "start_time = time.time()\n",
    "\n",
    "model_cbr = CatBoostRegressor()\n",
    "grid = GridSearchCV(model_cbr, parametrs, cv=5)\n",
    "grid.fit(X_train, y_train, cat_features=X_category, verbose=40)\n",
    "\n",
    "end_time = time.time()\n",
    "time_trn = end_time - start_time"
   ]
  },
  {
   "cell_type": "code",
   "execution_count": 66,
   "metadata": {},
   "outputs": [
    {
     "data": {
      "text/plain": [
       "{'depth': 12,\n",
       " 'iterations': 160,\n",
       " 'l2_leaf_reg': 15,\n",
       " 'learning_rate': 0.25,\n",
       " 'random_seed': 777}"
      ]
     },
     "execution_count": 66,
     "metadata": {},
     "output_type": "execute_result"
    }
   ],
   "source": [
    "# выведем лучшие параметры для нашей модели\n",
    "grid.best_params_"
   ]
  },
  {
   "cell_type": "code",
   "execution_count": 67,
   "metadata": {},
   "outputs": [
    {
     "data": {
      "application/vnd.jupyter.widget-view+json": {
       "model_id": "66f7cdd116644a4aafcb7451714ff9aa",
       "version_major": 2,
       "version_minor": 0
      },
      "text/plain": [
       "MetricVisualizer(layout=Layout(align_self='stretch', height='500px'))"
      ]
     },
     "metadata": {},
     "output_type": "display_data"
    },
    {
     "name": "stdout",
     "output_type": "stream",
     "text": [
      "0:\tlearn: 3756.9099567\ttotal: 249ms\tremaining: 39.7s\n",
      "40:\tlearn: 1668.9498242\ttotal: 8.47s\tremaining: 24.6s\n",
      "80:\tlearn: 1584.2013079\ttotal: 16.9s\tremaining: 16.4s\n",
      "120:\tlearn: 1537.1240831\ttotal: 25.2s\tremaining: 8.13s\n",
      "159:\tlearn: 1503.0046726\ttotal: 33.5s\tremaining: 0us\n",
      "CPU times: user 33.7 s, sys: 228 ms, total: 34 s\n",
      "Wall time: 35.1 s\n"
     ]
    }
   ],
   "source": [
    "%%time\n",
    "# обучим нашу модель с лучшими параметрами, чтобы замерить время обучения\n",
    "start_time = time.time()\n",
    "\n",
    "model_cbr = CatBoostRegressor(depth=12, iterations=160, l2_leaf_reg=15, learning_rate=0.25, random_seed=777)\n",
    "model_cbr.fit(X_train, y_train, cat_features=X_category, verbose=40, plot=True)\n",
    "\n",
    "end_time = time.time()\n",
    "time_trn = end_time - start_time"
   ]
  },
  {
   "cell_type": "code",
   "execution_count": 63,
   "metadata": {},
   "outputs": [
    {
     "name": "stdout",
     "output_type": "stream",
     "text": [
      "RMSE модели Catboost: 1639.083256449135\n",
      "CPU times: user 185 ms, sys: 0 ns, total: 185 ms\n",
      "Wall time: 182 ms\n"
     ]
    }
   ],
   "source": [
    "%%time\n",
    "start_time = time.time()\n",
    "\n",
    "predict_cbr = model_cbr.predict(X_test)\n",
    "rmse_cbr = mean_squared_error(y_test, predict_cbr) ** 0.5\n",
    "\n",
    "end_time = time.time()\n",
    "time_tst = end_time - start_time\n",
    "\n",
    "print('RMSE модели Catboost:', rmse_cbr)"
   ]
  },
  {
   "cell_type": "code",
   "execution_count": 43,
   "metadata": {},
   "outputs": [],
   "source": [
    "rmse.append(rmse_cbr)\n",
    "time_train.append(time_trn)\n",
    "time_test.append(time_tst)\n",
    "model_name.append(model_cbr.__class__.__name__)"
   ]
  },
  {
   "cell_type": "markdown",
   "metadata": {},
   "source": [
    "Более 12 минут потратили на подбор параметров для модели. По итогу с лучшими параметрами достигли RMSE ниже 2500, модель обучалась 35s."
   ]
  },
  {
   "cell_type": "markdown",
   "metadata": {},
   "source": [
    "### LightGBM"
   ]
  },
  {
   "cell_type": "code",
   "execution_count": 44,
   "metadata": {},
   "outputs": [
    {
     "data": {
      "text/plain": [
       "['vehicle_type',\n",
       " 'registration_year',\n",
       " 'gearbox',\n",
       " 'power',\n",
       " 'model',\n",
       " 'kilometer',\n",
       " 'fuel_type',\n",
       " 'brand',\n",
       " 'not_repaired']"
      ]
     },
     "execution_count": 44,
     "metadata": {},
     "output_type": "execute_result"
    }
   ],
   "source": [
    "# создадим список с признаками\n",
    "futures_name = list(X_train.columns)\n",
    "futures_name"
   ]
  },
  {
   "cell_type": "code",
   "execution_count": 45,
   "metadata": {},
   "outputs": [],
   "source": [
    "X_train_lgb = X_train.copy()"
   ]
  },
  {
   "cell_type": "code",
   "execution_count": 46,
   "metadata": {},
   "outputs": [
    {
     "name": "stderr",
     "output_type": "stream",
     "text": [
      "/opt/conda/lib/python3.9/site-packages/lightgbm/engine.py:177: UserWarning: Found `n_estimators` in params. Will use it instead of argument\n",
      "  _log_warning(f\"Found `{alias}` in params. Will use it instead of argument\")\n",
      "/opt/conda/lib/python3.9/site-packages/lightgbm/basic.py:2065: UserWarning: Using categorical_feature in Dataset.\n",
      "  _log_warning('Using categorical_feature in Dataset.')\n"
     ]
    },
    {
     "name": "stdout",
     "output_type": "stream",
     "text": [
      "[LightGBM] [Warning] Auto-choosing row-wise multi-threading, the overhead of testing was 0.093213 seconds.\n",
      "You can set `force_row_wise=true` to remove the overhead.\n",
      "And if memory is not enough, you can set `force_col_wise=true`.\n",
      "[LightGBM] [Info] Total Bins 660\n",
      "[LightGBM] [Info] Number of data points in the train set: 235258, number of used features: 9\n",
      "[LightGBM] [Info] Start training from score 4582.794987\n",
      "CPU times: user 43.3 s, sys: 180 ms, total: 43.5 s\n",
      "Wall time: 44 s\n"
     ]
    }
   ],
   "source": [
    "%%time\n",
    "start_time = time.time()\n",
    "\n",
    "for c in X_category:\n",
    "    X_train_lgb[c] = X_train_lgb[c].astype('category')\n",
    "\n",
    "df_train_lgb = lgb.Dataset (X_train_lgb, label = y_train, feature_name = futures_name,\n",
    "                           categorical_feature = X_category\n",
    "                           )\n",
    "\n",
    "param = {'learning_rate':0.1, 'n_estimators':1200, 'objective':'root_mean_squared_error'}\n",
    "\n",
    "num_round = 1000\n",
    "model_lgb = lgb.train(param, df_train_lgb, num_round)\n",
    "\n",
    "end_time = time.time()\n",
    "time_trn = end_time - start_time"
   ]
  },
  {
   "cell_type": "code",
   "execution_count": 47,
   "metadata": {},
   "outputs": [],
   "source": [
    "X_test_lgb = X_test.copy()"
   ]
  },
  {
   "cell_type": "code",
   "execution_count": 48,
   "metadata": {},
   "outputs": [
    {
     "name": "stdout",
     "output_type": "stream",
     "text": [
      "RMSE модели LGBM 1590.6366395051475\n",
      "CPU times: user 11.9 s, sys: 25.1 ms, total: 11.9 s\n",
      "Wall time: 11.9 s\n"
     ]
    }
   ],
   "source": [
    "%%time\n",
    "start_time = time.time()\n",
    "for c in X_category:\n",
    "    X_test_lgb[c] = X_test_lgb[c].astype('category')\n",
    "\n",
    "predict_lgb = model_lgb.predict(X_test_lgb)\n",
    "rmse_lgb = mean_squared_error(y_test, predict_lgb) ** 0.5\n",
    "\n",
    "end_time = time.time()\n",
    "time_tst = end_time - start_time\n",
    "print('RMSE модели LGBM', rmse_lgb)"
   ]
  },
  {
   "cell_type": "code",
   "execution_count": 49,
   "metadata": {},
   "outputs": [],
   "source": [
    "rmse.append(rmse_lgb)\n",
    "time_train.append(time_trn)\n",
    "time_test.append(time_tst)\n",
    "model_name.append('LightGBM')"
   ]
  },
  {
   "cell_type": "markdown",
   "metadata": {},
   "source": [
    "LightGBM показывает результаты по метрике RMSE и времени обучения лучше, чем CatBoost."
   ]
  },
  {
   "cell_type": "markdown",
   "metadata": {},
   "source": [
    "### LinearRegression"
   ]
  },
  {
   "cell_type": "code",
   "execution_count": 50,
   "metadata": {},
   "outputs": [],
   "source": [
    "# преобразуем категориальные признаки в численные с помощью техники прямого кодирования\n",
    "# датасет будем снова разбивать на обучающую и тестовую выборки, иначе технология OHE не сработает на уже полученных выборках\n",
    "df_lnr = pd.get_dummies(df, drop_first=True)\n",
    "# выделим целевой признак\n",
    "# остальные признаки сохраним в отдельную выборку\n",
    "# разобъем наши признаки на обучающие и тестовые \n",
    "X_train_2, X_test_2, y_train_2, y_test_2 = train_test_split(\n",
    "    df_lnr.drop('price', axis=1), df_lnr.price, test_size=0.25, random_state=random_state)"
   ]
  },
  {
   "cell_type": "code",
   "execution_count": 51,
   "metadata": {},
   "outputs": [
    {
     "name": "stdout",
     "output_type": "stream",
     "text": [
      "CPU times: user 16.7 s, sys: 5.53 s, total: 22.2 s\n",
      "Wall time: 22.4 s\n"
     ]
    }
   ],
   "source": [
    "%%time\n",
    "start_time = time.time()\n",
    "\n",
    "model_lnr = LinearRegression()\n",
    "model_lnr.fit(X_train_2, y_train_2)\n",
    "\n",
    "end_time = time.time()\n",
    "time_trn = end_time - start_time"
   ]
  },
  {
   "cell_type": "code",
   "execution_count": 52,
   "metadata": {},
   "outputs": [
    {
     "name": "stdout",
     "output_type": "stream",
     "text": [
      "RMSE модели LinearRegression: 2726.6225919819253\n",
      "CPU times: user 127 ms, sys: 207 ms, total: 334 ms\n",
      "Wall time: 296 ms\n"
     ]
    }
   ],
   "source": [
    "%%time\n",
    "start_time = time.time()\n",
    "\n",
    "predict_lnr = model_lnr.predict(X_test_2)\n",
    "rmse_lnr = mean_squared_error(y_test_2, predict_lnr) ** 0.5\n",
    "\n",
    "end_time = time.time()\n",
    "time_tst = end_time - start_time\n",
    "\n",
    "print('RMSE модели LinearRegression:', rmse_lnr)"
   ]
  },
  {
   "cell_type": "code",
   "execution_count": 53,
   "metadata": {},
   "outputs": [],
   "source": [
    "rmse.append(rmse_lnr)\n",
    "time_train.append(time_trn)\n",
    "time_test.append(time_tst)\n",
    "model_name.append('LinearRegression')"
   ]
  },
  {
   "cell_type": "markdown",
   "metadata": {},
   "source": [
    "LinearRegression показывает результаты по метрике RMSE хуже пороговых 2500."
   ]
  },
  {
   "cell_type": "markdown",
   "metadata": {},
   "source": [
    "## Анализ моделей"
   ]
  },
  {
   "cell_type": "markdown",
   "metadata": {},
   "source": [
    "По каждой модели мы сохранили три метрики, преобразуем наши списки в датафрейм."
   ]
  },
  {
   "cell_type": "code",
   "execution_count": 62,
   "metadata": {},
   "outputs": [
    {
     "data": {
      "text/html": [
       "<style  type=\"text/css\" >\n",
       "#T_00da1_row0_col3,#T_00da1_row1_col2,#T_00da1_row2_col1,#T_00da1_row2_col4{\n",
       "            background-color:  green;\n",
       "        }</style><table id=\"T_00da1_\" ><thead>    <tr>        <th class=\"blank level0\" ></th>        <th class=\"col_heading level0 col0\" >model_name</th>        <th class=\"col_heading level0 col1\" >time_train, sec</th>        <th class=\"col_heading level0 col2\" >time_test, sec</th>        <th class=\"col_heading level0 col3\" >rmse</th>        <th class=\"col_heading level0 col4\" >total_time</th>    </tr></thead><tbody>\n",
       "                <tr>\n",
       "                        <th id=\"T_00da1_level0_row0\" class=\"row_heading level0 row0\" >0</th>\n",
       "                        <td id=\"T_00da1_row0_col0\" class=\"data row0 col0\" >LightGBM</td>\n",
       "                        <td id=\"T_00da1_row0_col1\" class=\"data row0 col1\" >43.988050</td>\n",
       "                        <td id=\"T_00da1_row0_col2\" class=\"data row0 col2\" >11.863910</td>\n",
       "                        <td id=\"T_00da1_row0_col3\" class=\"data row0 col3\" >1590.636640</td>\n",
       "                        <td id=\"T_00da1_row0_col4\" class=\"data row0 col4\" >55.851959</td>\n",
       "            </tr>\n",
       "            <tr>\n",
       "                        <th id=\"T_00da1_level0_row1\" class=\"row_heading level0 row1\" >1</th>\n",
       "                        <td id=\"T_00da1_row1_col0\" class=\"data row1 col0\" >CatBoostRegressor</td>\n",
       "                        <td id=\"T_00da1_row1_col1\" class=\"data row1 col1\" >35.265799</td>\n",
       "                        <td id=\"T_00da1_row1_col2\" class=\"data row1 col2\" >0.164829</td>\n",
       "                        <td id=\"T_00da1_row1_col3\" class=\"data row1 col3\" >1639.083256</td>\n",
       "                        <td id=\"T_00da1_row1_col4\" class=\"data row1 col4\" >35.430628</td>\n",
       "            </tr>\n",
       "            <tr>\n",
       "                        <th id=\"T_00da1_level0_row2\" class=\"row_heading level0 row2\" >2</th>\n",
       "                        <td id=\"T_00da1_row2_col0\" class=\"data row2 col0\" >LinearRegression</td>\n",
       "                        <td id=\"T_00da1_row2_col1\" class=\"data row2 col1\" >22.377592</td>\n",
       "                        <td id=\"T_00da1_row2_col2\" class=\"data row2 col2\" >0.294725</td>\n",
       "                        <td id=\"T_00da1_row2_col3\" class=\"data row2 col3\" >2726.622592</td>\n",
       "                        <td id=\"T_00da1_row2_col4\" class=\"data row2 col4\" >22.672318</td>\n",
       "            </tr>\n",
       "    </tbody></table>"
      ],
      "text/plain": [
       "<pandas.io.formats.style.Styler at 0x7fa0b4937be0>"
      ]
     },
     "execution_count": 62,
     "metadata": {},
     "output_type": "execute_result"
    }
   ],
   "source": [
    "stat = pd.DataFrame({'model_name': model_name, 'time_train, sec': time_train,\n",
    "      'time_test, sec': time_test , 'rmse': rmse}\n",
    "    ).sort_values(by='rmse').reset_index(drop=True)\n",
    "stat['total_time'] = stat['time_test, sec'] + stat['time_train, sec']\n",
    "# выделим лучшие значения\n",
    "(\n",
    "    stat.style.highlight_min(['rmse', 'time_train, sec', 'time_test, sec', 'total_time'], color='green', axis = 0)\n",
    ")"
   ]
  },
  {
   "cell_type": "markdown",
   "metadata": {},
   "source": [
    "Самые лучшие результаты по скорости обучения и предсказаний у модели LinearRegression, но с самым худшим RMSE.\n",
    "RMSE лучше у LightGBM и по времени данная модель занимает 3 место.\n",
    "CatBoostRegressor после подбора параметров обучается быстрее LightGBM, показатель RMSE на 3% хуже, чем у LightGBM."
   ]
  },
  {
   "cell_type": "markdown",
   "metadata": {},
   "source": [
    "Проверим важность признаков на двух моделях CatBoostRegressor и LightGBM."
   ]
  },
  {
   "cell_type": "code",
   "execution_count": 55,
   "metadata": {},
   "outputs": [
    {
     "data": {
      "image/png": "[encoded data removed]",
      "text/plain": [
       "<Figure size 432x432 with 1 Axes>"
      ]
     },
     "metadata": {
      "needs_background": "light"
     },
     "output_type": "display_data"
    }
   ],
   "source": [
    "# важность признаков CatBoostRegressor\n",
    "(pd.DataFrame(data={'score': model_cbr.feature_importances_}, \n",
    "                      index=X_train.columns).sort_values(by='score')\n",
    "                                         .plot(kind='barh', grid=True,\n",
    "                                               figsize=(6,6), legend=False))\n",
    "plt.show;"
   ]
  },
  {
   "cell_type": "markdown",
   "metadata": {},
   "source": [
    "Для модели CatBoostRegressor самым важным признаком оказался год регистрации, далее в рейтинге мощность авто и марка авто."
   ]
  },
  {
   "cell_type": "code",
   "execution_count": 56,
   "metadata": {},
   "outputs": [
    {
     "data": {
      "image/png": "[encoded data removed]",
      "text/plain": [
       "<Figure size 864x360 with 1 Axes>"
      ]
     },
     "metadata": {
      "needs_background": "light"
     },
     "output_type": "display_data"
    }
   ],
   "source": [
    "# важность признаков LightGBM\n",
    "lgb.plot_importance(model_lgb, figsize = (12, 5))\n",
    "plt.show()"
   ]
  },
  {
   "cell_type": "markdown",
   "metadata": {},
   "source": [
    "Для модели LightGBM самыми важными признаками являются так же год регистрации и мощность авто, причем эти два признака для модели примерно одинаковы по важности."
   ]
  },
  {
   "cell_type": "markdown",
   "metadata": {},
   "source": [
    "Таким образом для обеих моделей имеем два важных признака, возможно стоит попробовать категоризовать поля registration_year и power, т.е. исходя из диапозонов дать им категории и первоначальные признаки удалить, перед обучением модели.  \n",
    "\n",
    "Исходя из всех параметров и выбирая баланс, я бы рекомендовала CatBoostRegressor, по скорости он быстрее, а в качестве теряет 3%."
   ]
  },
  {
   "cell_type": "markdown",
   "metadata": {},
   "source": [
    "## Вывод\n",
    "\n",
    "В задаче были важны три показателя качество предсказания, время обучения, скорость предсказания.  \n",
    "\n",
    "Самое высокое качество дала модель LightGBM (RMSE = 1590,6), время обучения 44 сек., предсказания 12 сек..\n",
    "Самые высокие скорости обучения и предсказания дала модель линейной регрессии, но ее качество превысило отметку 2500.\n",
    "Важно учитывать совокупность факторов и для поставленной задачи подходит модель CatBoostRegressor, по скорости он быстрее LightGBM, а в качестве теряет 3%.\n",
    "У модели LightGBM самыми важными признаками являются год регистрации и мощность авто. Возможно стоит попробовать категоризовать поля registration_year и power, т.е. исходя из диапозонов значений дать им категории и первоначальные признаки удалить, перед обучением модели."
   ]
  },
  {
   "attachments": {
    "image.png": {
     "image/png": "[encoded data removed]"
    }
   },
   "cell_type": "markdown",
   "metadata": {},
   "source": [
    "![image.png](attachment:image.png)"
   ]
  }
 ],
 "metadata": {
  "ExecuteTimeLog": [
   {
    "duration": 1507,
    "start_time": "2022-08-09T06:55:35.051Z"
   },
   {
    "duration": 26,
    "start_time": "2022-08-09T06:58:36.910Z"
   },
   {
    "duration": 1233,
    "start_time": "2022-08-09T07:00:50.612Z"
   },
   {
    "duration": 755,
    "start_time": "2022-08-09T07:00:59.221Z"
   },
   {
    "duration": 788,
    "start_time": "2022-08-09T07:01:03.323Z"
   },
   {
    "duration": 837,
    "start_time": "2022-08-09T07:01:23.385Z"
   },
   {
    "duration": 4,
    "start_time": "2022-08-09T07:02:36.379Z"
   },
   {
    "duration": 112,
    "start_time": "2022-08-09T07:02:45.098Z"
   },
   {
    "duration": 4,
    "start_time": "2022-08-09T07:02:48.418Z"
   },
   {
    "duration": 5,
    "start_time": "2022-08-09T07:02:52.907Z"
   },
   {
    "duration": 127,
    "start_time": "2022-08-09T07:03:00.147Z"
   },
   {
    "duration": 825,
    "start_time": "2022-08-09T07:05:12.442Z"
   },
   {
    "duration": 731,
    "start_time": "2022-08-09T07:05:17.922Z"
   },
   {
    "duration": 8,
    "start_time": "2022-08-09T07:07:25.577Z"
   },
   {
    "duration": 90,
    "start_time": "2022-08-09T07:07:29.192Z"
   },
   {
    "duration": 116,
    "start_time": "2022-08-09T07:08:11.584Z"
   },
   {
    "duration": 118,
    "start_time": "2022-08-09T07:08:32.070Z"
   },
   {
    "duration": 141,
    "start_time": "2022-08-09T07:08:41.432Z"
   },
   {
    "duration": 148,
    "start_time": "2022-08-09T07:08:45.612Z"
   },
   {
    "duration": 148,
    "start_time": "2022-08-09T07:08:54.023Z"
   },
   {
    "duration": 53,
    "start_time": "2022-08-09T07:09:21.286Z"
   },
   {
    "duration": 35,
    "start_time": "2022-08-09T07:09:23.942Z"
   },
   {
    "duration": 111,
    "start_time": "2022-08-09T07:09:34.896Z"
   },
   {
    "duration": 101,
    "start_time": "2022-08-09T07:12:02.133Z"
   },
   {
    "duration": 5,
    "start_time": "2022-08-09T07:12:24.732Z"
   },
   {
    "duration": 103,
    "start_time": "2022-08-09T07:12:38.653Z"
   },
   {
    "duration": 208,
    "start_time": "2022-08-09T07:13:01.693Z"
   },
   {
    "duration": 205,
    "start_time": "2022-08-09T07:13:18.132Z"
   },
   {
    "duration": 60,
    "start_time": "2022-08-09T07:13:39.492Z"
   },
   {
    "duration": 208,
    "start_time": "2022-08-09T07:13:46.820Z"
   },
   {
    "duration": 210,
    "start_time": "2022-08-09T07:14:01.708Z"
   },
   {
    "duration": 150,
    "start_time": "2022-08-09T07:16:15.163Z"
   },
   {
    "duration": 110,
    "start_time": "2022-08-09T07:16:20.063Z"
   },
   {
    "duration": 211,
    "start_time": "2022-08-09T07:16:32.730Z"
   },
   {
    "duration": 5,
    "start_time": "2022-08-09T07:17:03.378Z"
   },
   {
    "duration": 117,
    "start_time": "2022-08-09T07:17:04.794Z"
   },
   {
    "duration": 205,
    "start_time": "2022-08-09T07:17:07.594Z"
   },
   {
    "duration": 12,
    "start_time": "2022-08-09T07:17:09.467Z"
   },
   {
    "duration": 40,
    "start_time": "2022-08-09T07:17:20.008Z"
   },
   {
    "duration": 33,
    "start_time": "2022-08-09T07:17:28.674Z"
   },
   {
    "duration": 47,
    "start_time": "2022-08-09T07:26:37.366Z"
   },
   {
    "duration": 151,
    "start_time": "2022-08-09T07:32:04.522Z"
   },
   {
    "duration": 131,
    "start_time": "2022-08-09T07:32:18.497Z"
   },
   {
    "duration": 191,
    "start_time": "2022-08-09T07:32:30.744Z"
   },
   {
    "duration": 1456,
    "start_time": "2022-08-09T07:43:21.618Z"
   },
   {
    "duration": 780,
    "start_time": "2022-08-09T07:43:23.076Z"
   },
   {
    "duration": 5,
    "start_time": "2022-08-09T07:43:23.857Z"
   },
   {
    "duration": 119,
    "start_time": "2022-08-09T07:43:23.863Z"
   },
   {
    "duration": 238,
    "start_time": "2022-08-09T07:43:23.984Z"
   },
   {
    "duration": 2,
    "start_time": "2022-08-09T07:43:24.224Z"
   },
   {
    "duration": 47,
    "start_time": "2022-08-09T07:43:49.262Z"
   },
   {
    "duration": 45,
    "start_time": "2022-08-09T07:43:54.362Z"
   },
   {
    "duration": 19,
    "start_time": "2022-08-09T07:44:27.421Z"
   },
   {
    "duration": 22,
    "start_time": "2022-08-09T07:44:53.236Z"
   },
   {
    "duration": 278,
    "start_time": "2022-08-09T07:44:58.469Z"
   },
   {
    "duration": 221,
    "start_time": "2022-08-09T07:45:23.236Z"
   },
   {
    "duration": 127,
    "start_time": "2022-08-09T07:49:55.207Z"
   },
   {
    "duration": 9,
    "start_time": "2022-08-09T07:49:59.082Z"
   },
   {
    "duration": 10,
    "start_time": "2022-08-09T07:50:06.810Z"
   },
   {
    "duration": 338,
    "start_time": "2022-08-09T07:50:11.663Z"
   },
   {
    "duration": 330,
    "start_time": "2022-08-09T07:50:15.914Z"
   },
   {
    "duration": 954,
    "start_time": "2022-08-09T07:50:54.267Z"
   },
   {
    "duration": 1711,
    "start_time": "2022-08-09T07:51:04.050Z"
   },
   {
    "duration": 740,
    "start_time": "2022-08-09T07:51:14.090Z"
   },
   {
    "duration": 738,
    "start_time": "2022-08-09T07:51:40.130Z"
   },
   {
    "duration": 732,
    "start_time": "2022-08-09T07:52:20.715Z"
   },
   {
    "duration": 668,
    "start_time": "2022-08-09T07:52:41.113Z"
   },
   {
    "duration": 17,
    "start_time": "2022-08-09T07:53:37.983Z"
   },
   {
    "duration": 17,
    "start_time": "2022-08-09T07:53:53.130Z"
   },
   {
    "duration": 18,
    "start_time": "2022-08-09T07:54:28.175Z"
   },
   {
    "duration": 98,
    "start_time": "2022-08-09T07:54:31.713Z"
   },
   {
    "duration": 17,
    "start_time": "2022-08-09T07:55:13.565Z"
   },
   {
    "duration": 16,
    "start_time": "2022-08-09T07:55:19.265Z"
   },
   {
    "duration": 101,
    "start_time": "2022-08-09T07:55:27.110Z"
   },
   {
    "duration": 22,
    "start_time": "2022-08-09T07:55:31.990Z"
   },
   {
    "duration": 21,
    "start_time": "2022-08-09T07:55:43.791Z"
   },
   {
    "duration": 23,
    "start_time": "2022-08-09T07:55:49.910Z"
   },
   {
    "duration": 23,
    "start_time": "2022-08-09T07:55:58.952Z"
   },
   {
    "duration": 23,
    "start_time": "2022-08-09T07:56:04.222Z"
   },
   {
    "duration": 18,
    "start_time": "2022-08-09T07:56:20.030Z"
   },
   {
    "duration": 22,
    "start_time": "2022-08-09T07:56:44.680Z"
   },
   {
    "duration": 9,
    "start_time": "2022-08-09T07:58:55.965Z"
   },
   {
    "duration": 430,
    "start_time": "2022-08-09T08:00:22.331Z"
   },
   {
    "duration": 3,
    "start_time": "2022-08-09T09:32:00.600Z"
   },
   {
    "duration": 10,
    "start_time": "2022-08-09T09:34:32.981Z"
   },
   {
    "duration": 109,
    "start_time": "2022-08-09T09:34:39.852Z"
   },
   {
    "duration": 15,
    "start_time": "2022-08-09T09:35:00.476Z"
   },
   {
    "duration": 6,
    "start_time": "2022-08-09T09:35:39.268Z"
   },
   {
    "duration": 73,
    "start_time": "2022-08-09T09:36:45.315Z"
   },
   {
    "duration": 75,
    "start_time": "2022-08-09T09:37:40.045Z"
   },
   {
    "duration": 31,
    "start_time": "2022-08-09T09:39:30.458Z"
   },
   {
    "duration": 9,
    "start_time": "2022-08-09T09:41:59.403Z"
   },
   {
    "duration": 48,
    "start_time": "2022-08-09T09:42:05.944Z"
   },
   {
    "duration": 501,
    "start_time": "2022-08-09T09:43:38.113Z"
   },
   {
    "duration": 503,
    "start_time": "2022-08-09T09:43:45.846Z"
   },
   {
    "duration": 486,
    "start_time": "2022-08-09T09:44:33.462Z"
   },
   {
    "duration": 34,
    "start_time": "2022-08-09T09:47:05.422Z"
   },
   {
    "duration": 408,
    "start_time": "2022-08-09T09:47:28.669Z"
   },
   {
    "duration": 360,
    "start_time": "2022-08-09T09:47:38.508Z"
   },
   {
    "duration": 23,
    "start_time": "2022-08-09T09:51:47.273Z"
   },
   {
    "duration": 21,
    "start_time": "2022-08-09T09:52:35.529Z"
   },
   {
    "duration": 15,
    "start_time": "2022-08-09T09:52:42.345Z"
   },
   {
    "duration": 18,
    "start_time": "2022-08-09T09:52:46.090Z"
   },
   {
    "duration": 22,
    "start_time": "2022-08-09T09:53:00.329Z"
   },
   {
    "duration": 23,
    "start_time": "2022-08-09T09:53:09.379Z"
   },
   {
    "duration": 23,
    "start_time": "2022-08-09T09:53:15.929Z"
   },
   {
    "duration": 4,
    "start_time": "2022-08-09T09:54:04.912Z"
   },
   {
    "duration": 28,
    "start_time": "2022-08-09T09:54:10.849Z"
   },
   {
    "duration": 762,
    "start_time": "2022-08-09T09:56:02.760Z"
   },
   {
    "duration": 38,
    "start_time": "2022-08-09T09:56:24.455Z"
   },
   {
    "duration": 695,
    "start_time": "2022-08-09T09:57:03.678Z"
   },
   {
    "duration": 715,
    "start_time": "2022-08-09T09:57:18.965Z"
   },
   {
    "duration": 26,
    "start_time": "2022-08-09T09:57:22.841Z"
   },
   {
    "duration": 26,
    "start_time": "2022-08-09T09:57:26.422Z"
   },
   {
    "duration": 56,
    "start_time": "2022-08-09T09:58:48.487Z"
   },
   {
    "duration": 0,
    "start_time": "2022-08-09T09:58:48.545Z"
   },
   {
    "duration": 0,
    "start_time": "2022-08-09T09:58:48.546Z"
   },
   {
    "duration": 0,
    "start_time": "2022-08-09T09:58:48.547Z"
   },
   {
    "duration": 0,
    "start_time": "2022-08-09T09:58:48.548Z"
   },
   {
    "duration": 0,
    "start_time": "2022-08-09T09:58:48.550Z"
   },
   {
    "duration": 0,
    "start_time": "2022-08-09T09:58:48.551Z"
   },
   {
    "duration": 0,
    "start_time": "2022-08-09T09:58:48.552Z"
   },
   {
    "duration": 0,
    "start_time": "2022-08-09T09:58:48.553Z"
   },
   {
    "duration": 0,
    "start_time": "2022-08-09T09:58:48.554Z"
   },
   {
    "duration": 0,
    "start_time": "2022-08-09T09:58:48.554Z"
   },
   {
    "duration": 0,
    "start_time": "2022-08-09T09:58:48.556Z"
   },
   {
    "duration": 0,
    "start_time": "2022-08-09T09:58:48.557Z"
   },
   {
    "duration": 0,
    "start_time": "2022-08-09T09:58:48.558Z"
   },
   {
    "duration": 0,
    "start_time": "2022-08-09T09:58:48.560Z"
   },
   {
    "duration": 0,
    "start_time": "2022-08-09T09:58:48.560Z"
   },
   {
    "duration": 0,
    "start_time": "2022-08-09T09:58:48.562Z"
   },
   {
    "duration": 0,
    "start_time": "2022-08-09T09:58:48.563Z"
   },
   {
    "duration": 1453,
    "start_time": "2022-08-09T09:59:18.164Z"
   },
   {
    "duration": 1541,
    "start_time": "2022-08-09T09:59:19.620Z"
   },
   {
    "duration": 8,
    "start_time": "2022-08-09T09:59:21.162Z"
   },
   {
    "duration": 115,
    "start_time": "2022-08-09T09:59:21.171Z"
   },
   {
    "duration": 225,
    "start_time": "2022-08-09T09:59:21.289Z"
   },
   {
    "duration": 20,
    "start_time": "2022-08-09T09:59:21.516Z"
   },
   {
    "duration": 27,
    "start_time": "2022-08-09T09:59:21.538Z"
   },
   {
    "duration": 274,
    "start_time": "2022-08-09T09:59:21.567Z"
   },
   {
    "duration": 695,
    "start_time": "2022-08-09T09:59:21.843Z"
   },
   {
    "duration": 512,
    "start_time": "2022-08-09T09:59:22.541Z"
   },
   {
    "duration": 82,
    "start_time": "2022-08-09T09:59:23.055Z"
   },
   {
    "duration": 33,
    "start_time": "2022-08-09T09:59:23.139Z"
   },
   {
    "duration": 510,
    "start_time": "2022-08-09T09:59:23.173Z"
   },
   {
    "duration": 45,
    "start_time": "2022-08-09T09:59:23.686Z"
   },
   {
    "duration": 392,
    "start_time": "2022-08-09T09:59:23.733Z"
   },
   {
    "duration": 105,
    "start_time": "2022-08-09T09:59:24.127Z"
   },
   {
    "duration": 116,
    "start_time": "2022-08-09T09:59:24.233Z"
   },
   {
    "duration": 4,
    "start_time": "2022-08-09T09:59:24.351Z"
   },
   {
    "duration": 163,
    "start_time": "2022-08-09T10:02:28.927Z"
   },
   {
    "duration": 350,
    "start_time": "2022-08-09T10:02:33.111Z"
   },
   {
    "duration": 334,
    "start_time": "2022-08-09T10:02:59.015Z"
   },
   {
    "duration": 486,
    "start_time": "2022-08-09T10:03:12.661Z"
   },
   {
    "duration": 341,
    "start_time": "2022-08-09T10:03:16.734Z"
   },
   {
    "duration": 346,
    "start_time": "2022-08-09T10:03:25.205Z"
   },
   {
    "duration": 443,
    "start_time": "2022-08-09T10:03:41.711Z"
   },
   {
    "duration": 338,
    "start_time": "2022-08-09T10:04:44.077Z"
   },
   {
    "duration": 341,
    "start_time": "2022-08-09T10:05:05.732Z"
   },
   {
    "duration": 349,
    "start_time": "2022-08-09T10:05:15.260Z"
   },
   {
    "duration": 27,
    "start_time": "2022-08-09T10:06:37.333Z"
   },
   {
    "duration": 8,
    "start_time": "2022-08-09T10:06:58.382Z"
   },
   {
    "duration": 4,
    "start_time": "2022-08-09T10:07:01.427Z"
   },
   {
    "duration": 17,
    "start_time": "2022-08-09T10:11:05.833Z"
   },
   {
    "duration": 13,
    "start_time": "2022-08-09T10:11:18.543Z"
   },
   {
    "duration": 931,
    "start_time": "2022-08-09T10:12:46.943Z"
   },
   {
    "duration": 4,
    "start_time": "2022-08-09T10:16:16.430Z"
   },
   {
    "duration": 1471,
    "start_time": "2022-08-09T10:16:16.864Z"
   },
   {
    "duration": 7,
    "start_time": "2022-08-09T10:16:18.837Z"
   },
   {
    "duration": 117,
    "start_time": "2022-08-09T10:16:19.604Z"
   },
   {
    "duration": 217,
    "start_time": "2022-08-09T10:16:23.285Z"
   },
   {
    "duration": 29,
    "start_time": "2022-08-09T10:16:35.773Z"
   },
   {
    "duration": 21,
    "start_time": "2022-08-09T10:16:42.269Z"
   },
   {
    "duration": 233,
    "start_time": "2022-08-09T10:16:44.733Z"
   },
   {
    "duration": 595,
    "start_time": "2022-08-09T10:16:49.141Z"
   },
   {
    "duration": 360,
    "start_time": "2022-08-09T10:16:51.814Z"
   },
   {
    "duration": 72,
    "start_time": "2022-08-09T10:16:53.805Z"
   },
   {
    "duration": 32,
    "start_time": "2022-08-09T10:17:01.718Z"
   },
   {
    "duration": 479,
    "start_time": "2022-08-09T10:17:04.876Z"
   },
   {
    "duration": 32,
    "start_time": "2022-08-09T10:17:13.204Z"
   },
   {
    "duration": 360,
    "start_time": "2022-08-09T10:17:21.668Z"
   },
   {
    "duration": 459,
    "start_time": "2022-08-09T10:17:24.211Z"
   },
   {
    "duration": 1127,
    "start_time": "2022-08-09T10:17:31.471Z"
   },
   {
    "duration": 4,
    "start_time": "2022-08-09T10:17:50.668Z"
   },
   {
    "duration": 180,
    "start_time": "2022-08-09T10:21:59.185Z"
   },
   {
    "duration": 206,
    "start_time": "2022-08-09T10:22:04.770Z"
   },
   {
    "duration": 3,
    "start_time": "2022-08-09T10:23:57.201Z"
   },
   {
    "duration": 1340,
    "start_time": "2022-08-09T10:23:57.576Z"
   },
   {
    "duration": 5,
    "start_time": "2022-08-09T10:23:58.918Z"
   },
   {
    "duration": 124,
    "start_time": "2022-08-09T10:24:00.313Z"
   },
   {
    "duration": 247,
    "start_time": "2022-08-09T10:24:04.345Z"
   },
   {
    "duration": 12,
    "start_time": "2022-08-09T10:25:32.008Z"
   },
   {
    "duration": 93,
    "start_time": "2022-08-09T10:25:41.160Z"
   },
   {
    "duration": 3,
    "start_time": "2022-08-09T10:25:52.977Z"
   },
   {
    "duration": 1373,
    "start_time": "2022-08-09T10:25:53.359Z"
   },
   {
    "duration": 5,
    "start_time": "2022-08-09T10:25:54.734Z"
   },
   {
    "duration": 115,
    "start_time": "2022-08-09T10:25:54.749Z"
   },
   {
    "duration": 204,
    "start_time": "2022-08-09T10:25:57.300Z"
   },
   {
    "duration": 93,
    "start_time": "2022-08-09T10:26:04.870Z"
   },
   {
    "duration": 235,
    "start_time": "2022-08-09T10:26:06.415Z"
   },
   {
    "duration": 690,
    "start_time": "2022-08-09T10:27:24.231Z"
   },
   {
    "duration": 427,
    "start_time": "2022-08-09T10:27:35.103Z"
   },
   {
    "duration": 86,
    "start_time": "2022-08-09T10:27:38.607Z"
   },
   {
    "duration": 41,
    "start_time": "2022-08-09T10:31:26.778Z"
   },
   {
    "duration": 128,
    "start_time": "2022-08-09T10:31:39.231Z"
   },
   {
    "duration": 132,
    "start_time": "2022-08-09T10:31:58.140Z"
   },
   {
    "duration": 1360,
    "start_time": "2022-08-09T10:32:05.597Z"
   },
   {
    "duration": 1482,
    "start_time": "2022-08-09T10:32:06.959Z"
   },
   {
    "duration": 6,
    "start_time": "2022-08-09T10:32:08.442Z"
   },
   {
    "duration": 107,
    "start_time": "2022-08-09T10:32:08.450Z"
   },
   {
    "duration": 56,
    "start_time": "2022-08-09T10:32:08.559Z"
   },
   {
    "duration": 145,
    "start_time": "2022-08-09T10:32:08.617Z"
   },
   {
    "duration": 116,
    "start_time": "2022-08-09T10:32:08.764Z"
   },
   {
    "duration": 165,
    "start_time": "2022-08-09T10:32:08.881Z"
   },
   {
    "duration": 348,
    "start_time": "2022-08-09T10:32:09.048Z"
   },
   {
    "duration": 214,
    "start_time": "2022-08-09T10:32:09.397Z"
   },
   {
    "duration": 63,
    "start_time": "2022-08-09T10:32:09.612Z"
   },
   {
    "duration": 126,
    "start_time": "2022-08-09T10:32:09.677Z"
   },
   {
    "duration": 0,
    "start_time": "2022-08-09T10:32:09.805Z"
   },
   {
    "duration": 0,
    "start_time": "2022-08-09T10:32:09.810Z"
   },
   {
    "duration": 0,
    "start_time": "2022-08-09T10:32:09.811Z"
   },
   {
    "duration": 0,
    "start_time": "2022-08-09T10:32:09.812Z"
   },
   {
    "duration": 0,
    "start_time": "2022-08-09T10:32:09.813Z"
   },
   {
    "duration": 0,
    "start_time": "2022-08-09T10:32:09.814Z"
   },
   {
    "duration": 0,
    "start_time": "2022-08-09T10:32:09.814Z"
   },
   {
    "duration": 172,
    "start_time": "2022-08-09T10:33:52.399Z"
   },
   {
    "duration": 65,
    "start_time": "2022-08-09T10:33:58.631Z"
   },
   {
    "duration": 389,
    "start_time": "2022-08-09T10:34:17.678Z"
   },
   {
    "duration": 1282,
    "start_time": "2022-08-09T10:34:55.371Z"
   },
   {
    "duration": 1546,
    "start_time": "2022-08-09T10:34:56.655Z"
   },
   {
    "duration": 7,
    "start_time": "2022-08-09T10:34:58.203Z"
   },
   {
    "duration": 117,
    "start_time": "2022-08-09T10:34:58.212Z"
   },
   {
    "duration": 53,
    "start_time": "2022-08-09T10:34:58.331Z"
   },
   {
    "duration": 154,
    "start_time": "2022-08-09T10:34:58.385Z"
   },
   {
    "duration": 125,
    "start_time": "2022-08-09T10:34:58.540Z"
   },
   {
    "duration": 166,
    "start_time": "2022-08-09T10:34:58.667Z"
   },
   {
    "duration": 181,
    "start_time": "2022-08-09T10:34:58.834Z"
   },
   {
    "duration": 210,
    "start_time": "2022-08-09T10:34:59.018Z"
   },
   {
    "duration": 66,
    "start_time": "2022-08-09T10:34:59.229Z"
   },
   {
    "duration": 381,
    "start_time": "2022-08-09T10:34:59.297Z"
   },
   {
    "duration": 32,
    "start_time": "2022-08-09T10:34:59.679Z"
   },
   {
    "duration": 402,
    "start_time": "2022-08-09T10:34:59.713Z"
   },
   {
    "duration": 405,
    "start_time": "2022-08-09T10:35:00.116Z"
   },
   {
    "duration": 4,
    "start_time": "2022-08-09T10:35:00.522Z"
   },
   {
    "duration": 129,
    "start_time": "2022-08-09T10:35:00.527Z"
   },
   {
    "duration": 4,
    "start_time": "2022-08-09T10:35:00.658Z"
   },
   {
    "duration": 1026,
    "start_time": "2022-08-09T10:36:22.817Z"
   },
   {
    "duration": 54,
    "start_time": "2022-08-09T10:36:41.201Z"
   },
   {
    "duration": 3,
    "start_time": "2022-08-09T10:37:01.709Z"
   },
   {
    "duration": 1480,
    "start_time": "2022-08-09T10:37:01.714Z"
   },
   {
    "duration": 5,
    "start_time": "2022-08-09T10:37:03.195Z"
   },
   {
    "duration": 110,
    "start_time": "2022-08-09T10:37:03.202Z"
   },
   {
    "duration": 41,
    "start_time": "2022-08-09T10:37:03.313Z"
   },
   {
    "duration": 158,
    "start_time": "2022-08-09T10:37:03.356Z"
   },
   {
    "duration": 100,
    "start_time": "2022-08-09T10:37:03.515Z"
   },
   {
    "duration": 157,
    "start_time": "2022-08-09T10:37:03.616Z"
   },
   {
    "duration": 163,
    "start_time": "2022-08-09T10:37:03.775Z"
   },
   {
    "duration": 203,
    "start_time": "2022-08-09T10:37:03.940Z"
   },
   {
    "duration": 72,
    "start_time": "2022-08-09T10:37:04.145Z"
   },
   {
    "duration": 568,
    "start_time": "2022-08-09T10:37:09.533Z"
   },
   {
    "duration": 344,
    "start_time": "2022-08-09T10:40:34.879Z"
   },
   {
    "duration": 459,
    "start_time": "2022-08-09T10:41:42.702Z"
   },
   {
    "duration": 329,
    "start_time": "2022-08-09T10:41:57.046Z"
   },
   {
    "duration": 15,
    "start_time": "2022-08-09T10:42:00.198Z"
   },
   {
    "duration": 127,
    "start_time": "2022-08-09T10:42:08.098Z"
   },
   {
    "duration": 630,
    "start_time": "2022-08-09T10:42:31.501Z"
   },
   {
    "duration": 727,
    "start_time": "2022-08-09T10:42:37.277Z"
   },
   {
    "duration": 138,
    "start_time": "2022-08-09T10:47:54.529Z"
   },
   {
    "duration": 120,
    "start_time": "2022-08-09T10:48:12.998Z"
   },
   {
    "duration": 114,
    "start_time": "2022-08-09T10:48:30.946Z"
   },
   {
    "duration": 4,
    "start_time": "2022-08-09T10:48:50.518Z"
   },
   {
    "duration": 1374,
    "start_time": "2022-08-09T10:48:50.523Z"
   },
   {
    "duration": 5,
    "start_time": "2022-08-09T10:48:51.899Z"
   },
   {
    "duration": 132,
    "start_time": "2022-08-09T10:48:51.906Z"
   },
   {
    "duration": 41,
    "start_time": "2022-08-09T10:48:52.040Z"
   },
   {
    "duration": 154,
    "start_time": "2022-08-09T10:48:52.083Z"
   },
   {
    "duration": 107,
    "start_time": "2022-08-09T10:48:52.239Z"
   },
   {
    "duration": 177,
    "start_time": "2022-08-09T10:48:52.348Z"
   },
   {
    "duration": 194,
    "start_time": "2022-08-09T10:48:52.529Z"
   },
   {
    "duration": 220,
    "start_time": "2022-08-09T10:48:52.725Z"
   },
   {
    "duration": 67,
    "start_time": "2022-08-09T10:48:52.947Z"
   },
   {
    "duration": 623,
    "start_time": "2022-08-09T10:48:53.015Z"
   },
   {
    "duration": 136,
    "start_time": "2022-08-09T10:48:58.346Z"
   },
   {
    "duration": 120,
    "start_time": "2022-08-09T10:49:13.953Z"
   },
   {
    "duration": 3,
    "start_time": "2022-08-09T10:49:24.819Z"
   },
   {
    "duration": 1413,
    "start_time": "2022-08-09T10:49:24.825Z"
   },
   {
    "duration": 6,
    "start_time": "2022-08-09T10:49:26.239Z"
   },
   {
    "duration": 113,
    "start_time": "2022-08-09T10:49:26.247Z"
   },
   {
    "duration": 51,
    "start_time": "2022-08-09T10:49:26.361Z"
   },
   {
    "duration": 144,
    "start_time": "2022-08-09T10:49:26.413Z"
   },
   {
    "duration": 102,
    "start_time": "2022-08-09T10:49:26.559Z"
   },
   {
    "duration": 160,
    "start_time": "2022-08-09T10:49:26.663Z"
   },
   {
    "duration": 163,
    "start_time": "2022-08-09T10:49:26.825Z"
   },
   {
    "duration": 188,
    "start_time": "2022-08-09T10:49:26.989Z"
   },
   {
    "duration": 70,
    "start_time": "2022-08-09T10:49:27.179Z"
   },
   {
    "duration": 626,
    "start_time": "2022-08-09T10:49:27.250Z"
   },
   {
    "duration": 144,
    "start_time": "2022-08-09T10:49:27.878Z"
   },
   {
    "duration": 121,
    "start_time": "2022-08-09T10:49:58.154Z"
   },
   {
    "duration": 4,
    "start_time": "2022-08-09T10:50:12.538Z"
   },
   {
    "duration": 1412,
    "start_time": "2022-08-09T10:50:12.544Z"
   },
   {
    "duration": 5,
    "start_time": "2022-08-09T10:50:13.957Z"
   },
   {
    "duration": 115,
    "start_time": "2022-08-09T10:50:13.964Z"
   },
   {
    "duration": 52,
    "start_time": "2022-08-09T10:50:14.081Z"
   },
   {
    "duration": 144,
    "start_time": "2022-08-09T10:50:14.134Z"
   },
   {
    "duration": 103,
    "start_time": "2022-08-09T10:50:14.280Z"
   },
   {
    "duration": 155,
    "start_time": "2022-08-09T10:50:14.384Z"
   },
   {
    "duration": 171,
    "start_time": "2022-08-09T10:50:14.541Z"
   },
   {
    "duration": 183,
    "start_time": "2022-08-09T10:50:14.714Z"
   },
   {
    "duration": 68,
    "start_time": "2022-08-09T10:50:14.898Z"
   },
   {
    "duration": 693,
    "start_time": "2022-08-09T10:50:14.967Z"
   },
   {
    "duration": 135,
    "start_time": "2022-08-09T10:50:25.624Z"
   },
   {
    "duration": 3,
    "start_time": "2022-08-09T10:50:36.946Z"
   },
   {
    "duration": 1394,
    "start_time": "2022-08-09T10:50:36.951Z"
   },
   {
    "duration": 5,
    "start_time": "2022-08-09T10:50:38.347Z"
   },
   {
    "duration": 113,
    "start_time": "2022-08-09T10:50:38.354Z"
   },
   {
    "duration": 46,
    "start_time": "2022-08-09T10:50:38.469Z"
   },
   {
    "duration": 144,
    "start_time": "2022-08-09T10:50:38.516Z"
   },
   {
    "duration": 99,
    "start_time": "2022-08-09T10:50:38.662Z"
   },
   {
    "duration": 155,
    "start_time": "2022-08-09T10:50:38.763Z"
   },
   {
    "duration": 163,
    "start_time": "2022-08-09T10:50:38.920Z"
   },
   {
    "duration": 188,
    "start_time": "2022-08-09T10:50:39.085Z"
   },
   {
    "duration": 67,
    "start_time": "2022-08-09T10:50:39.275Z"
   },
   {
    "duration": 624,
    "start_time": "2022-08-09T10:50:39.343Z"
   },
   {
    "duration": 4,
    "start_time": "2022-08-09T10:50:53.521Z"
   },
   {
    "duration": 1401,
    "start_time": "2022-08-09T10:50:53.527Z"
   },
   {
    "duration": 5,
    "start_time": "2022-08-09T10:50:54.930Z"
   },
   {
    "duration": 127,
    "start_time": "2022-08-09T10:50:54.937Z"
   },
   {
    "duration": 49,
    "start_time": "2022-08-09T10:50:55.066Z"
   },
   {
    "duration": 139,
    "start_time": "2022-08-09T10:50:55.117Z"
   },
   {
    "duration": 110,
    "start_time": "2022-08-09T10:50:55.258Z"
   },
   {
    "duration": 168,
    "start_time": "2022-08-09T10:50:55.369Z"
   },
   {
    "duration": 163,
    "start_time": "2022-08-09T10:50:55.539Z"
   },
   {
    "duration": 208,
    "start_time": "2022-08-09T10:50:55.703Z"
   },
   {
    "duration": 62,
    "start_time": "2022-08-09T10:50:55.913Z"
   },
   {
    "duration": 613,
    "start_time": "2022-08-09T10:50:55.977Z"
   },
   {
    "duration": 3,
    "start_time": "2022-08-09T10:51:13.419Z"
   },
   {
    "duration": 1411,
    "start_time": "2022-08-09T10:51:13.424Z"
   },
   {
    "duration": 5,
    "start_time": "2022-08-09T10:51:14.836Z"
   },
   {
    "duration": 127,
    "start_time": "2022-08-09T10:51:14.843Z"
   },
   {
    "duration": 51,
    "start_time": "2022-08-09T10:51:14.972Z"
   },
   {
    "duration": 141,
    "start_time": "2022-08-09T10:51:15.025Z"
   },
   {
    "duration": 115,
    "start_time": "2022-08-09T10:51:15.167Z"
   },
   {
    "duration": 157,
    "start_time": "2022-08-09T10:51:15.283Z"
   },
   {
    "duration": 158,
    "start_time": "2022-08-09T10:51:15.442Z"
   },
   {
    "duration": 216,
    "start_time": "2022-08-09T10:51:15.602Z"
   },
   {
    "duration": 147,
    "start_time": "2022-08-09T10:51:15.820Z"
   },
   {
    "duration": 623,
    "start_time": "2022-08-09T10:51:15.968Z"
   },
   {
    "duration": 143,
    "start_time": "2022-08-09T10:51:26.959Z"
   },
   {
    "duration": 120,
    "start_time": "2022-08-09T10:51:31.823Z"
   },
   {
    "duration": 262,
    "start_time": "2022-08-09T11:02:06.817Z"
   },
   {
    "duration": 1372,
    "start_time": "2022-08-09T11:02:34.779Z"
   },
   {
    "duration": 1544,
    "start_time": "2022-08-09T11:02:36.153Z"
   },
   {
    "duration": 6,
    "start_time": "2022-08-09T11:02:37.699Z"
   },
   {
    "duration": 120,
    "start_time": "2022-08-09T11:02:37.707Z"
   },
   {
    "duration": 54,
    "start_time": "2022-08-09T11:02:37.828Z"
   },
   {
    "duration": 155,
    "start_time": "2022-08-09T11:02:37.883Z"
   },
   {
    "duration": 118,
    "start_time": "2022-08-09T11:02:38.040Z"
   },
   {
    "duration": 166,
    "start_time": "2022-08-09T11:02:38.159Z"
   },
   {
    "duration": 191,
    "start_time": "2022-08-09T11:02:38.326Z"
   },
   {
    "duration": 212,
    "start_time": "2022-08-09T11:02:38.520Z"
   },
   {
    "duration": 63,
    "start_time": "2022-08-09T11:02:38.733Z"
   },
   {
    "duration": 640,
    "start_time": "2022-08-09T11:02:38.810Z"
   },
   {
    "duration": 244,
    "start_time": "2022-08-09T11:02:39.452Z"
   },
   {
    "duration": 286,
    "start_time": "2022-08-09T11:02:39.698Z"
   },
   {
    "duration": 5,
    "start_time": "2022-08-09T11:02:39.986Z"
   },
   {
    "duration": 21,
    "start_time": "2022-08-09T11:02:39.993Z"
   },
   {
    "duration": 22,
    "start_time": "2022-08-09T11:02:40.016Z"
   },
   {
    "duration": 4,
    "start_time": "2022-08-09T11:02:40.040Z"
   },
   {
    "duration": 10,
    "start_time": "2022-08-09T11:10:55.290Z"
   },
   {
    "duration": 1471,
    "start_time": "2022-08-09T11:13:38.772Z"
   },
   {
    "duration": 1510,
    "start_time": "2022-08-09T11:13:40.245Z"
   },
   {
    "duration": 7,
    "start_time": "2022-08-09T11:13:41.756Z"
   },
   {
    "duration": 126,
    "start_time": "2022-08-09T11:13:41.766Z"
   },
   {
    "duration": 62,
    "start_time": "2022-08-09T11:13:41.894Z"
   },
   {
    "duration": 146,
    "start_time": "2022-08-09T11:13:41.958Z"
   },
   {
    "duration": 118,
    "start_time": "2022-08-09T11:13:42.111Z"
   },
   {
    "duration": 185,
    "start_time": "2022-08-09T11:13:42.231Z"
   },
   {
    "duration": 230,
    "start_time": "2022-08-09T11:13:42.418Z"
   },
   {
    "duration": 263,
    "start_time": "2022-08-09T11:13:42.651Z"
   },
   {
    "duration": 73,
    "start_time": "2022-08-09T11:13:42.915Z"
   },
   {
    "duration": 659,
    "start_time": "2022-08-09T11:13:42.990Z"
   },
   {
    "duration": 2,
    "start_time": "2022-08-09T11:13:43.651Z"
   },
   {
    "duration": 508,
    "start_time": "2022-08-09T11:13:43.655Z"
   },
   {
    "duration": 18,
    "start_time": "2022-08-09T11:13:44.165Z"
   },
   {
    "duration": 3,
    "start_time": "2022-08-09T11:13:44.185Z"
   },
   {
    "duration": 67,
    "start_time": "2022-08-09T11:13:44.210Z"
   },
   {
    "duration": 4,
    "start_time": "2022-08-09T11:13:44.279Z"
   },
   {
    "duration": 12,
    "start_time": "2022-08-09T11:14:49.422Z"
   },
   {
    "duration": 13,
    "start_time": "2022-08-09T11:14:57.399Z"
   },
   {
    "duration": 14,
    "start_time": "2022-08-09T11:15:14.278Z"
   },
   {
    "duration": 1471,
    "start_time": "2022-08-09T11:15:22.410Z"
   },
   {
    "duration": 1524,
    "start_time": "2022-08-09T11:15:23.883Z"
   },
   {
    "duration": 7,
    "start_time": "2022-08-09T11:15:25.409Z"
   },
   {
    "duration": 137,
    "start_time": "2022-08-09T11:15:25.417Z"
   },
   {
    "duration": 65,
    "start_time": "2022-08-09T11:15:25.556Z"
   },
   {
    "duration": 148,
    "start_time": "2022-08-09T11:15:25.622Z"
   },
   {
    "duration": 124,
    "start_time": "2022-08-09T11:15:25.772Z"
   },
   {
    "duration": 167,
    "start_time": "2022-08-09T11:15:25.898Z"
   },
   {
    "duration": 187,
    "start_time": "2022-08-09T11:15:26.067Z"
   },
   {
    "duration": 208,
    "start_time": "2022-08-09T11:15:26.256Z"
   },
   {
    "duration": 69,
    "start_time": "2022-08-09T11:15:26.466Z"
   },
   {
    "duration": 630,
    "start_time": "2022-08-09T11:15:26.536Z"
   },
   {
    "duration": 14,
    "start_time": "2022-08-09T11:15:27.168Z"
   },
   {
    "duration": 468,
    "start_time": "2022-08-09T11:15:27.184Z"
   },
   {
    "duration": 16,
    "start_time": "2022-08-09T11:15:27.653Z"
   },
   {
    "duration": 7,
    "start_time": "2022-08-09T11:15:27.670Z"
   },
   {
    "duration": 79,
    "start_time": "2022-08-09T11:15:27.679Z"
   },
   {
    "duration": 5,
    "start_time": "2022-08-09T11:15:27.760Z"
   },
   {
    "duration": 115,
    "start_time": "2022-08-09T11:15:52.207Z"
   },
   {
    "duration": 15,
    "start_time": "2022-08-09T11:15:59.577Z"
   },
   {
    "duration": 19,
    "start_time": "2022-08-09T11:16:23.921Z"
   },
   {
    "duration": 6,
    "start_time": "2022-08-09T11:18:59.007Z"
   },
   {
    "duration": 7,
    "start_time": "2022-08-09T11:19:06.047Z"
   },
   {
    "duration": 6,
    "start_time": "2022-08-09T11:19:09.663Z"
   },
   {
    "duration": 33,
    "start_time": "2022-08-09T11:19:19.022Z"
   },
   {
    "duration": 11,
    "start_time": "2022-08-09T11:20:11.046Z"
   },
   {
    "duration": 22,
    "start_time": "2022-08-09T11:23:17.703Z"
   },
   {
    "duration": 33,
    "start_time": "2022-08-09T11:23:22.388Z"
   },
   {
    "duration": 62,
    "start_time": "2022-08-09T11:23:37.604Z"
   },
   {
    "duration": 53,
    "start_time": "2022-08-09T11:23:43.427Z"
   },
   {
    "duration": 46,
    "start_time": "2022-08-09T11:23:53.188Z"
   },
   {
    "duration": 71,
    "start_time": "2022-08-09T11:25:14.589Z"
   },
   {
    "duration": 70,
    "start_time": "2022-08-09T11:25:40.859Z"
   },
   {
    "duration": 79,
    "start_time": "2022-08-09T11:26:57.818Z"
   },
   {
    "duration": 84,
    "start_time": "2022-08-09T11:27:30.523Z"
   },
   {
    "duration": 49,
    "start_time": "2022-08-09T11:27:42.425Z"
   },
   {
    "duration": 76,
    "start_time": "2022-08-09T11:27:45.265Z"
   },
   {
    "duration": 56,
    "start_time": "2022-08-09T11:31:14.976Z"
   },
   {
    "duration": 278,
    "start_time": "2022-08-09T11:31:17.923Z"
   },
   {
    "duration": 1311,
    "start_time": "2022-08-09T11:31:37.849Z"
   },
   {
    "duration": 1585,
    "start_time": "2022-08-09T11:31:39.162Z"
   },
   {
    "duration": 7,
    "start_time": "2022-08-09T11:31:40.749Z"
   },
   {
    "duration": 125,
    "start_time": "2022-08-09T11:31:40.758Z"
   },
   {
    "duration": 61,
    "start_time": "2022-08-09T11:31:40.885Z"
   },
   {
    "duration": 148,
    "start_time": "2022-08-09T11:31:40.948Z"
   },
   {
    "duration": 123,
    "start_time": "2022-08-09T11:31:41.098Z"
   },
   {
    "duration": 162,
    "start_time": "2022-08-09T11:31:41.223Z"
   },
   {
    "duration": 190,
    "start_time": "2022-08-09T11:31:41.386Z"
   },
   {
    "duration": 206,
    "start_time": "2022-08-09T11:31:41.578Z"
   },
   {
    "duration": 73,
    "start_time": "2022-08-09T11:31:41.786Z"
   },
   {
    "duration": 661,
    "start_time": "2022-08-09T11:31:41.861Z"
   },
   {
    "duration": 77,
    "start_time": "2022-08-09T11:31:42.526Z"
   },
   {
    "duration": 409,
    "start_time": "2022-08-09T11:31:42.611Z"
   },
   {
    "duration": 7,
    "start_time": "2022-08-09T11:31:43.021Z"
   },
   {
    "duration": 6,
    "start_time": "2022-08-09T11:31:43.030Z"
   },
   {
    "duration": 136,
    "start_time": "2022-08-09T11:31:43.038Z"
   },
   {
    "duration": 0,
    "start_time": "2022-08-09T11:31:43.176Z"
   },
   {
    "duration": 9,
    "start_time": "2022-08-09T11:31:58.907Z"
   },
   {
    "duration": 9,
    "start_time": "2022-08-09T11:32:04.227Z"
   },
   {
    "duration": 1319,
    "start_time": "2022-08-09T11:32:35.355Z"
   },
   {
    "duration": 1503,
    "start_time": "2022-08-09T11:32:36.676Z"
   },
   {
    "duration": 7,
    "start_time": "2022-08-09T11:32:38.180Z"
   },
   {
    "duration": 115,
    "start_time": "2022-08-09T11:32:38.188Z"
   },
   {
    "duration": 52,
    "start_time": "2022-08-09T11:32:38.305Z"
   },
   {
    "duration": 169,
    "start_time": "2022-08-09T11:32:38.359Z"
   },
   {
    "duration": 126,
    "start_time": "2022-08-09T11:32:38.529Z"
   },
   {
    "duration": 172,
    "start_time": "2022-08-09T11:32:38.656Z"
   },
   {
    "duration": 195,
    "start_time": "2022-08-09T11:32:38.830Z"
   },
   {
    "duration": 209,
    "start_time": "2022-08-09T11:32:39.026Z"
   },
   {
    "duration": 62,
    "start_time": "2022-08-09T11:32:39.237Z"
   },
   {
    "duration": 640,
    "start_time": "2022-08-09T11:32:39.311Z"
   },
   {
    "duration": 3,
    "start_time": "2022-08-09T11:32:39.953Z"
   },
   {
    "duration": 61,
    "start_time": "2022-08-09T11:32:39.960Z"
   },
   {
    "duration": 39,
    "start_time": "2022-08-09T11:32:40.024Z"
   },
   {
    "duration": 10,
    "start_time": "2022-08-09T11:32:40.065Z"
   },
   {
    "duration": 92,
    "start_time": "2022-08-09T11:32:40.077Z"
   },
   {
    "duration": 5,
    "start_time": "2022-08-09T11:32:40.171Z"
   },
   {
    "duration": 34,
    "start_time": "2022-08-09T11:32:52.340Z"
   },
   {
    "duration": 78,
    "start_time": "2022-08-09T11:32:55.059Z"
   },
   {
    "duration": 58,
    "start_time": "2022-08-09T11:33:03.203Z"
   },
   {
    "duration": 16,
    "start_time": "2022-08-09T11:33:04.060Z"
   },
   {
    "duration": 72,
    "start_time": "2022-08-09T11:33:18.731Z"
   },
   {
    "duration": 16,
    "start_time": "2022-08-09T11:33:19.460Z"
   },
   {
    "duration": 373,
    "start_time": "2022-08-09T11:33:25.379Z"
   },
   {
    "duration": 3,
    "start_time": "2022-08-09T11:34:27.346Z"
   },
   {
    "duration": 72,
    "start_time": "2022-08-09T11:34:49.746Z"
   },
   {
    "duration": 4,
    "start_time": "2022-08-09T11:34:50.618Z"
   },
   {
    "duration": 111,
    "start_time": "2022-08-09T11:36:24.227Z"
   },
   {
    "duration": 3,
    "start_time": "2022-08-09T11:36:29.537Z"
   },
   {
    "duration": 3,
    "start_time": "2022-08-09T11:36:37.393Z"
   },
   {
    "duration": 10,
    "start_time": "2022-08-09T11:43:35.349Z"
   },
   {
    "duration": 94,
    "start_time": "2022-08-09T11:45:30.484Z"
   },
   {
    "duration": 123,
    "start_time": "2022-08-09T11:45:41.404Z"
   },
   {
    "duration": 107,
    "start_time": "2022-08-09T11:45:56.091Z"
   },
   {
    "duration": 90,
    "start_time": "2022-08-09T11:46:12.404Z"
   },
   {
    "duration": 70,
    "start_time": "2022-08-09T11:47:42.603Z"
   },
   {
    "duration": 24,
    "start_time": "2022-08-09T11:47:45.805Z"
   },
   {
    "duration": 95,
    "start_time": "2022-08-09T11:48:13.074Z"
   },
   {
    "duration": 88,
    "start_time": "2022-08-09T11:48:28.178Z"
   },
   {
    "duration": 9,
    "start_time": "2022-08-09T11:48:31.875Z"
   },
   {
    "duration": 364,
    "start_time": "2022-08-09T11:48:33.642Z"
   },
   {
    "duration": 4,
    "start_time": "2022-08-09T11:48:40.122Z"
   },
   {
    "duration": 15,
    "start_time": "2022-08-09T11:49:42.177Z"
   },
   {
    "duration": 1359,
    "start_time": "2022-08-09T11:49:48.205Z"
   },
   {
    "duration": 1505,
    "start_time": "2022-08-09T11:49:49.566Z"
   },
   {
    "duration": 7,
    "start_time": "2022-08-09T11:49:51.073Z"
   },
   {
    "duration": 124,
    "start_time": "2022-08-09T11:49:51.082Z"
   },
   {
    "duration": 56,
    "start_time": "2022-08-09T11:49:51.207Z"
   },
   {
    "duration": 153,
    "start_time": "2022-08-09T11:49:51.264Z"
   },
   {
    "duration": 130,
    "start_time": "2022-08-09T11:49:51.418Z"
   },
   {
    "duration": 171,
    "start_time": "2022-08-09T11:49:51.550Z"
   },
   {
    "duration": 199,
    "start_time": "2022-08-09T11:49:51.723Z"
   },
   {
    "duration": 206,
    "start_time": "2022-08-09T11:49:51.924Z"
   },
   {
    "duration": 63,
    "start_time": "2022-08-09T11:49:52.132Z"
   },
   {
    "duration": 693,
    "start_time": "2022-08-09T11:49:52.197Z"
   },
   {
    "duration": 87,
    "start_time": "2022-08-09T11:49:52.891Z"
   },
   {
    "duration": 17,
    "start_time": "2022-08-09T11:49:52.980Z"
   },
   {
    "duration": 412,
    "start_time": "2022-08-09T11:49:52.999Z"
   },
   {
    "duration": 4,
    "start_time": "2022-08-09T11:49:53.412Z"
   },
   {
    "duration": 98,
    "start_time": "2022-08-09T11:49:53.418Z"
   },
   {
    "duration": 5,
    "start_time": "2022-08-09T11:49:53.518Z"
   },
   {
    "duration": 27,
    "start_time": "2022-08-09T11:49:53.524Z"
   },
   {
    "duration": 1419,
    "start_time": "2022-08-09T11:49:57.604Z"
   },
   {
    "duration": 3,
    "start_time": "2022-08-09T11:52:20.043Z"
   },
   {
    "duration": 16,
    "start_time": "2022-08-09T11:53:55.634Z"
   },
   {
    "duration": 72,
    "start_time": "2022-08-09T11:56:24.417Z"
   },
   {
    "duration": 10206,
    "start_time": "2022-08-09T11:56:59.600Z"
   },
   {
    "duration": 9432,
    "start_time": "2022-08-09T11:57:19.559Z"
   },
   {
    "duration": 9396,
    "start_time": "2022-08-09T11:59:16.335Z"
   },
   {
    "duration": 9,
    "start_time": "2022-08-09T12:01:40.804Z"
   },
   {
    "duration": 71,
    "start_time": "2022-08-09T12:02:14.246Z"
   },
   {
    "duration": 4,
    "start_time": "2022-08-09T12:02:15.181Z"
   },
   {
    "duration": 14,
    "start_time": "2022-08-09T12:02:17.830Z"
   },
   {
    "duration": 9590,
    "start_time": "2022-08-09T12:02:18.916Z"
   },
   {
    "duration": 112,
    "start_time": "2022-08-09T12:02:28.508Z"
   },
   {
    "duration": 9569,
    "start_time": "2022-08-09T12:03:01.868Z"
   },
   {
    "duration": 102,
    "start_time": "2022-08-09T12:03:13.099Z"
   },
   {
    "duration": 51058,
    "start_time": "2022-08-09T12:03:30.027Z"
   },
   {
    "duration": 228,
    "start_time": "2022-08-09T12:04:21.087Z"
   },
   {
    "duration": 7,
    "start_time": "2022-08-09T12:06:25.043Z"
   },
   {
    "duration": 54,
    "start_time": "2022-08-09T12:07:25.682Z"
   },
   {
    "duration": 71,
    "start_time": "2022-08-09T12:07:52.370Z"
   },
   {
    "duration": 65728,
    "start_time": "2022-08-09T12:08:23.137Z"
   },
   {
    "duration": 403,
    "start_time": "2022-08-09T12:09:33.687Z"
   },
   {
    "duration": 51069,
    "start_time": "2022-08-09T12:10:33.864Z"
   },
   {
    "duration": 214,
    "start_time": "2022-08-09T12:11:28.847Z"
   },
   {
    "duration": 9464,
    "start_time": "2022-08-09T12:11:44.289Z"
   },
   {
    "duration": 103,
    "start_time": "2022-08-09T12:11:55.447Z"
   },
   {
    "duration": 9498,
    "start_time": "2022-08-09T12:11:59.454Z"
   },
   {
    "duration": 104,
    "start_time": "2022-08-09T12:12:10.349Z"
   },
   {
    "duration": 9381,
    "start_time": "2022-08-09T12:12:17.663Z"
   },
   {
    "duration": 107,
    "start_time": "2022-08-09T12:12:28.487Z"
   },
   {
    "duration": 9537,
    "start_time": "2022-08-09T12:12:32.702Z"
   },
   {
    "duration": 109,
    "start_time": "2022-08-09T12:12:43.285Z"
   },
   {
    "duration": 49665,
    "start_time": "2022-08-09T12:12:49.653Z"
   },
   {
    "duration": 223,
    "start_time": "2022-08-09T12:14:07.861Z"
   },
   {
    "duration": 50700,
    "start_time": "2022-08-09T12:14:26.148Z"
   },
   {
    "duration": 232,
    "start_time": "2022-08-09T12:15:16.850Z"
   },
   {
    "duration": 2,
    "start_time": "2022-08-09T12:16:23.806Z"
   },
   {
    "duration": 67,
    "start_time": "2022-08-09T12:16:24.379Z"
   },
   {
    "duration": 4,
    "start_time": "2022-08-09T12:16:25.523Z"
   },
   {
    "duration": 13,
    "start_time": "2022-08-09T12:16:29.147Z"
   },
   {
    "duration": 51475,
    "start_time": "2022-08-09T12:16:30.716Z"
   },
   {
    "duration": 225,
    "start_time": "2022-08-09T12:17:22.193Z"
   },
   {
    "duration": 50832,
    "start_time": "2022-08-09T12:17:32.043Z"
   },
   {
    "duration": 241,
    "start_time": "2022-08-09T12:18:22.877Z"
   },
   {
    "duration": 51734,
    "start_time": "2022-08-09T12:22:05.840Z"
   },
   {
    "duration": 233,
    "start_time": "2022-08-09T12:22:57.577Z"
   },
   {
    "duration": 15114,
    "start_time": "2022-08-09T12:24:00.951Z"
   },
   {
    "duration": 125,
    "start_time": "2022-08-09T12:24:16.067Z"
   },
   {
    "duration": 113150,
    "start_time": "2022-08-09T12:25:21.486Z"
   },
   {
    "duration": 411,
    "start_time": "2022-08-09T12:27:20.636Z"
   },
   {
    "duration": 52061,
    "start_time": "2022-08-09T12:27:28.203Z"
   },
   {
    "duration": 234,
    "start_time": "2022-08-09T12:28:20.266Z"
   },
   {
    "duration": 15006,
    "start_time": "2022-08-09T12:28:31.237Z"
   },
   {
    "duration": 122,
    "start_time": "2022-08-09T12:28:46.245Z"
   },
   {
    "duration": 966,
    "start_time": "2022-08-09T12:28:52.548Z"
   },
   {
    "duration": 13,
    "start_time": "2022-08-09T12:28:53.516Z"
   },
   {
    "duration": 715,
    "start_time": "2022-08-09T12:28:56.021Z"
   },
   {
    "duration": 63092,
    "start_time": "2022-08-09T12:29:05.843Z"
   },
   {
    "duration": 173,
    "start_time": "2022-08-09T12:30:08.937Z"
   },
   {
    "duration": 84139,
    "start_time": "2022-08-09T12:33:09.993Z"
   },
   {
    "duration": 62062,
    "start_time": "2022-08-09T12:34:38.339Z"
   },
   {
    "duration": 156,
    "start_time": "2022-08-09T12:35:40.403Z"
   },
   {
    "duration": 14939,
    "start_time": "2022-08-09T12:35:56.719Z"
   },
   {
    "duration": 161,
    "start_time": "2022-08-09T12:36:12.663Z"
   },
   {
    "duration": 41365,
    "start_time": "2022-08-09T12:36:34.320Z"
   },
   {
    "duration": 188,
    "start_time": "2022-08-09T12:37:15.687Z"
   },
   {
    "duration": 14527,
    "start_time": "2022-08-09T12:37:23.452Z"
   },
   {
    "duration": 112037,
    "start_time": "2022-08-09T12:37:44.183Z"
   },
   {
    "duration": 41751,
    "start_time": "2022-08-09T12:39:43.949Z"
   },
   {
    "duration": 199,
    "start_time": "2022-08-09T12:40:25.702Z"
   },
   {
    "duration": 8584,
    "start_time": "2022-08-09T12:40:40.237Z"
   },
   {
    "duration": 125,
    "start_time": "2022-08-09T12:40:49.597Z"
   },
   {
    "duration": 62428,
    "start_time": "2022-08-09T12:40:54.709Z"
   },
   {
    "duration": 3,
    "start_time": "2022-08-09T12:41:57.138Z"
   },
   {
    "duration": 160,
    "start_time": "2022-08-09T12:41:57.142Z"
   },
   {
    "duration": 4,
    "start_time": "2022-08-09T12:42:32.604Z"
   },
   {
    "duration": 3,
    "start_time": "2022-08-09T12:43:28.827Z"
   },
   {
    "duration": 4,
    "start_time": "2022-08-09T12:43:37.595Z"
   },
   {
    "duration": 3,
    "start_time": "2022-08-09T12:43:44.259Z"
   },
   {
    "duration": 3,
    "start_time": "2022-08-09T12:43:51.459Z"
   },
   {
    "duration": 4,
    "start_time": "2022-08-09T12:43:54.755Z"
   },
   {
    "duration": 4,
    "start_time": "2022-08-09T12:43:58.275Z"
   },
   {
    "duration": 2,
    "start_time": "2022-08-09T12:44:21.187Z"
   },
   {
    "duration": 3,
    "start_time": "2022-08-09T12:44:25.148Z"
   },
   {
    "duration": 3,
    "start_time": "2022-08-09T12:44:28.963Z"
   },
   {
    "duration": 1383,
    "start_time": "2022-08-09T12:45:30.613Z"
   },
   {
    "duration": 1556,
    "start_time": "2022-08-09T12:45:31.998Z"
   },
   {
    "duration": 6,
    "start_time": "2022-08-09T12:45:33.556Z"
   },
   {
    "duration": 129,
    "start_time": "2022-08-09T12:45:33.565Z"
   },
   {
    "duration": 59,
    "start_time": "2022-08-09T12:45:33.695Z"
   },
   {
    "duration": 159,
    "start_time": "2022-08-09T12:45:33.756Z"
   },
   {
    "duration": 115,
    "start_time": "2022-08-09T12:45:33.917Z"
   },
   {
    "duration": 169,
    "start_time": "2022-08-09T12:45:34.034Z"
   },
   {
    "duration": 170,
    "start_time": "2022-08-09T12:45:34.204Z"
   },
   {
    "duration": 209,
    "start_time": "2022-08-09T12:45:34.377Z"
   },
   {
    "duration": 71,
    "start_time": "2022-08-09T12:45:34.587Z"
   },
   {
    "duration": 608,
    "start_time": "2022-08-09T12:45:34.660Z"
   },
   {
    "duration": 88,
    "start_time": "2022-08-09T12:45:35.269Z"
   },
   {
    "duration": 17,
    "start_time": "2022-08-09T12:45:35.358Z"
   },
   {
    "duration": 380,
    "start_time": "2022-08-09T12:45:35.376Z"
   },
   {
    "duration": 4,
    "start_time": "2022-08-09T12:45:35.758Z"
   },
   {
    "duration": 13,
    "start_time": "2022-08-09T12:45:35.764Z"
   },
   {
    "duration": 78,
    "start_time": "2022-08-09T12:45:35.778Z"
   },
   {
    "duration": 125,
    "start_time": "2022-08-09T12:45:35.857Z"
   },
   {
    "duration": 0,
    "start_time": "2022-08-09T12:45:35.984Z"
   },
   {
    "duration": 0,
    "start_time": "2022-08-09T12:45:35.986Z"
   },
   {
    "duration": 0,
    "start_time": "2022-08-09T12:45:35.987Z"
   },
   {
    "duration": 0,
    "start_time": "2022-08-09T12:45:35.988Z"
   },
   {
    "duration": 0,
    "start_time": "2022-08-09T12:45:35.989Z"
   },
   {
    "duration": 0,
    "start_time": "2022-08-09T12:45:35.990Z"
   },
   {
    "duration": 5,
    "start_time": "2022-08-09T12:46:42.442Z"
   },
   {
    "duration": 2,
    "start_time": "2022-08-09T12:46:44.899Z"
   },
   {
    "duration": 14,
    "start_time": "2022-08-09T12:46:45.483Z"
   },
   {
    "duration": 61276,
    "start_time": "2022-08-09T12:46:46.659Z"
   },
   {
    "duration": 145,
    "start_time": "2022-08-09T12:47:47.937Z"
   },
   {
    "duration": 3,
    "start_time": "2022-08-09T12:47:48.083Z"
   },
   {
    "duration": 7,
    "start_time": "2022-08-09T12:47:48.087Z"
   },
   {
    "duration": 49,
    "start_time": "2022-08-11T10:35:24.616Z"
   },
   {
    "duration": 1854,
    "start_time": "2022-08-11T10:35:57.492Z"
   },
   {
    "duration": 3208,
    "start_time": "2022-08-11T10:35:59.350Z"
   },
   {
    "duration": 6,
    "start_time": "2022-08-11T10:36:02.560Z"
   },
   {
    "duration": 159,
    "start_time": "2022-08-11T10:36:02.568Z"
   },
   {
    "duration": 64,
    "start_time": "2022-08-11T10:36:02.729Z"
   },
   {
    "duration": 184,
    "start_time": "2022-08-11T10:36:02.795Z"
   },
   {
    "duration": 147,
    "start_time": "2022-08-11T10:36:02.981Z"
   },
   {
    "duration": 207,
    "start_time": "2022-08-11T10:36:03.130Z"
   },
   {
    "duration": 196,
    "start_time": "2022-08-11T10:36:03.339Z"
   },
   {
    "duration": 235,
    "start_time": "2022-08-11T10:36:03.538Z"
   },
   {
    "duration": 77,
    "start_time": "2022-08-11T10:36:03.774Z"
   },
   {
    "duration": 511,
    "start_time": "2022-08-11T10:36:03.853Z"
   },
   {
    "duration": 114,
    "start_time": "2022-08-11T10:36:04.367Z"
   },
   {
    "duration": 19,
    "start_time": "2022-08-11T10:36:04.482Z"
   },
   {
    "duration": 448,
    "start_time": "2022-08-11T10:36:04.503Z"
   },
   {
    "duration": 4,
    "start_time": "2022-08-11T10:36:04.953Z"
   },
   {
    "duration": 4,
    "start_time": "2022-08-11T10:36:04.959Z"
   },
   {
    "duration": 108,
    "start_time": "2022-08-11T10:36:04.965Z"
   },
   {
    "duration": 5,
    "start_time": "2022-08-11T10:36:05.075Z"
   },
   {
    "duration": 11,
    "start_time": "2022-08-11T10:36:05.082Z"
   },
   {
    "duration": 27,
    "start_time": "2022-08-11T10:36:05.095Z"
   },
   {
    "duration": 3,
    "start_time": "2022-08-11T10:36:05.125Z"
   },
   {
    "duration": 204,
    "start_time": "2022-08-11T10:36:05.130Z"
   },
   {
    "duration": 117,
    "start_time": "2022-08-11T10:36:05.335Z"
   },
   {
    "duration": 11,
    "start_time": "2022-08-11T10:36:05.454Z"
   },
   {
    "duration": 0,
    "start_time": "2022-08-11T10:36:05.467Z"
   },
   {
    "duration": 0,
    "start_time": "2022-08-11T10:36:05.468Z"
   },
   {
    "duration": 0,
    "start_time": "2022-08-11T10:36:05.469Z"
   },
   {
    "duration": 0,
    "start_time": "2022-08-11T10:36:05.470Z"
   },
   {
    "duration": 0,
    "start_time": "2022-08-11T10:36:05.472Z"
   },
   {
    "duration": 0,
    "start_time": "2022-08-11T10:36:05.473Z"
   },
   {
    "duration": 0,
    "start_time": "2022-08-11T10:36:05.474Z"
   },
   {
    "duration": 0,
    "start_time": "2022-08-11T10:36:05.475Z"
   },
   {
    "duration": 0,
    "start_time": "2022-08-11T10:36:05.477Z"
   },
   {
    "duration": 0,
    "start_time": "2022-08-11T10:36:05.478Z"
   },
   {
    "duration": 0,
    "start_time": "2022-08-11T10:36:05.479Z"
   },
   {
    "duration": 0,
    "start_time": "2022-08-11T10:36:05.480Z"
   },
   {
    "duration": 0,
    "start_time": "2022-08-11T10:36:05.481Z"
   },
   {
    "duration": 6,
    "start_time": "2022-08-11T10:37:22.104Z"
   },
   {
    "duration": 1580,
    "start_time": "2022-08-11T10:39:33.633Z"
   },
   {
    "duration": 918,
    "start_time": "2022-08-11T10:39:35.216Z"
   },
   {
    "duration": 6,
    "start_time": "2022-08-11T10:39:36.136Z"
   },
   {
    "duration": 153,
    "start_time": "2022-08-11T10:39:36.144Z"
   },
   {
    "duration": 50,
    "start_time": "2022-08-11T10:39:36.299Z"
   },
   {
    "duration": 191,
    "start_time": "2022-08-11T10:39:36.351Z"
   },
   {
    "duration": 136,
    "start_time": "2022-08-11T10:39:36.543Z"
   },
   {
    "duration": 247,
    "start_time": "2022-08-11T10:39:36.681Z"
   },
   {
    "duration": 193,
    "start_time": "2022-08-11T10:39:36.930Z"
   },
   {
    "duration": 228,
    "start_time": "2022-08-11T10:39:37.126Z"
   },
   {
    "duration": 83,
    "start_time": "2022-08-11T10:39:37.356Z"
   },
   {
    "duration": 511,
    "start_time": "2022-08-11T10:39:37.441Z"
   },
   {
    "duration": 105,
    "start_time": "2022-08-11T10:39:37.955Z"
   },
   {
    "duration": 18,
    "start_time": "2022-08-11T10:39:38.062Z"
   },
   {
    "duration": 351,
    "start_time": "2022-08-11T10:39:38.092Z"
   },
   {
    "duration": 4,
    "start_time": "2022-08-11T10:39:38.445Z"
   },
   {
    "duration": 5,
    "start_time": "2022-08-11T10:39:38.451Z"
   },
   {
    "duration": 96,
    "start_time": "2022-08-11T10:39:38.457Z"
   },
   {
    "duration": 4,
    "start_time": "2022-08-11T10:39:38.555Z"
   },
   {
    "duration": 13,
    "start_time": "2022-08-11T10:39:38.561Z"
   },
   {
    "duration": 30,
    "start_time": "2022-08-11T10:39:38.576Z"
   },
   {
    "duration": 3,
    "start_time": "2022-08-11T10:39:38.608Z"
   },
   {
    "duration": 754456,
    "start_time": "2022-08-11T10:39:38.613Z"
   },
   {
    "duration": 253,
    "start_time": "2022-08-11T10:52:13.071Z"
   },
   {
    "duration": 11,
    "start_time": "2022-08-11T10:52:13.325Z"
   },
   {
    "duration": 0,
    "start_time": "2022-08-11T10:52:13.338Z"
   },
   {
    "duration": 0,
    "start_time": "2022-08-11T10:52:13.339Z"
   },
   {
    "duration": 0,
    "start_time": "2022-08-11T10:52:13.341Z"
   },
   {
    "duration": 0,
    "start_time": "2022-08-11T10:52:13.342Z"
   },
   {
    "duration": 0,
    "start_time": "2022-08-11T10:52:13.344Z"
   },
   {
    "duration": 0,
    "start_time": "2022-08-11T10:52:13.345Z"
   },
   {
    "duration": 0,
    "start_time": "2022-08-11T10:52:13.346Z"
   },
   {
    "duration": 0,
    "start_time": "2022-08-11T10:52:13.348Z"
   },
   {
    "duration": 0,
    "start_time": "2022-08-11T10:52:13.350Z"
   },
   {
    "duration": 0,
    "start_time": "2022-08-11T10:52:13.351Z"
   },
   {
    "duration": 0,
    "start_time": "2022-08-11T10:52:13.352Z"
   },
   {
    "duration": 0,
    "start_time": "2022-08-11T10:52:13.354Z"
   },
   {
    "duration": 0,
    "start_time": "2022-08-11T10:52:13.355Z"
   },
   {
    "duration": 4,
    "start_time": "2022-08-11T10:52:51.595Z"
   },
   {
    "duration": 5,
    "start_time": "2022-08-11T10:53:25.177Z"
   },
   {
    "duration": 4,
    "start_time": "2022-08-11T10:54:32.313Z"
   },
   {
    "duration": 4,
    "start_time": "2022-08-11T10:55:12.761Z"
   },
   {
    "duration": 1056,
    "start_time": "2022-08-11T10:55:25.184Z"
   },
   {
    "duration": 4,
    "start_time": "2022-08-11T10:55:59.375Z"
   },
   {
    "duration": 5,
    "start_time": "2022-08-11T10:56:11.868Z"
   },
   {
    "duration": 4,
    "start_time": "2022-08-11T10:58:03.695Z"
   },
   {
    "duration": 176,
    "start_time": "2022-08-11T10:58:48.094Z"
   },
   {
    "duration": 974,
    "start_time": "2022-08-11T11:03:45.234Z"
   },
   {
    "duration": 43,
    "start_time": "2022-08-11T11:04:43.979Z"
   },
   {
    "duration": 37939,
    "start_time": "2022-08-11T11:05:20.932Z"
   },
   {
    "duration": 175,
    "start_time": "2022-08-11T11:06:52.347Z"
   },
   {
    "duration": 37726,
    "start_time": "2022-08-11T11:07:37.767Z"
   },
   {
    "duration": 257,
    "start_time": "2022-08-11T11:09:25.080Z"
   },
   {
    "duration": 35271,
    "start_time": "2022-08-11T11:09:50.525Z"
   },
   {
    "duration": 169,
    "start_time": "2022-08-11T11:10:29.767Z"
   },
   {
    "duration": 3,
    "start_time": "2022-08-11T11:10:33.015Z"
   },
   {
    "duration": 4,
    "start_time": "2022-08-11T11:11:01.262Z"
   },
   {
    "duration": 10,
    "start_time": "2022-08-11T11:11:02.384Z"
   },
   {
    "duration": 43992,
    "start_time": "2022-08-11T11:11:03.007Z"
   },
   {
    "duration": 4,
    "start_time": "2022-08-11T11:11:51.062Z"
   },
   {
    "duration": 11869,
    "start_time": "2022-08-11T11:11:52.654Z"
   },
   {
    "duration": 3,
    "start_time": "2022-08-11T11:12:04.525Z"
   },
   {
    "duration": 1329,
    "start_time": "2022-08-11T11:12:12.069Z"
   },
   {
    "duration": 22382,
    "start_time": "2022-08-11T11:12:13.916Z"
   },
   {
    "duration": 300,
    "start_time": "2022-08-11T11:12:36.300Z"
   },
   {
    "duration": 4,
    "start_time": "2022-08-11T11:12:36.695Z"
   },
   {
    "duration": 154,
    "start_time": "2022-08-11T11:12:36.702Z"
   },
   {
    "duration": 187,
    "start_time": "2022-08-11T11:12:36.857Z"
   },
   {
    "duration": 218,
    "start_time": "2022-08-11T11:12:37.046Z"
   },
   {
    "duration": 1505,
    "start_time": "2022-08-11T11:14:07.803Z"
   },
   {
    "duration": 20,
    "start_time": "2022-08-11T11:14:28.732Z"
   },
   {
    "duration": 15,
    "start_time": "2022-08-11T11:14:56.126Z"
   },
   {
    "duration": 19,
    "start_time": "2022-08-11T11:15:18.472Z"
   },
   {
    "duration": 15,
    "start_time": "2022-08-11T11:15:44.987Z"
   },
   {
    "duration": 17,
    "start_time": "2022-08-11T11:16:08.511Z"
   },
   {
    "duration": 186,
    "start_time": "2022-08-11T11:18:17.098Z"
   },
   {
    "duration": 34744,
    "start_time": "2022-08-11T11:18:52.418Z"
   },
   {
    "duration": 652,
    "start_time": "2022-08-11T11:24:36.270Z"
   },
   {
    "duration": 6,
    "start_time": "2022-08-11T11:27:24.067Z"
   },
   {
    "duration": 35135,
    "start_time": "2022-08-11T11:55:07.121Z"
   }
  ],
  "kernelspec": {
   "display_name": "Python 3 (ipykernel)",
   "language": "python",
   "name": "python3"
  },
  "language_info": {
   "codemirror_mode": {
    "name": "ipython",
    "version": 3
   },
   "file_extension": ".py",
   "mimetype": "text/x-python",
   "name": "python",
   "nbconvert_exporter": "python",
   "pygments_lexer": "ipython3",
   "version": "3.9.5"
  },
  "toc": {
   "base_numbering": 1,
   "nav_menu": {
    "height": "457.986px",
    "width": "349.844px"
   },
   "number_sections": true,
   "sideBar": true,
   "skip_h1_title": true,
   "title_cell": "Table of Contents",
   "title_sidebar": "Contents",
   "toc_cell": false,
   "toc_position": {},
   "toc_section_display": true,
   "toc_window_display": false
  }
 },
 "nbformat": 4,
 "nbformat_minor": 2
}
